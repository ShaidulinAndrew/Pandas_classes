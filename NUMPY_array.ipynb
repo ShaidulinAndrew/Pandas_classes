{
 "cells": [
  {
   "cell_type": "code",
   "execution_count": 1,
   "id": "eb5bf772-a2d7-493a-9402-b89d211e8210",
   "metadata": {},
   "outputs": [],
   "source": [
    "import numpy as np"
   ]
  },
  {
   "cell_type": "markdown",
   "id": "d8246c6b-069a-43ed-8bb3-1acd3382b7bb",
   "metadata": {},
   "source": [
    "### __Создание массивов с помощью функций генерирующих псевдослучайные числа__"
   ]
  },
  {
   "cell_type": "markdown",
   "id": "e1ab23cd-d528-4c23-b91f-30d9d914961e",
   "metadata": {},
   "source": [
    "__np.random.rand__ - создает массив заданной размерности, заполненный числами от 0 до 1 (1 в диапазон не входит)"
   ]
  },
  {
   "cell_type": "code",
   "execution_count": 2,
   "id": "338a37f2-e3ef-4ae6-991a-a9c871ed12e4",
   "metadata": {},
   "outputs": [
    {
     "data": {
      "text/plain": [
       "array([[0.37736366, 0.20741597, 0.08535949],\n",
       "       [0.71866529, 0.38245276, 0.13782703],\n",
       "       [0.55646993, 0.12903247, 0.5408041 ],\n",
       "       [0.60721671, 0.16720241, 0.02684765]])"
      ]
     },
     "execution_count": 2,
     "metadata": {},
     "output_type": "execute_result"
    }
   ],
   "source": [
    "np.random.rand(4, 3)"
   ]
  },
  {
   "cell_type": "markdown",
   "id": "24e0b37c-2ed7-477e-bdcb-cd6a09c3fe65",
   "metadata": {},
   "source": [
    "__np.random.randint__ - создает массив целых чисел в заданном диапазоне (верхняя граница не входит в диапазон) и с заданной размерностью"
   ]
  },
  {
   "cell_type": "code",
   "execution_count": 3,
   "id": "2d7a084d-f1eb-4687-831f-e54c798e4463",
   "metadata": {},
   "outputs": [
    {
     "data": {
      "text/plain": [
       "array([[[ 2,  2],\n",
       "        [ 2, -2],\n",
       "        [-1,  2]],\n",
       "\n",
       "       [[-3,  2],\n",
       "        [-1, -2],\n",
       "        [ 0,  1]]])"
      ]
     },
     "execution_count": 3,
     "metadata": {},
     "output_type": "execute_result"
    }
   ],
   "source": [
    "np.random.randint(-3, 3, size = (2, 3, 2))"
   ]
  },
  {
   "cell_type": "markdown",
   "id": "a0589071-20b1-46b7-937b-bcba54d47354",
   "metadata": {},
   "source": [
    "### __Создание массива из функции__"
   ]
  },
  {
   "cell_type": "code",
   "execution_count": 4,
   "id": "9e2f2e5d-e65b-40a2-a255-66cb682c57ff",
   "metadata": {},
   "outputs": [],
   "source": [
    "# создадим собственную функцию, которая принимает два числа и \n",
    "# возводит первое число в степень второго\n",
    "def power(i, j):\n",
    "    return i ** j"
   ]
  },
  {
   "cell_type": "markdown",
   "id": "93f07efe-8c53-4885-b065-312cd6dc5cf5",
   "metadata": {},
   "source": [
    "Применим эту функцию к каждой ячейке (координатам) массива с размерностью (3, 3)"
   ]
  },
  {
   "cell_type": "markdown",
   "id": "4aa68544-abd9-491d-a699-26e51ff11bd0",
   "metadata": {},
   "source": [
    "__np.fromfunction()__ - берет координаты (i, j) каждой ячейки и передает их в собственную функцию"
   ]
  },
  {
   "cell_type": "code",
   "execution_count": 5,
   "id": "5d17fcc9-cf0e-4048-a836-606cd84f5379",
   "metadata": {},
   "outputs": [
    {
     "data": {
      "text/plain": [
       "array([[1., 0., 0.],\n",
       "       [1., 1., 1.],\n",
       "       [1., 2., 4.]])"
      ]
     },
     "execution_count": 5,
     "metadata": {},
     "output_type": "execute_result"
    }
   ],
   "source": [
    "np.fromfunction(power, (3, 3))"
   ]
  },
  {
   "cell_type": "markdown",
   "id": "e9eeaa16-9c3d-490b-8d1c-f5703353355b",
   "metadata": {},
   "source": [
    "### __Матрица csr и метод .toarray()__"
   ]
  },
  {
   "cell_type": "code",
   "execution_count": 6,
   "id": "52b6a56b-bece-48fe-b577-efd20d103d46",
   "metadata": {},
   "outputs": [
    {
     "data": {
      "text/plain": [
       "array([[2, 0, 0, 1, 0, 0, 0],\n",
       "       [0, 0, 3, 0, 0, 2, 0],\n",
       "       [0, 0, 0, 1, 0, 0, 0]])"
      ]
     },
     "execution_count": 6,
     "metadata": {},
     "output_type": "execute_result"
    }
   ],
   "source": [
    "# создадим матрицу с преобладанием нулевых значений\n",
    "A = np.array([[2, 0, 0, 1, 0, 0, 0], [0, 0, 3, 0, 0, 2, 0], [0, 0, 0, 1, 0, 0, 0]])\n",
    "A"
   ]
  },
  {
   "cell_type": "code",
   "execution_count": 7,
   "id": "3a5eac7c-7179-41e6-8c2f-f046c303475b",
   "metadata": {},
   "outputs": [
    {
     "name": "stdout",
     "output_type": "stream",
     "text": [
      "  (0, 0)\t2\n",
      "  (0, 3)\t1\n",
      "  (1, 2)\t3\n",
      "  (1, 5)\t2\n",
      "  (2, 3)\t1\n"
     ]
    }
   ],
   "source": [
    "# Преобразуем матрицу в формат csr\n",
    "# импортируем функцию csr_matrix()\n",
    "from scipy.sparse import csr_matrix\n",
    "\n",
    "# и применим ее к матрице А\n",
    "B = csr_matrix(A)\n",
    "print(B)"
   ]
  },
  {
   "cell_type": "code",
   "execution_count": 8,
   "id": "faf573f0-d7a7-4e23-a522-b23563228034",
   "metadata": {},
   "outputs": [
    {
     "data": {
      "text/plain": [
       "array([[2, 0, 0, 1, 0, 0, 0],\n",
       "       [0, 0, 3, 0, 0, 2, 0],\n",
       "       [0, 0, 0, 1, 0, 0, 0]], dtype=int32)"
      ]
     },
     "execution_count": 8,
     "metadata": {},
     "output_type": "execute_result"
    }
   ],
   "source": [
    "# вернем матрицу csr обратно в формат массива Numpy\n",
    "C = B.toarray()\n",
    "C"
   ]
  },
  {
   "cell_type": "markdown",
   "id": "9c2bca16-a37f-4a1b-bfd2-e9c85551964a",
   "metadata": {},
   "source": [
    "### __Индекс элемента массива__"
   ]
  },
  {
   "cell_type": "code",
   "execution_count": 9,
   "id": "5cb8f0d2-538f-4ddd-b6f3-ad822e4ffbf9",
   "metadata": {},
   "outputs": [
    {
     "data": {
      "text/plain": [
       "array([[1, 2, 3],\n",
       "       [4, 5, 6]])"
      ]
     },
     "execution_count": 9,
     "metadata": {},
     "output_type": "execute_result"
    }
   ],
   "source": [
    "a = np.array([[1, 2, 3], [4, 5, 6]])\n",
    "a"
   ]
  },
  {
   "cell_type": "code",
   "execution_count": 10,
   "id": "543edfb4-6f18-418e-bc72-070aec274f09",
   "metadata": {},
   "outputs": [
    {
     "data": {
      "text/plain": [
       "(2, 3)"
      ]
     },
     "execution_count": 10,
     "metadata": {},
     "output_type": "execute_result"
    }
   ],
   "source": [
    "# посмотрим на измерения и количество элементов\n",
    "a.shape"
   ]
  },
  {
   "cell_type": "code",
   "execution_count": 11,
   "id": "60c95aac-86aa-49f0-8d37-e24c3338bcb6",
   "metadata": {},
   "outputs": [
    {
     "data": {
      "text/plain": [
       "array([1, 2, 3])"
      ]
     },
     "execution_count": 11,
     "metadata": {},
     "output_type": "execute_result"
    }
   ],
   "source": [
    "# Выведем первый элемент первого (внешнего) измерения\n",
    "a[0]"
   ]
  },
  {
   "cell_type": "code",
   "execution_count": 12,
   "id": "fc477479-96b2-4a2b-8813-6fa7e8f65ff8",
   "metadata": {},
   "outputs": [
    {
     "data": {
      "text/plain": [
       "1"
      ]
     },
     "execution_count": 12,
     "metadata": {},
     "output_type": "execute_result"
    }
   ],
   "source": [
    "# Второй индекс позволяет обратиться, например, к первому элементу, первого вектора\n",
    "a[0][0]"
   ]
  },
  {
   "cell_type": "code",
   "execution_count": 13,
   "id": "e5ac64a8-80a8-4fe7-a166-e7fc67629499",
   "metadata": {},
   "outputs": [
    {
     "data": {
      "text/plain": [
       "6"
      ]
     },
     "execution_count": 13,
     "metadata": {},
     "output_type": "execute_result"
    }
   ],
   "source": [
    "# выведем значение 6\n",
    "a[1][2]"
   ]
  },
  {
   "cell_type": "markdown",
   "id": "cca84541-e1ec-4214-88da-91c81e20f69f",
   "metadata": {},
   "source": [
    "### __Срез массива__"
   ]
  },
  {
   "cell_type": "markdown",
   "id": "7611a260-4979-4267-9db8-aa4f3ea31ffe",
   "metadata": {},
   "source": [
    "__Одномерный массив__"
   ]
  },
  {
   "cell_type": "code",
   "execution_count": 14,
   "id": "ea8eba8e-8f99-43ac-9e88-2d28dedfec96",
   "metadata": {},
   "outputs": [
    {
     "data": {
      "text/plain": [
       "array([1, 2, 3, 4, 5, 6, 7, 8])"
      ]
     },
     "execution_count": 14,
     "metadata": {},
     "output_type": "execute_result"
    }
   ],
   "source": [
    "# создадим одномерный массив\n",
    "b = np.array([1, 2, 3, 4, 5, 6, 7, 8])\n",
    "b"
   ]
  },
  {
   "cell_type": "code",
   "execution_count": 15,
   "id": "281aba31-c232-417e-8b74-86df52ef03f1",
   "metadata": {},
   "outputs": [
    {
     "data": {
      "text/plain": [
       "array([2, 4, 6])"
      ]
     },
     "execution_count": 15,
     "metadata": {},
     "output_type": "execute_result"
    }
   ],
   "source": [
    "# возьмем каждый второй лемент в интервале с 1-го по 6-й индекс\n",
    "b[1:6:2]"
   ]
  },
  {
   "cell_type": "markdown",
   "id": "bf5a950c-cb20-4cd6-b276-ad6e551faf62",
   "metadata": {},
   "source": [
    "__Двумерный массив__"
   ]
  },
  {
   "cell_type": "code",
   "execution_count": 16,
   "id": "1bbe619a-172e-4f08-8bff-ab87d348c702",
   "metadata": {},
   "outputs": [
    {
     "data": {
      "text/plain": [
       "array([[1, 2, 3, 4],\n",
       "       [5, 6, 7, 8]])"
      ]
     },
     "execution_count": 16,
     "metadata": {},
     "output_type": "execute_result"
    }
   ],
   "source": [
    "# создадим двумерный массив\n",
    "c = np.array([[1, 2, 3, 4], [5, 6, 7, 8]])\n",
    "c"
   ]
  },
  {
   "cell_type": "code",
   "execution_count": 17,
   "id": "84c86eca-1e07-49c9-a36e-ce6a3e1de53b",
   "metadata": {},
   "outputs": [
    {
     "data": {
      "text/plain": [
       "array([1, 2])"
      ]
     },
     "execution_count": 17,
     "metadata": {},
     "output_type": "execute_result"
    }
   ],
   "source": [
    "# сделаем срез из первой строки (внешнее измерение) и первых двух столбцов (внутренне измерение)\n",
    "c[0, :2]"
   ]
  },
  {
   "cell_type": "code",
   "execution_count": 18,
   "id": "ac3e653a-c222-4886-9011-4913729e948d",
   "metadata": {},
   "outputs": [
    {
     "data": {
      "text/plain": [
       "array([2, 6])"
      ]
     },
     "execution_count": 18,
     "metadata": {},
     "output_type": "execute_result"
    }
   ],
   "source": [
    "# возьмем обе строки во втором столбце\n",
    "c[:, 1]"
   ]
  },
  {
   "cell_type": "code",
   "execution_count": 19,
   "id": "66cd8248-23b5-42d2-9dac-4705c495438a",
   "metadata": {},
   "outputs": [
    {
     "data": {
      "text/plain": [
       "1"
      ]
     },
     "execution_count": 19,
     "metadata": {},
     "output_type": "execute_result"
    }
   ],
   "source": [
    "# выведем элемент в первой строке и первом столбце\n",
    "c[0, 0]\n",
    "\n",
    "# c[0, 0] == c[0][0]"
   ]
  },
  {
   "cell_type": "code",
   "execution_count": 20,
   "id": "b90bcb8a-e55f-4c3b-9d0b-4151e56006ae",
   "metadata": {},
   "outputs": [
    {
     "data": {
      "text/plain": [
       "8"
      ]
     },
     "execution_count": 20,
     "metadata": {},
     "output_type": "execute_result"
    }
   ],
   "source": [
    "# допускаются срезы с отрицательным индексом\n",
    "c[-1, -1]"
   ]
  },
  {
   "cell_type": "code",
   "execution_count": 21,
   "id": "88892085-0ef0-4ca3-a69b-9d067c45f8dd",
   "metadata": {},
   "outputs": [
    {
     "data": {
      "text/plain": [
       "array([5, 7])"
      ]
     },
     "execution_count": 21,
     "metadata": {},
     "output_type": "execute_result"
    }
   ],
   "source": [
    "# возьмем всю вторую строку и каждый второй столбец\n",
    "c[1, ::2]"
   ]
  },
  {
   "cell_type": "markdown",
   "id": "f6f50787-2ee4-475c-8fc7-ac3c5aee3854",
   "metadata": {},
   "source": [
    "__Трехмерный массив__"
   ]
  },
  {
   "cell_type": "code",
   "execution_count": 22,
   "id": "42c82567-e8bf-4fda-88d3-c34608fe1d41",
   "metadata": {},
   "outputs": [
    {
     "data": {
      "text/plain": [
       "array([[[ 0,  1],\n",
       "        [ 2,  3]],\n",
       "\n",
       "       [[ 4,  5],\n",
       "        [ 6,  7]],\n",
       "\n",
       "       [[ 8,  9],\n",
       "        [10, 11]],\n",
       "\n",
       "       [[12, 13],\n",
       "        [14, 15]]])"
      ]
     },
     "execution_count": 22,
     "metadata": {},
     "output_type": "execute_result"
    }
   ],
   "source": [
    "# Создадим массив с тремя измерениями\n",
    "# Наш 3D массив представляет собой четыре матрицы 2х2\n",
    "\n",
    "# -1 означает, что Питон сам рассчитает количество элементов в этом измерении\n",
    "d = np.arange(16).reshape(4, 2, -1)\n",
    "d"
   ]
  },
  {
   "cell_type": "code",
   "execution_count": 23,
   "id": "1147695c-a76b-4989-a144-8068fbd87913",
   "metadata": {},
   "outputs": [
    {
     "data": {
      "text/plain": [
       "10"
      ]
     },
     "execution_count": 23,
     "metadata": {},
     "output_type": "execute_result"
    }
   ],
   "source": [
    "# Выведем значение 10. Если идти снаружи вовнутрь, получается, что это 3 матрица [2]\n",
    "# второй вектор [1] и первый элемент [0]\n",
    "d[2, 1, 0]"
   ]
  },
  {
   "cell_type": "code",
   "execution_count": 24,
   "id": "26772629-e862-40ba-b5a7-12a941c09065",
   "metadata": {},
   "outputs": [
    {
     "data": {
      "text/plain": [
       "array([[10, 11],\n",
       "       [14, 15]])"
      ]
     },
     "execution_count": 24,
     "metadata": {},
     "output_type": "execute_result"
    }
   ],
   "source": [
    "# для срезов понадобится две запятых\n",
    "# выведем третью и четвертую матрицу [2:]\n",
    "# и в них сторую строку [1] и все столбцы [:]\n",
    "d[2:, 1, :]"
   ]
  },
  {
   "cell_type": "code",
   "execution_count": 25,
   "id": "432c9e9f-2032-43f2-a77c-9044fa25e325",
   "metadata": {},
   "outputs": [
    {
     "data": {
      "text/plain": [
       "array([[[0, 1],\n",
       "        [2, 3]],\n",
       "\n",
       "       [[4, 5],\n",
       "        [6, 7]]])"
      ]
     },
     "execution_count": 25,
     "metadata": {},
     "output_type": "execute_result"
    }
   ],
   "source": [
    "# если указать только один срез, будем работать только во внешнем\n",
    "# измерении, т.е. с матрицами\n",
    "# выведем первые две матрицы\n",
    "d[:2]"
   ]
  },
  {
   "cell_type": "code",
   "execution_count": 26,
   "id": "f674169c-fd18-48e8-b5b3-6df006f65c76",
   "metadata": {},
   "outputs": [
    {
     "data": {
      "text/plain": [
       "array([[ 0,  1],\n",
       "       [ 4,  5],\n",
       "       [ 8,  9],\n",
       "       [12, 13]])"
      ]
     },
     "execution_count": 26,
     "metadata": {},
     "output_type": "execute_result"
    }
   ],
   "source": [
    "# выведем первые строки каждой матрицы\n",
    "d[:, 0, :]"
   ]
  },
  {
   "cell_type": "markdown",
   "id": "878b3e05-ab65-4e5d-b1cc-b358becbbf13",
   "metadata": {},
   "source": [
    "### __Оси массива__"
   ]
  },
  {
   "cell_type": "markdown",
   "id": "5406a45a-620c-4c32-b270-d0345d304978",
   "metadata": {},
   "source": [
    "__Массив 2D__"
   ]
  },
  {
   "cell_type": "code",
   "execution_count": 27,
   "id": "e0ef32e3-a41a-49c1-a8c9-fb9cbfe6957b",
   "metadata": {},
   "outputs": [
    {
     "data": {
      "text/plain": [
       "array([[1, 2],\n",
       "       [3, 4]])"
      ]
     },
     "execution_count": 27,
     "metadata": {},
     "output_type": "execute_result"
    }
   ],
   "source": [
    "arr_2D = np.array([[1, 2], [3, 4]])\n",
    "arr_2D"
   ]
  },
  {
   "cell_type": "markdown",
   "id": "808f6f8b-7835-4d08-b9bd-460da09b79cd",
   "metadata": {},
   "source": [
    "Сложение вдоль первой оси (axis = 0)"
   ]
  },
  {
   "cell_type": "code",
   "execution_count": 28,
   "id": "90258f1c-734c-46aa-9a05-49427588e118",
   "metadata": {},
   "outputs": [
    {
     "data": {
      "text/plain": [
       "array([4, 6])"
      ]
     },
     "execution_count": 28,
     "metadata": {},
     "output_type": "execute_result"
    }
   ],
   "source": [
    "# найдем сумму по столбцам (вдоль оси 0)\n",
    "np.sum(arr_2D, axis = 0)"
   ]
  },
  {
   "cell_type": "markdown",
   "id": "e7d48848-7fe1-4431-825d-f4a4c4c626c7",
   "metadata": {},
   "source": [
    "Сложение вдоль второй оси (axis = 1)"
   ]
  },
  {
   "cell_type": "code",
   "execution_count": 29,
   "id": "672eea78-8469-4c1b-80e5-384ae855198d",
   "metadata": {},
   "outputs": [
    {
     "data": {
      "text/plain": [
       "array([3, 7])"
      ]
     },
     "execution_count": 29,
     "metadata": {},
     "output_type": "execute_result"
    }
   ],
   "source": [
    "# найдем сумму по строкам (вдоль оси 1)\n",
    "np.sum(arr_2D, axis = 1)"
   ]
  },
  {
   "cell_type": "markdown",
   "id": "12735248-51ac-4e54-b76b-409ead1e29d5",
   "metadata": {},
   "source": [
    "При таких операциях говорят, что мы агрегируем (aggregate) данные и сворачиваем (collapse) или сокращаем (reduce) измерения вдоль определенной оси. И действительно, в каждой из описанных выше операций двумерный массив превратился в одномерный."
   ]
  },
  {
   "cell_type": "markdown",
   "id": "6d46cbf2-d452-4dc3-b416-8f67fb33cba1",
   "metadata": {},
   "source": [
    "Сложение вдоль обеих осей (axis = (0, 1))"
   ]
  },
  {
   "cell_type": "code",
   "execution_count": 30,
   "id": "56196af1-4c54-4f97-8736-83518a2a3ff1",
   "metadata": {},
   "outputs": [
    {
     "data": {
      "text/plain": [
       "10"
      ]
     },
     "execution_count": 30,
     "metadata": {},
     "output_type": "execute_result"
    }
   ],
   "source": [
    "np.sum(arr_2D, axis = (0, 1))"
   ]
  },
  {
   "cell_type": "code",
   "execution_count": 31,
   "id": "bc81e18f-be7a-4fef-a925-4d7b4aa1f6da",
   "metadata": {},
   "outputs": [
    {
     "data": {
      "text/plain": [
       "10"
      ]
     },
     "execution_count": 31,
     "metadata": {},
     "output_type": "execute_result"
    }
   ],
   "source": [
    "# если параметр axis не указывать, сумма также будет расчитана по всем элементам массива\n",
    "np.sum(arr_2D)\n",
    "\n",
    "# в этом случае стоит значение по умолчанию axis = None"
   ]
  },
  {
   "cell_type": "code",
   "execution_count": 32,
   "id": "388d6304-c5b4-47c9-bc03-be6723492836",
   "metadata": {},
   "outputs": [
    {
     "data": {
      "text/plain": [
       "array([3, 7])"
      ]
     },
     "execution_count": 32,
     "metadata": {},
     "output_type": "execute_result"
    }
   ],
   "source": [
    "# допускаются отрицательное значение параметра axis. Параметр axis = -1\n",
    "# соответствует последней по счету оси, то есть оси 1\n",
    "np.sum(arr_2D, axis = -1)"
   ]
  },
  {
   "cell_type": "code",
   "execution_count": 33,
   "id": "cd4811cc-b75f-4e98-bcea-19cee53d0b8b",
   "metadata": {},
   "outputs": [
    {
     "data": {
      "text/plain": [
       "array([4, 6])"
      ]
     },
     "execution_count": 33,
     "metadata": {},
     "output_type": "execute_result"
    }
   ],
   "source": [
    "# соответственно сложение вдоль оси 0 соответсвует параметру axis = -2\n",
    "np.sum(arr_2D, axis = -2)"
   ]
  },
  {
   "cell_type": "markdown",
   "id": "f7ceed4a-4067-4b93-a825-9113481edd49",
   "metadata": {},
   "source": [
    "__Массив 3D__"
   ]
  },
  {
   "cell_type": "code",
   "execution_count": 34,
   "id": "780a48b2-63a8-4b2f-87c6-3916bf800625",
   "metadata": {},
   "outputs": [
    {
     "data": {
      "text/plain": [
       "array([[[ 0,  1,  2],\n",
       "        [ 3,  4,  5]],\n",
       "\n",
       "       [[ 6,  7,  8],\n",
       "        [ 9, 10, 11]]])"
      ]
     },
     "execution_count": 34,
     "metadata": {},
     "output_type": "execute_result"
    }
   ],
   "source": [
    "arr_3D = np.arange(12).reshape(2, 2, 3)\n",
    "arr_3D"
   ]
  },
  {
   "cell_type": "code",
   "execution_count": 35,
   "id": "98231985-e5c9-4441-bda4-3627a75da958",
   "metadata": {},
   "outputs": [
    {
     "data": {
      "text/plain": [
       "(2, 2, 3)"
      ]
     },
     "execution_count": 35,
     "metadata": {},
     "output_type": "execute_result"
    }
   ],
   "source": [
    "arr_3D.shape"
   ]
  },
  {
   "cell_type": "markdown",
   "id": "4f3062ff-c90f-4219-861e-482a55c8f546",
   "metadata": {},
   "source": [
    "Сложение вдоль первой оси (axis = 0)"
   ]
  },
  {
   "cell_type": "code",
   "execution_count": 36,
   "id": "fba1c926-fa2a-4150-8b9e-ead3967faab2",
   "metadata": {},
   "outputs": [
    {
     "data": {
      "text/plain": [
       "array([[ 6,  8, 10],\n",
       "       [12, 14, 16]])"
      ]
     },
     "execution_count": 36,
     "metadata": {},
     "output_type": "execute_result"
    }
   ],
   "source": [
    "np.sum(arr_3D, axis = 0)"
   ]
  },
  {
   "cell_type": "code",
   "execution_count": 37,
   "id": "8e1dc2f1-fdc8-4994-9e32-cdf4c87fe710",
   "metadata": {},
   "outputs": [
    {
     "data": {
      "text/plain": [
       "array([[0, 1, 2],\n",
       "       [3, 4, 5]])"
      ]
     },
     "execution_count": 37,
     "metadata": {},
     "output_type": "execute_result"
    }
   ],
   "source": [
    "# если использовать индексы массива, то поэлементное сложение вдоль оси 0 можно\n",
    "# реализовать следующим образом\n",
    "\n",
    "# возьмем первую матрицу\n",
    "arr_3D[0]"
   ]
  },
  {
   "cell_type": "code",
   "execution_count": 38,
   "id": "de0117e1-9340-4e6c-a1f0-a75d4794f842",
   "metadata": {},
   "outputs": [
    {
     "data": {
      "text/plain": [
       "array([[ 6,  7,  8],\n",
       "       [ 9, 10, 11]])"
      ]
     },
     "execution_count": 38,
     "metadata": {},
     "output_type": "execute_result"
    }
   ],
   "source": [
    "# возбмем вторую матрицу\n",
    "arr_3D[1]"
   ]
  },
  {
   "cell_type": "code",
   "execution_count": 39,
   "id": "4bae7805-3f54-495e-9a00-afa65ef4bcd0",
   "metadata": {},
   "outputs": [
    {
     "data": {
      "text/plain": [
       "array([[ 6,  8, 10],\n",
       "       [12, 14, 16]])"
      ]
     },
     "execution_count": 39,
     "metadata": {},
     "output_type": "execute_result"
    }
   ],
   "source": [
    "# сложим поэлементно\n",
    "arr_3D[0] + arr_3D[1]"
   ]
  },
  {
   "cell_type": "markdown",
   "id": "bc026ff6-1c14-4c43-a8bf-cdad2c1f2e64",
   "metadata": {},
   "source": [
    "Сложение вдоль второй оси (axis = 1)"
   ]
  },
  {
   "cell_type": "code",
   "execution_count": 40,
   "id": "0fea6bc3-7090-4d49-8f97-cc0edff7d417",
   "metadata": {},
   "outputs": [
    {
     "data": {
      "text/plain": [
       "array([[ 3,  5,  7],\n",
       "       [15, 17, 19]])"
      ]
     },
     "execution_count": 40,
     "metadata": {},
     "output_type": "execute_result"
    }
   ],
   "source": [
    "np.sum(arr_3D, axis = 1)"
   ]
  },
  {
   "cell_type": "code",
   "execution_count": 41,
   "id": "a5878483-acdd-4be1-b9f6-289cb87dcd32",
   "metadata": {},
   "outputs": [
    {
     "data": {
      "text/plain": [
       "array([3, 5, 7])"
      ]
     },
     "execution_count": 41,
     "metadata": {},
     "output_type": "execute_result"
    }
   ],
   "source": [
    "# Сложим поэлементарно\n",
    "# первая матрица\n",
    "arr_3D[0][0] + arr_3D[0][1]"
   ]
  },
  {
   "cell_type": "code",
   "execution_count": 42,
   "id": "cba78768-8163-4836-b8ff-9a4e6917a418",
   "metadata": {},
   "outputs": [
    {
     "data": {
      "text/plain": [
       "array([15, 17, 19])"
      ]
     },
     "execution_count": 42,
     "metadata": {},
     "output_type": "execute_result"
    }
   ],
   "source": [
    "# вторая матрица\n",
    "arr_3D[1][0] + arr_3D[1][1]"
   ]
  },
  {
   "cell_type": "markdown",
   "id": "239e9385-f302-4700-b70d-aecae350c6bb",
   "metadata": {},
   "source": [
    "Сложение вдоль третьей оси (axis = 2)"
   ]
  },
  {
   "cell_type": "code",
   "execution_count": 43,
   "id": "3b16c80c-a72e-4f05-8d18-66ca09e95b32",
   "metadata": {},
   "outputs": [
    {
     "data": {
      "text/plain": [
       "array([[ 3, 12],\n",
       "       [21, 30]])"
      ]
     },
     "execution_count": 43,
     "metadata": {},
     "output_type": "execute_result"
    }
   ],
   "source": [
    "np.sum(arr_3D, axis = 2)"
   ]
  },
  {
   "cell_type": "code",
   "execution_count": 44,
   "id": "3ebc681e-bd74-4e2d-a046-3e9b9f89ea66",
   "metadata": {},
   "outputs": [
    {
     "data": {
      "text/plain": [
       "3"
      ]
     },
     "execution_count": 44,
     "metadata": {},
     "output_type": "execute_result"
    }
   ],
   "source": [
    "# Сложим поэлементарно\n",
    "arr_3D[0][0][0] + arr_3D[0][0][1] + arr_3D[0][0][2]"
   ]
  },
  {
   "cell_type": "code",
   "execution_count": 45,
   "id": "b0966055-fea9-47df-99e3-3bd072cc42fa",
   "metadata": {},
   "outputs": [
    {
     "data": {
      "text/plain": [
       "12"
      ]
     },
     "execution_count": 45,
     "metadata": {},
     "output_type": "execute_result"
    }
   ],
   "source": [
    "arr_3D[0][1][0] + arr_3D[0][1][1] + arr_3D[0][1][2]"
   ]
  },
  {
   "cell_type": "code",
   "execution_count": 46,
   "id": "be965b51-9a91-4a64-95b2-8c615625ba1e",
   "metadata": {},
   "outputs": [
    {
     "data": {
      "text/plain": [
       "21"
      ]
     },
     "execution_count": 46,
     "metadata": {},
     "output_type": "execute_result"
    }
   ],
   "source": [
    "arr_3D[1][0][0] + arr_3D[1][0][1] + arr_3D[1][0][2]"
   ]
  },
  {
   "cell_type": "code",
   "execution_count": 47,
   "id": "20f6474a-bdaa-4559-ba19-c1540fd5a693",
   "metadata": {},
   "outputs": [
    {
     "data": {
      "text/plain": [
       "30"
      ]
     },
     "execution_count": 47,
     "metadata": {},
     "output_type": "execute_result"
    }
   ],
   "source": [
    "arr_3D[1][1][0] + arr_3D[1][1][1] + arr_3D[1][1][2]"
   ]
  },
  {
   "cell_type": "markdown",
   "id": "e37f194d-54ce-40d8-ba00-fa39d33a98ee",
   "metadata": {},
   "source": [
    "Сложение вдоль первой и второй осей ( axis = (0, 1))"
   ]
  },
  {
   "cell_type": "code",
   "execution_count": 48,
   "id": "a265de2f-1242-4477-be26-88355274696b",
   "metadata": {},
   "outputs": [
    {
     "data": {
      "text/plain": [
       "array([18, 22, 26])"
      ]
     },
     "execution_count": 48,
     "metadata": {},
     "output_type": "execute_result"
    }
   ],
   "source": [
    "np.sum(arr_3D, axis = (0, 1))"
   ]
  },
  {
   "cell_type": "markdown",
   "id": "63baea61-c9d3-4563-b782-5a240f995daa",
   "metadata": {},
   "source": [
    "Сложение вдоль трех осей (axis = (0, 1, 2))"
   ]
  },
  {
   "cell_type": "code",
   "execution_count": 49,
   "id": "13dc97ac-67b9-42e2-947e-67a07f71fe2f",
   "metadata": {},
   "outputs": [
    {
     "data": {
      "text/plain": [
       "66"
      ]
     },
     "execution_count": 49,
     "metadata": {},
     "output_type": "execute_result"
    }
   ],
   "source": [
    "np.sum(arr_3D, axis = (0, 1, 2))"
   ]
  },
  {
   "cell_type": "code",
   "execution_count": 50,
   "id": "30391865-9d6c-4efb-9d02-586264ffb058",
   "metadata": {},
   "outputs": [
    {
     "data": {
      "text/plain": [
       "66"
      ]
     },
     "execution_count": 50,
     "metadata": {},
     "output_type": "execute_result"
    }
   ],
   "source": [
    "# сложение вдоль трех осей установлено по умолчанию\n",
    "np.sum(arr_3D)"
   ]
  },
  {
   "cell_type": "markdown",
   "id": "8233182d-2366-4327-a2ce-873227e24f79",
   "metadata": {},
   "source": [
    "### __Операции с массивами__"
   ]
  },
  {
   "cell_type": "markdown",
   "id": "a5ecb5fc-044c-412d-9999-4c2463952bbe",
   "metadata": {},
   "source": [
    "__Функция len()__"
   ]
  },
  {
   "cell_type": "code",
   "execution_count": 51,
   "id": "37c7efe4-ca82-4000-aefa-a43f6852e4f3",
   "metadata": {},
   "outputs": [
    {
     "data": {
      "text/plain": [
       "2"
      ]
     },
     "execution_count": 51,
     "metadata": {},
     "output_type": "execute_result"
    }
   ],
   "source": [
    "# по умолчанию функция len() выводит длину внешнего измерения (ось 0)\n",
    "len(arr_3D)"
   ]
  },
  {
   "cell_type": "code",
   "execution_count": 52,
   "id": "e387599b-c033-40f3-9804-7e7fff2dfb2b",
   "metadata": {},
   "outputs": [
    {
     "data": {
      "text/plain": [
       "3"
      ]
     },
     "execution_count": 52,
     "metadata": {},
     "output_type": "execute_result"
    }
   ],
   "source": [
    "# Что бы вывести, например длину внутреннего измерения, т.е. вектора \n",
    "# из трех элементов (ось 1), нужно воспользоваться индексом\n",
    "\n",
    "len(arr_3D[0][0])"
   ]
  },
  {
   "cell_type": "markdown",
   "id": "435a2b3c-c927-4d8a-ace0-ac46e4797015",
   "metadata": {},
   "source": [
    "__Вхождение элемента в массив__"
   ]
  },
  {
   "cell_type": "code",
   "execution_count": 53,
   "id": "2145a008-0a0d-400a-9625-e88296e3f194",
   "metadata": {},
   "outputs": [
    {
     "data": {
      "text/plain": [
       "True"
      ]
     },
     "execution_count": 53,
     "metadata": {},
     "output_type": "execute_result"
    }
   ],
   "source": [
    "3 in arr_3D"
   ]
  },
  {
   "cell_type": "code",
   "execution_count": 54,
   "id": "31261ff3-ff8e-42c5-9b2b-9b1b6a18a6c9",
   "metadata": {},
   "outputs": [
    {
     "data": {
      "text/plain": [
       "False"
      ]
     },
     "execution_count": 54,
     "metadata": {},
     "output_type": "execute_result"
    }
   ],
   "source": [
    "13 in arr_3D"
   ]
  },
  {
   "cell_type": "code",
   "execution_count": 55,
   "id": "de6fc01d-0bdf-41ac-ba1b-dad2c5837611",
   "metadata": {},
   "outputs": [
    {
     "data": {
      "text/plain": [
       "False"
      ]
     },
     "execution_count": 55,
     "metadata": {},
     "output_type": "execute_result"
    }
   ],
   "source": [
    "11 not in arr_3D"
   ]
  },
  {
   "cell_type": "markdown",
   "id": "dd142979-9eca-4df2-9d3d-844b27c8233a",
   "metadata": {},
   "source": [
    "__Распаковка массива__"
   ]
  },
  {
   "cell_type": "code",
   "execution_count": 56,
   "id": "4b1137b5-6540-4fb2-88b3-de65339f3a4b",
   "metadata": {},
   "outputs": [
    {
     "data": {
      "text/plain": [
       "array([[ 1,  2,  3,  4,  5,  6,  7,  8,  9],\n",
       "       [10, 11, 12, 13, 14, 15, 16, 17, 18],\n",
       "       [19, 20, 21, 22, 23, 24, 25, 26, 27]])"
      ]
     },
     "execution_count": 56,
     "metadata": {},
     "output_type": "execute_result"
    }
   ],
   "source": [
    "# Возьмем матрицу из трех строк и девяти столбцов\n",
    "a = np.arange(1, 28).reshape(3, 9)\n",
    "a"
   ]
  },
  {
   "cell_type": "code",
   "execution_count": 57,
   "id": "07258b24-4797-4054-a362-2f51b93c9191",
   "metadata": {},
   "outputs": [],
   "source": [
    "# во внешнем измерении (ось 0) три элемента. Мы можем распаковать их в три переменные\n",
    "x, y, z = a"
   ]
  },
  {
   "cell_type": "code",
   "execution_count": 58,
   "id": "ca1d09d3-3377-4925-a592-9d4c9fa844df",
   "metadata": {},
   "outputs": [
    {
     "data": {
      "text/plain": [
       "array([1, 2, 3, 4, 5, 6, 7, 8, 9])"
      ]
     },
     "execution_count": 58,
     "metadata": {},
     "output_type": "execute_result"
    }
   ],
   "source": [
    "x"
   ]
  },
  {
   "cell_type": "code",
   "execution_count": 59,
   "id": "61e1f5db-b787-43fd-b080-3a80db48afd8",
   "metadata": {},
   "outputs": [
    {
     "name": "stdout",
     "output_type": "stream",
     "text": [
      "1\n",
      "[2, 3, 4, 5, 6, 7, 8]\n",
      "9\n"
     ]
    }
   ],
   "source": [
    "# теперь распакуем первый, последнийй и остальные элементы первой строки\n",
    "# в отдельные элементы\n",
    "\n",
    "x, *y, z = a[0]\n",
    "\n",
    "print(x)\n",
    "print(y)\n",
    "print(z)"
   ]
  },
  {
   "cell_type": "markdown",
   "id": "d63fa402-bab6-4312-bfcc-4a3489fb68e2",
   "metadata": {},
   "source": [
    "__Изменение элементов массива__"
   ]
  },
  {
   "cell_type": "code",
   "execution_count": 60,
   "id": "6a01a0e5-6d63-4a0f-99fb-5d606318c093",
   "metadata": {},
   "outputs": [
    {
     "data": {
      "text/plain": [
       "array([[1, 2, 3],\n",
       "       [4, 5, 6]])"
      ]
     },
     "execution_count": 60,
     "metadata": {},
     "output_type": "execute_result"
    }
   ],
   "source": [
    "arr_2D = np.array([[1, 2, 3], [4, 5, 6]])\n",
    "arr_2D"
   ]
  },
  {
   "cell_type": "code",
   "execution_count": 61,
   "id": "357e1936-d8d8-4cce-9fb6-a5847be24069",
   "metadata": {},
   "outputs": [
    {
     "data": {
      "text/plain": [
       "array([[2, 2, 3],\n",
       "       [4, 5, 6]])"
      ]
     },
     "execution_count": 61,
     "metadata": {},
     "output_type": "execute_result"
    }
   ],
   "source": [
    "# заменим первый элемент первой строки по его индексу\n",
    "arr_2D[0][0] = 2\n",
    "arr_2D"
   ]
  },
  {
   "cell_type": "code",
   "execution_count": 62,
   "id": "02a8d0ef-afaa-4e11-9d33-111b008e7cff",
   "metadata": {},
   "outputs": [
    {
     "data": {
      "text/plain": [
       "array([[1, 1, 1],\n",
       "       [4, 5, 6]])"
      ]
     },
     "execution_count": 62,
     "metadata": {},
     "output_type": "execute_result"
    }
   ],
   "source": [
    "# запишем значение 1 в первую строку\n",
    "arr_2D[0] = 1\n",
    "arr_2D"
   ]
  },
  {
   "cell_type": "code",
   "execution_count": 63,
   "id": "75849b46-35b2-44d2-969e-c54795875600",
   "metadata": {},
   "outputs": [
    {
     "data": {
      "text/plain": [
       "array([[1, 1, 0],\n",
       "       [4, 5, 0]])"
      ]
     },
     "execution_count": 63,
     "metadata": {},
     "output_type": "execute_result"
    }
   ],
   "source": [
    "# пусть третий столбец состоит из 0\n",
    "arr_2D[:, 2] = 0\n",
    "arr_2D"
   ]
  },
  {
   "cell_type": "code",
   "execution_count": 64,
   "id": "e7579794-30b1-4951-957b-6805ee4a234b",
   "metadata": {},
   "outputs": [
    {
     "data": {
      "text/plain": [
       "array([[[ 0,  1,  2],\n",
       "        [ 3,  4,  5]],\n",
       "\n",
       "       [[ 6,  7,  8],\n",
       "        [ 9, 10, 11]]])"
      ]
     },
     "execution_count": 64,
     "metadata": {},
     "output_type": "execute_result"
    }
   ],
   "source": [
    "# потренируемся на трехмерном массиве\n",
    "arr_3D = np.arange(12).reshape(2, 2, 3)\n",
    "arr_3D"
   ]
  },
  {
   "cell_type": "code",
   "execution_count": 65,
   "id": "3f0c3fd2-4577-4403-a33f-cf7d6f0646e4",
   "metadata": {},
   "outputs": [
    {
     "data": {
      "text/plain": [
       "array([[[ 0,  1,  2],\n",
       "        [ 3,  4,  5]],\n",
       "\n",
       "       [[ 6,  0,  8],\n",
       "        [ 9,  1, 11]]])"
      ]
     },
     "execution_count": 65,
     "metadata": {},
     "output_type": "execute_result"
    }
   ],
   "source": [
    "# Выберем второй столбец второй матрицы и заменим значения столбца 7 и 10 на 0 и 1\n",
    "# при такой операции размер среза должен совпадать\n",
    "# с количеством передаваемых значений\n",
    "\n",
    "arr_3D[1, :, 1] = [0, 1]\n",
    "arr_3D"
   ]
  },
  {
   "cell_type": "code",
   "execution_count": 66,
   "id": "72ab280c-5bb3-4a92-9b0b-1aa3148e264c",
   "metadata": {},
   "outputs": [
    {
     "data": {
      "text/plain": [
       "array([[[7, 7, 7],\n",
       "        [7, 7, 7]],\n",
       "\n",
       "       [[7, 7, 7],\n",
       "        [7, 7, 7]]])"
      ]
     },
     "execution_count": 66,
     "metadata": {},
     "output_type": "execute_result"
    }
   ],
   "source": [
    " # Заменим все элементы массива на число 7 с помощью метода fill()\n",
    "arr_3D.fill(7)\n",
    "arr_3D"
   ]
  },
  {
   "cell_type": "markdown",
   "id": "a7965cc7-855f-40ae-98c3-db3dba134c10",
   "metadata": {},
   "source": [
    "### __Сортировка массива и обратный порядок его элементов__"
   ]
  },
  {
   "cell_type": "markdown",
   "id": "26be587a-43c5-4076-bed5-9ed7e55927e0",
   "metadata": {},
   "source": [
    "__Функция np.sort()__"
   ]
  },
  {
   "cell_type": "code",
   "execution_count": 67,
   "id": "5e1d8d2f-631d-4fec-839a-2491e3144bb4",
   "metadata": {},
   "outputs": [
    {
     "data": {
      "text/plain": [
       "array([[4, 8, 2],\n",
       "       [2, 3, 1]])"
      ]
     },
     "execution_count": 67,
     "metadata": {},
     "output_type": "execute_result"
    }
   ],
   "source": [
    "a = np.array([[4,8,2],[2,3,1]])\n",
    "a"
   ]
  },
  {
   "cell_type": "code",
   "execution_count": 68,
   "id": "9bd5e0f0-0348-44e5-ba8c-8725dd1f0792",
   "metadata": {},
   "outputs": [
    {
     "data": {
      "text/plain": [
       "array([[2, 4, 8],\n",
       "       [1, 2, 3]])"
      ]
     },
     "execution_count": 68,
     "metadata": {},
     "output_type": "execute_result"
    }
   ],
   "source": [
    "# По умолчанию сортировка идет с параметром axis = -1 (последняя ось)\n",
    "np.sort(a)"
   ]
  },
  {
   "cell_type": "code",
   "execution_count": 69,
   "id": "935dba7c-b7c0-4f82-ad7a-bc80c70f79eb",
   "metadata": {},
   "outputs": [
    {
     "data": {
      "text/plain": [
       "array([[2, 4, 8],\n",
       "       [1, 2, 3]])"
      ]
     },
     "execution_count": 69,
     "metadata": {},
     "output_type": "execute_result"
    }
   ],
   "source": [
    "# для двумерного массива это ось 1 (axis = 1)\n",
    "np.sort(a, axis = 1)"
   ]
  },
  {
   "cell_type": "code",
   "execution_count": 70,
   "id": "0f34b6e0-8bf4-40a8-a0b6-4fcf7d5e646c",
   "metadata": {},
   "outputs": [
    {
     "data": {
      "text/plain": [
       "array([[2, 3, 1],\n",
       "       [4, 8, 2]])"
      ]
     },
     "execution_count": 70,
     "metadata": {},
     "output_type": "execute_result"
    }
   ],
   "source": [
    "# сортировка по оси 0 (axis = 0)\n",
    "np.sort(a, axis = 0) "
   ]
  },
  {
   "cell_type": "code",
   "execution_count": 71,
   "id": "7a526a98-e281-42aa-a247-24c389ac70ee",
   "metadata": {},
   "outputs": [
    {
     "data": {
      "text/plain": [
       "array([1, 2, 2, 3, 4, 8])"
      ]
     },
     "execution_count": 71,
     "metadata": {},
     "output_type": "execute_result"
    }
   ],
   "source": [
    "# параметр axis = None, сначала возвращает одномерный массив, а затем сортирует его\n",
    "np.sort(a, axis = None)"
   ]
  },
  {
   "cell_type": "markdown",
   "id": "a14ebe8a-229c-4e36-b074-43d13197032f",
   "metadata": {},
   "source": [
    "__Обратный порядок элементов массива__"
   ]
  },
  {
   "cell_type": "code",
   "execution_count": 72,
   "id": "1558bce3-257b-434d-9824-15fbb78d0676",
   "metadata": {},
   "outputs": [
    {
     "data": {
      "text/plain": [
       "array([9, 8, 7, 6, 5, 4, 3, 2, 1, 0])"
      ]
     },
     "execution_count": 72,
     "metadata": {},
     "output_type": "execute_result"
    }
   ],
   "source": [
    "# можно задать обратный порядок с помощью оператора среза с параметром шага -1\n",
    "np.array([0, 1, 2, 3, 4, 5, 6, 7, 8, 9])[::-1]"
   ]
  },
  {
   "cell_type": "code",
   "execution_count": 73,
   "id": "7576a2c5-76aa-436a-919d-15b30d22a125",
   "metadata": {},
   "outputs": [
    {
     "data": {
      "text/plain": [
       "array([7, 6, 5, 4])"
      ]
     },
     "execution_count": 73,
     "metadata": {},
     "output_type": "execute_result"
    }
   ],
   "source": [
    "# обратный порядок можно совмецать со срезами\n",
    "np.array([0, 1, 2, 3, 4, 5, 6, 7, 8, 9])[-3:3:-1]"
   ]
  },
  {
   "cell_type": "code",
   "execution_count": 74,
   "id": "5e652b82-b9ac-447f-b7da-e95b5272ef20",
   "metadata": {},
   "outputs": [
    {
     "data": {
      "text/plain": [
       "array([[4, 8, 2],\n",
       "       [2, 3, 1],\n",
       "       [1, 7, 2]])"
      ]
     },
     "execution_count": 74,
     "metadata": {},
     "output_type": "execute_result"
    }
   ],
   "source": [
    "# возьмем двумерный массив\n",
    "a = np.array([[4, 8,2], [2, 3, 1], [1, 7, 2]])\n",
    "a"
   ]
  },
  {
   "cell_type": "code",
   "execution_count": 75,
   "id": "9c47f235-015e-4678-b924-430d92323ea7",
   "metadata": {},
   "outputs": [
    {
     "data": {
      "text/plain": [
       "array([[2, 7, 1],\n",
       "       [1, 3, 2],\n",
       "       [2, 8, 4]])"
      ]
     },
     "execution_count": 75,
     "metadata": {},
     "output_type": "execute_result"
    }
   ],
   "source": [
    "# с помощью оператора среза можно задать обратный порядок по двум измерением\n",
    "# такая запись аналогична параметру axis = (0, 1)\n",
    "a[::-1, ::-1]"
   ]
  },
  {
   "cell_type": "code",
   "execution_count": 76,
   "id": "2be4f681-ec46-48f8-98a2-dccadbbe1eb1",
   "metadata": {},
   "outputs": [
    {
     "data": {
      "text/plain": [
       "array([[1, 7, 2],\n",
       "       [2, 3, 1],\n",
       "       [4, 8, 2]])"
      ]
     },
     "execution_count": 76,
     "metadata": {},
     "output_type": "execute_result"
    }
   ],
   "source": [
    "# Мы можем задать обратный порядок только по внешнему или только внутреннем измерениям\n",
    "# обратный порядок по внешнему (axis = 0)\n",
    "a[::-1]"
   ]
  },
  {
   "cell_type": "code",
   "execution_count": 77,
   "id": "b5c8cc42-a221-421d-85c2-047f7a58250c",
   "metadata": {},
   "outputs": [
    {
     "data": {
      "text/plain": [
       "array([[2, 8, 4],\n",
       "       [1, 3, 2],\n",
       "       [2, 7, 1]])"
      ]
     },
     "execution_count": 77,
     "metadata": {},
     "output_type": "execute_result"
    }
   ],
   "source": [
    "# и внутреннему измерению (axis = 1)\n",
    "a[:, ::-1]"
   ]
  },
  {
   "cell_type": "markdown",
   "id": "54207486-0c48-4220-b6da-2552504db212",
   "metadata": {},
   "source": [
    "__Обратный порядок с помощью функции np.flipp()__\n"
   ]
  },
  {
   "cell_type": "code",
   "execution_count": 78,
   "id": "e6babbf5-11d0-4df4-b94f-49388419445c",
   "metadata": {},
   "outputs": [
    {
     "data": {
      "text/plain": [
       "array([[2, 7, 1],\n",
       "       [1, 3, 2],\n",
       "       [2, 8, 4]])"
      ]
     },
     "execution_count": 78,
     "metadata": {},
     "output_type": "execute_result"
    }
   ],
   "source": [
    "# тоже самое, что axis = (0, 1)\n",
    "np.flip(a)"
   ]
  },
  {
   "cell_type": "code",
   "execution_count": 79,
   "id": "cbbfee93-f73f-438c-aaff-87714336617b",
   "metadata": {},
   "outputs": [
    {
     "data": {
      "text/plain": [
       "array([[1, 7, 2],\n",
       "       [2, 3, 1],\n",
       "       [4, 8, 2]])"
      ]
     },
     "execution_count": 79,
     "metadata": {},
     "output_type": "execute_result"
    }
   ],
   "source": [
    "# отдельно можно задать внешнее измерение\n",
    "np.flip(a, axis = 0)"
   ]
  },
  {
   "cell_type": "code",
   "execution_count": 80,
   "id": "73019762-a033-4c92-910d-48c063840061",
   "metadata": {},
   "outputs": [
    {
     "data": {
      "text/plain": [
       "array([[2, 8, 4],\n",
       "       [1, 3, 2],\n",
       "       [2, 7, 1]])"
      ]
     },
     "execution_count": 80,
     "metadata": {},
     "output_type": "execute_result"
    }
   ],
   "source": [
    "# отдельно можно задать внутреннее измерение\n",
    "np.flip(a, axis = 1)"
   ]
  },
  {
   "cell_type": "markdown",
   "id": "a35669bd-dda7-4d6d-b8d4-e2789348314f",
   "metadata": {},
   "source": [
    "__Сортировка в убывающем порядке__"
   ]
  },
  {
   "cell_type": "markdown",
   "id": "83f93a41-1ad9-4c8c-82d4-01d59c91845d",
   "metadata": {},
   "source": [
    "Функция np.sort() сортирует элементы только в возрастающем порядке"
   ]
  },
  {
   "cell_type": "code",
   "execution_count": 81,
   "id": "6ecd0d4c-dadd-427e-930e-c57aca139080",
   "metadata": {},
   "outputs": [
    {
     "data": {
      "text/plain": [
       "array([4, 2, 6, 1, 7, 3, 5])"
      ]
     },
     "execution_count": 81,
     "metadata": {},
     "output_type": "execute_result"
    }
   ],
   "source": [
    "a = np.array([4, 2, 6, 1, 7, 3, 5])\n",
    "a"
   ]
  },
  {
   "cell_type": "code",
   "execution_count": 82,
   "id": "52af5b29-33ee-4bb4-9cbc-6d6304b7a8cf",
   "metadata": {},
   "outputs": [
    {
     "data": {
      "text/plain": [
       "array([1, 2, 3, 4, 5, 6, 7])"
      ]
     },
     "execution_count": 82,
     "metadata": {},
     "output_type": "execute_result"
    }
   ],
   "source": [
    "np.sort(a)"
   ]
  },
  {
   "cell_type": "code",
   "execution_count": 83,
   "id": "a374de1f-c497-4997-85f8-a8a2e2314bb2",
   "metadata": {},
   "outputs": [
    {
     "data": {
      "text/plain": [
       "array([7, 6, 5, 4, 3, 2, 1])"
      ]
     },
     "execution_count": 83,
     "metadata": {},
     "output_type": "execute_result"
    }
   ],
   "source": [
    "# применим одновременно оператор среза с параметром шага -1\n",
    "np.sort(a)[::-1]"
   ]
  },
  {
   "cell_type": "code",
   "execution_count": 84,
   "id": "ac6c6e91-64ed-4358-9a89-408f028ac40a",
   "metadata": {},
   "outputs": [
    {
     "data": {
      "text/plain": [
       "array([4, 2, 6, 1, 7, 3, 5])"
      ]
     },
     "execution_count": 84,
     "metadata": {},
     "output_type": "execute_result"
    }
   ],
   "source": [
    "# исходный массив при этом не изменился\n",
    "a"
   ]
  },
  {
   "cell_type": "markdown",
   "id": "0b8d1b7f-ad30-4800-9654-b443a55939b3",
   "metadata": {},
   "source": [
    "Можно воспользоваться и методом sort()"
   ]
  },
  {
   "cell_type": "code",
   "execution_count": 85,
   "id": "29b1ca4f-dcce-409e-b187-2da15ef3d3ba",
   "metadata": {},
   "outputs": [
    {
     "data": {
      "text/plain": [
       "array([7, 6, 5, 4, 3, 2, 1])"
      ]
     },
     "execution_count": 85,
     "metadata": {},
     "output_type": "execute_result"
    }
   ],
   "source": [
    "a[::-1].sort()\n",
    "a"
   ]
  },
  {
   "cell_type": "code",
   "execution_count": 86,
   "id": "03af31d6-0cde-4d13-8ff0-27163d5da0a5",
   "metadata": {},
   "outputs": [
    {
     "data": {
      "text/plain": [
       "array([7, 6, 5, 4, 3, 2, 1])"
      ]
     },
     "execution_count": 86,
     "metadata": {},
     "output_type": "execute_result"
    }
   ],
   "source": [
    "# в данном случае исходный массив изменится\n",
    "a "
   ]
  },
  {
   "cell_type": "markdown",
   "id": "367780cb-1a45-444c-a8f7-ab86f8385eea",
   "metadata": {},
   "source": [
    "### __Изменение размерности__"
   ]
  },
  {
   "cell_type": "markdown",
   "id": "b8759b59-88ba-4636-a737-a908b59440a2",
   "metadata": {},
   "source": [
    "__Метод .reshape()__"
   ]
  },
  {
   "cell_type": "code",
   "execution_count": 87,
   "id": "48aaa1e7-e110-4a20-84c0-713fcfbea3fb",
   "metadata": {},
   "outputs": [
    {
     "data": {
      "text/plain": [
       "array([[[ 0,  1,  2],\n",
       "        [ 3,  4,  5]],\n",
       "\n",
       "       [[ 6,  7,  8],\n",
       "        [ 9, 10, 11]]])"
      ]
     },
     "execution_count": 87,
     "metadata": {},
     "output_type": "execute_result"
    }
   ],
   "source": [
    "# возьмем простой трехмерный массив\n",
    "arr_3D = np.arange(12).reshape(2, 2, 3)\n",
    "arr_3D"
   ]
  },
  {
   "cell_type": "code",
   "execution_count": 88,
   "id": "ec0ce9a9-71d9-4322-893b-acccbeb67fd1",
   "metadata": {},
   "outputs": [
    {
     "data": {
      "text/plain": [
       "12"
      ]
     },
     "execution_count": 88,
     "metadata": {},
     "output_type": "execute_result"
    }
   ],
   "source": [
    "# в нем 12 элементов\n",
    "arr_3D.size"
   ]
  },
  {
   "cell_type": "markdown",
   "id": "7da3206b-c3db-457e-93b9-b976ab012851",
   "metadata": {},
   "source": [
    "С помощью метода .reshape() мы можем изменить количество измерений. "
   ]
  },
  {
   "cell_type": "code",
   "execution_count": 89,
   "id": "b98085a2-6f15-4890-a201-66a23c3d5f0e",
   "metadata": {},
   "outputs": [
    {
     "data": {
      "text/plain": [
       "array([[ 0,  1,  2,  3,  4,  5],\n",
       "       [ 6,  7,  8,  9, 10, 11]])"
      ]
     },
     "execution_count": 89,
     "metadata": {},
     "output_type": "execute_result"
    }
   ],
   "source": [
    "# превратим 3D массив в матрицу с размерностью 2х6\n",
    "# ВАЖНО чтобы общее количество элементов оставалось прежним\n",
    "arr_2D = arr_3D.reshape(2, 6)\n",
    "arr_2D"
   ]
  },
  {
   "cell_type": "markdown",
   "id": "0325c116-cd4d-4ad4-9e28-619014679b42",
   "metadata": {},
   "source": [
    "__Функция np.resize() и метод .resize()__\n"
   ]
  },
  {
   "cell_type": "markdown",
   "id": "8a0027a9-6fe3-44b3-8401-77f9555e9ef6",
   "metadata": {},
   "source": [
    "если мы хотим не только задать другую размерность, но и изменить общее количество элементов, то мы можем воспользоваться функцией np.resize() и методом .resize()."
   ]
  },
  {
   "cell_type": "code",
   "execution_count": 90,
   "id": "14b47dc0-b70c-4518-83da-97dfb9819790",
   "metadata": {},
   "outputs": [
    {
     "data": {
      "text/plain": [
       "array([[ 0,  1,  2,  3,  4,  5],\n",
       "       [ 6,  7,  8,  9, 10, 11],\n",
       "       [ 0,  1,  2,  3,  4,  5]])"
      ]
     },
     "execution_count": 90,
     "metadata": {},
     "output_type": "execute_result"
    }
   ],
   "source": [
    "# функция np.resize() позволяет не сохранять прежнее количество элементов\n",
    "# существующие элементы копируются в новые ячейки\n",
    "np.resize(arr_2D, (3, 6))"
   ]
  },
  {
   "cell_type": "markdown",
   "id": "7177d2df-7ce4-42f8-a34d-e6be6875d68d",
   "metadata": {},
   "source": [
    "Перед тем как воспользоваться методом .resize() нам необходимо создать копию массива arr_2D. Все дело в том, что переменная arr_2D ссылается на другой массив (в частности, на трехмерный массив arr_3D), а метод .resize() может работать только с исходным массивом."
   ]
  },
  {
   "cell_type": "code",
   "execution_count": 91,
   "id": "cc056a8c-31a5-43a9-9479-5d473adc72cf",
   "metadata": {},
   "outputs": [],
   "source": [
    "arr_2D_copy = arr_2D.copy()"
   ]
  },
  {
   "cell_type": "code",
   "execution_count": 92,
   "id": "5d6196c7-45a2-4327-864c-40c3431b52b2",
   "metadata": {},
   "outputs": [
    {
     "data": {
      "text/plain": [
       "array([[ 0,  1,  2,  3,  4,  5],\n",
       "       [ 6,  7,  8,  9, 10, 11],\n",
       "       [ 0,  0,  0,  0,  0,  0],\n",
       "       [ 0,  0,  0,  0,  0,  0]])"
      ]
     },
     "execution_count": 92,
     "metadata": {},
     "output_type": "execute_result"
    }
   ],
   "source": [
    "arr_2D_copy.resize(4, 6)\n",
    "arr_2D_copy"
   ]
  },
  {
   "cell_type": "markdown",
   "id": "e392feb5-854b-47fe-9e44-88d40b4a9553",
   "metadata": {},
   "source": [
    "__Методы .flatten() и .ravel()__"
   ]
  },
  {
   "cell_type": "markdown",
   "id": "1e63cff1-5a0c-453f-ae86-b2b58548df62",
   "metadata": {},
   "source": [
    "Метод .flatten() переводит («вытягивает») массив в одно измерение и создает копию исходного массива (как метод .copy())."
   ]
  },
  {
   "cell_type": "code",
   "execution_count": 93,
   "id": "dab60b11-9fec-4c6e-9fe1-bcff12713d2f",
   "metadata": {},
   "outputs": [
    {
     "data": {
      "text/plain": [
       "array([ 0,  1,  2,  3,  4,  5,  6,  7,  8,  9, 10, 11])"
      ]
     },
     "execution_count": 93,
     "metadata": {},
     "output_type": "execute_result"
    }
   ],
   "source": [
    "arr_3D.flatten()"
   ]
  },
  {
   "cell_type": "markdown",
   "id": "d9bd6205-796a-439c-b4b0-0406166a532e",
   "metadata": {},
   "source": [
    "Метод .ravel() делает то же самое, но не создает копию исходного массива и за счет этого быстрее, чем .flatten()"
   ]
  },
  {
   "cell_type": "code",
   "execution_count": 94,
   "id": "3b63ef38-cd35-41b4-ad8f-06a500810150",
   "metadata": {},
   "outputs": [
    {
     "data": {
      "text/plain": [
       "array([ 0,  1,  2,  3,  4,  5,  6,  7,  8,  9, 10, 11])"
      ]
     },
     "execution_count": 94,
     "metadata": {},
     "output_type": "execute_result"
    }
   ],
   "source": [
    "arr_3D.ravel()"
   ]
  },
  {
   "cell_type": "markdown",
   "id": "f09bfbb9-9bae-463d-8703-3be10b08d122",
   "metadata": {},
   "source": [
    "__Объект np.newaxis__"
   ]
  },
  {
   "cell_type": "markdown",
   "id": "b5e4aa71-c655-4157-98e7-d19d139ee5c8",
   "metadata": {},
   "source": [
    "Объект np.newaxis добавляет измерение в уже существующем массиве"
   ]
  },
  {
   "cell_type": "code",
   "execution_count": 95,
   "id": "d8384b7c-058f-4fba-973d-d24e27338aae",
   "metadata": {},
   "outputs": [
    {
     "name": "stdout",
     "output_type": "stream",
     "text": [
      "[1 2 3]\n",
      "(3,)\n"
     ]
    }
   ],
   "source": [
    "a = np.array([1, 2, 3])\n",
    "print(a)\n",
    "print(a.shape)"
   ]
  },
  {
   "cell_type": "code",
   "execution_count": 96,
   "id": "7f8b5949-4f61-4323-bdf7-26da96780884",
   "metadata": {},
   "outputs": [
    {
     "name": "stdout",
     "output_type": "stream",
     "text": [
      "[[1 2 3]]\n",
      "(1, 3)\n"
     ]
    }
   ],
   "source": [
    "# Мы можем добавить в этот массив новое первое измерение и, \n",
    "# таким образом, сделать существующее измерение вторым.\n",
    "b = a[np.newaxis, :]\n",
    "print(b)\n",
    "print(b.shape)"
   ]
  },
  {
   "cell_type": "code",
   "execution_count": 97,
   "id": "0e12f2ce-3d19-45fc-9f9b-604199ebdb5a",
   "metadata": {},
   "outputs": [
    {
     "name": "stdout",
     "output_type": "stream",
     "text": [
      "[[1]\n",
      " [2]\n",
      " [3]]\n",
      "(3, 1)\n"
     ]
    }
   ],
   "source": [
    "# Аналогично, мы можем добавить новое второе измерение, \n",
    "# а существующее измерение оставить первым.\n",
    "c = a[:, np.newaxis]\n",
    "print(c)\n",
    "print(c.shape)"
   ]
  },
  {
   "cell_type": "markdown",
   "id": "e55e9da2-2da8-4c9b-b38f-a0bf7ea570a6",
   "metadata": {},
   "source": [
    "__Функция np.expand_dims()__"
   ]
  },
  {
   "cell_type": "markdown",
   "id": "a5eb3f91-0ebd-4afe-8aab-806bfe52985e",
   "metadata": {},
   "source": [
    "Функция np.expand_dims() добавляет измерение, указанное в параметре axis. Возьмем двумерный массив."
   ]
  },
  {
   "cell_type": "code",
   "execution_count": 98,
   "id": "47b8c632-ac72-4d8f-af12-e3b6b7378feb",
   "metadata": {},
   "outputs": [
    {
     "data": {
      "text/plain": [
       "array([[1, 2],\n",
       "       [3, 4]])"
      ]
     },
     "execution_count": 98,
     "metadata": {},
     "output_type": "execute_result"
    }
   ],
   "source": [
    "a = np.array([[1, 2], [3, 4]])\n",
    "a"
   ]
  },
  {
   "cell_type": "code",
   "execution_count": 99,
   "id": "3d5c0085-886c-40d3-b103-d38f5b414a2a",
   "metadata": {},
   "outputs": [
    {
     "data": {
      "text/plain": [
       "array([[[1, 2],\n",
       "        [3, 4]]])"
      ]
     },
     "execution_count": 99,
     "metadata": {},
     "output_type": "execute_result"
    }
   ],
   "source": [
    "# добавим внешнее измерение\n",
    "np.expand_dims(a, axis = 0)"
   ]
  },
  {
   "cell_type": "code",
   "execution_count": 100,
   "id": "3b364834-3677-4180-90c2-c7513776973f",
   "metadata": {},
   "outputs": [
    {
     "data": {
      "text/plain": [
       "array([[[1, 2]],\n",
       "\n",
       "       [[3, 4]]])"
      ]
     },
     "execution_count": 100,
     "metadata": {},
     "output_type": "execute_result"
    }
   ],
   "source": [
    "# теперь добавим измерение \"по середине\" \n",
    "np.expand_dims(a, axis = 1)"
   ]
  },
  {
   "cell_type": "code",
   "execution_count": 101,
   "id": "56c408cf-6119-46fb-be1f-130538595129",
   "metadata": {},
   "outputs": [
    {
     "data": {
      "text/plain": [
       "array([[[1],\n",
       "        [2]],\n",
       "\n",
       "       [[3],\n",
       "        [4]]])"
      ]
     },
     "execution_count": 101,
     "metadata": {},
     "output_type": "execute_result"
    }
   ],
   "source": [
    "# добавим внутреннее измерение\n",
    "np.expand_dims(a, axis = 2)"
   ]
  },
  {
   "cell_type": "markdown",
   "id": "924b2fff-af45-4f9e-892d-e22e1a711d0a",
   "metadata": {},
   "source": [
    "__Функция np.squeeze()__"
   ]
  },
  {
   "cell_type": "code",
   "execution_count": null,
   "id": "e8e51b0d-54cd-4994-badb-773313f3b69a",
   "metadata": {},
   "outputs": [],
   "source": []
  },
  {
   "cell_type": "code",
   "execution_count": 102,
   "id": "5f1705c0-b55c-4096-b7a4-23fa02f965b5",
   "metadata": {},
   "outputs": [
    {
     "data": {
      "text/plain": [
       "array([[[[0],\n",
       "         [1],\n",
       "         [2]],\n",
       "\n",
       "        [[3],\n",
       "         [4],\n",
       "         [5]],\n",
       "\n",
       "        [[6],\n",
       "         [7],\n",
       "         [8]]]])"
      ]
     },
     "execution_count": 102,
     "metadata": {},
     "output_type": "execute_result"
    }
   ],
   "source": [
    "# возьмем массив 4В, в котором первое и последнее измерения содержат \n",
    "# по одному элементу\n",
    "arr_4D = np.arange(9).reshape(1, 3, 3, 1)\n",
    "arr_4D"
   ]
  },
  {
   "cell_type": "code",
   "execution_count": 103,
   "id": "22947e82-07c7-4255-9fc0-2cfcbc05471f",
   "metadata": {},
   "outputs": [
    {
     "data": {
      "text/plain": [
       "array([[0, 1, 2],\n",
       "       [3, 4, 5],\n",
       "       [6, 7, 8]])"
      ]
     },
     "execution_count": 103,
     "metadata": {},
     "output_type": "execute_result"
    }
   ],
   "source": [
    "# удалим эти измерения с помощью функции np.squeeze() \n",
    "np.squeeze(arr_4D)"
   ]
  },
  {
   "cell_type": "code",
   "execution_count": 104,
   "id": "ca51543b-9573-4cb9-a1cf-826c1338ed66",
   "metadata": {},
   "outputs": [
    {
     "data": {
      "text/plain": [
       "(3, 3)"
      ]
     },
     "execution_count": 104,
     "metadata": {},
     "output_type": "execute_result"
    }
   ],
   "source": [
    "# новый массив имеет только 2 измерения\n",
    "np.squeeze(arr_4D).shape"
   ]
  },
  {
   "cell_type": "markdown",
   "id": "39d41ef3-3b4b-4ce8-840a-ea203ddb5b8e",
   "metadata": {},
   "source": [
    "### __Объдинение массивов__"
   ]
  },
  {
   "cell_type": "markdown",
   "id": "781b19f7-ab14-45c8-9a60-820ff7a325d3",
   "metadata": {},
   "source": [
    "__Функция np.concatenate()__ "
   ]
  },
  {
   "cell_type": "code",
   "execution_count": 105,
   "id": "dc558e38-7532-4c45-9087-906675ee2a22",
   "metadata": {},
   "outputs": [
    {
     "data": {
      "text/plain": [
       "array([[0, 1],\n",
       "       [2, 3]])"
      ]
     },
     "execution_count": 105,
     "metadata": {},
     "output_type": "execute_result"
    }
   ],
   "source": [
    "a = np.arange(4).reshape(2, 2)\n",
    "a"
   ]
  },
  {
   "cell_type": "code",
   "execution_count": 106,
   "id": "a3ec08ba-14c4-438f-926f-fd701945d8b3",
   "metadata": {},
   "outputs": [
    {
     "data": {
      "text/plain": [
       "array([[4, 5],\n",
       "       [6, 7]])"
      ]
     },
     "execution_count": 106,
     "metadata": {},
     "output_type": "execute_result"
    }
   ],
   "source": [
    "b = np.arange(4, 8).reshape(2, 2)\n",
    "b "
   ]
  },
  {
   "cell_type": "code",
   "execution_count": 107,
   "id": "ace8861b-3d7b-40c2-8059-21e724634eba",
   "metadata": {},
   "outputs": [
    {
     "data": {
      "text/plain": [
       "array([[0, 1],\n",
       "       [2, 3],\n",
       "       [4, 5],\n",
       "       [6, 7]])"
      ]
     },
     "execution_count": 107,
     "metadata": {},
     "output_type": "execute_result"
    }
   ],
   "source": [
    "# объединим массивы вдоль оси 0 без добавления нового измерения\n",
    "np.concatenate((a, b), axis = 0)"
   ]
  },
  {
   "cell_type": "code",
   "execution_count": 108,
   "id": "4d81a23e-43f8-40da-9a97-41521b13c93b",
   "metadata": {},
   "outputs": [
    {
     "data": {
      "text/plain": [
       "array([[0, 1, 4, 5],\n",
       "       [2, 3, 6, 7]])"
      ]
     },
     "execution_count": 108,
     "metadata": {},
     "output_type": "execute_result"
    }
   ],
   "source": [
    "# объединим массивы вдоль оси 1\n",
    "np.concatenate((a, b), axis = 1)"
   ]
  },
  {
   "cell_type": "markdown",
   "id": "1c3b106e-a220-47b7-bfc8-6c622ad8d691",
   "metadata": {},
   "source": [
    "__Функция np.stack()__ "
   ]
  },
  {
   "cell_type": "markdown",
   "id": "a558c0e9-d9f3-4a58-997f-3c3904e68cbc",
   "metadata": {},
   "source": [
    "Отличие функции np.stack() от np.concatenate() в том, что при объединении массивов мы добавляем новое измерение (новую ось)."
   ]
  },
  {
   "cell_type": "code",
   "execution_count": 109,
   "id": "38281972-b21e-4765-af36-00809fd766a3",
   "metadata": {},
   "outputs": [
    {
     "data": {
      "text/plain": [
       "array([[[0, 1],\n",
       "        [2, 3]],\n",
       "\n",
       "       [[4, 5],\n",
       "        [6, 7]]])"
      ]
     },
     "execution_count": 109,
     "metadata": {},
     "output_type": "execute_result"
    }
   ],
   "source": [
    "# при axis = 0 добавляется просто новое измерение\n",
    "np.stack((a, b), axis = 0) "
   ]
  },
  {
   "cell_type": "code",
   "execution_count": 110,
   "id": "5fbad9dd-00fb-49c0-9d6a-f8d2d6128562",
   "metadata": {},
   "outputs": [
    {
     "data": {
      "text/plain": [
       "array([[[0, 1],\n",
       "        [4, 5]],\n",
       "\n",
       "       [[2, 3],\n",
       "        [6, 7]]])"
      ]
     },
     "execution_count": 110,
     "metadata": {},
     "output_type": "execute_result"
    }
   ],
   "source": [
    "# при axis = 1 объединяем первые и вторые строки двух массивов\n",
    "np.stack((a, b), axis = 1)"
   ]
  },
  {
   "cell_type": "code",
   "execution_count": 111,
   "id": "a229f467-4a06-49df-a87e-545dda558337",
   "metadata": {},
   "outputs": [
    {
     "data": {
      "text/plain": [
       "array([[[0, 4],\n",
       "        [1, 5]],\n",
       "\n",
       "       [[2, 6],\n",
       "        [3, 7]]])"
      ]
     },
     "execution_count": 111,
     "metadata": {},
     "output_type": "execute_result"
    }
   ],
   "source": [
    "# при axis = 2 объединяются элементы с одинаковыми индексами\n",
    "np.stack((a, b), axis = 2)"
   ]
  },
  {
   "cell_type": "markdown",
   "id": "d5933c5d-5894-48ed-9d1d-d52be003db7a",
   "metadata": {},
   "source": [
    "### __Фильтр (маска) массива__"
   ]
  },
  {
   "cell_type": "markdown",
   "id": "b35c7a97-e1b5-425f-baad-bda838f9c090",
   "metadata": {},
   "source": [
    "Задача фильтрации массива (или как еще говорят создания маски массива) встречается довольно часто. К примеру, предположим, что мы собрали показания прибора, однако из-за ошибки датчика часть из них оказалась некорректной, и для последующего анализа эти значения нужно удалить."
   ]
  },
  {
   "cell_type": "markdown",
   "id": "2ebb8903-a7a3-4b5c-84f5-db5a71638bbb",
   "metadata": {},
   "source": [
    "__Логическая маска (boolean mask)__"
   ]
  },
  {
   "cell_type": "code",
   "execution_count": 112,
   "id": "a3765987-939c-495b-809b-4cc7df290f0d",
   "metadata": {},
   "outputs": [],
   "source": [
    "a = np.array([5, 7, -3, 4, 2, -4])"
   ]
  },
  {
   "cell_type": "code",
   "execution_count": 113,
   "id": "9658f7c0-0681-4122-bda1-fb7126c6c407",
   "metadata": {},
   "outputs": [
    {
     "data": {
      "text/plain": [
       "array([ True,  True, False,  True,  True, False])"
      ]
     },
     "execution_count": 113,
     "metadata": {},
     "output_type": "execute_result"
    }
   ],
   "source": [
    "a > 0"
   ]
  },
  {
   "cell_type": "code",
   "execution_count": 114,
   "id": "99bf04a4-0620-4ed1-b02c-04eda3eef922",
   "metadata": {},
   "outputs": [
    {
     "data": {
      "text/plain": [
       "array([5, 7, 4, 2])"
      ]
     },
     "execution_count": 114,
     "metadata": {},
     "output_type": "execute_result"
    }
   ],
   "source": [
    "# применим маску\n",
    "a[a > 0]"
   ]
  },
  {
   "cell_type": "code",
   "execution_count": 115,
   "id": "e91601ef-9610-4149-b240-5f013b3c9c5f",
   "metadata": {},
   "outputs": [
    {
     "data": {
      "text/plain": [
       "array([5, 7, 0, 4, 2, 0])"
      ]
     },
     "execution_count": 115,
     "metadata": {},
     "output_type": "execute_result"
    }
   ],
   "source": [
    "# отфильтрованные значениия можно заполнить например нулями\n",
    "a[a < 0] = 0\n",
    "a"
   ]
  }
 ],
 "metadata": {
  "kernelspec": {
   "display_name": "Python 3 (ipykernel)",
   "language": "python",
   "name": "python3"
  },
  "language_info": {
   "codemirror_mode": {
    "name": "ipython",
    "version": 3
   },
   "file_extension": ".py",
   "mimetype": "text/x-python",
   "name": "python",
   "nbconvert_exporter": "python",
   "pygments_lexer": "ipython3",
   "version": "3.11.7"
  }
 },
 "nbformat": 4,
 "nbformat_minor": 5
}
