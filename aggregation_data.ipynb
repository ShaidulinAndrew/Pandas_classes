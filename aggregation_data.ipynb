{
 "cells": [
  {
   "cell_type": "code",
   "execution_count": 1,
   "id": "fa25c66e",
   "metadata": {},
   "outputs": [],
   "source": [
    "# импортируем библиотеки numpy и pandas\n",
    "import numpy as np\n",
    "import pandas as pd\n",
    "\n",
    "# импортируем библиотеку datatime для работы с датами\n",
    "import datetime\n",
    "from datetime import datetime, date\n",
    "\n",
    "# задаем некоторые опции библиотеки pandas, которые настраивают вывод\n",
    "pd.set_option('display.notebook_repr_html', False)     # задаем вывод в виде текста, а не HTML\n",
    "pd.set_option('display.max_columns', 8)                # устанавливаем отображение максимального количества стобцов\n",
    "pd.set_option('display.max_rows', 10)                  # устанавливаем отображение максимального количества строк\n",
    "pd.set_option('display.width', 80)                     # устанавливаеv максимальную ширину отображения в символах\n",
    "\n",
    "# импортируем библиотеку matplotlib для построения графиков\n",
    "import matplotlib.pyplot as plt \n",
    "%matplotlib inline"
   ]
  },
  {
   "cell_type": "markdown",
   "id": "07c84344",
   "metadata": {},
   "source": [
    "__РАЗДЕЛЕНИЕ ДАННЫХ__"
   ]
  },
  {
   "cell_type": "markdown",
   "id": "e23051b0",
   "metadata": {},
   "source": [
    "__Группировка по значениям отдельного столбца__"
   ]
  },
  {
   "cell_type": "code",
   "execution_count": 3,
   "id": "cb860a6d",
   "metadata": {},
   "outputs": [
    {
     "data": {
      "text/plain": [
       "   interval sensor axis  reading\n",
       "0         0  accel    Z      0.0\n",
       "1         0  accel    Y      0.5\n",
       "2         0  accel    X      1.0\n",
       "3         1  accel    Z      0.1\n",
       "4         1  accel    Y      0.4"
      ]
     },
     "execution_count": 3,
     "metadata": {},
     "output_type": "execute_result"
    }
   ],
   "source": [
    "# считываем данные\n",
    "sensor_data = pd.read_csv('./sensors.csv')\n",
    "sensor_data.head(5)"
   ]
  },
  {
   "cell_type": "code",
   "execution_count": 4,
   "id": "bf88ca14",
   "metadata": {},
   "outputs": [
    {
     "data": {
      "text/plain": [
       "<pandas.core.groupby.generic.DataFrameGroupBy object at 0x00000228E8E12EF0>"
      ]
     },
     "execution_count": 4,
     "metadata": {},
     "output_type": "execute_result"
    }
   ],
   "source": [
    "# данные датчиков состоят из трех категориальных переменных (sensor, interval, axis) и одной количественной переменной (reading)\n",
    "# Их можно сгруппировать с помощью любой категориальной переменной, передав имя переменной в метод .groupby ()\n",
    "# группируем по столбцу Sensor\n",
    "grouped_by_sensor = sensor_data.groupby('sensor')\n",
    "grouped_by_sensor"
   ]
  },
  {
   "cell_type": "code",
   "execution_count": 6,
   "id": "39afb08b",
   "metadata": {},
   "outputs": [
    {
     "data": {
      "text/plain": [
       "2"
      ]
     },
     "execution_count": 6,
     "metadata": {},
     "output_type": "execute_result"
    }
   ],
   "source": [
    "# это промежуточный объект представляющий собой промежточное описание группировки которую мы создадим. Это необходимо для\n",
    "# проверки перед запуском затротного вычислительного процесса\n",
    "\n",
    "# получаем информацию о количестве групп которые будут созданы\n",
    "grouped_by_sensor.ngroups"
   ]
  },
  {
   "cell_type": "code",
   "execution_count": 8,
   "id": "6c8eae8a",
   "metadata": {},
   "outputs": [
    {
     "data": {
      "text/plain": [
       "{'accel': [0, 1, 2, 3, 4, 5, 6, 7, 8, 9, 10, 11], 'orientation': [12, 13, 14, 15, 16, 17, 18, 19, 20, 21, 22, 23]}"
      ]
     },
     "execution_count": 8,
     "metadata": {},
     "output_type": "execute_result"
    }
   ],
   "source": [
    "# свойство .groups вернет питоновский словяр, ключи которого будут представлять имена каждой группы (если будет указано\n",
    "# несколько столбцов, это будет кортеж)\n",
    "grouped_by_sensor.groups"
   ]
  },
  {
   "cell_type": "markdown",
   "id": "573b300c",
   "metadata": {},
   "source": [
    "__Просмотр результатов группировки__"
   ]
  },
  {
   "cell_type": "code",
   "execution_count": 9,
   "id": "4baaeea6",
   "metadata": {},
   "outputs": [],
   "source": [
    "# вспомогательная функция, печатающая содержимое групп\n",
    "def print_groups (group_object):\n",
    "    # итерируем по всем группам, печатая название группы и первые пять наблюдений в ней\n",
    "    for name, group in group_object:\n",
    "        print(name)\n",
    "        print(group[:5])"
   ]
  },
  {
   "cell_type": "code",
   "execution_count": 10,
   "id": "6c37e488",
   "metadata": {},
   "outputs": [
    {
     "name": "stdout",
     "output_type": "stream",
     "text": [
      "accel\n",
      "   interval sensor axis  reading\n",
      "0         0  accel    Z      0.0\n",
      "1         0  accel    Y      0.5\n",
      "2         0  accel    X      1.0\n",
      "3         1  accel    Z      0.1\n",
      "4         1  accel    Y      0.4\n",
      "orientation\n",
      "    interval       sensor axis  reading\n",
      "12         0  orientation    Z      0.0\n",
      "13         0  orientation    Y      0.1\n",
      "14         0  orientation    X      0.0\n",
      "15         1  orientation    Z      0.0\n",
      "16         1  orientation    Y      0.2\n"
     ]
    }
   ],
   "source": [
    "# смотрим содержимое созданных групп\n",
    "print_groups(grouped_by_sensor)"
   ]
  },
  {
   "cell_type": "code",
   "execution_count": 11,
   "id": "a4a3242c",
   "metadata": {},
   "outputs": [
    {
     "data": {
      "text/plain": [
       "sensor\n",
       "accel          12\n",
       "orientation    12\n",
       "dtype: int64"
      ]
     },
     "execution_count": 11,
     "metadata": {},
     "output_type": "execute_result"
    }
   ],
   "source": [
    "# метод .size() возвращает сводку о размере каждой группы\n",
    "grouped_by_sensor.size()"
   ]
  },
  {
   "cell_type": "code",
   "execution_count": 12,
   "id": "26b17e3a",
   "metadata": {},
   "outputs": [
    {
     "data": {
      "text/plain": [
       "             interval  axis  reading\n",
       "sensor                              \n",
       "accel              12    12       12\n",
       "orientation        12    12       12"
      ]
     },
     "execution_count": 12,
     "metadata": {},
     "output_type": "execute_result"
    }
   ],
   "source": [
    "# метод .count() возвращает количество элементов в каждом столбце каждой группы\n",
    "grouped_by_sensor.count()"
   ]
  },
  {
   "cell_type": "code",
   "execution_count": 15,
   "id": "bf0df9e6",
   "metadata": {},
   "outputs": [
    {
     "data": {
      "text/plain": [
       "   interval sensor axis  reading\n",
       "0         0  accel    Z      0.0\n",
       "1         0  accel    Y      0.5\n",
       "2         0  accel    X      1.0\n",
       "3         1  accel    Z      0.1\n",
       "4         1  accel    Y      0.4"
      ]
     },
     "execution_count": 15,
     "metadata": {},
     "output_type": "execute_result"
    }
   ],
   "source": [
    "# с помощью метода .get_group() можно извлечь любую конкретную группу\n",
    "grouped_by_sensor.get_group('accel').head(5)"
   ]
  },
  {
   "cell_type": "code",
   "execution_count": 17,
   "id": "36d8150d",
   "metadata": {},
   "outputs": [
    {
     "data": {
      "text/plain": [
       "    interval       sensor axis  reading\n",
       "1          0        accel    Y      0.5\n",
       "13         0  orientation    Y      0.1"
      ]
     },
     "execution_count": 17,
     "metadata": {},
     "output_type": "execute_result"
    }
   ],
   "source": [
    "# метод .nth() возвращает n-ю строку в каждой группе\n",
    "grouped_by_sensor.nth(1)"
   ]
  },
  {
   "cell_type": "code",
   "execution_count": 20,
   "id": "d6ba0ccf",
   "metadata": {},
   "outputs": [
    {
     "data": {
      "text/plain": [
       "            interval                      ... reading                  \n",
       "               count mean       std  min  ...     25%   50%    75%  max\n",
       "sensor                                    ...                          \n",
       "accel           12.0  1.5  1.167748  0.0  ...     0.2  0.35  0.725  1.0\n",
       "orientation     12.0  1.5  1.167748  0.0  ...     0.0  0.10  0.225  0.4\n",
       "\n",
       "[2 rows x 16 columns]"
      ]
     },
     "execution_count": 20,
     "metadata": {},
     "output_type": "execute_result"
    }
   ],
   "source": [
    "# для вывода описательных статистик используем метод .describe()\n",
    "grouped_by_sensor.describe()\n",
    "                           "
   ]
  },
  {
   "cell_type": "markdown",
   "id": "ffad564e",
   "metadata": {},
   "source": [
    "__Группировка по нескольким столбцам__"
   ]
  }
 ],
 "metadata": {
  "kernelspec": {
   "display_name": "Python 3 (ipykernel)",
   "language": "python",
   "name": "python3"
  },
  "language_info": {
   "codemirror_mode": {
    "name": "ipython",
    "version": 3
   },
   "file_extension": ".py",
   "mimetype": "text/x-python",
   "name": "python",
   "nbconvert_exporter": "python",
   "pygments_lexer": "ipython3",
   "version": "3.10.13"
  }
 },
 "nbformat": 4,
 "nbformat_minor": 5
}
