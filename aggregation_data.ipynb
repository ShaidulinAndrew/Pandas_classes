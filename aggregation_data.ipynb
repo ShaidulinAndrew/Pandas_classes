{
 "cells": [
  {
   "cell_type": "code",
   "execution_count": 1,
   "id": "fa25c66e",
   "metadata": {},
   "outputs": [],
   "source": [
    "# импортируем библиотеки numpy и pandas\n",
    "import numpy as np\n",
    "import pandas as pd\n",
    "\n",
    "# импортируем библиотеку datatime для работы с датами\n",
    "import datetime\n",
    "from datetime import datetime, date\n",
    "\n",
    "# задаем некоторые опции библиотеки pandas, которые настраивают вывод\n",
    "pd.set_option('display.notebook_repr_html', False)     # задаем вывод в виде текста, а не HTML\n",
    "pd.set_option('display.max_columns', 8)                # устанавливаем отображение максимального количества стобцов\n",
    "pd.set_option('display.max_rows', 10)                  # устанавливаем отображение максимального количества строк\n",
    "pd.set_option('display.width', 80)                     # устанавливаеv максимальную ширину отображения в символах\n",
    "\n",
    "# импортируем библиотеку matplotlib для построения графиков\n",
    "import matplotlib.pyplot as plt \n",
    "%matplotlib inline"
   ]
  },
  {
   "cell_type": "markdown",
   "id": "07c84344",
   "metadata": {},
   "source": [
    "__РАЗДЕЛЕНИЕ ДАННЫХ__"
   ]
  },
  {
   "cell_type": "markdown",
   "id": "e23051b0",
   "metadata": {},
   "source": [
    "__Группировка по значениям отдельного столбца__"
   ]
  },
  {
   "cell_type": "code",
   "execution_count": 2,
   "id": "cb860a6d",
   "metadata": {},
   "outputs": [
    {
     "data": {
      "text/plain": [
       "   interval sensor axis  reading\n",
       "0         0  accel    Z      0.0\n",
       "1         0  accel    Y      0.5\n",
       "2         0  accel    X      1.0\n",
       "3         1  accel    Z      0.1\n",
       "4         1  accel    Y      0.4"
      ]
     },
     "execution_count": 2,
     "metadata": {},
     "output_type": "execute_result"
    }
   ],
   "source": [
    "# считываем данные\n",
    "sensor_data = pd.read_csv('./sensors.csv')\n",
    "sensor_data.head(5)"
   ]
  },
  {
   "cell_type": "code",
   "execution_count": 3,
   "id": "bf88ca14",
   "metadata": {},
   "outputs": [
    {
     "data": {
      "text/plain": [
       "<pandas.core.groupby.generic.DataFrameGroupBy object at 0x0000024957DCE650>"
      ]
     },
     "execution_count": 3,
     "metadata": {},
     "output_type": "execute_result"
    }
   ],
   "source": [
    "# данные датчиков состоят из трех категориальных переменных (sensor, interval, axis) и одной количественной переменной (reading)\n",
    "# Их можно сгруппировать с помощью любой категориальной переменной, передав имя переменной в метод .groupby ()\n",
    "# группируем по столбцу Sensor\n",
    "grouped_by_sensor = sensor_data.groupby('sensor')\n",
    "grouped_by_sensor"
   ]
  },
  {
   "cell_type": "code",
   "execution_count": 4,
   "id": "39afb08b",
   "metadata": {},
   "outputs": [
    {
     "data": {
      "text/plain": [
       "2"
      ]
     },
     "execution_count": 4,
     "metadata": {},
     "output_type": "execute_result"
    }
   ],
   "source": [
    "# это промежуточный объект представляющий собой промежточное описание группировки которую мы создадим. Это необходимо для\n",
    "# проверки перед запуском затротного вычислительного процесса\n",
    "\n",
    "# получаем информацию о количестве групп которые будут созданы\n",
    "grouped_by_sensor.ngroups"
   ]
  },
  {
   "cell_type": "code",
   "execution_count": 5,
   "id": "6c8eae8a",
   "metadata": {},
   "outputs": [
    {
     "data": {
      "text/plain": [
       "{'accel': [0, 1, 2, 3, 4, 5, 6, 7, 8, 9, 10, 11], 'orientation': [12, 13, 14, 15, 16, 17, 18, 19, 20, 21, 22, 23]}"
      ]
     },
     "execution_count": 5,
     "metadata": {},
     "output_type": "execute_result"
    }
   ],
   "source": [
    "# свойство .groups вернет питоновский словяр, ключи которого будут представлять имена каждой группы (если будет указано\n",
    "# несколько столбцов, это будет кортеж)\n",
    "grouped_by_sensor.groups"
   ]
  },
  {
   "cell_type": "markdown",
   "id": "573b300c",
   "metadata": {},
   "source": [
    "__Просмотр результатов группировки__"
   ]
  },
  {
   "cell_type": "code",
   "execution_count": 6,
   "id": "4baaeea6",
   "metadata": {},
   "outputs": [],
   "source": [
    "# вспомогательная функция, печатающая содержимое групп\n",
    "def print_groups (group_object):\n",
    "    # итерируем по всем группам, печатая название группы и первые пять наблюдений в ней\n",
    "    for name, group in group_object:\n",
    "        print(name)\n",
    "        print(group[:5])"
   ]
  },
  {
   "cell_type": "code",
   "execution_count": 7,
   "id": "6c37e488",
   "metadata": {},
   "outputs": [
    {
     "name": "stdout",
     "output_type": "stream",
     "text": [
      "accel\n",
      "   interval sensor axis  reading\n",
      "0         0  accel    Z      0.0\n",
      "1         0  accel    Y      0.5\n",
      "2         0  accel    X      1.0\n",
      "3         1  accel    Z      0.1\n",
      "4         1  accel    Y      0.4\n",
      "orientation\n",
      "    interval       sensor axis  reading\n",
      "12         0  orientation    Z      0.0\n",
      "13         0  orientation    Y      0.1\n",
      "14         0  orientation    X      0.0\n",
      "15         1  orientation    Z      0.0\n",
      "16         1  orientation    Y      0.2\n"
     ]
    }
   ],
   "source": [
    "# смотрим содержимое созданных групп\n",
    "print_groups(grouped_by_sensor)"
   ]
  },
  {
   "cell_type": "code",
   "execution_count": 8,
   "id": "a4a3242c",
   "metadata": {},
   "outputs": [
    {
     "data": {
      "text/plain": [
       "sensor\n",
       "accel          12\n",
       "orientation    12\n",
       "dtype: int64"
      ]
     },
     "execution_count": 8,
     "metadata": {},
     "output_type": "execute_result"
    }
   ],
   "source": [
    "# метод .size() возвращает сводку о размере каждой группы\n",
    "grouped_by_sensor.size()"
   ]
  },
  {
   "cell_type": "code",
   "execution_count": 9,
   "id": "26b17e3a",
   "metadata": {},
   "outputs": [
    {
     "data": {
      "text/plain": [
       "             interval  axis  reading\n",
       "sensor                              \n",
       "accel              12    12       12\n",
       "orientation        12    12       12"
      ]
     },
     "execution_count": 9,
     "metadata": {},
     "output_type": "execute_result"
    }
   ],
   "source": [
    "# метод .count() возвращает количество элементов в каждом столбце каждой группы\n",
    "grouped_by_sensor.count()"
   ]
  },
  {
   "cell_type": "code",
   "execution_count": 40,
   "id": "bf0df9e6",
   "metadata": {},
   "outputs": [
    {
     "data": {
      "text/plain": [
       "   interval sensor axis  reading\n",
       "0         0  accel    Z      0.0\n",
       "1         0  accel    Y      0.5\n",
       "2         0  accel    X      1.0"
      ]
     },
     "execution_count": 40,
     "metadata": {},
     "output_type": "execute_result"
    }
   ],
   "source": [
    "# с помощью метода .get_group() можно извлечь любую конкретную группу\n",
    "grouped_by_sensor.get_group('accel').head(3)"
   ]
  },
  {
   "cell_type": "code",
   "execution_count": 11,
   "id": "36d8150d",
   "metadata": {},
   "outputs": [
    {
     "data": {
      "text/plain": [
       "    interval       sensor axis  reading\n",
       "1          0        accel    Y      0.5\n",
       "13         0  orientation    Y      0.1"
      ]
     },
     "execution_count": 11,
     "metadata": {},
     "output_type": "execute_result"
    }
   ],
   "source": [
    "# метод .nth() возвращает n-ю строку в каждой группе\n",
    "grouped_by_sensor.nth(1)"
   ]
  },
  {
   "cell_type": "code",
   "execution_count": 12,
   "id": "d6ba0ccf",
   "metadata": {},
   "outputs": [
    {
     "data": {
      "text/plain": [
       "            interval                      ... reading                  \n",
       "               count mean       std  min  ...     25%   50%    75%  max\n",
       "sensor                                    ...                          \n",
       "accel           12.0  1.5  1.167748  0.0  ...     0.2  0.35  0.725  1.0\n",
       "orientation     12.0  1.5  1.167748  0.0  ...     0.0  0.10  0.225  0.4\n",
       "\n",
       "[2 rows x 16 columns]"
      ]
     },
     "execution_count": 12,
     "metadata": {},
     "output_type": "execute_result"
    }
   ],
   "source": [
    "# для вывода описательных статистик используем метод .describe()\n",
    "grouped_by_sensor.describe()\n",
    "                           "
   ]
  },
  {
   "cell_type": "markdown",
   "id": "ffad564e",
   "metadata": {},
   "source": [
    "__Группировка по нескольким столбцам__"
   ]
  },
  {
   "cell_type": "code",
   "execution_count": 13,
   "id": "082a943f",
   "metadata": {},
   "outputs": [
    {
     "name": "stdout",
     "output_type": "stream",
     "text": [
      "('accel', 'X')\n",
      "    interval sensor axis  reading\n",
      "2          0  accel    X      1.0\n",
      "5          1  accel    X      0.9\n",
      "8          2  accel    X      0.8\n",
      "11         3  accel    X      0.7\n",
      "('accel', 'Y')\n",
      "    interval sensor axis  reading\n",
      "1          0  accel    Y      0.5\n",
      "4          1  accel    Y      0.4\n",
      "7          2  accel    Y      0.3\n",
      "10         3  accel    Y      0.2\n",
      "('accel', 'Z')\n",
      "   interval sensor axis  reading\n",
      "0         0  accel    Z      0.0\n",
      "3         1  accel    Z      0.1\n",
      "6         2  accel    Z      0.2\n",
      "9         3  accel    Z      0.3\n",
      "('orientation', 'X')\n",
      "    interval       sensor axis  reading\n",
      "14         0  orientation    X      0.0\n",
      "17         1  orientation    X      0.1\n",
      "20         2  orientation    X      0.2\n",
      "23         3  orientation    X      0.3\n",
      "('orientation', 'Y')\n",
      "    interval       sensor axis  reading\n",
      "13         0  orientation    Y      0.1\n",
      "16         1  orientation    Y      0.2\n",
      "19         2  orientation    Y      0.3\n",
      "22         3  orientation    Y      0.4\n",
      "('orientation', 'Z')\n",
      "    interval       sensor axis  reading\n",
      "12         0  orientation    Z      0.0\n",
      "15         1  orientation    Z      0.0\n",
      "18         2  orientation    Z      0.0\n",
      "21         3  orientation    Z      0.0\n"
     ]
    }
   ],
   "source": [
    "# группировку можно выполнить и по нескольким столбцам\n",
    "# группируем по значениям sensor и axis\n",
    "mcg = sensor_data.groupby(['sensor', 'axis'])\n",
    "print_groups(mcg)\n",
    "\n",
    "# поскольку было указано несколько столбцов, название каждой группы теперь является кортежем, представляющим уникальную\n",
    "# комбинацию значений столбцов senssor и axis"
   ]
  },
  {
   "cell_type": "markdown",
   "id": "131bc15c",
   "metadata": {},
   "source": [
    "__Группировка по уровням индекса__"
   ]
  },
  {
   "cell_type": "code",
   "execution_count": 14,
   "id": "38031e6a",
   "metadata": {},
   "outputs": [
    {
     "data": {
      "text/plain": [
       "                  interval  reading\n",
       "sensor      axis                   \n",
       "accel       Z            0      0.0\n",
       "            Y            0      0.5\n",
       "            X            0      1.0\n",
       "            Z            1      0.1\n",
       "            Y            1      0.4\n",
       "...                    ...      ...\n",
       "orientation Y            2      0.3\n",
       "            X            2      0.2\n",
       "            Z            3      0.0\n",
       "            Y            3      0.4\n",
       "            X            3      0.3\n",
       "\n",
       "[24 rows x 2 columns]"
      ]
     },
     "execution_count": 14,
     "metadata": {},
     "output_type": "execute_result"
    }
   ],
   "source": [
    "# создаем копию данных и заново индексируем ее\n",
    "mi = sensor_data.copy()\n",
    "mi = mi.set_index(['sensor', 'axis'])\n",
    "mi"
   ]
  },
  {
   "cell_type": "code",
   "execution_count": 15,
   "id": "610b72d8",
   "metadata": {},
   "outputs": [
    {
     "name": "stdout",
     "output_type": "stream",
     "text": [
      "accel\n",
      "             interval  reading\n",
      "sensor axis                   \n",
      "accel  Z            0      0.0\n",
      "       Y            0      0.5\n",
      "       X            0      1.0\n",
      "       Z            1      0.1\n",
      "       Y            1      0.4\n",
      "orientation\n",
      "                  interval  reading\n",
      "sensor      axis                   \n",
      "orientation Z            0      0.0\n",
      "            Y            0      0.1\n",
      "            X            0      0.0\n",
      "            Z            1      0.0\n",
      "            Y            1      0.2\n"
     ]
    }
   ],
   "source": [
    "# группируем по первому уровню индекса\n",
    "print_groups(mi.groupby(level=0))"
   ]
  },
  {
   "cell_type": "code",
   "execution_count": 16,
   "id": "aecd5f27",
   "metadata": {},
   "outputs": [
    {
     "name": "stdout",
     "output_type": "stream",
     "text": [
      "('accel', 'X')\n",
      "             interval  reading\n",
      "sensor axis                   \n",
      "accel  X            0      1.0\n",
      "       X            1      0.9\n",
      "       X            2      0.8\n",
      "       X            3      0.7\n",
      "('accel', 'Y')\n",
      "             interval  reading\n",
      "sensor axis                   \n",
      "accel  Y            0      0.5\n",
      "       Y            1      0.4\n",
      "       Y            2      0.3\n",
      "       Y            3      0.2\n",
      "('accel', 'Z')\n",
      "             interval  reading\n",
      "sensor axis                   \n",
      "accel  Z            0      0.0\n",
      "       Z            1      0.1\n",
      "       Z            2      0.2\n",
      "       Z            3      0.3\n",
      "('orientation', 'X')\n",
      "                  interval  reading\n",
      "sensor      axis                   \n",
      "orientation X            0      0.0\n",
      "            X            1      0.1\n",
      "            X            2      0.2\n",
      "            X            3      0.3\n",
      "('orientation', 'Y')\n",
      "                  interval  reading\n",
      "sensor      axis                   \n",
      "orientation Y            0      0.1\n",
      "            Y            1      0.2\n",
      "            Y            2      0.3\n",
      "            Y            3      0.4\n",
      "('orientation', 'Z')\n",
      "                  interval  reading\n",
      "sensor      axis                   \n",
      "orientation Z            0      0.0\n",
      "            Z            1      0.0\n",
      "            Z            2      0.0\n",
      "            Z            3      0.0\n"
     ]
    }
   ],
   "source": [
    "# группируем по нескольким уровням индекса\n",
    "print_groups(mi.groupby(level = ['sensor', 'axis']))"
   ]
  },
  {
   "cell_type": "markdown",
   "id": "fbc40219",
   "metadata": {},
   "source": [
    "__ПРИМЕНЕНИЕ АГРЕГИРУЮЩИХ ФУНКЦИЙ, ПРЕОБРАЗОВАНИЙ И ФИЛЬТРОВ__"
   ]
  },
  {
   "cell_type": "markdown",
   "id": "d215b76f",
   "metadata": {},
   "source": [
    "__Применение агрегирующих функций к группам__"
   ]
  },
  {
   "cell_type": "code",
   "execution_count": 17,
   "id": "45026cc4",
   "metadata": {},
   "outputs": [
    {
     "data": {
      "text/plain": [
       "                  interval  reading\n",
       "sensor      axis                   \n",
       "accel       X          1.5     0.85\n",
       "            Y          1.5     0.35\n",
       "            Z          1.5     0.15\n",
       "orientation X          1.5     0.15\n",
       "            Y          1.5     0.25\n",
       "            Z          1.5     0.00"
      ]
     },
     "execution_count": 17,
     "metadata": {},
     "output_type": "execute_result"
    }
   ],
   "source": [
    "# Агрегирующие функции можно применить к каждой группе с помощью метода .aggregate() | .agg()\n",
    "# Вычисляем среднее для каждого сенсора / оси\n",
    "sensor_axis_grouping = mi.groupby(level = ['sensor', 'axis'])\n",
    "sensor_axis_grouping.agg(np.mean)"
   ]
  },
  {
   "cell_type": "code",
   "execution_count": 18,
   "id": "b14f14eb",
   "metadata": {},
   "outputs": [
    {
     "data": {
      "text/plain": [
       "        sensor axis  interval  reading\n",
       "0        accel    X       1.5     0.85\n",
       "1        accel    Y       1.5     0.35\n",
       "2        accel    Z       1.5     0.15\n",
       "3  orientation    X       1.5     0.15\n",
       "4  orientation    Y       1.5     0.25\n",
       "5  orientation    Z       1.5     0.00"
      ]
     },
     "execution_count": 18,
     "metadata": {},
     "output_type": "execute_result"
    }
   ],
   "source": [
    "# вместо индекса, совпадающего с индексом исходного объекта, создаем числовой индекс и переносим уровни исходного \n",
    "# индекса в столбц\n",
    "sensor_data.groupby(['sensor', 'axis'], as_index = False).agg(np.mean)"
   ]
  },
  {
   "cell_type": "code",
   "execution_count": 19,
   "id": "d8f65c0a",
   "metadata": {},
   "outputs": [
    {
     "data": {
      "text/plain": [
       "                  interval  reading\n",
       "sensor      axis                   \n",
       "accel       X          1.5     0.85\n",
       "            Y          1.5     0.35\n",
       "            Z          1.5     0.15\n",
       "orientation X          1.5     0.15\n",
       "            Y          1.5     0.25\n",
       "            Z          1.5     0.00"
      ]
     },
     "execution_count": 19,
     "metadata": {},
     "output_type": "execute_result"
    }
   ],
   "source": [
    "# можно просто применить агрегирующую функцию к группе\n",
    "sensor_axis_grouping.mean()"
   ]
  },
  {
   "cell_type": "code",
   "execution_count": 20,
   "id": "daea1f8a",
   "metadata": {},
   "outputs": [
    {
     "data": {
      "text/plain": [
       "                 interval           reading          \n",
       "                      sum       std     sum       std\n",
       "sensor      axis                                     \n",
       "accel       X           6  1.290994     3.4  0.129099\n",
       "            Y           6  1.290994     1.4  0.129099\n",
       "            Z           6  1.290994     0.6  0.129099\n",
       "orientation X           6  1.290994     0.6  0.129099\n",
       "            Y           6  1.290994     1.0  0.129099\n",
       "            Z           6  1.290994     0.0  0.000000"
      ]
     },
     "execution_count": 20,
     "metadata": {},
     "output_type": "execute_result"
    }
   ],
   "source": [
    "# применяем сразу несколько агрегирующих функций\n",
    "sensor_axis_grouping.agg([np.sum, np.std])"
   ]
  },
  {
   "cell_type": "code",
   "execution_count": 21,
   "id": "806f9f3b",
   "metadata": {},
   "outputs": [
    {
     "data": {
      "text/plain": [
       "                  interval  reading\n",
       "sensor      axis                   \n",
       "accel       X            4     0.85\n",
       "            Y            4     0.35\n",
       "            Z            4     0.15\n",
       "orientation X            4     0.15\n",
       "            Y            4     0.25\n",
       "            Z            4     0.00"
      ]
     },
     "execution_count": 21,
     "metadata": {},
     "output_type": "execute_result"
    }
   ],
   "source": [
    "# применяем к каждому столбцу свою функцию \n",
    "sensor_axis_grouping.agg({'interval': len,\n",
    "                          'reading': np.mean})"
   ]
  },
  {
   "cell_type": "code",
   "execution_count": 22,
   "id": "b36358e9",
   "metadata": {},
   "outputs": [
    {
     "data": {
      "text/plain": [
       "sensor       axis\n",
       "accel        X       0.85\n",
       "             Y       0.35\n",
       "             Z       0.15\n",
       "orientation  X       0.15\n",
       "             Y       0.25\n",
       "             Z       0.00\n",
       "Name: reading, dtype: float64"
      ]
     },
     "execution_count": 22,
     "metadata": {},
     "output_type": "execute_result"
    }
   ],
   "source": [
    "# вычисляем среднее только для столбца reading\n",
    "sensor_axis_grouping['reading'].mean()"
   ]
  },
  {
   "cell_type": "markdown",
   "id": "ba3e6002",
   "metadata": {},
   "source": [
    "__Преобразование групп данных__"
   ]
  },
  {
   "cell_type": "code",
   "execution_count": 23,
   "id": "91331aaf",
   "metadata": {},
   "outputs": [
    {
     "data": {
      "text/plain": [
       "  Label  Values  Values2 Other\n",
       "V     A       0        5   foo\n",
       "W     C       1        6   bar\n",
       "X     B       2        7   baz\n",
       "Y     A       3        8   fiz\n",
       "Z     C       4        9   buz"
      ]
     },
     "execution_count": 23,
     "metadata": {},
     "output_type": "execute_result"
    }
   ],
   "source": [
    "# метод .transform() применяет ту или иную функцию ко всем значениям объекта DataFrame в каждой группе\n",
    "\n",
    "# создаем объект DataFrame который будем использовать в примерах\n",
    "transform_data = pd.DataFrame({'Label': ['A', 'C', 'B', 'A', 'C'],\n",
    "                               'Values': [0, 1, 2, 3, 4],\n",
    "                               'Values2': [5, 6, 7, 8, 9],\n",
    "                               'Other': ['foo', 'bar', 'baz', 'fiz', 'buz']},\n",
    "                              index = list('VWXYZ'))\n",
    "transform_data"
   ]
  },
  {
   "cell_type": "code",
   "execution_count": 24,
   "id": "69359150",
   "metadata": {},
   "outputs": [
    {
     "name": "stdout",
     "output_type": "stream",
     "text": [
      "A\n",
      "  Label  Values  Values2 Other\n",
      "V     A       0        5   foo\n",
      "Y     A       3        8   fiz\n",
      "B\n",
      "  Label  Values  Values2 Other\n",
      "X     B       2        7   baz\n",
      "C\n",
      "  Label  Values  Values2 Other\n",
      "W     C       1        6   bar\n",
      "Z     C       4        9   buz\n"
     ]
    }
   ],
   "source": [
    "# сгруппироуем по столбцу label\n",
    "grouped_by_label = transform_data.groupby('Label')\n",
    "print_groups(grouped_by_label)"
   ]
  },
  {
   "cell_type": "markdown",
   "id": "65895bc1",
   "metadata": {},
   "source": [
    "__Заполнение пропущенных значений групповым средним__"
   ]
  },
  {
   "cell_type": "code",
   "execution_count": 25,
   "id": "2ffe82c4",
   "metadata": {},
   "outputs": [
    {
     "name": "stdout",
     "output_type": "stream",
     "text": [
      "A\n",
      "  Label  Values\n",
      "0     A    10.0\n",
      "2     A    11.0\n",
      "4     A    12.0\n",
      "B\n",
      "  Label  Values\n",
      "1     B    20.0\n",
      "3     B     NaN\n",
      "5     B    22.0\n"
     ]
    }
   ],
   "source": [
    "# создаем данные чтобы продемонстрировать способ замены пропусков\n",
    "df = pd.DataFrame({'Label': list('ABABAB'),\n",
    "                   'Values': [10, 20, 11, np.nan, 12, 22]})\n",
    "grouped = df.groupby('Label')\n",
    "print_groups(grouped)"
   ]
  },
  {
   "cell_type": "code",
   "execution_count": 26,
   "id": "684fd45a",
   "metadata": {},
   "outputs": [
    {
     "data": {
      "text/plain": [
       "       Values\n",
       "Label        \n",
       "A        11.0\n",
       "B        21.0"
      ]
     },
     "execution_count": 26,
     "metadata": {},
     "output_type": "execute_result"
    }
   ],
   "source": [
    "# вычисляем среднее для каждой группы с помощью метода .mean()\n",
    "grouped.mean()"
   ]
  },
  {
   "cell_type": "code",
   "execution_count": 27,
   "id": "118af814",
   "metadata": {},
   "outputs": [
    {
     "data": {
      "text/plain": [
       "   Values\n",
       "0    10.0\n",
       "1    20.0\n",
       "2    11.0\n",
       "3    21.0\n",
       "4    12.0\n",
       "5    22.0"
      ]
     },
     "execution_count": 27,
     "metadata": {},
     "output_type": "execute_result"
    }
   ],
   "source": [
    "# используем метод .transform() чтобы заполнить значения Nan групповым средним\n",
    "filled_NaNs = grouped.transform(lambda x: x.fillna(x.mean()))\n",
    "filled_NaNs"
   ]
  },
  {
   "cell_type": "markdown",
   "id": "8af04a2d",
   "metadata": {},
   "source": [
    "__Вычисление нормализованных z-значений с помощью преобразования__"
   ]
  },
  {
   "cell_type": "code",
   "execution_count": 28,
   "id": "e1bf2d21",
   "metadata": {},
   "outputs": [
    {
     "data": {
      "text/plain": [
       "2013-04-10    0.073603\n",
       "2013-04-11    0.057313\n",
       "2013-04-12    0.089255\n",
       "2013-04-13    0.133248\n",
       "2013-04-14    0.175876\n",
       "Freq: D, dtype: float64"
      ]
     },
     "execution_count": 28,
     "metadata": {},
     "output_type": "execute_result"
    }
   ],
   "source": [
    "# генерируем временной ряд со скользящими средними\n",
    "np.random.seed(123456)\n",
    "data = pd.Series(np.random.normal(0.5, 2, 365*3),\n",
    "                 pd.date_range('2013-01-01', periods = 365*3))\n",
    "periods = 100\n",
    "rolling = data.rolling(window = periods,\n",
    "                       min_periods = periods,\n",
    "                       center = False).mean().dropna()\n",
    "rolling[:5]"
   ]
  },
  {
   "cell_type": "code",
   "execution_count": 29,
   "id": "596f0614",
   "metadata": {},
   "outputs": [
    {
     "data": {
      "image/png": "[encoded data removed]",
      "text/plain": [
       "<Figure size 640x480 with 1 Axes>"
      ]
     },
     "metadata": {},
     "output_type": "display_data"
    }
   ],
   "source": [
    "# визуализируем ряд\n",
    "rolling.plot();"
   ]
  },
  {
   "cell_type": "code",
   "execution_count": 30,
   "id": "af3c167d",
   "metadata": {},
   "outputs": [
    {
     "data": {
      "text/plain": [
       "          mean       std\n",
       "2013  0.454233  0.171988\n",
       "2014  0.286502  0.182040\n",
       "2015  0.599447  0.275786"
      ]
     },
     "execution_count": 30,
     "metadata": {},
     "output_type": "execute_result"
    }
   ],
   "source": [
    "# вычисляем среднее и стандартное отклонение по каждому году\n",
    "group_key = lambda x: x.year\n",
    "groups = rolling.groupby(group_key)\n",
    "groups.agg([np.mean, np.std])"
   ]
  },
  {
   "cell_type": "code",
   "execution_count": 31,
   "id": "e5ecb651",
   "metadata": {},
   "outputs": [
    {
     "data": {
      "text/plain": [
       "              mean  std\n",
       "2013  2.195403e-16  1.0\n",
       "2014 -2.223488e-16  1.0\n",
       "2015  3.254626e-16  1.0"
      ]
     },
     "execution_count": 31,
     "metadata": {},
     "output_type": "execute_result"
    }
   ],
   "source": [
    "# для выполнения стандартизации следующий программный код задает функцию вычисляющую z-значения, применяет ее в качестве \n",
    "# преобразования к каждой группе и сообщает о новом среднем значении и новом стандартном отклонее\n",
    "z_score = lambda x: (x - x.mean()) / x.std()\n",
    "normed = rolling.groupby(group_key).transform(z_score)\n",
    "normed.groupby(group_key).agg([np.mean, np.std])"
   ]
  },
  {
   "cell_type": "code",
   "execution_count": 32,
   "id": "a8ff67dc",
   "metadata": {},
   "outputs": [
    {
     "data": {
      "text/plain": [
       "<Axes: >"
      ]
     },
     "execution_count": 32,
     "metadata": {},
     "output_type": "execute_result"
    },
    {
     "data": {
      "image/png": "[encoded data removed]",
      "text/plain": [
       "<Figure size 640x480 with 1 Axes>"
      ]
     },
     "metadata": {},
     "output_type": "display_data"
    }
   ],
   "source": [
    "# визуализируем исходные и стандартизированные данные\n",
    "compared = pd.DataFrame({'Original': rolling,\n",
    "                         'Normed': normed})\n",
    "compared.plot()"
   ]
  },
  {
   "cell_type": "markdown",
   "id": "a5f60bc0",
   "metadata": {},
   "source": [
    "__Исключение групп из процедуры агрегирования__"
   ]
  },
  {
   "cell_type": "code",
   "execution_count": 33,
   "id": "c877d288",
   "metadata": {},
   "outputs": [
    {
     "data": {
      "text/plain": [
       "  Label  Values\n",
       "0     A     1.0\n",
       "1     A     2.0\n",
       "2     B     3.0\n",
       "3     C     4.0\n",
       "4     C     NaN\n",
       "5     C     8.0"
      ]
     },
     "execution_count": 33,
     "metadata": {},
     "output_type": "execute_result"
    }
   ],
   "source": [
    "# с помощью метода .filter() можно выборочно удалить группы данных из обработки. В этот метод передают функцию, с помощью\n",
    "# которой по каждой группе можно принять решение о включении данной группы в итоговый результат. Если функция возвращает\n",
    "# значение True, группа включается в результат, если False, группа исключается\n",
    "\n",
    "# создаем данные для примеров\n",
    "df = pd.DataFrame({'Label': list('AABCCC'),\n",
    "                   'Values': [1, 2, 3, 4, np.nan, 8]})\n",
    "df"
   ]
  },
  {
   "cell_type": "code",
   "execution_count": 35,
   "id": "9eaf8ab7",
   "metadata": {},
   "outputs": [
    {
     "data": {
      "text/plain": [
       "  Label  Values\n",
       "0     A     1.0\n",
       "1     A     2.0\n",
       "3     C     4.0\n",
       "4     C     NaN\n",
       "5     C     8.0"
      ]
     },
     "execution_count": 35,
     "metadata": {},
     "output_type": "execute_result"
    }
   ],
   "source": [
    "# удаляем группы с одним непропущенным значением и меньше\n",
    "f = lambda x: x.Values.count() > 1\n",
    "df.groupby('Label').filter(f)"
   ]
  },
  {
   "cell_type": "code",
   "execution_count": 36,
   "id": "29ff7a38",
   "metadata": {},
   "outputs": [
    {
     "data": {
      "text/plain": [
       "  Label  Values\n",
       "0     A     1.0\n",
       "1     A     2.0\n",
       "2     B     3.0"
      ]
     },
     "execution_count": 36,
     "metadata": {},
     "output_type": "execute_result"
    }
   ],
   "source": [
    "# удаляем группы где есть пропуски\n",
    "f = lambda x: x.Values.isnull().sum() == 0\n",
    "df.groupby('Label').filter(f)"
   ]
  },
  {
   "cell_type": "code",
   "execution_count": 37,
   "id": "aecca6eb",
   "metadata": {},
   "outputs": [
    {
     "data": {
      "text/plain": [
       "  Label  Values\n",
       "3     C     4.0\n",
       "4     C     NaN\n",
       "5     C     8.0"
      ]
     },
     "execution_count": 37,
     "metadata": {},
     "output_type": "execute_result"
    }
   ],
   "source": [
    "# отбираем группы со средним 2.0 и выше\n",
    "grouped = df.groupby('Label')\n",
    "group_mean = grouped.mean().mean()\n",
    "f = lambda x: abs(x.Values.mean() - group_mean) > 2.0\n",
    "df.groupby('Label').filter(f)"
   ]
  }
 ],
 "metadata": {
  "kernelspec": {
   "display_name": "Python 3 (ipykernel)",
   "language": "python",
   "name": "python3"
  },
  "language_info": {
   "codemirror_mode": {
    "name": "ipython",
    "version": 3
   },
   "file_extension": ".py",
   "mimetype": "text/x-python",
   "name": "python",
   "nbconvert_exporter": "python",
   "pygments_lexer": "ipython3",
   "version": "3.10.13"
  }
 },
 "nbformat": 4,
 "nbformat_minor": 5
}
