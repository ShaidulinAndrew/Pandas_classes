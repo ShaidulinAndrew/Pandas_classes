{
 "cells": [
  {
   "cell_type": "code",
   "execution_count": 1,
   "id": "b00e1f14",
   "metadata": {},
   "outputs": [],
   "source": [
    "# импортируем библиотеки numpy и pandas\n",
    "import numpy as np\n",
    "import pandas as pd\n",
    "\n",
    "# импортируем библиотеку datatime для работы с датами\n",
    "import datetime\n",
    "from datetime import datetime, date\n",
    "\n",
    "# задаем некоторые опции библиотеки pandas, которые настраивают вывод\n",
    "pd.set_option('display.notebook_repr_html', False)     # задаем вывод в виде текста, а не HTML\n",
    "pd.set_option('display.max_columns', 8)                # устанавливаем отображение максимального количества стобцов\n",
    "pd.set_option('display.max_rows', 10)                  # устанавливаем отображение максимального количества строк\n",
    "pd.set_option('display.width', 80)                     # устанавливаеv максимальную ширину отображения в символах\n",
    "\n",
    "# импортируем библиотеку matplotlib для построения графиков\n",
    "import matplotlib.pyplot as plt \n",
    "%matplotlib inline"
   ]
  },
  {
   "cell_type": "code",
   "execution_count": 2,
   "id": "75b36e68",
   "metadata": {},
   "outputs": [
    {
     "data": {
      "text/plain": [
       "                        Sector   Price  Book Value\n",
       "Symbol                                            \n",
       "MMM                Industrials  141.14      26.668\n",
       "ABT                Health Care   39.60      15.573\n",
       "ABBV               Health Care   53.95       2.954\n",
       "ACN     Information Technology   79.79       8.326\n",
       "ACE                 Financials  102.91      86.897"
      ]
     },
     "execution_count": 2,
     "metadata": {},
     "output_type": "execute_result"
    }
   ],
   "source": [
    "# считываем из файла данные и выводим первые 5 строк\n",
    "sp500 = pd.read_csv(\"./sp500.csv\",\n",
    "                   index_col = 'Symbol',     # используем столбец Symbol в качестве индекса\n",
    "                   usecols = [0, 2, 3, 7])   # и считываем только те столбцы у которых позиции 0, 2, 3, 7\n",
    "sp500.head()"
   ]
  },
  {
   "cell_type": "code",
   "execution_count": 3,
   "id": "6bbcffa5",
   "metadata": {},
   "outputs": [
    {
     "data": {
      "text/plain": [
       "        foo  key\n",
       "0  0.126970  100\n",
       "1  0.966718  101\n",
       "2  0.260476  102\n",
       "3  0.897237  103\n",
       "4  0.376750  104"
      ]
     },
     "execution_count": 3,
     "metadata": {},
     "output_type": "execute_result"
    }
   ],
   "source": [
    "# создаем DataFrame, состоящий из случайных чисел и столбца key \n",
    "np.random.seed(123456)\n",
    "df = pd.DataFrame({'foo':np.random.random(10000), 'key':range(100, 10100)})\n",
    "df[:5]"
   ]
  },
  {
   "cell_type": "code",
   "execution_count": 4,
   "id": "61bfc3a7",
   "metadata": {},
   "outputs": [
    {
     "data": {
      "text/plain": [
       "           foo    key\n",
       "9999  0.272283  10099"
      ]
     },
     "execution_count": 4,
     "metadata": {},
     "output_type": "execute_result"
    }
   ],
   "source": [
    "# отбираем строку, в которой значение столбца key равно 10 099\n",
    "df[df.key==10099]"
   ]
  },
  {
   "cell_type": "code",
   "execution_count": 5,
   "id": "b2482ba3",
   "metadata": {},
   "outputs": [
    {
     "name": "stdout",
     "output_type": "stream",
     "text": [
      "CPU times: total: 0 ns\n",
      "Wall time: 994 µs\n"
     ]
    },
    {
     "data": {
      "text/plain": [
       "           foo    key\n",
       "9999  0.272283  10099"
      ]
     },
     "execution_count": 5,
     "metadata": {},
     "output_type": "execute_result"
    }
   ],
   "source": [
    "# измеряем время выполнения операции отбора\n",
    "%time df[df.key==10099]"
   ]
  },
  {
   "cell_type": "code",
   "execution_count": 6,
   "id": "80dba587",
   "metadata": {},
   "outputs": [
    {
     "data": {
      "text/plain": [
       "          foo\n",
       "key          \n",
       "100  0.126970\n",
       "101  0.966718\n",
       "102  0.260476\n",
       "103  0.897237\n",
       "104  0.376750"
      ]
     },
     "execution_count": 6,
     "metadata": {},
     "output_type": "execute_result"
    }
   ],
   "source": [
    "# превращаем столбец key в index\n",
    "df_with_index = df.set_index(['key'])\n",
    "df_with_index[:5]"
   ]
  },
  {
   "cell_type": "code",
   "execution_count": 7,
   "id": "8c4ea1ac",
   "metadata": {},
   "outputs": [
    {
     "data": {
      "text/plain": [
       "foo    0.272283\n",
       "Name: 10099, dtype: float64"
      ]
     },
     "execution_count": 7,
     "metadata": {},
     "output_type": "execute_result"
    }
   ],
   "source": [
    "# теперь можно найти это значение с помощью свойства .loc[]\n",
    "df_with_index.loc[10099]"
   ]
  },
  {
   "cell_type": "code",
   "execution_count": 8,
   "id": "fda6072a",
   "metadata": {},
   "outputs": [
    {
     "name": "stdout",
     "output_type": "stream",
     "text": [
      "CPU times: total: 0 ns\n",
      "Wall time: 0 ns\n"
     ]
    },
    {
     "data": {
      "text/plain": [
       "foo    0.272283\n",
       "Name: 10099, dtype: float64"
      ]
     },
     "execution_count": 8,
     "metadata": {},
     "output_type": "execute_result"
    }
   ],
   "source": [
    "%time df_with_index.loc[10099]"
   ]
  },
  {
   "cell_type": "code",
   "execution_count": 9,
   "id": "2a0e7564",
   "metadata": {},
   "outputs": [],
   "source": [
    "# операция с помощью индекса выполняется примерно в пять раз быстрее. В силу лучшей производительности поиска по индексу\n",
    "# (в тех случаях когда это возможно) обычно является оптимальным решением. Недостаток использования индекса заключается в том,\n",
    "# что потребуется время на его создание и он занимает больше памяти"
   ]
  },
  {
   "cell_type": "markdown",
   "id": "c182e379",
   "metadata": {},
   "source": [
    "__Типы индексов библиотеки Pandas__"
   ]
  },
  {
   "cell_type": "markdown",
   "id": "ce09af63",
   "metadata": {},
   "source": [
    "__Основной тип Index__ - представляет собой упорядоченный набор значений, на основе которого можно сделать срез. Значения которые он содержит, должны быть хешируемыми питоновскими объектами."
   ]
  },
  {
   "cell_type": "code",
   "execution_count": 10,
   "id": "a9b06182",
   "metadata": {},
   "outputs": [
    {
     "data": {
      "text/plain": [
       "           City Temperature\n",
       "0      Missoula          70\n",
       "1  Philadelphia          80"
      ]
     },
     "execution_count": 10,
     "metadata": {},
     "output_type": "execute_result"
    }
   ],
   "source": [
    "# Покажем, что столбцы фактически являются индексом\n",
    "temps = pd.DataFrame({'City': ['Missoula', 'Philadelphia'], 'Temperature': ['70', '80']})\n",
    "temps"
   ]
  },
  {
   "cell_type": "code",
   "execution_count": 11,
   "id": "c9b95476",
   "metadata": {},
   "outputs": [
    {
     "data": {
      "text/plain": [
       "Index(['City', 'Temperature'], dtype='object')"
      ]
     },
     "execution_count": 11,
     "metadata": {},
     "output_type": "execute_result"
    }
   ],
   "source": [
    "# мы видим, что столбцы - это индекс\n",
    "temps.columns"
   ]
  },
  {
   "cell_type": "markdown",
   "id": "07748d93",
   "metadata": {},
   "source": [
    "__Индексы int64index и RangeIndex, в качестве меток используются целые числа__"
   ]
  },
  {
   "cell_type": "markdown",
   "id": "93f0d3db",
   "metadata": {},
   "source": [
    "__int64index__ - представляет собой иммутабельный (неизменяемый) массив, состоящий из 64-битовых целых чисел, которые сопоставляются значениям."
   ]
  },
  {
   "cell_type": "code",
   "execution_count": 12,
   "id": "f21ec596",
   "metadata": {},
   "outputs": [
    {
     "data": {
      "text/plain": [
       "    0\n",
       "0  10\n",
       "1  11\n",
       "2  12\n",
       "3  13\n",
       "4  14"
      ]
     },
     "execution_count": 12,
     "metadata": {},
     "output_type": "execute_result"
    }
   ],
   "source": [
    "# явно создаем int64index\n",
    "df_i64 = pd.DataFrame(np.arange(10, 20), index = np.arange(0, 10))\n",
    "df_i64[:5]"
   ]
  },
  {
   "cell_type": "code",
   "execution_count": 13,
   "id": "6b9f5d00",
   "metadata": {},
   "outputs": [
    {
     "data": {
      "text/plain": [
       "Int64Index([0, 1, 2, 3, 4, 5, 6, 7, 8, 9], dtype='int64')"
      ]
     },
     "execution_count": 13,
     "metadata": {},
     "output_type": "execute_result"
    }
   ],
   "source": [
    "# смотрим index\n",
    "df_i64.index"
   ]
  },
  {
   "cell_type": "markdown",
   "id": "6cb802a5",
   "metadata": {},
   "source": [
    "__Rangeindex__\n"
   ]
  },
  {
   "cell_type": "code",
   "execution_count": 14,
   "id": "1cc3f9fa",
   "metadata": {},
   "outputs": [
    {
     "data": {
      "text/plain": [
       "    0\n",
       "0  10\n",
       "1  11\n",
       "2  12\n",
       "3  13\n",
       "4  14"
      ]
     },
     "execution_count": 14,
     "metadata": {},
     "output_type": "execute_result"
    }
   ],
   "source": [
    "# по умолчание используется Rangeindex\n",
    "df_range = pd.DataFrame(np.arange(10, 15))\n",
    "df_range"
   ]
  },
  {
   "cell_type": "code",
   "execution_count": 15,
   "id": "5511ccf5",
   "metadata": {},
   "outputs": [
    {
     "data": {
      "text/plain": [
       "RangeIndex(start=0, stop=5, step=1)"
      ]
     },
     "execution_count": 15,
     "metadata": {},
     "output_type": "execute_result"
    }
   ],
   "source": [
    "df_range.index"
   ]
  },
  {
   "cell_type": "markdown",
   "id": "4450b365",
   "metadata": {},
   "source": [
    "__Индекс Float64index__, в качестве меток использует числа с плавающей точкой"
   ]
  },
  {
   "cell_type": "code",
   "execution_count": 16,
   "id": "f792fe58",
   "metadata": {},
   "outputs": [
    {
     "data": {
      "text/plain": [
       "      0\n",
       "0.0   0\n",
       "0.5   5\n",
       "1.0  10\n",
       "1.5  15\n",
       "2.0  20"
      ]
     },
     "execution_count": 16,
     "metadata": {},
     "output_type": "execute_result"
    }
   ],
   "source": [
    "# индексы использующие Float64index\n",
    "df_f64 = pd.DataFrame(np.arange(0, 1000, 5), np.arange(0.0, 100.0, 0.5))\n",
    "df_f64.iloc[:5] # потребуется .iloc [] для отбора пяти первых строк"
   ]
  },
  {
   "cell_type": "code",
   "execution_count": 17,
   "id": "6d38420c",
   "metadata": {},
   "outputs": [
    {
     "data": {
      "text/plain": [
       "Float64Index([ 0.0,  0.5,  1.0,  1.5,  2.0,  2.5,  3.0,  3.5,  4.0,  4.5,\n",
       "              ...\n",
       "              95.0, 95.5, 96.0, 96.5, 97.0, 97.5, 98.0, 98.5, 99.0, 99.5],\n",
       "             dtype='float64', length=200)"
      ]
     },
     "execution_count": 17,
     "metadata": {},
     "output_type": "execute_result"
    }
   ],
   "source": [
    "df_f64.index"
   ]
  },
  {
   "cell_type": "markdown",
   "id": "078bd81b",
   "metadata": {},
   "source": [
    "__intervalindex__ представление дискретных интервалов"
   ]
  },
  {
   "cell_type": "code",
   "execution_count": 18,
   "id": "7c70cecf",
   "metadata": {},
   "outputs": [
    {
     "data": {
      "text/plain": [
       "            A\n",
       "(0.0, 0.5]  1\n",
       "(0.5, 1.0]  2\n",
       "(1.0, 1.5]  3\n",
       "(1.5, 2.0]  4"
      ]
     },
     "execution_count": 18,
     "metadata": {},
     "output_type": "execute_result"
    }
   ],
   "source": [
    "# создаем датафрейм с использованием intervalindex\n",
    "df_interval = pd.DataFrame({'A': [1, 2, 3, 4]}, \n",
    "                           index = pd.IntervalIndex.from_breaks([0, 0.5, 1.0, 1.5, 2.0]))\n",
    "df_interval"
   ]
  },
  {
   "cell_type": "code",
   "execution_count": 19,
   "id": "650e22f8",
   "metadata": {},
   "outputs": [
    {
     "data": {
      "text/plain": [
       "IntervalIndex([(0.0, 0.5], (0.5, 1.0], (1.0, 1.5], (1.5, 2.0]], dtype='interval[float64, right]')"
      ]
     },
     "execution_count": 19,
     "metadata": {},
     "output_type": "execute_result"
    }
   ],
   "source": [
    "df_interval.index"
   ]
  },
  {
   "cell_type": "markdown",
   "id": "64e5c77c",
   "metadata": {},
   "source": [
    "__CategoricalIndex__ - категории в качестве индекса"
   ]
  },
  {
   "cell_type": "code",
   "execution_count": 20,
   "id": "c63a5363",
   "metadata": {},
   "outputs": [
    {
     "data": {
      "text/plain": [
       "   A  B\n",
       "0  0  a\n",
       "1  1  a\n",
       "2  2  b\n",
       "3  3  b\n",
       "4  4  c\n",
       "5  5  a"
      ]
     },
     "execution_count": 20,
     "metadata": {},
     "output_type": "execute_result"
    }
   ],
   "source": [
    "# создаем датафрейм со столбцом имеющим тип Categorical \n",
    "df_categorical = pd.DataFrame({'A': np.arange(6),\n",
    "                               'B': list('aabbca')})\n",
    "# импортируем класс CategoricalDtype для работы с категориальными данными\n",
    "from pandas.api.types import CategoricalDtype\n",
    "df_categorical['B'] = df_categorical['B'].astype(CategoricalDtype(categories = list('cab')))\n",
    "df_categorical"
   ]
  },
  {
   "cell_type": "code",
   "execution_count": 21,
   "id": "84981aa6",
   "metadata": {},
   "outputs": [
    {
     "data": {
      "text/plain": [
       "CategoricalIndex(['a', 'a', 'b', 'b', 'c', 'a'], categories=['c', 'a', 'b'], ordered=False, dtype='category', name='B')"
      ]
     },
     "execution_count": 21,
     "metadata": {},
     "output_type": "execute_result"
    }
   ],
   "source": [
    "# превращаем категориальный столбец в индекс\n",
    "df_categorical = df_categorical.set_index('B')\n",
    "df_categorical.index"
   ]
  },
  {
   "cell_type": "code",
   "execution_count": 22,
   "id": "88cc98dd",
   "metadata": {},
   "outputs": [
    {
     "data": {
      "text/plain": [
       "   A\n",
       "B   \n",
       "a  0\n",
       "a  1\n",
       "a  5"
      ]
     },
     "execution_count": 22,
     "metadata": {},
     "output_type": "execute_result"
    }
   ],
   "source": [
    "# ищем значения относящиеся к категории 'a'\n",
    "df_categorical.loc['a']"
   ]
  },
  {
   "cell_type": "markdown",
   "id": "05bde9ca",
   "metadata": {},
   "source": [
    "__Datetimeindex__ - индексация по датам и времени"
   ]
  },
  {
   "cell_type": "code",
   "execution_count": 23,
   "id": "9b9c0fd6",
   "metadata": {},
   "outputs": [
    {
     "data": {
      "text/plain": [
       "2017-05-01 00:00:00    1.239792\n",
       "2017-05-01 01:00:00   -0.400611\n",
       "2017-05-01 02:00:00    0.718247\n",
       "2017-05-01 03:00:00    0.430499\n",
       "2017-05-01 04:00:00    1.155432\n",
       "Freq: H, dtype: float64"
      ]
     },
     "execution_count": 23,
     "metadata": {},
     "output_type": "execute_result"
    }
   ],
   "source": [
    "# создаем Datetimeindex на основе диапазона дат\n",
    "rng = pd.date_range('5/1/2017', periods = 5, freq = 'H')\n",
    "ts = pd.Series(np.random.randn(len(rng)), index = rng)\n",
    "ts"
   ]
  },
  {
   "cell_type": "code",
   "execution_count": 24,
   "id": "ae5ef12d",
   "metadata": {},
   "outputs": [
    {
     "data": {
      "text/plain": [
       "DatetimeIndex(['2017-05-01 00:00:00', '2017-05-01 01:00:00',\n",
       "               '2017-05-01 02:00:00', '2017-05-01 03:00:00',\n",
       "               '2017-05-01 04:00:00'],\n",
       "              dtype='datetime64[ns]', freq='H')"
      ]
     },
     "execution_count": 24,
     "metadata": {},
     "output_type": "execute_result"
    }
   ],
   "source": [
    "ts.index"
   ]
  },
  {
   "cell_type": "markdown",
   "id": "ae082cf4",
   "metadata": {},
   "source": [
    "__Periodindex__ - индексация периодов времени"
   ]
  },
  {
   "cell_type": "code",
   "execution_count": 25,
   "id": "1b7a943b",
   "metadata": {},
   "outputs": [
    {
     "data": {
      "text/plain": [
       "PeriodIndex(['2017-01', '2017-02', '2017-03'], dtype='period[M]')"
      ]
     },
     "execution_count": 25,
     "metadata": {},
     "output_type": "execute_result"
    }
   ],
   "source": [
    "# явно создаем PeruodIndex\n",
    "periods = pd.PeriodIndex(['2017-1', '2017-2', '2017-3'], freq = 'M')\n",
    "periods"
   ]
  },
  {
   "cell_type": "code",
   "execution_count": 26,
   "id": "435d46cb",
   "metadata": {},
   "outputs": [
    {
     "data": {
      "text/plain": [
       "2017-01   -0.449276\n",
       "2017-02    2.472977\n",
       "2017-03   -0.716023\n",
       "Freq: M, dtype: float64"
      ]
     },
     "execution_count": 26,
     "metadata": {},
     "output_type": "execute_result"
    }
   ],
   "source": [
    "# используем индекс в серии\n",
    "period_series  = pd.Series(np.random.randn(len(periods)), index = periods)\n",
    "period_series"
   ]
  },
  {
   "cell_type": "markdown",
   "id": "618d1ece",
   "metadata": {},
   "source": [
    "# __Работа с индексами__"
   ]
  },
  {
   "cell_type": "markdown",
   "id": "96d59beb",
   "metadata": {},
   "source": [
    "__Создание и использование индекса в объекте Series или объекте DataFrame__"
   ]
  },
  {
   "cell_type": "code",
   "execution_count": 27,
   "id": "24b82bfa",
   "metadata": {},
   "outputs": [
    {
     "data": {
      "text/plain": [
       "DatetimeIndex(['2017-05-01 00:00:00', '2017-05-01 01:00:00',\n",
       "               '2017-05-01 02:00:00', '2017-05-01 03:00:00',\n",
       "               '2017-05-01 04:00:00'],\n",
       "              dtype='datetime64[ns]', freq='H')"
      ]
     },
     "execution_count": 27,
     "metadata": {},
     "output_type": "execute_result"
    }
   ],
   "source": [
    "# индексы можно создавать либо явно, либо позволить библиотеке pandas создать их не явно. Явное создание индекса\n",
    "# происходит когда задается индекс используя параметр index конструктора\n",
    "\n",
    "# создаем DatetimeIndex\n",
    "date_time = pd.DatetimeIndex(pd.date_range('5/1/2017', periods = 5, freq = 'H'))\n",
    "date_time"
   ]
  },
  {
   "cell_type": "code",
   "execution_count": 28,
   "id": "0dfedfda",
   "metadata": {},
   "outputs": [
    {
     "data": {
      "text/plain": [
       "                     0\n",
       "2017-05-01 00:00:00  0\n",
       "2017-05-01 01:00:00  1\n",
       "2017-05-01 02:00:00  2\n",
       "2017-05-01 03:00:00  3\n",
       "2017-05-01 04:00:00  4"
      ]
     },
     "execution_count": 28,
     "metadata": {},
     "output_type": "execute_result"
    }
   ],
   "source": [
    "# создаем объект DataFrame, используя индекс\n",
    "df_date_times = pd.DataFrame(np.arange(0, len(date_time)), index = date_time)\n",
    "df_date_times"
   ]
  },
  {
   "cell_type": "code",
   "execution_count": 29,
   "id": "3dc54bc4",
   "metadata": {},
   "outputs": [
    {
     "data": {
      "text/plain": [
       "                     0\n",
       "2017-06-01 00:00:00  0\n",
       "2017-06-01 01:00:00  1\n",
       "2017-06-01 02:00:00  2\n",
       "2017-06-01 03:00:00  3\n",
       "2017-06-01 04:00:00  4"
      ]
     },
     "execution_count": 29,
     "metadata": {},
     "output_type": "execute_result"
    }
   ],
   "source": [
    "# задаем индекс датафрейма непосредственно\n",
    "df_date_times.index = pd.DatetimeIndex(pd.date_range('6/1/2017', periods = 5, freq = 'H'))\n",
    "df_date_times"
   ]
  },
  {
   "cell_type": "markdown",
   "id": "1b1fab5d",
   "metadata": {},
   "source": [
    "__Отбор значений с помощью индекса__"
   ]
  },
  {
   "cell_type": "markdown",
   "id": "a2205724",
   "metadata": {},
   "source": [
    "Поиск в объекте Series можно выполнить с помощью:\n",
    "- __.loc[ ]__ - выполняет поиск по метке а не по позиции. Однако будьте осторожны: если метки являются целыми числами,\n",
    "то целые числа будут обрабатываться как метки\n",
    "- __.at[ ]__ - работает как .loc, но при этом может извлечь только одно значение\n",
    "- __.iloc[ ]__ - выполняет поиск по позиции, начинающейся с 0, а не по метке\n",
    "- __[ ]__ - извлекает значение для указанной метки"
   ]
  },
  {
   "cell_type": "code",
   "execution_count": 30,
   "id": "6152744a",
   "metadata": {},
   "outputs": [
    {
     "data": {
      "text/plain": [
       "a    0\n",
       "b    1\n",
       "c    2\n",
       "d    3\n",
       "e    4\n",
       "dtype: int32"
      ]
     },
     "execution_count": 30,
     "metadata": {},
     "output_type": "execute_result"
    }
   ],
   "source": [
    "# создаем серию\n",
    "s = pd.Series(np.arange(0, 5), index = list('abcde'))\n",
    "s"
   ]
  },
  {
   "cell_type": "code",
   "execution_count": 31,
   "id": "d3f1d5f7",
   "metadata": {},
   "outputs": [
    {
     "data": {
      "text/plain": [
       "1"
      ]
     },
     "execution_count": 31,
     "metadata": {},
     "output_type": "execute_result"
    }
   ],
   "source": [
    "# ищем по метке индекса\n",
    "s['b']"
   ]
  },
  {
   "cell_type": "code",
   "execution_count": 32,
   "id": "c26e86ab",
   "metadata": {},
   "outputs": [
    {
     "data": {
      "text/plain": [
       "1"
      ]
     },
     "execution_count": 32,
     "metadata": {},
     "output_type": "execute_result"
    }
   ],
   "source": [
    "# явно ищем по метке индекса\n",
    "s.loc['b']"
   ]
  },
  {
   "cell_type": "code",
   "execution_count": 33,
   "id": "3f5f17e2",
   "metadata": {},
   "outputs": [
    {
     "data": {
      "text/plain": [
       "    a   b\n",
       "v  10  11\n",
       "w  12  13"
      ]
     },
     "execution_count": 33,
     "metadata": {},
     "output_type": "execute_result"
    }
   ],
   "source": [
    "# когда оператор [ ] применяется к датафрейму, он извлекает столбцы вместо строк\n",
    "# создаем датафрейм с двумя столбцами\n",
    "df = pd.DataFrame([np.arange(10, 12),\n",
    "                  np.arange(12, 14)],\n",
    "                  columns = list('ab'),\n",
    "                  index = list('vw'))\n",
    "df"
   ]
  },
  {
   "cell_type": "code",
   "execution_count": 34,
   "id": "00498caf",
   "metadata": {},
   "outputs": [
    {
     "data": {
      "text/plain": [
       "v    10\n",
       "w    12\n",
       "Name: a, dtype: int32"
      ]
     },
     "execution_count": 34,
     "metadata": {},
     "output_type": "execute_result"
    }
   ],
   "source": [
    "df['a']"
   ]
  },
  {
   "cell_type": "code",
   "execution_count": 35,
   "id": "3a6b0af5",
   "metadata": {},
   "outputs": [
    {
     "data": {
      "text/plain": [
       "a    12\n",
       "b    13\n",
       "Name: w, dtype: int32"
      ]
     },
     "execution_count": 35,
     "metadata": {},
     "output_type": "execute_result"
    }
   ],
   "source": [
    "# чтобы выполнить поиск строки внутри DataFrame необходимо воспользоваться одним из индексаторов свойств\n",
    "df.loc['w']"
   ]
  },
  {
   "cell_type": "code",
   "execution_count": 36,
   "id": "3574c315",
   "metadata": {},
   "outputs": [
    {
     "data": {
      "text/plain": [
       "b    1\n",
       "c    2\n",
       "d    3\n",
       "dtype: int32"
      ]
     },
     "execution_count": 36,
     "metadata": {},
     "output_type": "execute_result"
    }
   ],
   "source": [
    "# кроме того, индексаторы-свойства могут использовать срезы\n",
    "# создаем срез серии от метки b до метки d\n",
    "s['b':'d']"
   ]
  },
  {
   "cell_type": "code",
   "execution_count": 37,
   "id": "602626d8",
   "metadata": {},
   "outputs": [
    {
     "data": {
      "text/plain": [
       "b    1\n",
       "c    2\n",
       "d    3\n",
       "dtype: int32"
      ]
     },
     "execution_count": 37,
     "metadata": {},
     "output_type": "execute_result"
    }
   ],
   "source": [
    "# эта строка явно создает срез серии от метки b до метки d\n",
    "s.loc['b':'d']"
   ]
  },
  {
   "cell_type": "code",
   "execution_count": 38,
   "id": "c13191c2",
   "metadata": {},
   "outputs": [
    {
     "data": {
      "text/plain": [
       "a    0\n",
       "c    2\n",
       "e    4\n",
       "dtype: int32"
      ]
     },
     "execution_count": 38,
     "metadata": {},
     "output_type": "execute_result"
    }
   ],
   "source": [
    "# кроме того можно передать список значений\n",
    "s.loc[['a', 'c', 'e']]"
   ]
  },
  {
   "cell_type": "markdown",
   "id": "ae6bee38",
   "metadata": {},
   "source": [
    "__Преобразование данных в индекс и получение данных из индекса__"
   ]
  },
  {
   "cell_type": "code",
   "execution_count": 39,
   "id": "87077f7d",
   "metadata": {},
   "outputs": [
    {
     "data": {
      "text/plain": [
       "                        Sector   Price  Book Value\n",
       "Symbol                                            \n",
       "MMM                Industrials  141.14      26.668\n",
       "ABT                Health Care   39.60      15.573\n",
       "ABBV               Health Care   53.95       2.954\n",
       "ACN     Information Technology   79.79       8.326\n",
       "ACE                 Financials  102.91      86.897"
      ]
     },
     "execution_count": 39,
     "metadata": {},
     "output_type": "execute_result"
    }
   ],
   "source": [
    "# с помощью метода .reset_index() можно сбросить индекс датафрейма. Следующий програмный код помещает символы \n",
    "# в индексе датафрейма sp500 в столбец и заменяет индекс стандартным целочисленным индексом\n",
    "# исследуем несколь строк датафрейма sp500\n",
    "sp500[:5]"
   ]
  },
  {
   "cell_type": "code",
   "execution_count": 40,
   "id": "a49ae4aa",
   "metadata": {},
   "outputs": [
    {
     "data": {
      "text/plain": [
       "  Symbol                  Sector   Price  Book Value\n",
       "0    MMM             Industrials  141.14      26.668\n",
       "1    ABT             Health Care   39.60      15.573\n",
       "2   ABBV             Health Care   53.95       2.954\n",
       "3    ACN  Information Technology   79.79       8.326\n",
       "4    ACE              Financials  102.91      86.897"
      ]
     },
     "execution_count": 40,
     "metadata": {},
     "output_type": "execute_result"
    }
   ],
   "source": [
    "# сбрасываем индекс, помещая значение индекса в столбец\n",
    "index_moved_to_col = sp500.reset_index()\n",
    "index_moved_to_col[:5]"
   ]
  },
  {
   "cell_type": "code",
   "execution_count": 41,
   "id": "4c6c16db",
   "metadata": {},
   "outputs": [
    {
     "data": {
      "text/plain": [
       "                       Symbol   Price  Book Value\n",
       "Sector                                           \n",
       "Industrials               MMM  141.14      26.668\n",
       "Health Care               ABT   39.60      15.573\n",
       "Health Care              ABBV   53.95       2.954\n",
       "Information Technology    ACN   79.79       8.326\n",
       "Financials                ACE  102.91      86.897"
      ]
     },
     "execution_count": 41,
     "metadata": {},
     "output_type": "execute_result"
    }
   ],
   "source": [
    "# Столбец данных можно поместить в индекс объектф DataFrame, возпользовавшись методом .set_index() и указав перемещаемый столбец\n",
    "# делаем столбец Sector индексом \n",
    "index_moved_to_col.set_index('Sector')[:5]"
   ]
  },
  {
   "cell_type": "markdown",
   "id": "8205853d",
   "metadata": {},
   "source": [
    "__Переиндексация объекта библиотеки pandas__"
   ]
  },
  {
   "cell_type": "code",
   "execution_count": 42,
   "id": "9890a1ec",
   "metadata": {},
   "outputs": [
    {
     "data": {
      "text/plain": [
       "             Sector   Price  Book Value\n",
       "Symbol                                 \n",
       "MMM     Industrials  141.14      26.668\n",
       "ABBV    Health Care   53.95       2.954\n",
       "FOO             NaN     NaN         NaN"
      ]
     },
     "execution_count": 42,
     "metadata": {},
     "output_type": "execute_result"
    }
   ],
   "source": [
    "# Переиндексация обеспечит совместимость датафрейма с новым индексом, выровняв данные относящиеся к старому индексу, по \n",
    "# новому индексу и встави значения Nan там, где невозможно выполнить выравнивание\n",
    "# делаем переиндексацию задав метки MMM, ABBV, FOO\n",
    "reindexed = sp500.reindex(index = ['MMM', 'ABBV', 'FOO'])\n",
    "reindexed\n",
    "# эта операция создает новый объект DataFrame"
   ]
  },
  {
   "cell_type": "code",
   "execution_count": 43,
   "id": "51b7a884",
   "metadata": {},
   "outputs": [
    {
     "data": {
      "text/plain": [
       "         Price  Book Value  NewCol\n",
       "Symbol                            \n",
       "MMM     141.14      26.668     NaN\n",
       "ABT      39.60      15.573     NaN\n",
       "ABBV     53.95       2.954     NaN\n",
       "ACN      79.79       8.326     NaN\n",
       "ACE     102.91      86.897     NaN"
      ]
     },
     "execution_count": 43,
     "metadata": {},
     "output_type": "execute_result"
    }
   ],
   "source": [
    "# выполняем переиндексацию столбцов\n",
    "sp500.reindex(columns=['Price', 'Book Value', 'NewCol'])[:5]"
   ]
  },
  {
   "cell_type": "markdown",
   "id": "27807571",
   "metadata": {},
   "source": [
    "__Иерархическая индексация__"
   ]
  },
  {
   "cell_type": "code",
   "execution_count": 44,
   "id": "91a552ff",
   "metadata": {},
   "outputs": [
    {
     "data": {
      "text/plain": [
       "                                Price  Book Value\n",
       "Sector                 Symbol                    \n",
       "Industrials            MMM     141.14      26.668\n",
       "Health Care            ABT      39.60      15.573\n",
       "                       ABBV     53.95       2.954\n",
       "Information Technology ACN      79.79       8.326\n",
       "Financials             ACE     102.91      86.897"
      ]
     },
     "execution_count": 44,
     "metadata": {},
     "output_type": "execute_result"
    }
   ],
   "source": [
    "# мы хотим организовать данные по значением столбцов Sector и Symbol, что бы в дальнейшем осуществлять эффективный поиск\n",
    "# информации на основе комбинаций значений обеих переменных\n",
    "# сначала помещаем символы в столбец\n",
    "reindexed = sp500.reset_index()\n",
    "# а теперь проиндекисруем DataFrame по столбцац Sector и Symbol \n",
    "multi_fi = reindexed.set_index(['Sector', 'Symbol'])\n",
    "multi_fi.head()"
   ]
  },
  {
   "cell_type": "code",
   "execution_count": 45,
   "id": "bb7f7597",
   "metadata": {},
   "outputs": [
    {
     "data": {
      "text/plain": [
       "pandas.core.indexes.multi.MultiIndex"
      ]
     },
     "execution_count": 45,
     "metadata": {},
     "output_type": "execute_result"
    }
   ],
   "source": [
    "# Наш индекс это MultiIndex\n",
    "type(multi_fi.index)"
   ]
  },
  {
   "cell_type": "code",
   "execution_count": 46,
   "id": "df7a8d83",
   "metadata": {},
   "outputs": [
    {
     "data": {
      "text/plain": [
       "2"
      ]
     },
     "execution_count": 46,
     "metadata": {},
     "output_type": "execute_result"
    }
   ],
   "source": [
    "len(multi_fi.index.levels)"
   ]
  },
  {
   "cell_type": "code",
   "execution_count": 47,
   "id": "4875faf7",
   "metadata": {},
   "outputs": [
    {
     "data": {
      "text/plain": [
       "Index(['Consumer Discretionary', 'Consumer Discretionary ', 'Consumer Staples',\n",
       "       'Consumer Staples ', 'Energy', 'Financials', 'Health Care',\n",
       "       'Industrials', 'Industries', 'Information Technology', 'Materials',\n",
       "       'Telecommunications Services', 'Utilities'],\n",
       "      dtype='object', name='Sector')"
      ]
     },
     "execution_count": 47,
     "metadata": {},
     "output_type": "execute_result"
    }
   ],
   "source": [
    "# каждый уровень идкса - это индекс\n",
    "multi_fi.index.levels[0]"
   ]
  },
  {
   "cell_type": "code",
   "execution_count": 48,
   "id": "95a8b16b",
   "metadata": {},
   "outputs": [
    {
     "data": {
      "text/plain": [
       "Index(['A', 'AA', 'AAPL', 'ABBV', 'ABC', 'ABT', 'ACE', 'ACN', 'ACT', 'ADBE',\n",
       "       ...\n",
       "       'XLNX', 'XOM', 'XRAY', 'XRX', 'XYL', 'YHOO', 'YUM', 'ZION', 'ZMH',\n",
       "       'ZTS'],\n",
       "      dtype='object', name='Symbol', length=500)"
      ]
     },
     "execution_count": 48,
     "metadata": {},
     "output_type": "execute_result"
    }
   ],
   "source": [
    "# каждый уровень идкса - это индекс\n",
    "multi_fi.index.levels[1]"
   ]
  },
  {
   "cell_type": "code",
   "execution_count": 49,
   "id": "63972211",
   "metadata": {},
   "outputs": [
    {
     "data": {
      "text/plain": [
       "Index(['Industrials', 'Health Care', 'Health Care', 'Information Technology',\n",
       "       'Financials', 'Health Care', 'Information Technology', 'Utilities',\n",
       "       'Health Care', 'Financials',\n",
       "       ...\n",
       "       'Utilities', 'Information Technology', 'Information Technology',\n",
       "       'Financials', 'Industrials', 'Information Technology',\n",
       "       'Consumer Discretionary', 'Health Care', 'Financials', 'Health Care'],\n",
       "      dtype='object', name='Sector', length=500)"
      ]
     },
     "execution_count": 49,
     "metadata": {},
     "output_type": "execute_result"
    }
   ],
   "source": [
    "# Значения самого индекса в определенном уровне для каждой строки можно извлеч с помощью метода .get_level_values()\n",
    "multi_fi.index.get_level_values(0)"
   ]
  },
  {
   "cell_type": "code",
   "execution_count": 50,
   "id": "69c2ba8b",
   "metadata": {},
   "outputs": [
    {
     "data": {
      "text/plain": [
       "         Price  Book Value\n",
       "Symbol                    \n",
       "MMM     141.14      26.668\n",
       "ALLE     52.46       0.000\n",
       "APH      95.71      18.315\n",
       "AVY      48.20      15.616\n",
       "BA      132.41      19.870"
      ]
     },
     "execution_count": 50,
     "metadata": {},
     "output_type": "execute_result"
    }
   ],
   "source": [
    "# Чтобы посмотреть значения DataFrame  с помощью иерархического индекса необходимо воспользоваться методом .xs()\n",
    "# получаем все акции, которые имеют значение Indusrials\n",
    "# обратите внимание, что в результатах индекс уровня 0 не выводится\n",
    "multi_fi.xs('Industrials')[:5]\n",
    "\n",
    "# индекс полученного датафрейма состоит из уровней которые не были заданы, в данном случае это Symbol \n",
    "# Уровни для которых были указаны значения, удаляются из полученного индекса"
   ]
  },
  {
   "cell_type": "code",
   "execution_count": 51,
   "id": "146efb36",
   "metadata": {},
   "outputs": [
    {
     "data": {
      "text/plain": [
       "             Price  Book Value\n",
       "Sector                        \n",
       "Industrials  52.46         0.0"
      ]
     },
     "execution_count": 51,
     "metadata": {},
     "output_type": "execute_result"
    }
   ],
   "source": [
    "# отбираем строки, в которых индекс уровня 1 (Symbol) имеет значение ALLE\n",
    "# обратите внимание что в результатах индекс уровня 1 Symbol не выводится\n",
    "multi_fi.xs('ALLE', level = 1)"
   ]
  },
  {
   "cell_type": "code",
   "execution_count": 52,
   "id": "7a87d7db",
   "metadata": {},
   "outputs": [
    {
     "data": {
      "text/plain": [
       "                     Price  Book Value\n",
       "Sector      Symbol                    \n",
       "Industrials MMM     141.14      26.668\n",
       "            ALLE     52.46       0.000\n",
       "            APH      95.71      18.315\n",
       "            AVY      48.20      15.616\n",
       "            BA      132.41      19.870"
      ]
     },
     "execution_count": 52,
     "metadata": {},
     "output_type": "execute_result"
    }
   ],
   "source": [
    "# что бы предотвратить удаление уровней из результатов, можно воспользоваться параметром drop_levels=False\n",
    "# отбираем строки, в которых индекс уровня 0 Sector имеет занчение indastrial, без удаления уровней\n",
    "multi_fi.xs('Industrials', drop_level=False)[:5]"
   ]
  },
  {
   "cell_type": "code",
   "execution_count": 53,
   "id": "2c1850b1",
   "metadata": {},
   "outputs": [
    {
     "data": {
      "text/plain": [
       "Price         102.73\n",
       "Book Value      6.79\n",
       "Name: UPS, dtype: float64"
      ]
     },
     "execution_count": 53,
     "metadata": {},
     "output_type": "execute_result"
    }
   ],
   "source": [
    "# что бы отобрать строку используя иерархию индексов, вы можете связать вместе вызовы .xs() для разных уровней\n",
    "# скомбинируем уровни индексов\n",
    "multi_fi.xs('Industrials').xs('UPS')"
   ]
  },
  {
   "cell_type": "code",
   "execution_count": 54,
   "id": "f0931176",
   "metadata": {},
   "outputs": [
    {
     "data": {
      "text/plain": [
       "Price         102.73\n",
       "Book Value      6.79\n",
       "Name: (Industrials, UPS), dtype: float64"
      ]
     },
     "execution_count": 54,
     "metadata": {},
     "output_type": "execute_result"
    }
   ],
   "source": [
    "# как вариант можно передать значения каждого уровня в виде кортежа\n",
    "multi_fi.xs(('Industrials', 'UPS'))"
   ]
  }
 ],
 "metadata": {
  "kernelspec": {
   "display_name": "Python 3 (ipykernel)",
   "language": "python",
   "name": "python3"
  },
  "language_info": {
   "codemirror_mode": {
    "name": "ipython",
    "version": 3
   },
   "file_extension": ".py",
   "mimetype": "text/x-python",
   "name": "python",
   "nbconvert_exporter": "python",
   "pygments_lexer": "ipython3",
   "version": "3.10.9"
  }
 },
 "nbformat": 4,
 "nbformat_minor": 5
}
