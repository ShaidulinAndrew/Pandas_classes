{
 "cells": [
  {
   "cell_type": "markdown",
   "id": "7b764cf3",
   "metadata": {},
   "source": [
    "### __Создание объекта Series с помощью питоновских списков и словарей__"
   ]
  },
  {
   "cell_type": "code",
   "execution_count": 1,
   "id": "049d3e87",
   "metadata": {},
   "outputs": [],
   "source": [
    "# импортируем библиотеки numpy и pandas\n",
    "import numpy as np\n",
    "import pandas as pd\n",
    "\n",
    "# импортируем библиотеку datatime для работы с датами\n",
    "import datetime\n",
    "from datetime import datetime, date\n",
    "\n",
    "# задаем некоторые опции библиотеки pandas, которые настраивают вывод\n",
    "pd.set_option('display.notebook_repr_html', False)     # задаем вывод в виде текста, а не HTML\n",
    "pd.set_option('display.max_columns', 8)                # устанавливаем отображение максимального количества стобцов\n",
    "pd.set_option('display.max_rows', 10)                  # устанавливаем отображение максимального количества строк\n",
    "pd.set_option('display.width', 80)                     # устанавливаеv максимальную ширину отображения в символах\n",
    "\n",
    "# импортируем библиотеку matplotlib для построения графиков\n",
    "import matplotlib.pyplot as plt \n",
    "%matplotlib inline"
   ]
  },
  {
   "cell_type": "code",
   "execution_count": 2,
   "id": "549d896d",
   "metadata": {},
   "outputs": [
    {
     "data": {
      "text/plain": [
       "0    10\n",
       "1    11\n",
       "2    12\n",
       "3    13\n",
       "4    14\n",
       "dtype: int64"
      ]
     },
     "execution_count": 2,
     "metadata": {},
     "output_type": "execute_result"
    }
   ],
   "source": [
    "# создаем серию значений из списка\n",
    "\n",
    "s = pd.Series([10, 11, 12, 13, 14])\n",
    "s"
   ]
  },
  {
   "cell_type": "code",
   "execution_count": 3,
   "id": "60d18106",
   "metadata": {},
   "outputs": [
    {
     "data": {
      "text/plain": [
       "13"
      ]
     },
     "execution_count": 3,
     "metadata": {},
     "output_type": "execute_result"
    }
   ],
   "source": [
    "# получаем значение записанное в метке индекса\n",
    "\n",
    "s[3]"
   ]
  },
  {
   "cell_type": "code",
   "execution_count": 4,
   "id": "05740e47",
   "metadata": {},
   "outputs": [
    {
     "data": {
      "text/plain": [
       "0      Mike\n",
       "1    Marcia\n",
       "2    Mikael\n",
       "3      Bleu\n",
       "dtype: object"
      ]
     },
     "execution_count": 4,
     "metadata": {},
     "output_type": "execute_result"
    }
   ],
   "source": [
    "# кроме целых чисел можно использовать и другие типы данных\n",
    "# создаем серию из строковых значений \n",
    "pd.Series(['Mike', 'Marcia', 'Mikael', 'Bleu'])"
   ]
  },
  {
   "cell_type": "code",
   "execution_count": 5,
   "id": "6f67f742",
   "metadata": {},
   "outputs": [
    {
     "data": {
      "text/plain": [
       "0    2\n",
       "1    2\n",
       "2    2\n",
       "3    2\n",
       "4    2\n",
       "dtype: int64"
      ]
     },
     "execution_count": 5,
     "metadata": {},
     "output_type": "execute_result"
    }
   ],
   "source": [
    "# чтобы создать серию из одинаковых значений, используем сокращенную запись Python для создания списка [x]*n\n",
    "pd.Series([2]*5)"
   ]
  },
  {
   "cell_type": "code",
   "execution_count": 6,
   "id": "38eb0bf1",
   "metadata": {},
   "outputs": [
    {
     "data": {
      "text/plain": [
       "0    a\n",
       "1    b\n",
       "2    c\n",
       "3    d\n",
       "4    e\n",
       "dtype: object"
      ]
     },
     "execution_count": 6,
     "metadata": {},
     "output_type": "execute_result"
    }
   ],
   "source": [
    "# используем каждый символ в качестве значения\n",
    "pd.Series(list('abcde'))"
   ]
  },
  {
   "cell_type": "code",
   "execution_count": 7,
   "id": "d8d2779d",
   "metadata": {},
   "outputs": [
    {
     "data": {
      "text/plain": [
       "Mike      Dad\n",
       "Marcia    Mom\n",
       "Mikael    Son\n",
       "Bleu      dog\n",
       "dtype: object"
      ]
     },
     "execution_count": 7,
     "metadata": {},
     "output_type": "execute_result"
    }
   ],
   "source": [
    "# серию можно инициализировать из питоновского словаря\n",
    "pd.Series({'Mike': 'Dad',\n",
    "           'Marcia': 'Mom',\n",
    "           'Mikael': 'Son',\n",
    "           'Bleu': 'dog'})"
   ]
  },
  {
   "cell_type": "markdown",
   "id": "5c34ed40",
   "metadata": {},
   "source": [
    "### __Создание объекта Series с помощью функции NumPy__"
   ]
  },
  {
   "cell_type": "code",
   "execution_count": 8,
   "id": "31929c79",
   "metadata": {},
   "outputs": [
    {
     "data": {
      "text/plain": [
       "0    0.00\n",
       "1    2.25\n",
       "2    4.50\n",
       "3    6.75\n",
       "4    9.00\n",
       "dtype: float64"
      ]
     },
     "execution_count": 8,
     "metadata": {},
     "output_type": "execute_result"
    }
   ],
   "source": [
    "# создаем последовательность из 5 значений лежащих в интервале от 0 до 9\n",
    "pd.Series(np.linspace(0, 9, 5))"
   ]
  },
  {
   "cell_type": "code",
   "execution_count": 9,
   "id": "e2585281",
   "metadata": {},
   "outputs": [
    {
     "data": {
      "text/plain": [
       "0   -0.204708\n",
       "1    0.478943\n",
       "2   -0.519439\n",
       "3   -0.555730\n",
       "4    1.965781\n",
       "dtype: float64"
      ]
     },
     "execution_count": 9,
     "metadata": {},
     "output_type": "execute_result"
    }
   ],
   "source": [
    "# так же можно сгенерировать набор случайных чисел с помощью np.random.normal()\n",
    "# генерируем случайные числа\n",
    "np.random.seed(12345) # всегда генерирует одни и теже числа\n",
    "# создаем серию из 5 нормально распределенных случайных чисел\n",
    "pd.Series(np.random.normal(size = 5))"
   ]
  },
  {
   "cell_type": "markdown",
   "id": "c1044476",
   "metadata": {},
   "source": [
    "### __Создание объекта Series с помощью скалярного значения__"
   ]
  },
  {
   "cell_type": "code",
   "execution_count": 10,
   "id": "0a29f11e",
   "metadata": {},
   "outputs": [
    {
     "data": {
      "text/plain": [
       "0    2\n",
       "dtype: int64"
      ]
     },
     "execution_count": 10,
     "metadata": {},
     "output_type": "execute_result"
    }
   ],
   "source": [
    "# создаем объект Series, состоящий из одного элемента \n",
    "s = pd.Series(2)\n",
    "s"
   ]
  },
  {
   "cell_type": "code",
   "execution_count": 11,
   "id": "d1c66962",
   "metadata": {},
   "outputs": [
    {
     "data": {
      "text/plain": [
       "0    0\n",
       "1    2\n",
       "2    4\n",
       "3    6\n",
       "4    8\n",
       "dtype: int32"
      ]
     },
     "execution_count": 11,
     "metadata": {},
     "output_type": "execute_result"
    }
   ],
   "source": [
    "# создаем объект Series\n",
    "s = pd.Series(np.arange(0,5))\n",
    "# умножаем все значения серии на 2\n",
    "s * 2"
   ]
  },
  {
   "cell_type": "markdown",
   "id": "26730bbb",
   "metadata": {},
   "source": [
    "### __Размер и форма объекта Series__"
   ]
  },
  {
   "cell_type": "code",
   "execution_count": 12,
   "id": "d651649f",
   "metadata": {},
   "outputs": [
    {
     "data": {
      "text/plain": [
       "10"
      ]
     },
     "execution_count": 12,
     "metadata": {},
     "output_type": "execute_result"
    }
   ],
   "source": [
    "# создаем серию\n",
    "s = pd.Series([0, 1, 2, 3, 4, 5, 6, 7, 8, 9])\n",
    "# проверяем количество элементов используя питоновскую функциию len\n",
    "len(s)"
   ]
  },
  {
   "cell_type": "code",
   "execution_count": 13,
   "id": "001a1a49",
   "metadata": {},
   "outputs": [
    {
     "data": {
      "text/plain": [
       "10"
      ]
     },
     "execution_count": 13,
     "metadata": {},
     "output_type": "execute_result"
    }
   ],
   "source": [
    "# .size так же позволяет узнать о количестве элементов в объекте Series\n",
    "s.size"
   ]
  },
  {
   "cell_type": "code",
   "execution_count": 14,
   "id": "bbc40db9",
   "metadata": {},
   "outputs": [
    {
     "data": {
      "text/plain": [
       "(10,)"
      ]
     },
     "execution_count": 14,
     "metadata": {},
     "output_type": "execute_result"
    }
   ],
   "source": [
    "# альтернативным способом получения информации о размере объекта Series является использование свойства .shape\n",
    "# .shape - это кортеж с одним значением\n",
    "s.shape"
   ]
  },
  {
   "cell_type": "markdown",
   "id": "a48abadb",
   "metadata": {},
   "source": [
    "### __Установка индекса во время создания объекта Series__"
   ]
  },
  {
   "cell_type": "code",
   "execution_count": 15,
   "id": "82e395fc",
   "metadata": {},
   "outputs": [
    {
     "data": {
      "text/plain": [
       "Dad      Mike\n",
       "Mom    Marcia\n",
       "Son    Mikael\n",
       "Dog      Bleu\n",
       "dtype: object"
      ]
     },
     "execution_count": 15,
     "metadata": {},
     "output_type": "execute_result"
    }
   ],
   "source": [
    "# явно создаем индекс\n",
    "labels = ['Mike', 'Marcia', 'Mikael', 'Bleu']\n",
    "role = ['Dad', 'Mom', 'Son', 'Dog']\n",
    "s = pd.Series(labels, index = role)\n",
    "s"
   ]
  },
  {
   "cell_type": "code",
   "execution_count": 16,
   "id": "7b37cc52",
   "metadata": {},
   "outputs": [
    {
     "data": {
      "text/plain": [
       "Index(['Dad', 'Mom', 'Son', 'Dog'], dtype='object')"
      ]
     },
     "execution_count": 16,
     "metadata": {},
     "output_type": "execute_result"
    }
   ],
   "source": [
    "# исследуем индекс\n",
    "s.index"
   ]
  },
  {
   "cell_type": "code",
   "execution_count": 17,
   "id": "b0b23b87",
   "metadata": {},
   "outputs": [
    {
     "data": {
      "text/plain": [
       "'Mike'"
      ]
     },
     "execution_count": 17,
     "metadata": {},
     "output_type": "execute_result"
    }
   ],
   "source": [
    "# какому значению соответствует index Dad\n",
    "s['Dad']"
   ]
  },
  {
   "cell_type": "code",
   "execution_count": 18,
   "id": "1ab0e2e4",
   "metadata": {},
   "outputs": [
    {
     "data": {
      "text/plain": [
       "array(['Mike', 'Marcia', 'Mikael', 'Bleu'], dtype=object)"
      ]
     },
     "execution_count": 18,
     "metadata": {},
     "output_type": "execute_result"
    }
   ],
   "source": [
    "# исследуем значения\n",
    "s.values"
   ]
  },
  {
   "cell_type": "markdown",
   "id": "e524795a",
   "metadata": {},
   "source": [
    "### __Исследование методов .head( ), .tail( ) и .take ( ) для вывода значений__"
   ]
  },
  {
   "cell_type": "code",
   "execution_count": 19,
   "id": "9c546854",
   "metadata": {},
   "outputs": [],
   "source": [
    "s = pd.Series(np.arange(1, 10),\n",
    "             index = list('abcdefghi'))"
   ]
  },
  {
   "cell_type": "code",
   "execution_count": 20,
   "id": "ebcbdea8",
   "metadata": {},
   "outputs": [
    {
     "data": {
      "text/plain": [
       "a    1\n",
       "b    2\n",
       "c    3\n",
       "d    4\n",
       "e    5\n",
       "dtype: int32"
      ]
     },
     "execution_count": 20,
     "metadata": {},
     "output_type": "execute_result"
    }
   ],
   "source": [
    "# выводим первые 5 строк\n",
    "s.head()"
   ]
  },
  {
   "cell_type": "code",
   "execution_count": 21,
   "id": "a35d43ef",
   "metadata": {},
   "outputs": [
    {
     "data": {
      "text/plain": [
       "a    1\n",
       "b    2\n",
       "c    3\n",
       "dtype: int32"
      ]
     },
     "execution_count": 21,
     "metadata": {},
     "output_type": "execute_result"
    }
   ],
   "source": [
    "# выводим первые 3 строки\n",
    "s.head(3) # в скобках указывается желаемое количество строк для вывода"
   ]
  },
  {
   "cell_type": "code",
   "execution_count": 22,
   "id": "56617884",
   "metadata": {},
   "outputs": [
    {
     "data": {
      "text/plain": [
       "e    5\n",
       "f    6\n",
       "g    7\n",
       "h    8\n",
       "i    9\n",
       "dtype: int32"
      ]
     },
     "execution_count": 22,
     "metadata": {},
     "output_type": "execute_result"
    }
   ],
   "source": [
    "# выводим последние 5 строк\n",
    "s.tail()"
   ]
  },
  {
   "cell_type": "code",
   "execution_count": 23,
   "id": "3291918d",
   "metadata": {},
   "outputs": [
    {
     "data": {
      "text/plain": [
       "g    7\n",
       "h    8\n",
       "i    9\n",
       "dtype: int32"
      ]
     },
     "execution_count": 23,
     "metadata": {},
     "output_type": "execute_result"
    }
   ],
   "source": [
    "# выводим последние 3 строки\n",
    "s.tail(3)"
   ]
  },
  {
   "cell_type": "code",
   "execution_count": 24,
   "id": "8dab3002",
   "metadata": {},
   "outputs": [
    {
     "data": {
      "text/plain": [
       "b    2\n",
       "f    6\n",
       "i    9\n",
       "dtype: int32"
      ]
     },
     "execution_count": 24,
     "metadata": {},
     "output_type": "execute_result"
    }
   ],
   "source": [
    "# Метод take() позволяет выводить конкретные, прямо указанные строки, соответствующие указанным целочисленным позициям\n",
    "s.take([1, 5, 8])"
   ]
  },
  {
   "cell_type": "markdown",
   "id": "d8e2610a",
   "metadata": {},
   "source": [
    "### __Получение значениий в объекте Series по метке или позиции__"
   ]
  },
  {
   "cell_type": "markdown",
   "id": "7ee88264",
   "metadata": {},
   "source": [
    "__Поиск по метке с помощью оператора [ ] и свойства .ix[ ]__"
   ]
  },
  {
   "cell_type": "code",
   "execution_count": 25,
   "id": "4ccf84ac",
   "metadata": {},
   "outputs": [
    {
     "data": {
      "text/plain": [
       "a    10\n",
       "b    11\n",
       "c    12\n",
       "d    13\n",
       "e    14\n",
       "dtype: int32"
      ]
     },
     "execution_count": 25,
     "metadata": {},
     "output_type": "execute_result"
    }
   ],
   "source": [
    "s1 = pd.Series(np.arange(10, 15), index = list('abcde'))\n",
    "s1"
   ]
  },
  {
   "cell_type": "code",
   "execution_count": 26,
   "id": "3112255d",
   "metadata": {},
   "outputs": [
    {
     "data": {
      "text/plain": [
       "10"
      ]
     },
     "execution_count": 26,
     "metadata": {},
     "output_type": "execute_result"
    }
   ],
   "source": [
    "# получаем значение с меткой 'a'\n",
    "s1['a']"
   ]
  },
  {
   "cell_type": "code",
   "execution_count": 27,
   "id": "43a1c5a6",
   "metadata": {},
   "outputs": [
    {
     "data": {
      "text/plain": [
       "a    10\n",
       "e    14\n",
       "dtype: int32"
      ]
     },
     "execution_count": 27,
     "metadata": {},
     "output_type": "execute_result"
    }
   ],
   "source": [
    "# получаем несколько меток\n",
    "s1[['a', 'e']]"
   ]
  },
  {
   "cell_type": "code",
   "execution_count": 28,
   "id": "bfa169f5",
   "metadata": {},
   "outputs": [
    {
     "data": {
      "text/plain": [
       "a    10\n",
       "d    13\n",
       "dtype: int32"
      ]
     },
     "execution_count": 28,
     "metadata": {},
     "output_type": "execute_result"
    }
   ],
   "source": [
    "# находим значения по целочисленному индексу\n",
    "s1[[0, 3]]"
   ]
  },
  {
   "cell_type": "code",
   "execution_count": 29,
   "id": "dea74468",
   "metadata": {},
   "outputs": [
    {
     "data": {
      "text/plain": [
       "10    1\n",
       "11    2\n",
       "12    3\n",
       "13    4\n",
       "14    5\n",
       "dtype: int64"
      ]
     },
     "execution_count": 29,
     "metadata": {},
     "output_type": "execute_result"
    }
   ],
   "source": [
    "# если целочисленные значения передать в [ ], и индекс будет использовать целочисленные значения, то поиск \n",
    "# будет осуществляться по меткам индекса\n",
    "s2 = pd.Series([1, 2, 3, 4, 5],\n",
    "              index = [10, 11, 12, 13, 14])\n",
    "s2"
   ]
  },
  {
   "cell_type": "code",
   "execution_count": 30,
   "id": "0f42fe96",
   "metadata": {},
   "outputs": [
    {
     "data": {
      "text/plain": [
       "14    5\n",
       "10    1\n",
       "dtype: int64"
      ]
     },
     "execution_count": 30,
     "metadata": {},
     "output_type": "execute_result"
    }
   ],
   "source": [
    "# поиск по меткеб а не по позиции\n",
    "s2[[14, 10]]"
   ]
  },
  {
   "cell_type": "markdown",
   "id": "3a1253d3",
   "metadata": {},
   "source": [
    "### Внимание\n",
    "__так как возможна путаница при использовании оператора [ ] и свойства .ix[ ], данные свойства не используются. Вместо них используются свойства .loc[ ] .iloc[ ]__"
   ]
  },
  {
   "cell_type": "markdown",
   "id": "0d74871c",
   "metadata": {},
   "source": [
    "__Явный поиск по позиции с помощью свойства .iloc[ ]__"
   ]
  },
  {
   "cell_type": "code",
   "execution_count": 31,
   "id": "b984283c",
   "metadata": {},
   "outputs": [
    {
     "data": {
      "text/plain": [
       "a    10\n",
       "c    12\n",
       "dtype: int32"
      ]
     },
     "execution_count": 31,
     "metadata": {},
     "output_type": "execute_result"
    }
   ],
   "source": [
    "# ищем явно по позиции\n",
    "s1.iloc[[0, 2]]"
   ]
  },
  {
   "cell_type": "code",
   "execution_count": 32,
   "id": "e0a0d96f",
   "metadata": {},
   "outputs": [
    {
     "data": {
      "text/plain": [
       "13    4\n",
       "12    3\n",
       "dtype: int64"
      ]
     },
     "execution_count": 32,
     "metadata": {},
     "output_type": "execute_result"
    }
   ],
   "source": [
    "# ищем явно по позии, при этом индекс имеет целочисленные метки\n",
    "s2.iloc[[3, 2]]"
   ]
  },
  {
   "cell_type": "markdown",
   "id": "744d84ba",
   "metadata": {},
   "source": [
    "__Явный поиск по позиции с помощью свойства .loc[ ]__"
   ]
  },
  {
   "cell_type": "code",
   "execution_count": 33,
   "id": "caee01a9",
   "metadata": {},
   "outputs": [
    {
     "data": {
      "text/plain": [
       "a    10\n",
       "b    11\n",
       "dtype: int32"
      ]
     },
     "execution_count": 33,
     "metadata": {},
     "output_type": "execute_result"
    }
   ],
   "source": [
    "# ищем явно по меткам\n",
    "s1.loc[['a', 'b']]"
   ]
  },
  {
   "cell_type": "code",
   "execution_count": 34,
   "id": "51f6ba60",
   "metadata": {},
   "outputs": [
    {
     "data": {
      "text/plain": [
       "11    2\n",
       "12    3\n",
       "dtype: int64"
      ]
     },
     "execution_count": 34,
     "metadata": {},
     "output_type": "execute_result"
    }
   ],
   "source": [
    "# можно использовать целочисленные метки\n",
    "s2.loc[[11, 12]]"
   ]
  },
  {
   "cell_type": "markdown",
   "id": "7ea2145c",
   "metadata": {},
   "source": [
    "### __Создание срезов объекта Series__\n"
   ]
  },
  {
   "cell_type": "code",
   "execution_count": 35,
   "id": "ebfc338d",
   "metadata": {},
   "outputs": [
    {
     "data": {
      "text/plain": [
       "10    100\n",
       "11    101\n",
       "12    102\n",
       "13    103\n",
       "14    104\n",
       "15    105\n",
       "16    106\n",
       "17    107\n",
       "18    108\n",
       "19    109\n",
       "dtype: int32"
      ]
     },
     "execution_count": 35,
     "metadata": {},
     "output_type": "execute_result"
    }
   ],
   "source": [
    "s = pd.Series(np.arange(100, 110), index = np.arange(10, 20))\n",
    "s"
   ]
  },
  {
   "cell_type": "code",
   "execution_count": 36,
   "id": "8f1cb293",
   "metadata": {},
   "outputs": [
    {
     "data": {
      "text/plain": [
       "11    101\n",
       "12    102\n",
       "13    103\n",
       "14    104\n",
       "15    105\n",
       "dtype: int32"
      ]
     },
     "execution_count": 36,
     "metadata": {},
     "output_type": "execute_result"
    }
   ],
   "source": [
    "# создаем срез с 1 по 5 позицию\n",
    "s[1:6]"
   ]
  },
  {
   "cell_type": "code",
   "execution_count": 37,
   "id": "25aa6b8a",
   "metadata": {},
   "outputs": [
    {
     "data": {
      "text/plain": [
       "11    101\n",
       "12    102\n",
       "13    103\n",
       "14    104\n",
       "15    105\n",
       "dtype: int32"
      ]
     },
     "execution_count": 37,
     "metadata": {},
     "output_type": "execute_result"
    }
   ],
   "source": [
    "# поиск с помощью списка позиций\n",
    "s.iloc[[1, 2, 3, 4, 5]]"
   ]
  },
  {
   "cell_type": "code",
   "execution_count": 38,
   "id": "0af3c6ad",
   "metadata": {},
   "outputs": [
    {
     "data": {
      "text/plain": [
       "11    101\n",
       "13    103\n",
       "15    105\n",
       "dtype: int32"
      ]
     },
     "execution_count": 38,
     "metadata": {},
     "output_type": "execute_result"
    }
   ],
   "source": [
    "# отбираем элементы в позициях 1,3,5\n",
    "s[1:6:2]"
   ]
  },
  {
   "cell_type": "code",
   "execution_count": 39,
   "id": "7e75f64d",
   "metadata": {},
   "outputs": [
    {
     "data": {
      "text/plain": [
       "10    100\n",
       "11    101\n",
       "12    102\n",
       "13    103\n",
       "14    104\n",
       "dtype: int32"
      ]
     },
     "execution_count": 39,
     "metadata": {},
     "output_type": "execute_result"
    }
   ],
   "source": [
    "# создаем срез, содержащий первые 5 элементов, эквивалентно .head(5)\n",
    "s[:5]"
   ]
  },
  {
   "cell_type": "code",
   "execution_count": 41,
   "id": "03236510",
   "metadata": {},
   "outputs": [
    {
     "data": {
      "text/plain": [
       "14    104\n",
       "15    105\n",
       "16    106\n",
       "17    107\n",
       "18    108\n",
       "19    109\n",
       "dtype: int32"
      ]
     },
     "execution_count": 41,
     "metadata": {},
     "output_type": "execute_result"
    }
   ],
   "source": [
    "# создаем срез путем отбора всех элементов, начиная с 4\n",
    "s[4:]"
   ]
  },
  {
   "cell_type": "code",
   "execution_count": 42,
   "id": "a975e803",
   "metadata": {},
   "outputs": [
    {
     "data": {
      "text/plain": [
       "10    100\n",
       "12    102\n",
       "14    104\n",
       "dtype: int32"
      ]
     },
     "execution_count": 42,
     "metadata": {},
     "output_type": "execute_result"
    }
   ],
   "source": [
    "# отбираем каждый второй элемент в первых пяти позициях\n",
    "s[:5:2]"
   ]
  },
  {
   "cell_type": "code",
   "execution_count": 43,
   "id": "a819937c",
   "metadata": {},
   "outputs": [
    {
     "data": {
      "text/plain": [
       "14    104\n",
       "16    106\n",
       "18    108\n",
       "dtype: int32"
      ]
     },
     "execution_count": 43,
     "metadata": {},
     "output_type": "execute_result"
    }
   ],
   "source": [
    "# отбираем каждый второй элемент, начиная с четвертой позиции\n",
    "s[4::2]"
   ]
  },
  {
   "cell_type": "code",
   "execution_count": 44,
   "id": "a6803ebb",
   "metadata": {},
   "outputs": [
    {
     "data": {
      "text/plain": [
       "19    109\n",
       "18    108\n",
       "17    107\n",
       "16    106\n",
       "15    105\n",
       "14    104\n",
       "13    103\n",
       "12    102\n",
       "11    101\n",
       "10    100\n",
       "dtype: int32"
      ]
     },
     "execution_count": 44,
     "metadata": {},
     "output_type": "execute_result"
    }
   ],
   "source": [
    "# отбираем элементы series в обратном порядке\n",
    "s[::-1]"
   ]
  },
  {
   "cell_type": "code",
   "execution_count": 45,
   "id": "69a93050",
   "metadata": {},
   "outputs": [
    {
     "data": {
      "text/plain": [
       "14    104\n",
       "12    102\n",
       "10    100\n",
       "dtype: int32"
      ]
     },
     "execution_count": 45,
     "metadata": {},
     "output_type": "execute_result"
    }
   ],
   "source": [
    "# отбираем в обратном порядке каждый второй элемент, начиная с 4 позиции\n",
    "s[4::-2]"
   ]
  },
  {
   "cell_type": "code",
   "execution_count": 46,
   "id": "96aca6fe",
   "metadata": {},
   "outputs": [
    {
     "data": {
      "text/plain": [
       "16    106\n",
       "17    107\n",
       "18    108\n",
       "19    109\n",
       "dtype: int32"
      ]
     },
     "execution_count": 46,
     "metadata": {},
     "output_type": "execute_result"
    }
   ],
   "source": [
    "# отрицательное стартовое значение -n означает отбор последних n строк \n",
    "# -4: означает отбор последних 4 строк\n",
    "s[-4:]"
   ]
  },
  {
   "cell_type": "code",
   "execution_count": 47,
   "id": "cff4f4d2",
   "metadata": {},
   "outputs": [
    {
     "data": {
      "text/plain": [
       "10    100\n",
       "11    101\n",
       "12    102\n",
       "13    103\n",
       "14    104\n",
       "15    105\n",
       "dtype: int32"
      ]
     },
     "execution_count": 47,
     "metadata": {},
     "output_type": "execute_result"
    }
   ],
   "source": [
    "# :-4 означает отбор всех строк, кроме последних четырех\n",
    "s[:-4]"
   ]
  },
  {
   "cell_type": "code",
   "execution_count": 48,
   "id": "c238c99e",
   "metadata": {},
   "outputs": [
    {
     "data": {
      "text/plain": [
       "16    106\n",
       "17    107\n",
       "18    108\n",
       "dtype: int32"
      ]
     },
     "execution_count": 48,
     "metadata": {},
     "output_type": "execute_result"
    }
   ],
   "source": [
    "# отрицательные значениия компонентов start и end можно объеденить. Следующий программный код сначала извлекает последние \n",
    "# 4 строки, а затем из них отбирает все строки кроме последней\n",
    "# эквивалентно s.tail(4).head(3)\n",
    "s[-4:-1]"
   ]
  },
  {
   "cell_type": "code",
   "execution_count": 49,
   "id": "d6bb4724",
   "metadata": {},
   "outputs": [
    {
     "data": {
      "text/plain": [
       "a    0\n",
       "b    1\n",
       "c    2\n",
       "d    3\n",
       "e    4\n",
       "dtype: int32"
      ]
     },
     "execution_count": 49,
     "metadata": {},
     "output_type": "execute_result"
    }
   ],
   "source": [
    "s = pd.Series(np.arange(0, 5), index = ['a', 'b', 'c', 'd', 'e'])\n",
    "s"
   ]
  },
  {
   "cell_type": "code",
   "execution_count": 50,
   "id": "94fab83c",
   "metadata": {},
   "outputs": [
    {
     "data": {
      "text/plain": [
       "b    1\n",
       "c    2\n",
       "dtype: int32"
      ]
     },
     "execution_count": 50,
     "metadata": {},
     "output_type": "execute_result"
    }
   ],
   "source": [
    "# создаем срез на основе позиций, поскольку индекс использует символы\n",
    "s[1:3]"
   ]
  },
  {
   "cell_type": "code",
   "execution_count": 51,
   "id": "24209c86",
   "metadata": {},
   "outputs": [
    {
     "data": {
      "text/plain": [
       "b    1\n",
       "c    2\n",
       "d    3\n",
       "dtype: int32"
      ]
     },
     "execution_count": 51,
     "metadata": {},
     "output_type": "execute_result"
    }
   ],
   "source": [
    "# создаем срез по строковым меткам индекса\n",
    "s['b':'d']"
   ]
  },
  {
   "cell_type": "markdown",
   "id": "3cae7a62",
   "metadata": {},
   "source": [
    "### __Выравнивание данных по меткам индекса__\n",
    "\n",
    "__Выравнивание__ осуществляет автоматическое согласование  связанных друг с другом значений в нескольких объектах Series на основе меток индекса.\n",
    "\n",
    "С помощью данной операции pandas сопоставляет значениие каждой переменной в каждой серии, складывает эти значения и возвращает нам суммарные значения"
   ]
  },
  {
   "cell_type": "code",
   "execution_count": 55,
   "id": "a98c8ec4",
   "metadata": {},
   "outputs": [
    {
     "data": {
      "text/plain": [
       "a    1\n",
       "b    2\n",
       "dtype: int64"
      ]
     },
     "execution_count": 55,
     "metadata": {},
     "output_type": "execute_result"
    }
   ],
   "source": [
    "# первая серия для выравнивания\n",
    "s1 = pd.Series([1, 2], index = ['a', 'b'])\n",
    "s1"
   ]
  },
  {
   "cell_type": "code",
   "execution_count": 56,
   "id": "e03b7ecd",
   "metadata": {},
   "outputs": [
    {
     "data": {
      "text/plain": [
       "b    4\n",
       "a    3\n",
       "dtype: int64"
      ]
     },
     "execution_count": 56,
     "metadata": {},
     "output_type": "execute_result"
    }
   ],
   "source": [
    "# вторая серия для выравнивания\n",
    "s2 = pd.Series([4, 3], index = ['b', 'a'])\n",
    "s2"
   ]
  },
  {
   "cell_type": "code",
   "execution_count": 57,
   "id": "6853b729",
   "metadata": {},
   "outputs": [
    {
     "data": {
      "text/plain": [
       "a    4\n",
       "b    6\n",
       "dtype: int64"
      ]
     },
     "execution_count": 57,
     "metadata": {},
     "output_type": "execute_result"
    }
   ],
   "source": [
    "# складываем обе серии\n",
    "s1 + s2"
   ]
  },
  {
   "cell_type": "code",
   "execution_count": 58,
   "id": "c96e7efe",
   "metadata": {},
   "outputs": [
    {
     "data": {
      "text/plain": [
       "a    2\n",
       "b    4\n",
       "dtype: int64"
      ]
     },
     "execution_count": 58,
     "metadata": {},
     "output_type": "execute_result"
    }
   ],
   "source": [
    "# кроме того к объекту Series можно применить скалярное значение. В результате, скалярное произведение будет применено\n",
    "# к каждому значению в объекте Series\n",
    "s1*2"
   ]
  },
  {
   "cell_type": "code",
   "execution_count": 59,
   "id": "5389d4d5",
   "metadata": {},
   "outputs": [
    {
     "data": {
      "text/plain": [
       "a    2\n",
       "b    2\n",
       "dtype: int64"
      ]
     },
     "execution_count": 59,
     "metadata": {},
     "output_type": "execute_result"
    }
   ],
   "source": [
    "# создаем серию на основе скалярного значения 2, но с индексом серии s1\n",
    "t = pd.Series(2, s1.index)\n",
    "t"
   ]
  },
  {
   "cell_type": "code",
   "execution_count": 60,
   "id": "3fb6b781",
   "metadata": {},
   "outputs": [
    {
     "data": {
      "text/plain": [
       "a    2\n",
       "b    4\n",
       "dtype: int64"
      ]
     },
     "execution_count": 60,
     "metadata": {},
     "output_type": "execute_result"
    }
   ],
   "source": [
    "# умножаем s1 * t\n",
    "s1 * t"
   ]
  },
  {
   "cell_type": "code",
   "execution_count": 62,
   "id": "c93c7a53",
   "metadata": {},
   "outputs": [
    {
     "data": {
      "text/plain": [
       "b    5\n",
       "c    6\n",
       "dtype: int64"
      ]
     },
     "execution_count": 62,
     "metadata": {},
     "output_type": "execute_result"
    }
   ],
   "source": [
    "# создаем серию 3 чтобы сложить с серией 1\n",
    "s3 = pd.Series([5, 6], index = ['b', 'c'])\n",
    "s3"
   ]
  },
  {
   "cell_type": "code",
   "execution_count": 63,
   "id": "27f80acd",
   "metadata": {},
   "outputs": [
    {
     "data": {
      "text/plain": [
       "a    NaN\n",
       "b    7.0\n",
       "c    NaN\n",
       "dtype: float64"
      ]
     },
     "execution_count": 63,
     "metadata": {},
     "output_type": "execute_result"
    }
   ],
   "source": [
    "# серии s1 и s3 имеют разные метки индексов, поэтому для а и с будут получены значения NaN \n",
    "s1 + s3"
   ]
  },
  {
   "cell_type": "code",
   "execution_count": 64,
   "id": "576458b0",
   "metadata": {},
   "outputs": [
    {
     "data": {
      "text/plain": [
       "a    1.0\n",
       "a    2.0\n",
       "b    3.0\n",
       "dtype: float64"
      ]
     },
     "execution_count": 64,
     "metadata": {},
     "output_type": "execute_result"
    }
   ],
   "source": [
    "# 2 метки а\n",
    "s1 = pd.Series([1.0, 2.0, 3.0], index = ['a', 'a', 'b'])\n",
    "s1"
   ]
  },
  {
   "cell_type": "code",
   "execution_count": null,
   "id": "bba67ea7",
   "metadata": {},
   "outputs": [],
   "source": [
    "№"
   ]
  }
 ],
 "metadata": {
  "kernelspec": {
   "display_name": "Python 3 (ipykernel)",
   "language": "python",
   "name": "python3"
  },
  "language_info": {
   "codemirror_mode": {
    "name": "ipython",
    "version": 3
   },
   "file_extension": ".py",
   "mimetype": "text/x-python",
   "name": "python",
   "nbconvert_exporter": "python",
   "pygments_lexer": "ipython3",
   "version": "3.10.9"
  }
 },
 "nbformat": 4,
 "nbformat_minor": 5
}
