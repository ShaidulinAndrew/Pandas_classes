{
 "cells": [
  {
   "cell_type": "code",
   "execution_count": 1,
   "id": "60fcdb88",
   "metadata": {},
   "outputs": [],
   "source": [
    "# импортируем библиотеки numpy и pandas\n",
    "import numpy as np\n",
    "import pandas as pd\n",
    "\n",
    "# импортируем библиотеку datatime для работы с датами\n",
    "import datetime\n",
    "from datetime import datetime, date\n",
    "\n",
    "# задаем некоторые опции библиотеки pandas, которые настраивают вывод\n",
    "pd.set_option('display.notebook_repr_html', False)     # задаем вывод в виде текста, а не HTML\n",
    "pd.set_option('display.max_columns', 8)                # устанавливаем отображение максимального количества стобцов\n",
    "pd.set_option('display.max_rows', 10)                  # устанавливаем отображение максимального количества строк\n",
    "pd.set_option('display.width', 80)                     # устанавливаеv максимальную ширину отображения в символах\n",
    "\n",
    "# импортируем библиотеку matplotlib для построения графиков\n",
    "import matplotlib.pyplot as plt \n",
    "%matplotlib inline"
   ]
  },
  {
   "cell_type": "markdown",
   "id": "5fa27852",
   "metadata": {},
   "source": [
    "### __Создание категориальных переменных__"
   ]
  },
  {
   "cell_type": "code",
   "execution_count": 2,
   "id": "6547997a",
   "metadata": {},
   "outputs": [
    {
     "data": {
      "text/plain": [
       "['low', 'hight', 'medium', 'medium', 'hight']\n",
       "Categories (3, object): ['hight', 'low', 'medium']"
      ]
     },
     "execution_count": 2,
     "metadata": {},
     "output_type": "execute_result"
    }
   ],
   "source": [
    "# создаем категориальную переменную непосредственно из списка\n",
    "lmh_values = ['low', 'hight', 'medium', 'medium', 'hight']\n",
    "lmh_cat = pd.Categorical(lmh_values)\n",
    "lmh_cat"
   ]
  },
  {
   "cell_type": "code",
   "execution_count": 3,
   "id": "6406c830",
   "metadata": {},
   "outputs": [
    {
     "data": {
      "text/plain": [
       "Index(['hight', 'low', 'medium'], dtype='object')"
      ]
     },
     "execution_count": 3,
     "metadata": {},
     "output_type": "execute_result"
    }
   ],
   "source": [
    "# смотрим категории\n",
    "lmh_cat.categories"
   ]
  },
  {
   "cell_type": "code",
   "execution_count": 4,
   "id": "f3c10ffa",
   "metadata": {},
   "outputs": [
    {
     "data": {
      "text/plain": [
       "array([1, 0, 2, 2, 0], dtype=int8)"
      ]
     },
     "execution_count": 4,
     "metadata": {},
     "output_type": "execute_result"
    }
   ],
   "source": [
    "# Каждой категории объекта Categorical присваивается целочисленное значение. Это значение называется кодом (code)\n",
    "# Коды можно посмотреть с помощью свойства .codes\n",
    "lmh_cat.codes"
   ]
  },
  {
   "cell_type": "code",
   "execution_count": 5,
   "id": "75b3b527",
   "metadata": {},
   "outputs": [
    {
     "data": {
      "text/plain": [
       "['low', 'hight', 'medium', 'medium', 'hight']\n",
       "Categories (3, object): ['low', 'medium', 'hight']"
      ]
     },
     "execution_count": 5,
     "metadata": {},
     "output_type": "execute_result"
    }
   ],
   "source": [
    "# данный порядок можно оптимизировать, указав категории с помощью параметра categories \n",
    "lmh_cat = pd.Categorical(lmh_values, categories = ['low', 'medium', 'hight'])\n",
    "lmh_cat"
   ]
  },
  {
   "cell_type": "code",
   "execution_count": 6,
   "id": "654c664c",
   "metadata": {},
   "outputs": [
    {
     "data": {
      "text/plain": [
       "array([0, 2, 1, 1, 2], dtype=int8)"
      ]
     },
     "execution_count": 6,
     "metadata": {},
     "output_type": "execute_result"
    }
   ],
   "source": [
    "lmh_cat.codes"
   ]
  },
  {
   "cell_type": "code",
   "execution_count": 7,
   "id": "6e57b7d0",
   "metadata": {},
   "outputs": [
    {
     "data": {
      "text/plain": [
       "['low', 'medium', 'medium', 'hight', 'hight']\n",
       "Categories (3, object): ['low', 'medium', 'hight']"
      ]
     },
     "execution_count": 7,
     "metadata": {},
     "output_type": "execute_result"
    }
   ],
   "source": [
    "# данная кодировка более полезная, так как ее можно использовать для сортировки значений в том порядке \n",
    "# который соответствует смыслу\n",
    "# сортировка выполняется с помощью кодов, лежащих в основе кодов каждого значения\n",
    "lmh_cat.sort_values()"
   ]
  },
  {
   "cell_type": "code",
   "execution_count": 8,
   "id": "0349ff69",
   "metadata": {},
   "outputs": [
    {
     "data": {
      "text/plain": [
       "0       low\n",
       "1     hight\n",
       "2    medium\n",
       "3    medium\n",
       "4     hight\n",
       "dtype: category\n",
       "Categories (3, object): ['hight', 'low', 'medium']"
      ]
     },
     "execution_count": 8,
     "metadata": {},
     "output_type": "execute_result"
    }
   ],
   "source": [
    "# категориальную переменную можно представить в виде серии у которой тип данных (dtype) обозначется как category\n",
    "# создаем категориальную переменную с помощью объекта Series и dtype\n",
    "cat_series = pd.Series(lmh_values, dtype = 'category')\n",
    "cat_series"
   ]
  },
  {
   "cell_type": "code",
   "execution_count": 9,
   "id": "1fc4473d",
   "metadata": {},
   "outputs": [
    {
     "data": {
      "text/plain": [
       "0       low\n",
       "1     hight\n",
       "2    medium\n",
       "3    medium\n",
       "4     hight\n",
       "dtype: category\n",
       "Categories (3, object): ['hight', 'low', 'medium']"
      ]
     },
     "execution_count": 9,
     "metadata": {},
     "output_type": "execute_result"
    }
   ],
   "source": [
    "# Другой способ создания категориальной переменной состоит в том, что бы сначала создать объект Series а затем \n",
    "# преобразовать столбей с данными в кагегориальную переменную используя метод .astype('category')\n",
    "s = pd.Series(lmh_values)\n",
    "as_cat = s.astype('category')\n",
    "cat_series"
   ]
  },
  {
   "cell_type": "code",
   "execution_count": 10,
   "id": "7c8b5843",
   "metadata": {},
   "outputs": [
    {
     "data": {
      "text/plain": [
       "<pandas.core.arrays.categorical.CategoricalAccessor object at 0x000001B6D22FAB30>"
      ]
     },
     "execution_count": 10,
     "metadata": {},
     "output_type": "execute_result"
    }
   ],
   "source": [
    "# категориальная переменная имеет свойство .cat\n",
    "cat_series.cat"
   ]
  },
  {
   "cell_type": "code",
   "execution_count": 11,
   "id": "d200a36e",
   "metadata": {},
   "outputs": [
    {
     "data": {
      "text/plain": [
       "Index(['hight', 'low', 'medium'], dtype='object')"
      ]
     },
     "execution_count": 11,
     "metadata": {},
     "output_type": "execute_result"
    }
   ],
   "source": [
    "# получаем индекс категориальной переменной\n",
    "cat_series.cat.categories"
   ]
  },
  {
   "cell_type": "code",
   "execution_count": 12,
   "id": "d7261855",
   "metadata": {},
   "outputs": [
    {
     "data": {
      "text/plain": [
       "   Values\n",
       "0      65\n",
       "1      49\n",
       "2      56\n",
       "3      43\n",
       "4      43"
      ]
     },
     "execution_count": 12,
     "metadata": {},
     "output_type": "execute_result"
    }
   ],
   "source": [
    "# некоторые пандосовские функций также возвращают объекты Categorical. Одна из них - функция pd.cut()\n",
    "# которая создает группы наблюдений, расположенных внутри определенных диапазанов значений\n",
    "# создаем DataFrame из 100 значений\n",
    "np.random.seed(123456)\n",
    "values = np.random.randint(0, 100, 5)\n",
    "bins = pd.DataFrame({'Values': values})\n",
    "bins"
   ]
  },
  {
   "cell_type": "code",
   "execution_count": 13,
   "id": "e496b227",
   "metadata": {},
   "outputs": [
    {
     "data": {
      "text/plain": [
       "   Values     Group\n",
       "0      65  (60, 70]\n",
       "1      49  (40, 50]\n",
       "2      56  (50, 60]\n",
       "3      43  (40, 50]\n",
       "4      43  (40, 50]"
      ]
     },
     "execution_count": 13,
     "metadata": {},
     "output_type": "execute_result"
    }
   ],
   "source": [
    "# разбиваем значения на 10 групп\n",
    "bins['Group'] = pd.cut(values, range(0, 101, 10))\n",
    "bins"
   ]
  },
  {
   "cell_type": "code",
   "execution_count": 14,
   "id": "58423823",
   "metadata": {},
   "outputs": [
    {
     "data": {
      "text/plain": [
       "0    (60, 70]\n",
       "1    (40, 50]\n",
       "2    (50, 60]\n",
       "3    (40, 50]\n",
       "4    (40, 50]\n",
       "Name: Group, dtype: category\n",
       "Categories (10, interval[int64, right]): [(0, 10] < (10, 20] < (20, 30] < (30, 40] ... (60, 70] < (70, 80] < (80, 90] < (90, 100]]"
      ]
     },
     "execution_count": 14,
     "metadata": {},
     "output_type": "execute_result"
    }
   ],
   "source": [
    "# проверям, является ли созданная переменная категориальной\n",
    "bins.Group"
   ]
  },
  {
   "cell_type": "code",
   "execution_count": 15,
   "id": "d43ddf49",
   "metadata": {},
   "outputs": [
    {
     "data": {
      "text/plain": [
       "['bronze', 'gold', 'silver', 'bronze']\n",
       "Categories (3, object): ['bronze' < 'silver' < 'gold']"
      ]
     },
     "execution_count": 15,
     "metadata": {},
     "output_type": "execute_result"
    }
   ],
   "source": [
    "# явный порядок категорий можно указать с помощью параметра ordered = True. Эта настройка означает, что порядок\n",
    "# категорий важен и позволяет сравнивать значения в нескольких сериях представленных в виде объектов Categorical \n",
    "metal_values = ['bronze', 'gold', 'silver', 'bronze']\n",
    "metal_categories = ['bronze', 'silver', 'gold']\n",
    "metals = pd.Categorical(metal_values, categories = metal_categories, ordered = True)\n",
    "metals\n"
   ]
  },
  {
   "cell_type": "code",
   "execution_count": 16,
   "id": "c746e56b",
   "metadata": {},
   "outputs": [
    {
     "data": {
      "text/plain": [
       "['bronze', NaN]\n",
       "Categories (3, object): ['bronze', 'silver', 'gold']"
      ]
     },
     "execution_count": 16,
     "metadata": {},
     "output_type": "execute_result"
    }
   ],
   "source": [
    "# создаем категориальную переменную со значением, которое нельзя отнести ни к одной из категорий,\n",
    "# поэтому для него будет получено значение Nan \n",
    "pd.Categorical(['bronze', 'copper'], categories = metal_categories)"
   ]
  },
  {
   "cell_type": "markdown",
   "id": "cf6aae92",
   "metadata": {},
   "source": [
    "__Переименование категорий__"
   ]
  },
  {
   "cell_type": "code",
   "execution_count": 17,
   "id": "6445d70e",
   "metadata": {},
   "outputs": [
    {
     "data": {
      "text/plain": [
       "['a', 'b', 'c', 'a']\n",
       "Categories (3, object): ['a', 'b', 'c']"
      ]
     },
     "execution_count": 17,
     "metadata": {},
     "output_type": "execute_result"
    }
   ],
   "source": [
    "# категории объекта Categorical можно переименовать, передав новые имена свойству .categories или \n",
    "# воспользовавшись методом .rename_categories()\n",
    "# создаем категориальную переменную с 3 категориями\n",
    "cat = pd.Categorical(['a', 'b', 'c', 'a'], categories = ['a', 'b', 'c'])\n",
    "cat"
   ]
  },
  {
   "cell_type": "code",
   "execution_count": 18,
   "id": "820a5d89",
   "metadata": {},
   "outputs": [
    {
     "name": "stderr",
     "output_type": "stream",
     "text": [
      "C:\\Users\\DS\\AppData\\Local\\Temp\\ipykernel_8160\\392166885.py:2: FutureWarning: Setting categories in-place is deprecated and will raise in a future version. Use rename_categories instead.\n",
      "  cat.categories = ['bronze', 'silver', 'gold']\n"
     ]
    },
    {
     "data": {
      "text/plain": [
       "['bronze', 'silver', 'gold', 'bronze']\n",
       "Categories (3, object): ['bronze', 'silver', 'gold']"
      ]
     },
     "execution_count": 18,
     "metadata": {},
     "output_type": "execute_result"
    }
   ],
   "source": [
    "# переименовываем категории (а также значения)\n",
    "cat.categories = ['bronze', 'silver', 'gold']\n",
    "cat\n",
    "# обращаем внимание на то, что в данном случае переименование на месте"
   ]
  },
  {
   "cell_type": "code",
   "execution_count": 19,
   "id": "685cad4f",
   "metadata": {},
   "outputs": [
    {
     "data": {
      "text/plain": [
       "['x', 'y', 'z', 'x']\n",
       "Categories (3, object): ['x', 'y', 'z']"
      ]
     },
     "execution_count": 19,
     "metadata": {},
     "output_type": "execute_result"
    }
   ],
   "source": [
    "# что бы избежать переименовывания на месте воспользуемся методом .rename_categories() \n",
    "cat.rename_categories(['x', 'y', 'z'])"
   ]
  },
  {
   "cell_type": "code",
   "execution_count": 20,
   "id": "a4742cb6",
   "metadata": {},
   "outputs": [
    {
     "data": {
      "text/plain": [
       "['bronze', 'silver', 'gold', 'bronze']\n",
       "Categories (3, object): ['bronze', 'silver', 'gold']"
      ]
     },
     "execution_count": 20,
     "metadata": {},
     "output_type": "execute_result"
    }
   ],
   "source": [
    "# убедимся, что операция не была произведена на месте\n",
    "cat"
   ]
  },
  {
   "cell_type": "markdown",
   "id": "1d34aa2e",
   "metadata": {},
   "source": [
    "__Добавление категорий__"
   ]
  },
  {
   "cell_type": "code",
   "execution_count": 21,
   "id": "819317b9",
   "metadata": {},
   "outputs": [
    {
     "data": {
      "text/plain": [
       "['bronze', 'gold', 'silver', 'bronze']\n",
       "Categories (4, object): ['bronze' < 'silver' < 'gold' < 'platinum']"
      ]
     },
     "execution_count": 21,
     "metadata": {},
     "output_type": "execute_result"
    }
   ],
   "source": [
    "# с помощью метода .add_categories() можно добавить новую категорию. Добавим новую категорию platinum\n",
    "with_platinum = metals.add_categories('platinum')\n",
    "with_platinum"
   ]
  },
  {
   "cell_type": "markdown",
   "id": "ecec7b8d",
   "metadata": {},
   "source": [
    "__Удаление категорий__"
   ]
  },
  {
   "cell_type": "code",
   "execution_count": 22,
   "id": "7d4e1e0f",
   "metadata": {},
   "outputs": [
    {
     "data": {
      "text/plain": [
       "[NaN, 'gold', 'silver', NaN]\n",
       "Categories (2, object): ['silver' < 'gold']"
      ]
     },
     "execution_count": 22,
     "metadata": {},
     "output_type": "execute_result"
    }
   ],
   "source": [
    "# удалим категорию с помощью метода .remove_categories(). Удаленные категории заменяются значениями Nan с помощью np.Nan \n",
    "no_bronze = metals.remove_categories('bronze')\n",
    "no_bronze"
   ]
  },
  {
   "cell_type": "markdown",
   "id": "b07139ba",
   "metadata": {},
   "source": [
    "__Удаление неиспользуемых категорий__ "
   ]
  },
  {
   "cell_type": "code",
   "execution_count": 23,
   "id": "3dd2325f",
   "metadata": {},
   "outputs": [
    {
     "data": {
      "text/plain": [
       "['bronze', 'gold', 'silver', 'bronze']\n",
       "Categories (3, object): ['bronze' < 'silver' < 'gold']"
      ]
     },
     "execution_count": 23,
     "metadata": {},
     "output_type": "execute_result"
    }
   ],
   "source": [
    "# С помощью метода .remove_unused_categories() удалим категорию Platinum\n",
    "with_platinum.remove_unused_categories()"
   ]
  },
  {
   "cell_type": "markdown",
   "id": "bb2a08da",
   "metadata": {},
   "source": [
    "__Установка категорий__"
   ]
  },
  {
   "cell_type": "code",
   "execution_count": 24,
   "id": "6f09fea9",
   "metadata": {},
   "outputs": [
    {
     "data": {
      "text/plain": [
       "0     one\n",
       "1     two\n",
       "2    four\n",
       "3    five\n",
       "dtype: category\n",
       "Categories (4, object): ['five', 'four', 'one', 'two']"
      ]
     },
     "execution_count": 24,
     "metadata": {},
     "output_type": "execute_result"
    }
   ],
   "source": [
    "# С помощью метода .set_categories() можно сразу добавлять и удалять категории\n",
    "# создаем серию\n",
    "s = pd.Series(['one', 'two', 'four', 'five'], dtype = 'category')\n",
    "s"
   ]
  },
  {
   "cell_type": "code",
   "execution_count": 26,
   "id": "5c09a160",
   "metadata": {},
   "outputs": [
    {
     "data": {
      "text/plain": [
       "0     one\n",
       "1     NaN\n",
       "2    four\n",
       "3     NaN\n",
       "dtype: category\n",
       "Categories (2, object): ['one', 'four']"
      ]
     },
     "execution_count": 26,
     "metadata": {},
     "output_type": "execute_result"
    }
   ],
   "source": [
    "# удаляем категории (они заменяются на значения Nan)\n",
    "s = s.cat.set_categories(['one', 'four'])\n",
    "s\n",
    "# врезультате получаем Nan для несуществующих категорий"
   ]
  },
  {
   "cell_type": "markdown",
   "id": "85b905fd",
   "metadata": {},
   "source": [
    "__Вычисление описательных статистик для категориальной переменной__"
   ]
  },
  {
   "cell_type": "code",
   "execution_count": 27,
   "id": "c1af8d77",
   "metadata": {},
   "outputs": [
    {
     "data": {
      "text/plain": [
       "            counts  freqs\n",
       "categories               \n",
       "bronze           2   0.50\n",
       "silver           1   0.25\n",
       "gold             1   0.25"
      ]
     },
     "execution_count": 27,
     "metadata": {},
     "output_type": "execute_result"
    }
   ],
   "source": [
    "# метод .describe() вычисляет описательные статистики для объекта Categorical так же как и для Series, и DataFrame\n",
    "# в результате получаем количество наблюдений в каждой категории и распределение частот по категориям\n",
    "metals.describe()"
   ]
  },
  {
   "cell_type": "code",
   "execution_count": 29,
   "id": "9284f4e3",
   "metadata": {},
   "outputs": [
    {
     "data": {
      "text/plain": [
       "bronze    2\n",
       "silver    1\n",
       "gold      1\n",
       "dtype: int64"
      ]
     },
     "execution_count": 29,
     "metadata": {},
     "output_type": "execute_result"
    }
   ],
   "source": [
    "# количество значений для каждой категории можно получить с помощью .value_counts()\n",
    "metals.value_counts()"
   ]
  },
  {
   "cell_type": "code",
   "execution_count": 31,
   "id": "728022c1",
   "metadata": {},
   "outputs": [
    {
     "name": "stderr",
     "output_type": "stream",
     "text": [
      "C:\\Users\\DS\\AppData\\Local\\Temp\\ipykernel_8160\\2487230323.py:2: FutureWarning: Categorical.mode is deprecated and will be removed in a future version. Use Series.mode instead.\n",
      "  (metals.min(), metals.max(), metals.mode())\n"
     ]
    },
    {
     "data": {
      "text/plain": [
       "('bronze',\n",
       " 'gold',\n",
       " ['bronze']\n",
       " Categories (3, object): ['bronze' < 'silver' < 'gold'])"
      ]
     },
     "execution_count": 31,
     "metadata": {},
     "output_type": "execute_result"
    }
   ],
   "source": [
    "# минимум, максимум и моду можно вычислить с помощью методов .min() .max() .mode()\n",
    "(metals.min(), metals.max(), metals.mode())"
   ]
  },
  {
   "cell_type": "markdown",
   "id": "309e1246",
   "metadata": {},
   "source": [
    "## __Задача. Обработка школьных оценок__"
   ]
  },
  {
   "cell_type": "code",
   "execution_count": 34,
   "id": "0df24f41",
   "metadata": {},
   "outputs": [
    {
     "data": {
      "text/plain": [
       "     Name  Grade\n",
       "0   Ivana     51\n",
       "1  Norris     92\n",
       "2    Ruth    100\n",
       "3    Lane     99\n",
       "4    Skye     93\n",
       "5     Sol     97\n",
       "6   Dylan     93\n",
       "7  Katina     77\n",
       "8  Alissa     82\n",
       "9    Mark     73"
      ]
     },
     "execution_count": 34,
     "metadata": {},
     "output_type": "execute_result"
    }
   ],
   "source": [
    "# создадим DataFrame. 10 учеников со случайными оценками\n",
    "np.random.seed(123456)\n",
    "names = ['Ivana', 'Norris', 'Ruth', 'Lane', 'Skye', 'Sol', 'Dylan', 'Katina', 'Alissa', 'Mark']\n",
    "grades = np.random.randint(50, 101, len(names))\n",
    "scores = pd.DataFrame({'Name': names, 'Grade': grades})\n",
    "scores"
   ]
  },
  {
   "cell_type": "code",
   "execution_count": 35,
   "id": "156b1025",
   "metadata": {},
   "outputs": [],
   "source": [
    "# DataFrame содержит исходные оценки для каждого из студентов. Мы разбиваем числовые оценки на буквенные коды\n",
    "# задаем группы и соответствующие буквенные оценки\n",
    "score_bins = [0, 59, 62, 66, 69, 72, 76, 79, 82, 86, 89, 92, 99, 100]\n",
    "letter_grades = ['F', 'D-', 'D', 'D+', 'C-', 'C', 'C+', 'B-', 'B', 'B+', 'A-', 'A', 'A+']"
   ]
  },
  {
   "cell_type": "code",
   "execution_count": 37,
   "id": "dfccd48d",
   "metadata": {},
   "outputs": [
    {
     "data": {
      "text/plain": [
       "     Name  Grade Letter\n",
       "0   Ivana     51      F\n",
       "1  Norris     92     A-\n",
       "2    Ruth    100     A+\n",
       "3    Lane     99      A\n",
       "4    Skye     93      A\n",
       "5     Sol     97      A\n",
       "6   Dylan     93      A\n",
       "7  Katina     77     C+\n",
       "8  Alissa     82     B-\n",
       "9    Mark     73      C"
      ]
     },
     "execution_count": 37,
     "metadata": {},
     "output_type": "execute_result"
    }
   ],
   "source": [
    "# разбиваем на основе групп и присваиваем буквенные оценки\n",
    "letter_cats = pd.cut(scores.Grade, score_bins, labels = letter_grades)\n",
    "scores['Letter'] = letter_cats\n",
    "scores"
   ]
  },
  {
   "cell_type": "code",
   "execution_count": 38,
   "id": "eedddf01",
   "metadata": {},
   "outputs": [
    {
     "data": {
      "text/plain": [
       "0     F\n",
       "1    A-\n",
       "2    A+\n",
       "3     A\n",
       "4     A\n",
       "5     A\n",
       "6     A\n",
       "7    C+\n",
       "8    B-\n",
       "9     C\n",
       "Name: Grade, dtype: category\n",
       "Categories (13, object): ['F' < 'D-' < 'D' < 'D+' ... 'B+' < 'A-' < 'A' < 'A+']"
      ]
     },
     "execution_count": 38,
     "metadata": {},
     "output_type": "execute_result"
    }
   ],
   "source": [
    "# исследуем интересующую категориальную переменную\n",
    "letter_cats"
   ]
  },
  {
   "cell_type": "code",
   "execution_count": 40,
   "id": "c7fb72dd",
   "metadata": {},
   "outputs": [
    {
     "data": {
      "text/plain": [
       "A     4\n",
       "F     1\n",
       "C     1\n",
       "C+    1\n",
       "B-    1\n",
       "     ..\n",
       "D     0\n",
       "D+    0\n",
       "C-    0\n",
       "B     0\n",
       "B+    0\n",
       "Name: Letter, Length: 13, dtype: int64"
      ]
     },
     "execution_count": 40,
     "metadata": {},
     "output_type": "execute_result"
    }
   ],
   "source": [
    "# чтобы определить количество учеников для каждой буквенной оценки воспользуемся .cat.value_counts()\n",
    "scores.Letter.value_counts()"
   ]
  },
  {
   "cell_type": "code",
   "execution_count": 42,
   "id": "dde26952",
   "metadata": {},
   "outputs": [
    {
     "data": {
      "text/plain": [
       "     Name  Grade Letter\n",
       "0   Ivana     51      F\n",
       "9    Mark     73      C\n",
       "7  Katina     77     C+\n",
       "8  Alissa     82     B-\n",
       "1  Norris     92     A-\n",
       "3    Lane     99      A\n",
       "4    Skye     93      A\n",
       "5     Sol     97      A\n",
       "6   Dylan     93      A\n",
       "2    Ruth    100     A+"
      ]
     },
     "execution_count": 42,
     "metadata": {},
     "output_type": "execute_result"
    }
   ],
   "source": [
    "# Упорядочим учеников в порядке убывания числовык оценок отсортировав по Letter \n",
    "scores.sort_values(by = ['Letter'], ascending = True)"
   ]
  },
  {
   "cell_type": "code",
   "execution_count": null,
   "id": "a22b24a3",
   "metadata": {},
   "outputs": [],
   "source": []
  }
 ],
 "metadata": {
  "kernelspec": {
   "display_name": "Python 3 (ipykernel)",
   "language": "python",
   "name": "python3"
  },
  "language_info": {
   "codemirror_mode": {
    "name": "ipython",
    "version": 3
   },
   "file_extension": ".py",
   "mimetype": "text/x-python",
   "name": "python",
   "nbconvert_exporter": "python",
   "pygments_lexer": "ipython3",
   "version": "3.10.13"
  }
 },
 "nbformat": 4,
 "nbformat_minor": 5
}
