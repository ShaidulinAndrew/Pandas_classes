{
 "cells": [
  {
   "cell_type": "code",
   "execution_count": 1,
   "id": "3faaf105",
   "metadata": {},
   "outputs": [],
   "source": [
    "# импортируем библиотеки numpy и pandas\n",
    "import numpy as np\n",
    "import pandas as pd\n",
    "\n",
    "# импортируем библиотеку datatime для работы с датами\n",
    "import datetime\n",
    "from datetime import datetime, date\n",
    "\n",
    "# задаем некоторые опции библиотеки pandas, которые настраивают вывод\n",
    "pd.set_option('display.notebook_repr_html', False)     # задаем вывод в виде текста, а не HTML\n",
    "pd.set_option('display.max_columns', 8)                # устанавливаем отображение максимального количества стобцов\n",
    "pd.set_option('display.max_rows', 10)                  # устанавливаем отображение максимального количества строк\n",
    "pd.set_option('display.width', 80)                     # устанавливаеv максимальную ширину отображения в символах\n",
    "\n",
    "# импортируем библиотеку matplotlib для построения графиков\n",
    "import matplotlib.pyplot as plt \n",
    "%matplotlib inline"
   ]
  },
  {
   "cell_type": "markdown",
   "id": "193a9685",
   "metadata": {},
   "source": [
    "__РАБОТА С ПРОПУЩЕННЫМИ ДАННЫМИ__"
   ]
  },
  {
   "cell_type": "markdown",
   "id": "acdf7083",
   "metadata": {},
   "source": [
    "__Причины по которым могут возникнуть пропущенные данные (Nan)__\n",
    "- объединение двух наборов данных с несовпадающими названиями переменных;\n",
    "- данные, извлеченные из внешнего источника, являются не полными;\n",
    "- значение переменной неизвестно в данный момент времени и будет заполнено позднее;\n",
    "- при сборе информации был допущен пропуск, однако наблюдение все равно должно быть записано;\n",
    "- переиндексация данных привела к индексу, у которого отсутствует значение;\n",
    "- форма данных изменилась со временем, и теперь появились дополнительные строки или столбцы, которые до момента появления этих изменений нельзя было зафиксировать"
   ]
  },
  {
   "cell_type": "code",
   "execution_count": 2,
   "id": "2c5dbcb8",
   "metadata": {},
   "outputs": [
    {
     "data": {
      "text/plain": [
       "   c1  c2  c3\n",
       "a   0   1   2\n",
       "b   3   4   5\n",
       "c   6   7   8\n",
       "d   9  10  11\n",
       "e  12  13  14"
      ]
     },
     "execution_count": 2,
     "metadata": {},
     "output_type": "execute_result"
    }
   ],
   "source": [
    "# создаем датафрейм с 5 строками и 3 столбцами\n",
    "df = pd.DataFrame(np.arange(0, 15).reshape(5, 3),\n",
    "                  index = ['a', 'b', 'c', 'd', 'e'],\n",
    "                  columns = ['c1', 'c2', 'c3'])\n",
    "df"
   ]
  },
  {
   "cell_type": "code",
   "execution_count": 3,
   "id": "3ccce057",
   "metadata": {},
   "outputs": [
    {
     "data": {
      "text/plain": [
       "     c1    c2    c3    c4  c5\n",
       "a   0.0   1.0   2.0  20.0 NaN\n",
       "b   3.0   4.0   5.0   NaN NaN\n",
       "c   6.0   7.0   8.0   NaN NaN\n",
       "d   9.0  10.0  11.0   NaN NaN\n",
       "e  12.0  13.0  14.0   NaN NaN\n",
       "f  15.0  16.0  17.0  18.0 NaN\n",
       "g   NaN   NaN   NaN   NaN NaN"
      ]
     },
     "execution_count": 3,
     "metadata": {},
     "output_type": "execute_result"
    }
   ],
   "source": [
    "# добавляем несколько столбцов и строк в датафрейм\n",
    "df['c4'] = np.nan\n",
    "# строка f со значениями от 15 до 18\n",
    "df.loc['f'] = np.arange(15, 19)\n",
    "# строка g состоящая из значений Nan \n",
    "df.loc['g'] = np.nan\n",
    "# столбец с5 состоящий из значений Nan\n",
    "df['c5'] = np.nan\n",
    "# меняем значение в столбце с4 строки а\n",
    "df['c4']['a'] = 20\n",
    "df"
   ]
  },
  {
   "cell_type": "markdown",
   "id": "ef4da7de",
   "metadata": {},
   "source": [
    "__Поиск значений Nan в объектах библиотеки Pandas__"
   ]
  },
  {
   "cell_type": "code",
   "execution_count": 4,
   "id": "98f4558d",
   "metadata": {},
   "outputs": [
    {
     "data": {
      "text/plain": [
       "      c1     c2     c3     c4    c5\n",
       "a  False  False  False  False  True\n",
       "b  False  False  False   True  True\n",
       "c  False  False  False   True  True\n",
       "d  False  False  False   True  True\n",
       "e  False  False  False   True  True\n",
       "f  False  False  False  False  True\n",
       "g   True   True   True   True  True"
      ]
     },
     "execution_count": 4,
     "metadata": {},
     "output_type": "execute_result"
    }
   ],
   "source": [
    "# Значения Nan в DataFrame можно найти с помощью метода .isnull Любое значение True означает что этот элемент Nan \n",
    "df.isnull()"
   ]
  },
  {
   "cell_type": "code",
   "execution_count": 5,
   "id": "261d3a4e",
   "metadata": {},
   "outputs": [
    {
     "data": {
      "text/plain": [
       "c1    1\n",
       "c2    1\n",
       "c3    1\n",
       "c4    5\n",
       "c5    7\n",
       "dtype: int64"
      ]
     },
     "execution_count": 5,
     "metadata": {},
     "output_type": "execute_result"
    }
   ],
   "source": [
    "# метод .sum() рассматривает True как 1 и Falsу как 0, чтобы вычислить количество Nan в объекте DataFrame\n",
    "df.isnull().sum()"
   ]
  },
  {
   "cell_type": "code",
   "execution_count": 6,
   "id": "7b9f26b3",
   "metadata": {},
   "outputs": [
    {
     "data": {
      "text/plain": [
       "15"
      ]
     },
     "execution_count": 6,
     "metadata": {},
     "output_type": "execute_result"
    }
   ],
   "source": [
    "# вычисляем общее количество Nan в объекте\n",
    "df.isnull().sum().sum()"
   ]
  },
  {
   "cell_type": "code",
   "execution_count": 7,
   "id": "d3230203",
   "metadata": {},
   "outputs": [
    {
     "data": {
      "text/plain": [
       "c1    6\n",
       "c2    6\n",
       "c3    6\n",
       "c4    2\n",
       "c5    0\n",
       "dtype: int64"
      ]
     },
     "execution_count": 7,
     "metadata": {},
     "output_type": "execute_result"
    }
   ],
   "source": [
    "# еще один способ определить пропуски - использовать метод .count() Для объекта Series он возвращает число не пропущенных \n",
    "# значений, для объекта DataFrame он будет подсчитывать количество непропущенных значений в каждом столбце\n",
    "# вычисляем количество значений отличных от Nan, по каждому столбцу\n",
    "df.count()"
   ]
  },
  {
   "cell_type": "code",
   "execution_count": 8,
   "id": "b3d41916",
   "metadata": {},
   "outputs": [
    {
     "data": {
      "text/plain": [
       "15"
      ]
     },
     "execution_count": 8,
     "metadata": {},
     "output_type": "execute_result"
    }
   ],
   "source": [
    "# еще один вариант подсчета общего количества Nan \n",
    "(len(df) - df.count()).sum()"
   ]
  },
  {
   "cell_type": "code",
   "execution_count": 9,
   "id": "93a862c6",
   "metadata": {},
   "outputs": [
    {
     "data": {
      "text/plain": [
       "      c1     c2     c3     c4     c5\n",
       "a   True   True   True   True  False\n",
       "b   True   True   True  False  False\n",
       "c   True   True   True  False  False\n",
       "d   True   True   True  False  False\n",
       "e   True   True   True  False  False\n",
       "f   True   True   True   True  False\n",
       "g  False  False  False  False  False"
      ]
     },
     "execution_count": 9,
     "metadata": {},
     "output_type": "execute_result"
    }
   ],
   "source": [
    "# можно определить, является ли элемент непропущенным значением, воспользовавшись методом .notnull()\n",
    "df.notnull()"
   ]
  },
  {
   "cell_type": "markdown",
   "id": "8f4990eb",
   "metadata": {},
   "source": [
    "__Удаление пропущенных данных__"
   ]
  },
  {
   "cell_type": "code",
   "execution_count": 10,
   "id": "449950de",
   "metadata": {},
   "outputs": [
    {
     "data": {
      "text/plain": [
       "a    20.0\n",
       "f    18.0\n",
       "Name: c4, dtype: float64"
      ]
     },
     "execution_count": 10,
     "metadata": {},
     "output_type": "execute_result"
    }
   ],
   "source": [
    "# отбираем непропущенные значения в столбце с4\n",
    "df.c4[df.c4.notnull()]"
   ]
  },
  {
   "cell_type": "code",
   "execution_count": 11,
   "id": "dec916aa",
   "metadata": {},
   "outputs": [
    {
     "data": {
      "text/plain": [
       "a    20.0\n",
       "f    18.0\n",
       "Name: c4, dtype: float64"
      ]
     },
     "execution_count": 11,
     "metadata": {},
     "output_type": "execute_result"
    }
   ],
   "source": [
    "# .dropna() также возвращает не пропущенные значения\n",
    "df.c4.dropna()"
   ]
  },
  {
   "cell_type": "code",
   "execution_count": 12,
   "id": "c5b8bbca",
   "metadata": {},
   "outputs": [
    {
     "data": {
      "text/plain": [
       "a    20.0\n",
       "b     NaN\n",
       "c     NaN\n",
       "d     NaN\n",
       "e     NaN\n",
       "f    18.0\n",
       "g     NaN\n",
       "Name: c4, dtype: float64"
      ]
     },
     "execution_count": 12,
     "metadata": {},
     "output_type": "execute_result"
    }
   ],
   "source": [
    "# .dropna() возвращает копию с удаленными значениями, исходник не изменился\n",
    "df.c4"
   ]
  },
  {
   "cell_type": "code",
   "execution_count": 13,
   "id": "376d3d7e",
   "metadata": {},
   "outputs": [
    {
     "data": {
      "text/plain": [
       "Empty DataFrame\n",
       "Columns: [c1, c2, c3, c4, c5]\n",
       "Index: []"
      ]
     },
     "execution_count": 13,
     "metadata": {},
     "output_type": "execute_result"
    }
   ],
   "source": [
    "# когда .dropna() применяется к объекту DataFrame, он удаляет из объекта DataFrame все строки в которых есть хотя бы одно Nan \n",
    "df.dropna()"
   ]
  },
  {
   "cell_type": "code",
   "execution_count": 14,
   "id": "f7d0368e",
   "metadata": {},
   "outputs": [
    {
     "data": {
      "text/plain": [
       "     c1    c2    c3    c4  c5\n",
       "a   0.0   1.0   2.0  20.0 NaN\n",
       "b   3.0   4.0   5.0   NaN NaN\n",
       "c   6.0   7.0   8.0   NaN NaN\n",
       "d   9.0  10.0  11.0   NaN NaN\n",
       "e  12.0  13.0  14.0   NaN NaN\n",
       "f  15.0  16.0  17.0  18.0 NaN"
      ]
     },
     "execution_count": 14,
     "metadata": {},
     "output_type": "execute_result"
    }
   ],
   "source": [
    "# используя параметр how = 'all', удаляем только те строки в которых все значения Nan \n",
    "df.dropna(how ='all')"
   ]
  },
  {
   "cell_type": "code",
   "execution_count": 15,
   "id": "f7d80cc1",
   "metadata": {},
   "outputs": [
    {
     "data": {
      "text/plain": [
       "     c1    c2    c3    c4\n",
       "a   0.0   1.0   2.0  20.0\n",
       "b   3.0   4.0   5.0   NaN\n",
       "c   6.0   7.0   8.0   NaN\n",
       "d   9.0  10.0  11.0   NaN\n",
       "e  12.0  13.0  14.0   NaN\n",
       "f  15.0  16.0  17.0  18.0\n",
       "g   NaN   NaN   NaN   NaN"
      ]
     },
     "execution_count": 15,
     "metadata": {},
     "output_type": "execute_result"
    }
   ],
   "source": [
    "# меняем ось что бы удалить столбцы со значениями Nan \n",
    "df.dropna(how = 'all', axis = 1)"
   ]
  },
  {
   "cell_type": "code",
   "execution_count": 16,
   "id": "be3b4c4d",
   "metadata": {},
   "outputs": [
    {
     "data": {
      "text/plain": [
       "     c1    c2    c3    c4  c5\n",
       "a   0.0   1.0   2.0  20.0 NaN\n",
       "b   3.0   4.0   5.0   NaN NaN\n",
       "c   6.0   7.0   8.0   NaN NaN\n",
       "d   9.0  10.0  11.0   NaN NaN\n",
       "e  12.0  13.0  14.0   NaN NaN\n",
       "f  15.0  16.0  17.0  18.0 NaN\n",
       "g   0.0   NaN   0.0   NaN NaN"
      ]
     },
     "execution_count": 16,
     "metadata": {},
     "output_type": "execute_result"
    }
   ],
   "source": [
    "# создаем копию DataFrame\n",
    "df2 = df.copy()\n",
    "df2.loc['g'].c1 = 0\n",
    "df2.loc['g'].c3 = 0\n",
    "df2"
   ]
  },
  {
   "cell_type": "code",
   "execution_count": 17,
   "id": "43fb1432",
   "metadata": {},
   "outputs": [
    {
     "data": {
      "text/plain": [
       "     c1    c3\n",
       "a   0.0   2.0\n",
       "b   3.0   5.0\n",
       "c   6.0   8.0\n",
       "d   9.0  11.0\n",
       "e  12.0  14.0\n",
       "f  15.0  17.0\n",
       "g   0.0   0.0"
      ]
     },
     "execution_count": 17,
     "metadata": {},
     "output_type": "execute_result"
    }
   ],
   "source": [
    "# с помощью параметра how = 'any' удалим столбцы в которых есть хотя бы 1 значение Nan \n",
    "df2.dropna(how = 'any', axis = 1)"
   ]
  },
  {
   "cell_type": "code",
   "execution_count": 19,
   "id": "0c85366b",
   "metadata": {},
   "outputs": [
    {
     "data": {
      "text/plain": [
       "     c1    c2    c3\n",
       "a   0.0   1.0   2.0\n",
       "b   3.0   4.0   5.0\n",
       "c   6.0   7.0   8.0\n",
       "d   9.0  10.0  11.0\n",
       "e  12.0  13.0  14.0\n",
       "f  15.0  16.0  17.0\n",
       "g   NaN   NaN   NaN"
      ]
     },
     "execution_count": 19,
     "metadata": {},
     "output_type": "execute_result"
    }
   ],
   "source": [
    "# с помощью параметра thresh можно задать минимальное количество Nan которое требуется для удаления столбца или строк \n",
    "df.dropna(thresh = 5, axis = 1)"
   ]
  },
  {
   "cell_type": "code",
   "execution_count": 20,
   "id": "f22cd905",
   "metadata": {},
   "outputs": [],
   "source": [
    "# метод .dropna возвращает копию датафрейма!!! если нужно удалить в исходнике, используем параметр inplace = True"
   ]
  },
  {
   "cell_type": "markdown",
   "id": "9651fdb9",
   "metadata": {},
   "source": [
    "__Обработка значений Nan в ходе арифметических операций__"
   ]
  }
 ],
 "metadata": {
  "kernelspec": {
   "display_name": "Python 3 (ipykernel)",
   "language": "python",
   "name": "python3"
  },
  "language_info": {
   "codemirror_mode": {
    "name": "ipython",
    "version": 3
   },
   "file_extension": ".py",
   "mimetype": "text/x-python",
   "name": "python",
   "nbconvert_exporter": "python",
   "pygments_lexer": "ipython3",
   "version": "3.10.13"
  }
 },
 "nbformat": 4,
 "nbformat_minor": 5
}
