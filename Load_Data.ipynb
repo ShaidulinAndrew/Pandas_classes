{
 "cells": [
  {
   "cell_type": "code",
   "execution_count": 1,
   "id": "ce5c37e9",
   "metadata": {},
   "outputs": [],
   "source": [
    "# импортируем библиотеки numpy и pandas\n",
    "import numpy as np\n",
    "import pandas as pd\n",
    "\n",
    "# импортируем библиотеку datatime для работы с датами\n",
    "import datetime\n",
    "from datetime import datetime, date\n",
    "\n",
    "# задаем некоторые опции библиотеки pandas, которые настраивают вывод\n",
    "pd.set_option('display.notebook_repr_html', False)     # задаем вывод в виде текста, а не HTML\n",
    "pd.set_option('display.max_columns', 8)                # устанавливаем отображение максимального количества стобцов\n",
    "pd.set_option('display.max_rows', 10)                  # устанавливаем отображение максимального количества строк\n",
    "pd.set_option('display.width', 80)                     # устанавливаеv максимальную ширину отображения в символах\n",
    "\n",
    "# импортируем библиотеку matplotlib для построения графиков\n",
    "import matplotlib.pyplot as plt \n",
    "%matplotlib inline"
   ]
  },
  {
   "cell_type": "markdown",
   "id": "85901b68",
   "metadata": {},
   "source": [
    "__Исследование CSV-файла__"
   ]
  },
  {
   "cell_type": "code",
   "execution_count": 4,
   "id": "64a53c90",
   "metadata": {
    "scrolled": true
   },
   "outputs": [
    {
     "name": "stdout",
     "output_type": "stream",
     "text": [
      "['Date', 'Open', 'High', 'Low', 'Close', 'Volume']\n",
      "['7/21/2014', '83.46', '83.53', '81.81', '81.93', '2359300']\n",
      "['7/18/2014', '83.3', '83.4', '82.52', '83.35', '4020800']\n",
      "['7/17/2014', '84.35', '84.63', '83.33', '83.63', '1974000']\n",
      "['7/16/2014', '83.77', '84.91', '83.66', '84.91', '1755600']\n",
      "['7/15/2014', '84.3', '84.38', '83.2', '83.58', '1874700']\n"
     ]
    }
   ],
   "source": [
    "# с помощью модуля csv посмотрим на первые пять строк CSV файла \n",
    "import csv\n",
    "with open('./msft.csv') as file:\n",
    "    reader = csv.reader(file, delimiter = ',')\n",
    "    for i,row in enumerate(reader):\n",
    "        print(row)\n",
    "        if(i >= 5):\n",
    "            break"
   ]
  },
  {
   "cell_type": "markdown",
   "id": "4ed055ac",
   "metadata": {},
   "source": [
    "__Чтение CSV файла в DataFrame__"
   ]
  },
  {
   "cell_type": "code",
   "execution_count": 5,
   "id": "b90f55ee",
   "metadata": {},
   "outputs": [
    {
     "data": {
      "text/plain": [
       "        Date   Open   High    Low  Close   Volume\n",
       "0  7/21/2014  83.46  83.53  81.81  81.93  2359300\n",
       "1  7/18/2014  83.30  83.40  82.52  83.35  4020800\n",
       "2  7/17/2014  84.35  84.63  83.33  83.63  1974000\n",
       "3  7/16/2014  83.77  84.91  83.66  84.91  1755600\n",
       "4  7/15/2014  84.30  84.38  83.20  83.58  1874700"
      ]
     },
     "execution_count": 5,
     "metadata": {},
     "output_type": "execute_result"
    }
   ],
   "source": [
    "# считываем csv в DataFrame\n",
    "msft = pd.read_csv('./msft.csv')\n",
    "msft.head(5)"
   ]
  },
  {
   "cell_type": "markdown",
   "id": "b91112a2",
   "metadata": {},
   "source": [
    "__Указание индекса столбца при чтении CSV файла__"
   ]
  },
  {
   "cell_type": "code",
   "execution_count": 7,
   "id": "fc4d76e5",
   "metadata": {},
   "outputs": [
    {
     "data": {
      "text/plain": [
       "            Open   High    Low  Close   Volume\n",
       "Date                                          \n",
       "7/21/2014  83.46  83.53  81.81  81.93  2359300\n",
       "7/18/2014  83.30  83.40  82.52  83.35  4020800\n",
       "7/17/2014  84.35  84.63  83.33  83.63  1974000\n",
       "7/16/2014  83.77  84.91  83.66  84.91  1755600\n",
       "7/15/2014  84.30  84.38  83.20  83.58  1874700"
      ]
     },
     "execution_count": 7,
     "metadata": {},
     "output_type": "execute_result"
    }
   ],
   "source": [
    "# используем столбец Date в качестве индекса\n",
    "msft = pd.read_csv('./msft.csv', index_col=0)\n",
    "msft.head(5)"
   ]
  },
  {
   "cell_type": "markdown",
   "id": "0e877a7a",
   "metadata": {},
   "source": [
    "__Вывод и спецификация типа данных__"
   ]
  },
  {
   "cell_type": "code",
   "execution_count": 9,
   "id": "92f0519c",
   "metadata": {},
   "outputs": [
    {
     "data": {
      "text/plain": [
       "Open      float64\n",
       "High      float64\n",
       "Low       float64\n",
       "Close     float64\n",
       "Volume      int64\n",
       "dtype: object"
      ]
     },
     "execution_count": 9,
     "metadata": {},
     "output_type": "execute_result"
    }
   ],
   "source": [
    "# исследуем типы столбцов в нашем датафрейме\n",
    "msft.dtypes "
   ]
  },
  {
   "cell_type": "code",
   "execution_count": 11,
   "id": "25f765f6",
   "metadata": {},
   "outputs": [
    {
     "data": {
      "text/plain": [
       "Date       object\n",
       "Open      float64\n",
       "High      float64\n",
       "Low       float64\n",
       "Close     float64\n",
       "Volume    float64\n",
       "dtype: object"
      ]
     },
     "execution_count": 11,
     "metadata": {},
     "output_type": "execute_result"
    }
   ],
   "source": [
    "# чтобы принудительно задать тип столбца, воспользуйтесь параметром dtype функции pd.read_csv(). Следующий программный код\n",
    "# преобразует стобец Volume в тип float.64 \n",
    "msft = pd.read_csv('./msft.csv',\n",
    "                   dtype = {'Volume' : np.float64})\n",
    "msft.dtypes "
   ]
  },
  {
   "cell_type": "markdown",
   "id": "600f9742",
   "metadata": {},
   "source": [
    "__Указание имен столбцов__"
   ]
  },
  {
   "cell_type": "code",
   "execution_count": 12,
   "id": "9ab0fdf4",
   "metadata": {},
   "outputs": [
    {
     "data": {
      "text/plain": [
       "        date   open   high    low  close   volume\n",
       "0  7/21/2014  83.46  83.53  81.81  81.93  2359300\n",
       "1  7/18/2014  83.30  83.40  82.52  83.35  4020800\n",
       "2  7/17/2014  84.35  84.63  83.33  83.63  1974000\n",
       "3  7/16/2014  83.77  84.91  83.66  84.91  1755600\n",
       "4  7/15/2014  84.30  84.38  83.20  83.58  1874700"
      ]
     },
     "execution_count": 12,
     "metadata": {},
     "output_type": "execute_result"
    }
   ],
   "source": [
    "# Можно указать имена столбцов во время чтения данных, воспользовавшись параметром names \n",
    "# header = 0 задаёт строку заголовков, если этого не сделать pandas предположит, что первая строка является частью данных\n",
    "# и это в дальнейшем вызовет некоторые проблемы при обработке информации\n",
    "df = pd.read_csv('./msft.csv', \n",
    "                header = 0,\n",
    "                names = ['date', 'open', 'high', 'low', 'close', 'volume'])\n",
    "df.head(5)"
   ]
  },
  {
   "cell_type": "markdown",
   "id": "427f5e29",
   "metadata": {},
   "source": [
    "__Указание конкретных столбцов для загрузки__"
   ]
  },
  {
   "cell_type": "code",
   "execution_count": 13,
   "id": "85783062",
   "metadata": {},
   "outputs": [
    {
     "data": {
      "text/plain": [
       "           Close\n",
       "Date            \n",
       "7/21/2014  81.93\n",
       "7/18/2014  83.35\n",
       "7/17/2014  83.63\n",
       "7/16/2014  84.91\n",
       "7/15/2014  83.58"
      ]
     },
     "execution_count": 13,
     "metadata": {},
     "output_type": "execute_result"
    }
   ],
   "source": [
    "# можно указать какие столбцы нужно загружать при чтении файла с помощью параметра usecols\n",
    "df2 = pd.read_csv('./msft.csv', usecols = ['Date', 'Close'], index_col = ['Date'])\n",
    "df2[:5]"
   ]
  },
  {
   "cell_type": "markdown",
   "id": "99bc8642",
   "metadata": {},
   "source": [
    "__Сохранение датафрейма в CSV файл__"
   ]
  },
  {
   "cell_type": "code",
   "execution_count": 14,
   "id": "09547445",
   "metadata": {},
   "outputs": [],
   "source": [
    "# с помощью метода .to_csv() объект DataFrame можно сохранить в CSV файл \n",
    "df2.to_csv('./msft_modified.csv', index_label = 'date')"
   ]
  },
  {
   "cell_type": "code",
   "execution_count": 15,
   "id": "016f17e8",
   "metadata": {},
   "outputs": [
    {
     "name": "stdout",
     "output_type": "stream",
     "text": [
      "['date', 'Close']\n",
      "['7/21/2014', '81.93']\n",
      "['7/18/2014', '83.35']\n",
      "['7/17/2014', '83.63']\n",
      "['7/16/2014', '84.91']\n",
      "['7/15/2014', '83.58']\n"
     ]
    }
   ],
   "source": [
    "with open('./msft_modified.csv') as file:\n",
    "    reader = csv.reader(file, delimiter = ',')\n",
    "    for i,row in enumerate(reader):\n",
    "        print(row)\n",
    "        if(i >= 5):\n",
    "            break"
   ]
  },
  {
   "cell_type": "markdown",
   "id": "14eb01fe",
   "metadata": {},
   "source": [
    "__Работа с данными, в которых используются разделители полей__"
   ]
  },
  {
   "cell_type": "code",
   "execution_count": 16,
   "id": "f4ea2b38",
   "metadata": {},
   "outputs": [
    {
     "data": {
      "text/plain": [
       "        Date   Open   High    Low  Close   Volume\n",
       "0  7/21/2014  83.46  83.53  81.81  81.93  2359300\n",
       "1  7/18/2014  83.30  83.40  82.52  83.35  4020800\n",
       "2  7/17/2014  84.35  84.63  83.33  83.63  1974000\n",
       "3  7/16/2014  83.77  84.91  83.66  84.91  1755600\n",
       "4  7/15/2014  84.30  84.38  83.20  83.58  1874700"
      ]
     },
     "execution_count": 16,
     "metadata": {},
     "output_type": "execute_result"
    }
   ],
   "source": [
    "# Библиотека Pandas предлагает функцию pd.read_table() для упрощения чтения данных с разделителями полей\n",
    "df = pd.read_table('./msft.csv', sep = ',')\n",
    "df[:5]"
   ]
  },
  {
   "cell_type": "code",
   "execution_count": 17,
   "id": "99c77e55",
   "metadata": {},
   "outputs": [],
   "source": [
    "# у библиотеки pandas нет метода .to_table() аналогично методу .to_csv(). Однако метод .to_csv() можно применить\n",
    "# для записи данных с разделителями полей, в том числе и в тех случаях, когда в качестве разделителя вместо запятой\n",
    "# используется другой символ\n",
    "df.to_csv('./msft_piped.txt', sep = '|')"
   ]
  },
  {
   "cell_type": "code",
   "execution_count": 18,
   "id": "02866c20",
   "metadata": {},
   "outputs": [
    {
     "name": "stdout",
     "output_type": "stream",
     "text": [
      "['|Date|Open|High|Low|Close|Volume']\n",
      "['0|7/21/2014|83.46|83.53|81.81|81.93|2359300']\n",
      "['1|7/18/2014|83.3|83.4|82.52|83.35|4020800']\n",
      "['2|7/17/2014|84.35|84.63|83.33|83.63|1974000']\n",
      "['3|7/16/2014|83.77|84.91|83.66|84.91|1755600']\n",
      "['4|7/15/2014|84.3|84.38|83.2|83.58|1874700']\n"
     ]
    }
   ],
   "source": [
    "# смотрим как произошло сохранение\n",
    "with open('./msft_piped.txt') as file:\n",
    "    reader = csv.reader(file, delimiter = ',')\n",
    "    for i,row in enumerate(reader):\n",
    "        print(row)\n",
    "        if(i >= 5):\n",
    "            break"
   ]
  },
  {
   "cell_type": "markdown",
   "id": "b638e949",
   "metadata": {},
   "source": [
    "__Обработка загрязненных данных, в которых используются разделители полей__"
   ]
  },
  {
   "cell_type": "code",
   "execution_count": 19,
   "id": "7c856563",
   "metadata": {},
   "outputs": [
    {
     "name": "stdout",
     "output_type": "stream",
     "text": [
      "['This is fun because the data does not start on the first line', '', '', '', '', '']\n",
      "['Date', 'Open', 'High', 'Low', 'Close', 'Volume']\n",
      "['', '', '', '', '', '']\n",
      "['And there is space between the header row and data', '', '', '', '', '']\n",
      "['7/21/2014', '83.46', '83.53', '81.81', '81.93', '2359300']\n",
      "['7/18/2014', '83.3', '83.4', '82.52', '83.35', '4020800']\n",
      "['7/17/2014', '84.35', '84.63', '83.33', '83.63', '1974000']\n"
     ]
    }
   ],
   "source": [
    "# смотрим первые 6 наблюдений файла msft2.csv\n",
    "with open('./msft2.csv') as file:\n",
    "    reader = csv.reader(file, delimiter = ',')\n",
    "    for i,row in enumerate(reader):\n",
    "        print(row)\n",
    "        if(i >= 6):\n",
    "            break"
   ]
  },
  {
   "cell_type": "code",
   "execution_count": 22,
   "id": "46cc6100",
   "metadata": {},
   "outputs": [
    {
     "data": {
      "text/plain": [
       "        Date   Open   High    Low  Close   Volume\n",
       "0  7/21/2014  83.46  83.53  81.81  81.93  2359300\n",
       "1  7/18/2014  83.30  83.40  82.52  83.35  4020800\n",
       "2  7/17/2014  84.35  84.63  83.33  83.63  1974000\n",
       "3  7/16/2014  83.77  84.91  83.66  84.91  1755600\n",
       "4  7/15/2014  84.30  84.38  83.20  83.58  1874700"
      ]
     },
     "execution_count": 22,
     "metadata": {},
     "output_type": "execute_result"
    }
   ],
   "source": [
    "# эту ситуацию можно разрешить с помощью параметра skiprows \n",
    "# считываем данные пропуская строки 0,2,3\n",
    "df = pd.read_csv('./msft2.csv', skiprows = [0, 2, 3])\n",
    "df[:5]"
   ]
  },
  {
   "cell_type": "code",
   "execution_count": 23,
   "id": "e7407f7c",
   "metadata": {},
   "outputs": [
    {
     "name": "stdout",
     "output_type": "stream",
     "text": [
      "['Date', 'Open', 'High', 'Low', 'Close', 'Volume']\n",
      "['7/21/2014', '83.46', '83.53', '81.81', '81.93', '2359300']\n",
      "['7/18/2014', '83.3', '83.4', '82.52', '83.35', '4020800']\n",
      "[]\n",
      "['Uh oh', ' there is stuff at the end.']\n"
     ]
    }
   ],
   "source": [
    "# смотрим файл msft_with_footer.csv\n",
    "with open('./msft_with_footer.csv') as file:\n",
    "    reader = csv.reader(file, delimiter = ',')\n",
    "    for i,row in enumerate(reader):\n",
    "        print(row)\n",
    "        "
   ]
  },
  {
   "cell_type": "code",
   "execution_count": 26,
   "id": "98a8bd07",
   "metadata": {},
   "outputs": [
    {
     "data": {
      "text/plain": [
       "        Date   Open   High    Low  Close   Volume\n",
       "0  7/21/2014  83.46  83.53  81.81  81.93  2359300\n",
       "1  7/18/2014  83.30  83.40  82.52  83.35  4020800"
      ]
     },
     "execution_count": 26,
     "metadata": {},
     "output_type": "execute_result"
    }
   ],
   "source": [
    "# считываем пропустив две последние строки skip_footer\n",
    "df = pd.read_csv('./msft_with_footer.csv',\n",
    "                 skipfooter = 2,\n",
    "                 engine = 'python')\n",
    "df"
   ]
  },
  {
   "cell_type": "code",
   "execution_count": 27,
   "id": "b161df7a",
   "metadata": {},
   "outputs": [
    {
     "data": {
      "text/plain": [
       "        Date   Open   High    Low  Close   Volume\n",
       "0  7/21/2014  83.46  83.53  81.81  81.93  2359300\n",
       "1  7/18/2014  83.30  83.40  82.52  83.35  4020800\n",
       "2  7/17/2014  84.35  84.63  83.33  83.63  1974000"
      ]
     },
     "execution_count": 27,
     "metadata": {},
     "output_type": "execute_result"
    }
   ],
   "source": [
    "# чтобы не читать файл целиком и не занимать ресурсы, можно прочитать только несколько строк\n",
    "# считаем только первые 3 строчки\n",
    "pd.read_csv('./msft.csv', nrows = 3)"
   ]
  },
  {
   "cell_type": "code",
   "execution_count": 28,
   "id": "97c26565",
   "metadata": {},
   "outputs": [
    {
     "data": {
      "text/plain": [
       "        data   open   high    low  close   volume\n",
       "0   3/3/2014  80.35  81.31  79.91  79.97  5004100\n",
       "1  2/28/2014  82.40  83.42  82.17  83.42  2853200\n",
       "2  2/27/2014  84.06  84.63  81.63  82.00  3676800\n",
       "3  2/26/2014  82.92  84.03  82.43  83.81  2623600\n",
       "4  2/25/2014  83.80  83.80  81.72  83.08  3579100"
      ]
     },
     "execution_count": 28,
     "metadata": {},
     "output_type": "execute_result"
    }
   ],
   "source": [
    "# кроме того можно пропустить некторое число строк, а затем прочитать лишь какую то часть данных\n",
    "# пропускаем 100 строк, а затем считыыаем следующие 5 строк\n",
    "pd.read_csv('./msft.csv',\n",
    "            skiprows = 100,\n",
    "            nrows = 5,\n",
    "            header = 0,\n",
    "            names = ['data', 'open', 'high', 'low', 'close', 'volume'])"
   ]
  },
  {
   "cell_type": "code",
   "execution_count": null,
   "id": "b06c13c3",
   "metadata": {},
   "outputs": [],
   "source": []
  }
 ],
 "metadata": {
  "kernelspec": {
   "display_name": "Python 3 (ipykernel)",
   "language": "python",
   "name": "python3"
  },
  "language_info": {
   "codemirror_mode": {
    "name": "ipython",
    "version": 3
   },
   "file_extension": ".py",
   "mimetype": "text/x-python",
   "name": "python",
   "nbconvert_exporter": "python",
   "pygments_lexer": "ipython3",
   "version": "3.10.9"
  }
 },
 "nbformat": 4,
 "nbformat_minor": 5
}
