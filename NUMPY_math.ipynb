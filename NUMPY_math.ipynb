{
 "cells": [
  {
   "cell_type": "code",
   "execution_count": 1,
   "id": "62261550-a42c-467b-a96c-597398c9cffa",
   "metadata": {},
   "outputs": [],
   "source": [
    "import numpy as np"
   ]
  },
  {
   "cell_type": "code",
   "execution_count": 2,
   "id": "89e98c1f-7606-4f89-8768-8e3671fdd622",
   "metadata": {},
   "outputs": [
    {
     "data": {
      "text/plain": [
       "array([[0, 1, 2],\n",
       "       [3, 4, 5]])"
      ]
     },
     "execution_count": 2,
     "metadata": {},
     "output_type": "execute_result"
    }
   ],
   "source": [
    "# создадим два массива\n",
    "a = np.arange(6).reshape(2, 3)\n",
    "a"
   ]
  },
  {
   "cell_type": "code",
   "execution_count": 3,
   "id": "d4ba31bc-1e0f-4abb-ac14-15dd6491f2bf",
   "metadata": {},
   "outputs": [
    {
     "data": {
      "text/plain": [
       "array([[ 6,  7,  8],\n",
       "       [ 9, 10, 11]])"
      ]
     },
     "execution_count": 3,
     "metadata": {},
     "output_type": "execute_result"
    }
   ],
   "source": [
    "b = np.arange(6, 12).reshape(2, 3)\n",
    "b"
   ]
  },
  {
   "cell_type": "markdown",
   "id": "4e47863c-8458-445d-8a21-b34dcb8d09af",
   "metadata": {},
   "source": [
    "### __Сложение и вычитание массивов__"
   ]
  },
  {
   "cell_type": "code",
   "execution_count": 4,
   "id": "ed40692f-afb8-427f-a49c-6c597e2fb39b",
   "metadata": {},
   "outputs": [
    {
     "data": {
      "text/plain": [
       "array([[ 6,  8, 10],\n",
       "       [12, 14, 16]])"
      ]
     },
     "execution_count": 4,
     "metadata": {},
     "output_type": "execute_result"
    }
   ],
   "source": [
    "# поэлементарное сложение\n",
    "a + b "
   ]
  },
  {
   "cell_type": "code",
   "execution_count": 5,
   "id": "044d1e51-9d63-4cfc-94fc-3a12d4397f5e",
   "metadata": {},
   "outputs": [
    {
     "data": {
      "text/plain": [
       "array([3, 5, 7])"
      ]
     },
     "execution_count": 5,
     "metadata": {},
     "output_type": "execute_result"
    }
   ],
   "source": [
    "# сложение двух элементов внешнего измерения одного массива\n",
    "a[0] + a[1]"
   ]
  },
  {
   "cell_type": "code",
   "execution_count": 6,
   "id": "8f462f10-6d97-44d5-9072-f710e4f34011",
   "metadata": {},
   "outputs": [
    {
     "data": {
      "text/plain": [
       "array([[1, 2, 3],\n",
       "       [4, 5, 6]])"
      ]
     },
     "execution_count": 6,
     "metadata": {},
     "output_type": "execute_result"
    }
   ],
   "source": [
    "# сложение идет по внешнему измерению\n",
    "[1, 1, 1] + a"
   ]
  },
  {
   "cell_type": "code",
   "execution_count": 7,
   "id": "44b839b3-ebf8-4486-99ef-85900140bf9a",
   "metadata": {},
   "outputs": [
    {
     "data": {
      "text/plain": [
       "array([[6, 6, 6],\n",
       "       [6, 6, 6]])"
      ]
     },
     "execution_count": 7,
     "metadata": {},
     "output_type": "execute_result"
    }
   ],
   "source": [
    "# поэлементарное вычитание массивов\n",
    "b - a"
   ]
  },
  {
   "cell_type": "markdown",
   "id": "543600fb-a6ca-4a28-bace-982bbf893af8",
   "metadata": {},
   "source": [
    "__Умножение и деление__"
   ]
  },
  {
   "cell_type": "code",
   "execution_count": 8,
   "id": "ec279c94-b7cd-4a5c-8c3a-05efa5d836a0",
   "metadata": {},
   "outputs": [
    {
     "data": {
      "text/plain": [
       "array([[ 0,  7, 16],\n",
       "       [27, 40, 55]])"
      ]
     },
     "execution_count": 8,
     "metadata": {},
     "output_type": "execute_result"
    }
   ],
   "source": [
    "# Поэлементное умножение (произведение Адамара)\n",
    "a * b "
   ]
  },
  {
   "cell_type": "code",
   "execution_count": 9,
   "id": "8e6cf3ca-6a8f-4ba3-903b-f475e62bfdf4",
   "metadata": {},
   "outputs": [
    {
     "data": {
      "text/plain": [
       "array([[0.        , 0.14285714, 0.25      ],\n",
       "       [0.33333333, 0.4       , 0.45454545]])"
      ]
     },
     "execution_count": 9,
     "metadata": {},
     "output_type": "execute_result"
    }
   ],
   "source": [
    "# Поэлементное деление\n",
    "a / b "
   ]
  },
  {
   "cell_type": "code",
   "execution_count": 10,
   "id": "ec99d3c6-b12a-43da-99c3-36f503d07cf7",
   "metadata": {},
   "outputs": [
    {
     "data": {
      "text/plain": [
       "array([[1., 1.],\n",
       "       [3., 2.],\n",
       "       [5., 3.]])"
      ]
     },
     "execution_count": 10,
     "metadata": {},
     "output_type": "execute_result"
    }
   ],
   "source": [
    "# размерность массива должна позволять выполнить поэлементарную операцию\n",
    "np.array([[1, 2], [3, 4], [5, 6]]) / np.array([1, 2])"
   ]
  },
  {
   "cell_type": "code",
   "execution_count": 11,
   "id": "e9af269b-ff33-4cec-a22d-fc7c42b7ce63",
   "metadata": {},
   "outputs": [
    {
     "data": {
      "text/plain": [
       "array([[ 0,  2,  4],\n",
       "       [ 6,  8, 10]])"
      ]
     },
     "execution_count": 11,
     "metadata": {},
     "output_type": "execute_result"
    }
   ],
   "source": [
    "# Numpy позволяет умножать и делить на число\n",
    "2 * a"
   ]
  },
  {
   "cell_type": "markdown",
   "id": "b9fb7d4d-0329-4ed9-b8f9-3b8635760eba",
   "metadata": {},
   "source": [
    "__Другие математические операции__"
   ]
  },
  {
   "cell_type": "markdown",
   "id": "1b0a4642-24be-47c6-adf9-02a2b0c17d7a",
   "metadata": {},
   "source": [
    "__np.max()__ "
   ]
  },
  {
   "cell_type": "code",
   "execution_count": 12,
   "id": "5a5b9cf3-d392-4997-a831-e28f16fa0007",
   "metadata": {},
   "outputs": [
    {
     "data": {
      "text/plain": [
       "5"
      ]
     },
     "execution_count": 12,
     "metadata": {},
     "output_type": "execute_result"
    }
   ],
   "source": [
    "# поиск максимального значения\n",
    "np.max(a)"
   ]
  },
  {
   "cell_type": "code",
   "execution_count": 13,
   "id": "e5b2eedf-f3e0-41ea-9863-7394b075f65a",
   "metadata": {},
   "outputs": [
    {
     "data": {
      "text/plain": [
       "array([2, 5])"
      ]
     },
     "execution_count": 13,
     "metadata": {},
     "output_type": "execute_result"
    }
   ],
   "source": [
    "# найдем максимальное значение вдоль второго (последнего измерения)\n",
    "np.max(a, axis = 1)"
   ]
  },
  {
   "cell_type": "markdown",
   "id": "477783c8-147a-4660-9da0-3cbc875b954a",
   "metadata": {},
   "source": [
    "Большинство функций имеют соответствующий метод, который приводит к точно такому же результату."
   ]
  },
  {
   "cell_type": "code",
   "execution_count": 14,
   "id": "e23854a9-6cd9-475b-bfc3-8bc45e017a59",
   "metadata": {},
   "outputs": [
    {
     "data": {
      "text/plain": [
       "True"
      ]
     },
     "execution_count": 14,
     "metadata": {},
     "output_type": "execute_result"
    }
   ],
   "source": [
    "np.max(a) == a.max()"
   ]
  },
  {
   "cell_type": "code",
   "execution_count": 15,
   "id": "b4761c0e-9aeb-4a5e-9ebe-e29dcd431045",
   "metadata": {},
   "outputs": [
    {
     "data": {
      "text/plain": [
       "5"
      ]
     },
     "execution_count": 15,
     "metadata": {},
     "output_type": "execute_result"
    }
   ],
   "source": [
    "a.max()"
   ]
  },
  {
   "cell_type": "markdown",
   "id": "b061d39b-c596-40ee-8c9c-7ad185fcdcec",
   "metadata": {},
   "source": [
    "### __Логические операции__"
   ]
  },
  {
   "cell_type": "markdown",
   "id": "ddaf45c5-d892-4d04-8d55-997ef969f1a3",
   "metadata": {},
   "source": [
    "__Сравнение массивов__"
   ]
  },
  {
   "cell_type": "code",
   "execution_count": 16,
   "id": "136e1ebe-e5cc-4069-9f88-8045ef8c4de2",
   "metadata": {},
   "outputs": [],
   "source": [
    "# возьмем два одномерных вектора\n",
    "a = np.array([1, 2, 3], float)\n",
    "b = np.array([1, 3, 2], float)"
   ]
  },
  {
   "cell_type": "code",
   "execution_count": 17,
   "id": "a12937cd-b932-441c-b59b-0daac21ce485",
   "metadata": {},
   "outputs": [
    {
     "data": {
      "text/plain": [
       "array([ True, False, False])"
      ]
     },
     "execution_count": 17,
     "metadata": {},
     "output_type": "execute_result"
    }
   ],
   "source": [
    "# проверим поэлементарное равентсво этих массивов\n",
    "a == b "
   ]
  },
  {
   "cell_type": "code",
   "execution_count": 18,
   "id": "1b982024-3d41-4cf6-b529-163c15655db2",
   "metadata": {},
   "outputs": [
    {
     "data": {
      "text/plain": [
       "array([False,  True, False])"
      ]
     },
     "execution_count": 18,
     "metadata": {},
     "output_type": "execute_result"
    }
   ],
   "source": [
    "# сравним массивы поэлементно\n",
    "a < b "
   ]
  },
  {
   "cell_type": "code",
   "execution_count": 19,
   "id": "c81dabb5-a99f-4040-8ebb-bf870c5457f5",
   "metadata": {},
   "outputs": [
    {
     "data": {
      "text/plain": [
       "array([False,  True, False])"
      ]
     },
     "execution_count": 19,
     "metadata": {},
     "output_type": "execute_result"
    }
   ],
   "source": [
    "# можно сравнить с помощью специальной функции np.less()\n",
    "np.less(a, b) "
   ]
  },
  {
   "cell_type": "code",
   "execution_count": 20,
   "id": "bbdff29a-1472-4bb0-849b-fd3d516a028e",
   "metadata": {},
   "outputs": [
    {
     "data": {
      "text/plain": [
       "array([False,  True,  True])"
      ]
     },
     "execution_count": 20,
     "metadata": {},
     "output_type": "execute_result"
    }
   ],
   "source": [
    "# можно сравнить элементы массива с числом\n",
    "a > 1"
   ]
  },
  {
   "cell_type": "markdown",
   "id": "a57f7fbe-a922-4916-b879-4fff8379a7d3",
   "metadata": {},
   "source": [
    "__np.logical_and()__"
   ]
  },
  {
   "cell_type": "code",
   "execution_count": 21,
   "id": "014807bf-10be-4e42-8ee8-f7a059f45326",
   "metadata": {},
   "outputs": [
    {
     "data": {
      "text/plain": [
       "array([ True,  True, False])"
      ]
     },
     "execution_count": 21,
     "metadata": {},
     "output_type": "execute_result"
    }
   ],
   "source": [
    "# выведем True только если значение массива а больше нуля И меньше трех\n",
    "np.logical_and(a > 0, a < 3)"
   ]
  },
  {
   "cell_type": "markdown",
   "id": "75b1090e-d9b3-40df-938f-ba8f14212859",
   "metadata": {},
   "source": [
    "__np.logical_or()__"
   ]
  },
  {
   "cell_type": "code",
   "execution_count": 22,
   "id": "10577b76-1573-4cbf-a874-9aba92619a37",
   "metadata": {},
   "outputs": [
    {
     "data": {
      "text/plain": [
       "array([ True, False,  True])"
      ]
     },
     "execution_count": 22,
     "metadata": {},
     "output_type": "execute_result"
    }
   ],
   "source": [
    "# выведем значениие True, если элемент массива b меньше трех или если элемент \n",
    "# равен 1\n",
    "np.logical_or(b < 3, b == 1)"
   ]
  },
  {
   "cell_type": "markdown",
   "id": "2a6ca062-d77c-448b-999c-8b9e392a2aae",
   "metadata": {},
   "source": [
    "__np.logical_xor__"
   ]
  },
  {
   "cell_type": "code",
   "execution_count": 23,
   "id": "212ee1de-d2e4-4f86-9f85-5cdcce0103e2",
   "metadata": {},
   "outputs": [
    {
     "data": {
      "text/plain": [
       "array([ True,  True, False])"
      ]
     },
     "execution_count": 23,
     "metadata": {},
     "output_type": "execute_result"
    }
   ],
   "source": [
    "# выведем True, если элемент массива a больше одного или (но не одновременно)\n",
    "# элемент массива b меньше трех\n",
    "np.logical_xor(a > 1, b < 3)"
   ]
  },
  {
   "cell_type": "markdown",
   "id": "6df8f651-f797-4923-8431-533e5ea6a789",
   "metadata": {},
   "source": [
    "__np.logical_not()__"
   ]
  },
  {
   "cell_type": "code",
   "execution_count": 24,
   "id": "9d25b64f-079b-45b1-8dd9-8812f9d86602",
   "metadata": {},
   "outputs": [
    {
     "data": {
      "text/plain": [
       "array([False, False, False])"
      ]
     },
     "execution_count": 24,
     "metadata": {},
     "output_type": "execute_result"
    }
   ],
   "source": [
    "# все элементы станут ложными\n",
    "np.logical_not(a)"
   ]
  },
  {
   "cell_type": "markdown",
   "id": "f03b3811-ef96-44e7-b5a6-5d487b89a99d",
   "metadata": {},
   "source": [
    "В Питоне все числа кроме нуля считаются истинными, ноль наоборот приравнивается к ложному значению. Убедимся в этом с помощью двух несложных примеров"
   ]
  },
  {
   "cell_type": "code",
   "execution_count": 25,
   "id": "5eee5063-464e-45ad-85ca-55d0dc0135ea",
   "metadata": {},
   "outputs": [
    {
     "name": "stdout",
     "output_type": "stream",
     "text": [
      "both are True\n"
     ]
    }
   ],
   "source": [
    "# условие if выполняется, если выражение истинно, т.е. в данном случае \n",
    "# если и 2, и - 2,5 истинны\n",
    "if 2 and -2.5:\n",
    "    print('both are True')"
   ]
  },
  {
   "cell_type": "code",
   "execution_count": 26,
   "id": "74785e73-ab8f-45e7-a2fc-6fb1bd46ca88",
   "metadata": {},
   "outputs": [
    {
     "name": "stdout",
     "output_type": "stream",
     "text": [
      "zero is False\n"
     ]
    }
   ],
   "source": [
    "# если НЕ ноль истинно, условие так же выполняется\n",
    "if not 0:\n",
    "    print('zero is False')"
   ]
  },
  {
   "cell_type": "markdown",
   "id": "70e25072-9a20-4a33-b924-69ef6736866a",
   "metadata": {},
   "source": [
    "__Функции np.all() и np.any()__"
   ]
  },
  {
   "cell_type": "code",
   "execution_count": 27,
   "id": "3e580792-9123-4326-baa2-394b559dca9f",
   "metadata": {},
   "outputs": [],
   "source": [
    "# Создадим массив состоящий из булевых значений\n",
    "a_boolean = [[True, False], [True, True]]"
   ]
  },
  {
   "cell_type": "markdown",
   "id": "0b3b3582-c952-4a36-8f14-ec586cff168b",
   "metadata": {},
   "source": [
    "Функция __np.all()__ позволяет проверить, все ли элементы массива оцениваются как истинные"
   ]
  },
  {
   "cell_type": "code",
   "execution_count": 28,
   "id": "e0149d32-74d9-4939-8ae6-ced45f93ccc1",
   "metadata": {},
   "outputs": [
    {
     "data": {
      "text/plain": [
       "False"
      ]
     },
     "execution_count": 28,
     "metadata": {},
     "output_type": "execute_result"
    }
   ],
   "source": [
    "np.all(a_boolean)"
   ]
  },
  {
   "cell_type": "markdown",
   "id": "bf4e9c3d-8b1e-4c21-8090-384c9d6e7e14",
   "metadata": {},
   "source": [
    "Функция __np.any()__ наоборот проверяет, истинно ли хотя бы одно значениие"
   ]
  },
  {
   "cell_type": "code",
   "execution_count": 29,
   "id": "ead641fd-b818-48f6-9034-4b8326f01718",
   "metadata": {},
   "outputs": [
    {
     "data": {
      "text/plain": [
       "True"
      ]
     },
     "execution_count": 29,
     "metadata": {},
     "output_type": "execute_result"
    }
   ],
   "source": [
    "np.any(a_boolean)"
   ]
  },
  {
   "cell_type": "markdown",
   "id": "93805364-ba4f-4d88-9d71-749af0613c7b",
   "metadata": {},
   "source": [
    "__Функция np.where()__"
   ]
  },
  {
   "cell_type": "code",
   "execution_count": 30,
   "id": "f86281d3-86d3-4533-a193-365d169a5a07",
   "metadata": {},
   "outputs": [],
   "source": [
    "scores = np.array([5, 2, 4, 3, 2, 4])"
   ]
  },
  {
   "cell_type": "markdown",
   "id": "1b3da555-fde2-4960-83a4-a668fc4792cf",
   "metadata": {},
   "source": [
    "Необходимо заменить оценку 2 на \"Не сдал\", а остальные на \"Сдал\".\n",
    "\n",
    "Сначала создадим массив из логических значений"
   ]
  },
  {
   "cell_type": "code",
   "execution_count": 31,
   "id": "6874bd69-a1e9-4f4d-b858-e3af323e4c7e",
   "metadata": {},
   "outputs": [
    {
     "data": {
      "text/plain": [
       "array([ True, False,  True,  True, False,  True])"
      ]
     },
     "execution_count": 31,
     "metadata": {},
     "output_type": "execute_result"
    }
   ],
   "source": [
    "# True если результат больше двух\n",
    "\n",
    "condition = scores > 2\n",
    "condition"
   ]
  },
  {
   "cell_type": "markdown",
   "id": "e928a7b2-b750-4962-a735-b2fff06c55c5",
   "metadata": {},
   "source": [
    "Теперь создадим списки с категориями, такой же длины, как и исходный массив scores \n"
   ]
  },
  {
   "cell_type": "code",
   "execution_count": 32,
   "id": "56dee556-32a9-42e2-80cd-867e761be501",
   "metadata": {},
   "outputs": [],
   "source": [
    "pass_list = ['Pass'] * len(scores)\n",
    "fail_list = ['Fail'] * len(scores)"
   ]
  },
  {
   "cell_type": "code",
   "execution_count": 33,
   "id": "e09099ad-0fc4-4f60-a6f8-9b40ea4c1401",
   "metadata": {},
   "outputs": [
    {
     "data": {
      "text/plain": [
       "['Pass', 'Pass', 'Pass', 'Pass', 'Pass', 'Pass']"
      ]
     },
     "execution_count": 33,
     "metadata": {},
     "output_type": "execute_result"
    }
   ],
   "source": [
    "pass_list"
   ]
  },
  {
   "cell_type": "markdown",
   "id": "7677757f-96c8-4328-bd7e-3d8c663a4d12",
   "metadata": {},
   "source": [
    "Передадим функции np.where() массив с логическими значениями и два списка"
   ]
  },
  {
   "cell_type": "code",
   "execution_count": 34,
   "id": "b6075703-1f49-4bb5-bb35-f4a9708acd1f",
   "metadata": {},
   "outputs": [
    {
     "data": {
      "text/plain": [
       "array(['Pass', 'Fail', 'Pass', 'Pass', 'Fail', 'Pass'], dtype='<U4')"
      ]
     },
     "execution_count": 34,
     "metadata": {},
     "output_type": "execute_result"
    }
   ],
   "source": [
    "np.where(condition, pass_list, fail_list)"
   ]
  },
  {
   "cell_type": "markdown",
   "id": "2ee5a559-c948-4d16-8ed8-56eac937c45c",
   "metadata": {},
   "source": [
    "### __Векторизация и трансляция__"
   ]
  },
  {
   "cell_type": "markdown",
   "id": "139ac6b9-8d1c-4b15-9826-c7a631bdc240",
   "metadata": {},
   "source": [
    "__Векторизация__"
   ]
  },
  {
   "cell_type": "markdown",
   "id": "0e59ea06-13da-49d5-9e07-e38294835c69",
   "metadata": {},
   "source": [
    "Сравним время исполнения кода с циклами и без них на простом примере. Вначале создадим два длинных одномерных массива."
   ]
  },
  {
   "cell_type": "code",
   "execution_count": 35,
   "id": "fada56b3-53fb-4f81-90ad-0815d934dcab",
   "metadata": {},
   "outputs": [],
   "source": [
    "np.random.seed(42)\n",
    "\n",
    "# создадим два массива по миллиону случайных чисел в интервале [0, 1)\n",
    "v1 = np.random.rand(1000000)\n",
    "v2 = np.random.rand(1000000)"
   ]
  },
  {
   "cell_type": "markdown",
   "id": "00939be1-31bf-4234-b0ff-a0f39ea75bab",
   "metadata": {},
   "source": [
    "Используем цикл for и list comprehension для поэлементного умножения двух векторов"
   ]
  },
  {
   "cell_type": "code",
   "execution_count": 36,
   "id": "61d5724b-8cb6-414f-8d7a-b519e7c52d9c",
   "metadata": {},
   "outputs": [
    {
     "name": "stdout",
     "output_type": "stream",
     "text": [
      "CPU times: total: 31.2 ms\n",
      "Wall time: 102 ms\n"
     ]
    }
   ],
   "source": [
    "%time res = [i * j for i, j in zip(v1, v2)]"
   ]
  },
  {
   "cell_type": "markdown",
   "id": "9697aabf-5b50-475f-a8a7-2f1761ea00ca",
   "metadata": {},
   "source": [
    "Решим ту же задачу, но уже с помощью векторизированного кода"
   ]
  },
  {
   "cell_type": "code",
   "execution_count": 37,
   "id": "0166dd96-e4f7-4710-91a5-ede18f2fc10a",
   "metadata": {},
   "outputs": [
    {
     "name": "stdout",
     "output_type": "stream",
     "text": [
      "CPU times: total: 0 ns\n",
      "Wall time: 2.84 ms\n"
     ]
    }
   ],
   "source": [
    "%time res_2 = v1 * v2"
   ]
  },
  {
   "cell_type": "markdown",
   "id": "3e35ee04-2c8d-493f-acc4-d2d15c9e4c99",
   "metadata": {},
   "source": [
    "Убедимся что получившиеся массивы полностью идентичны"
   ]
  },
  {
   "cell_type": "code",
   "execution_count": 38,
   "id": "512efcb6-4bc9-47f4-964b-5e5abb5644f5",
   "metadata": {},
   "outputs": [
    {
     "data": {
      "text/plain": [
       "True"
      ]
     },
     "execution_count": 38,
     "metadata": {},
     "output_type": "execute_result"
    }
   ],
   "source": [
    "np.array_equal(res, res_2)"
   ]
  },
  {
   "cell_type": "markdown",
   "id": "5e9f67b8-6274-4e08-a552-a05460ab142e",
   "metadata": {},
   "source": [
    "__Трансляция__ "
   ]
  },
  {
   "cell_type": "markdown",
   "id": "b3ab3785-5af4-4ce1-9bdf-6fafdd846cfd",
   "metadata": {},
   "source": [
    "Довольно часто бывает так, что массивы, над которыми выполняют какую-либо операцию, обладают разной размерностью. Предположим, что мы хотим сложить одномерный массив с массивом нулевой размерности (числом).\r\n",
    "\r\n",
    "В этом случае, для того чтобы сделать возможной векторизацию сложения, Numpy предварительно увеличивает меньший массив (число) до размеров большего (вектора) и затем выполняет сложение без использования цикла. Такой подход называется трансляцией (broadcasting)."
   ]
  },
  {
   "cell_type": "code",
   "execution_count": 39,
   "id": "421a34da-756b-49ce-b344-9f910f6ce48d",
   "metadata": {},
   "outputs": [
    {
     "data": {
      "text/plain": [
       "((5,), ())"
      ]
     },
     "execution_count": 39,
     "metadata": {},
     "output_type": "execute_result"
    }
   ],
   "source": [
    "# создадим одномерный вектор\n",
    "v3 = np.array([1, 2, 3, 4, 5])\n",
    "\n",
    "# и вектор с нулевым измерением (число)\n",
    "n = np.array(6)\n",
    "\n",
    "# размерность вектора и числа не совпадает\n",
    "v3.shape, n.shape"
   ]
  },
  {
   "cell_type": "markdown",
   "id": "f374a80b-a5c3-4123-a605-f12a6c9c61f4",
   "metadata": {},
   "source": [
    "Прежде чем выполнить векторизованную операцию (сложение), размерность числа увеличивается до размерности вектора.\r\n",
    "\r\n"
   ]
  },
  {
   "cell_type": "code",
   "execution_count": 40,
   "id": "e6db2ea0-27ca-4fd7-89c3-80390c399326",
   "metadata": {},
   "outputs": [
    {
     "data": {
      "text/plain": [
       "array([ 7,  8,  9, 10, 11])"
      ]
     },
     "execution_count": 40,
     "metadata": {},
     "output_type": "execute_result"
    }
   ],
   "source": [
    "v3 + n"
   ]
  },
  {
   "cell_type": "markdown",
   "id": "1b25ea00-6ea4-4ceb-918a-383a6cbdb405",
   "metadata": {},
   "source": [
    "### __Умножение векторов, матриц и тензоров__"
   ]
  },
  {
   "cell_type": "markdown",
   "id": "480598e3-4a06-4cad-b80d-db1291d34a76",
   "metadata": {},
   "source": [
    "__Скалярное произведение векторов__"
   ]
  },
  {
   "cell_type": "markdown",
   "id": "85aa8f7c-3d27-471e-907d-1909cbcae2af",
   "metadata": {},
   "source": [
    "Скалярное произведение векторов осуществляется с помощью функции np.dot()"
   ]
  },
  {
   "cell_type": "code",
   "execution_count": 41,
   "id": "4aa6f403-70cc-4c11-aa14-677e5ed7345a",
   "metadata": {},
   "outputs": [
    {
     "data": {
      "text/plain": [
       "14"
      ]
     },
     "execution_count": 41,
     "metadata": {},
     "output_type": "execute_result"
    }
   ],
   "source": [
    "a = np.array([1, 2, 3])\n",
    "b = np.array([1, 2, 3])\n",
    "\n",
    "# вычислим скалярное произведение\n",
    "np.dot(a, b)"
   ]
  },
  {
   "cell_type": "markdown",
   "id": "c443cd90-0946-4a6c-84de-f9f2ec161b5e",
   "metadata": {},
   "source": [
    "В русском языке под скалярным произведением понимается поэлементное умножение и сложение получившихся произведений. Вероятно, такое название связано с тем, что результатом операции будет число (скаляр). При этом если мы просто хотим провести поэлементное (покомпонентное) умножение, речь идет произведении Адамара. Также возможно умножение вектора или матрицы на число."
   ]
  },
  {
   "cell_type": "markdown",
   "id": "1445286a-a375-4fa9-b2fc-d1328e7d5b49",
   "metadata": {},
   "source": [
    "__Произведение матрицы и вектора__"
   ]
  },
  {
   "cell_type": "code",
   "execution_count": 42,
   "id": "986b000b-8c08-443a-999c-38528960bea2",
   "metadata": {},
   "outputs": [
    {
     "data": {
      "text/plain": [
       "array([[1, 2, 3],\n",
       "       [4, 5, 6],\n",
       "       [7, 8, 9]])"
      ]
     },
     "execution_count": 42,
     "metadata": {},
     "output_type": "execute_result"
    }
   ],
   "source": [
    "# создадим матрицу данных\n",
    "c = np.arange(1, 10).reshape(3, 3)\n",
    "c"
   ]
  },
  {
   "cell_type": "code",
   "execution_count": 43,
   "id": "5c50bf25-5ede-46f3-98df-e5e2c02a0eed",
   "metadata": {},
   "outputs": [
    {
     "data": {
      "text/plain": [
       "array([14, 32, 50])"
      ]
     },
     "execution_count": 43,
     "metadata": {},
     "output_type": "execute_result"
    }
   ],
   "source": [
    "# умножим матрицу на вектор\n",
    "np.dot(c, a)"
   ]
  },
  {
   "cell_type": "markdown",
   "id": "9944711d-49c7-454e-a81c-11219a8bcdf8",
   "metadata": {},
   "source": [
    "__Умножение двух матриц__"
   ]
  },
  {
   "cell_type": "code",
   "execution_count": 44,
   "id": "8822771b-da83-49e3-9bfe-689df5ca2ab9",
   "metadata": {},
   "outputs": [
    {
     "data": {
      "text/plain": [
       "array([[0, 1, 2],\n",
       "       [3, 4, 5]])"
      ]
     },
     "execution_count": 44,
     "metadata": {},
     "output_type": "execute_result"
    }
   ],
   "source": [
    "a = np.arange(6).reshape(2, 3)\n",
    "a"
   ]
  },
  {
   "cell_type": "code",
   "execution_count": 45,
   "id": "d4eca595-753b-42e0-8721-f47801f37130",
   "metadata": {},
   "outputs": [
    {
     "data": {
      "text/plain": [
       "array([[5, 4],\n",
       "       [3, 2],\n",
       "       [1, 0]])"
      ]
     },
     "execution_count": 45,
     "metadata": {},
     "output_type": "execute_result"
    }
   ],
   "source": [
    "b = np.arange(6).reshape(3, 2)[::-1, ::-1]\n",
    "b"
   ]
  },
  {
   "cell_type": "code",
   "execution_count": 46,
   "id": "6c735b30-b662-4811-94af-fa4146466eb6",
   "metadata": {},
   "outputs": [
    {
     "data": {
      "text/plain": [
       "array([[ 5,  2],\n",
       "       [32, 20]])"
      ]
     },
     "execution_count": 46,
     "metadata": {},
     "output_type": "execute_result"
    }
   ],
   "source": [
    "np.dot(a, b)"
   ]
  },
  {
   "cell_type": "markdown",
   "id": "498b2084-86ed-4c29-bad8-759d7c186b51",
   "metadata": {},
   "source": [
    "__Тензорное произведение__"
   ]
  },
  {
   "cell_type": "code",
   "execution_count": 48,
   "id": "d802d261-d7e2-4ac8-82ed-39c21e43615b",
   "metadata": {},
   "outputs": [
    {
     "data": {
      "text/plain": [
       "array([[0, 1, 2],\n",
       "       [3, 4, 5]])"
      ]
     },
     "execution_count": 48,
     "metadata": {},
     "output_type": "execute_result"
    }
   ],
   "source": [
    "a"
   ]
  },
  {
   "cell_type": "code",
   "execution_count": 49,
   "id": "b721629d-67de-4dc8-8720-a20ee46f31dd",
   "metadata": {},
   "outputs": [
    {
     "data": {
      "text/plain": [
       "array([[5, 4],\n",
       "       [3, 2],\n",
       "       [1, 0]])"
      ]
     },
     "execution_count": 49,
     "metadata": {},
     "output_type": "execute_result"
    }
   ],
   "source": [
    "b"
   ]
  },
  {
   "cell_type": "code",
   "execution_count": 50,
   "id": "15d01430-2c9d-4890-815b-10a36922dbd2",
   "metadata": {},
   "outputs": [
    {
     "data": {
      "text/plain": [
       "array([[ 5,  2],\n",
       "       [32, 20]])"
      ]
     },
     "execution_count": 50,
     "metadata": {},
     "output_type": "execute_result"
    }
   ],
   "source": [
    "# повторим умножение матриц с помощью функции np.dot()\n",
    "np.dot(a, b)"
   ]
  },
  {
   "cell_type": "markdown",
   "id": "2357edeb-6ff3-4503-a16e-f147a8d2a768",
   "metadata": {},
   "source": [
    "Идея np.tensordot() заключается в том, чтобы явно указать оси массива, по которым будет происходить покомпонентное умножение и сложение получившихся произведений (по-английски такое сокращение еще называют sum-reduction). Делается это с помощью параметра axes."
   ]
  },
  {
   "cell_type": "code",
   "execution_count": 52,
   "id": "50cf02f3-3edd-41cc-bbab-060321b8bd44",
   "metadata": {},
   "outputs": [
    {
     "data": {
      "text/plain": [
       "array([[ 5,  2],\n",
       "       [32, 20]])"
      ]
     },
     "execution_count": 52,
     "metadata": {},
     "output_type": "execute_result"
    }
   ],
   "source": [
    "np.tensordot(a, b, axes = (1, 0))"
   ]
  },
  {
   "cell_type": "code",
   "execution_count": 54,
   "id": "399b3f0c-b12d-49af-b2e0-579e0e5d7d46",
   "metadata": {},
   "outputs": [
    {
     "data": {
      "text/plain": [
       "array([[12,  6,  0],\n",
       "       [21, 11,  1],\n",
       "       [30, 16,  2]])"
      ]
     },
     "execution_count": 54,
     "metadata": {},
     "output_type": "execute_result"
    }
   ],
   "source": [
    "np.tensordot(a, b, axes = (0, 1))"
   ]
  }
 ],
 "metadata": {
  "kernelspec": {
   "display_name": "Python 3 (ipykernel)",
   "language": "python",
   "name": "python3"
  },
  "language_info": {
   "codemirror_mode": {
    "name": "ipython",
    "version": 3
   },
   "file_extension": ".py",
   "mimetype": "text/x-python",
   "name": "python",
   "nbconvert_exporter": "python",
   "pygments_lexer": "ipython3",
   "version": "3.11.7"
  }
 },
 "nbformat": 4,
 "nbformat_minor": 5
}
