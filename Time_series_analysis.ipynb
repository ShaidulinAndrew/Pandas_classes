{
 "cells": [
  {
   "cell_type": "code",
   "execution_count": 1,
   "id": "22887144",
   "metadata": {},
   "outputs": [],
   "source": [
    "# импортируем библиотеки numpy и pandas\n",
    "import numpy as np\n",
    "import pandas as pd\n",
    "\n",
    "# импортируем библиотеку datatime для работы с датами\n",
    "import datetime\n",
    "from datetime import datetime, date\n",
    "\n",
    "# задаем некоторые опции библиотеки pandas, которые настраивают вывод\n",
    "pd.set_option('display.notebook_repr_html', False)     # задаем вывод в виде текста, а не HTML\n",
    "pd.set_option('display.max_columns', 8)                # устанавливаем отображение максимального количества стобцов\n",
    "pd.set_option('display.max_rows', 10)                  # устанавливаем отображение максимального количества строк\n",
    "pd.set_option('display.width', 80)                     # устанавливаеv максимальную ширину отображения в символах\n",
    "\n",
    "# импортируем библиотеку matplotlib для построения графиков\n",
    "import matplotlib.pyplot as plt \n",
    "%matplotlib inline"
   ]
  },
  {
   "cell_type": "markdown",
   "id": "b55f84b5",
   "metadata": {},
   "source": [
    "__ПРЕДСТАВЛЕНИЕ ДАТ, ВРЕМЕНИ И ИНТЕРВАЛОВ__"
   ]
  },
  {
   "cell_type": "markdown",
   "id": "7d112ceb",
   "metadata": {},
   "source": [
    "__Объекты datetime, day, time__"
   ]
  },
  {
   "cell_type": "code",
   "execution_count": 2,
   "id": "e2cea0af",
   "metadata": {},
   "outputs": [
    {
     "data": {
      "text/plain": [
       "datetime.datetime(2014, 12, 15, 0, 0)"
      ]
     },
     "execution_count": 2,
     "metadata": {},
     "output_type": "execute_result"
    }
   ],
   "source": [
    "# Объект datetime можно инициализировать с помощью трех обязательный параметров: год, месяц, день\n",
    "# Объект datetime для 15 декабря 2014 г\n",
    "datetime(2014, 12, 15)"
   ]
  },
  {
   "cell_type": "code",
   "execution_count": 3,
   "id": "05ce5a14",
   "metadata": {},
   "outputs": [
    {
     "data": {
      "text/plain": [
       "datetime.datetime(2014, 12, 15, 23, 59)"
      ]
     },
     "execution_count": 3,
     "metadata": {},
     "output_type": "execute_result"
    }
   ],
   "source": [
    "# Добавляем время\n",
    "datetime(2014, 12, 15, 23, 59)"
   ]
  },
  {
   "cell_type": "code",
   "execution_count": 4,
   "id": "900bf788",
   "metadata": {},
   "outputs": [
    {
     "data": {
      "text/plain": [
       "datetime.datetime(2023, 10, 9, 20, 35, 46, 120871)"
      ]
     },
     "execution_count": 4,
     "metadata": {},
     "output_type": "execute_result"
    }
   ],
   "source": [
    "# текущую дату и время можно определитьс помощью метода .now(), который извлекает местную дату и время\n",
    "datetime.now()"
   ]
  },
  {
   "cell_type": "code",
   "execution_count": 5,
   "id": "af908946",
   "metadata": {},
   "outputs": [
    {
     "data": {
      "text/plain": [
       "datetime.date(2014, 12, 15)"
      ]
     },
     "execution_count": 5,
     "metadata": {},
     "output_type": "execute_result"
    }
   ],
   "source": [
    "# объект datetime.date представляет собой определенный день без компонента времени\n",
    "datetime.date(datetime(2014, 12, 15))"
   ]
  },
  {
   "cell_type": "code",
   "execution_count": 6,
   "id": "769542a8",
   "metadata": {},
   "outputs": [
    {
     "data": {
      "text/plain": [
       "datetime.date(2023, 10, 9)"
      ]
     },
     "execution_count": 6,
     "metadata": {},
     "output_type": "execute_result"
    }
   ],
   "source": [
    "# текущаю дату для данного часового пояса, можно извлечь с помощью \n",
    "datetime.now().date()"
   ]
  },
  {
   "cell_type": "code",
   "execution_count": 7,
   "id": "3ef16e99",
   "metadata": {},
   "outputs": [
    {
     "data": {
      "text/plain": [
       "datetime.time(17, 30)"
      ]
     },
     "execution_count": 7,
     "metadata": {},
     "output_type": "execute_result"
    }
   ],
   "source": [
    "# объект datetime.time представляет определенное время без компонента даты\n",
    "datetime.time(datetime (2014, 12, 15, 17, 30))"
   ]
  },
  {
   "cell_type": "code",
   "execution_count": 8,
   "id": "61b20558",
   "metadata": {},
   "outputs": [
    {
     "data": {
      "text/plain": [
       "datetime.time(20, 35, 46, 185210)"
      ]
     },
     "execution_count": 8,
     "metadata": {},
     "output_type": "execute_result"
    }
   ],
   "source": [
    "# получаем текущее местное время\n",
    "datetime.now().time()"
   ]
  },
  {
   "cell_type": "markdown",
   "id": "f066f4d9",
   "metadata": {},
   "source": [
    "__Создание временной метки с помощью обекта Timestamp__"
   ]
  },
  {
   "cell_type": "code",
   "execution_count": 9,
   "id": "41da0e49",
   "metadata": {},
   "outputs": [
    {
     "data": {
      "text/plain": [
       "Timestamp('2014-12-15 00:00:00')"
      ]
     },
     "execution_count": 9,
     "metadata": {},
     "output_type": "execute_result"
    }
   ],
   "source": [
    "# создадим временную метку\n",
    "pd.Timestamp('2014-12-15')"
   ]
  },
  {
   "cell_type": "code",
   "execution_count": 10,
   "id": "74e52b81",
   "metadata": {},
   "outputs": [
    {
     "data": {
      "text/plain": [
       "Timestamp('2014-12-15 17:30:00')"
      ]
     },
     "execution_count": 10,
     "metadata": {},
     "output_type": "execute_result"
    }
   ],
   "source": [
    "# укажем метку времени\n",
    "pd.Timestamp('2014-12-15 17:30')"
   ]
  },
  {
   "cell_type": "code",
   "execution_count": 11,
   "id": "bcefd2e3",
   "metadata": {},
   "outputs": [
    {
     "data": {
      "text/plain": [
       "Timestamp('2023-10-09 17:30:00')"
      ]
     },
     "execution_count": 11,
     "metadata": {},
     "output_type": "execute_result"
    }
   ],
   "source": [
    "# объект Timestamp можно создать задав лишь время, и по умолчанию будет добавлена местная дата\n",
    "pd.Timestamp('17:30')"
   ]
  },
  {
   "cell_type": "code",
   "execution_count": 12,
   "id": "73e3da36",
   "metadata": {},
   "outputs": [
    {
     "data": {
      "text/plain": [
       "Timestamp('2023-10-09 20:35:46.245133')"
      ]
     },
     "execution_count": 12,
     "metadata": {},
     "output_type": "execute_result"
    }
   ],
   "source": [
    "# поучаем текущую дату и время\n",
    "pd.Timestamp('now')"
   ]
  },
  {
   "cell_type": "markdown",
   "id": "9a88e3f2",
   "metadata": {},
   "source": [
    "__Использование объекта Timedelta для представления временного интервала__"
   ]
  },
  {
   "cell_type": "code",
   "execution_count": 13,
   "id": "d6491aa1",
   "metadata": {},
   "outputs": [
    {
     "data": {
      "text/plain": [
       "datetime.datetime(2014, 12, 1, 0, 0)"
      ]
     },
     "execution_count": 13,
     "metadata": {},
     "output_type": "execute_result"
    }
   ],
   "source": [
    "# вычисляем дату, которая будет отстоять от даты 2014-11-30 на один день вперед\n",
    "today = datetime(2014, 11, 30)\n",
    "tomorrow = today + pd.Timedelta(days = 1)\n",
    "tomorrow"
   ]
  },
  {
   "cell_type": "code",
   "execution_count": 14,
   "id": "ca15091b",
   "metadata": {},
   "outputs": [
    {
     "data": {
      "text/plain": [
       "datetime.timedelta(days=13414)"
      ]
     },
     "execution_count": 14,
     "metadata": {},
     "output_type": "execute_result"
    }
   ],
   "source": [
    "# вычисляем количество дней между двумя датами\n",
    "date1 = datetime(1987, 1, 13)\n",
    "date2 = datetime(2023, 10, 5)\n",
    "date2 - date1"
   ]
  },
  {
   "cell_type": "markdown",
   "id": "95a6edce",
   "metadata": {},
   "source": [
    "__ВВЕДЕНИЕ ВО ВРЕМЕННЫЕ РЯДЫ__"
   ]
  },
  {
   "cell_type": "markdown",
   "id": "79950275",
   "metadata": {},
   "source": [
    "__Индексация с помощью объекта DatetimeIndex__"
   ]
  },
  {
   "cell_type": "code",
   "execution_count": 15,
   "id": "e5f03eed",
   "metadata": {},
   "outputs": [
    {
     "data": {
      "text/plain": [
       "2014-08-01   -0.672887\n",
       "2014-08-02   -0.717432\n",
       "dtype: float64"
      ]
     },
     "execution_count": 15,
     "metadata": {},
     "output_type": "execute_result"
    }
   ],
   "source": [
    "# создаем очень простой временной ряд с двумя индексными метками и случайными значениями\n",
    "dates = [datetime(2014, 8, 1), datetime(2014, 8, 2)]\n",
    "ts = pd.Series(np.random.randn(2), dates)\n",
    "ts"
   ]
  },
  {
   "cell_type": "code",
   "execution_count": 16,
   "id": "5fe91150",
   "metadata": {},
   "outputs": [
    {
     "data": {
      "text/plain": [
       "pandas.core.indexes.datetimes.DatetimeIndex"
      ]
     },
     "execution_count": 16,
     "metadata": {},
     "output_type": "execute_result"
    }
   ],
   "source": [
    "# мы взяли объекты datetime и создали на основе дат объект DatetimeIndex, каждое значение этого индекса является объектом\n",
    "# Timestamp\n",
    "# смотрим тип индекса\n",
    "type(ts.index)"
   ]
  },
  {
   "cell_type": "code",
   "execution_count": 17,
   "id": "af9b6192",
   "metadata": {},
   "outputs": [
    {
     "data": {
      "text/plain": [
       "pandas._libs.tslibs.timestamps.Timestamp"
      ]
     },
     "execution_count": 17,
     "metadata": {},
     "output_type": "execute_result"
    }
   ],
   "source": [
    "# можно увидеть что это коллекция временных меток\n",
    "type(ts.index[0])"
   ]
  },
  {
   "cell_type": "code",
   "execution_count": 18,
   "id": "2a6e7c06",
   "metadata": {},
   "outputs": [
    {
     "data": {
      "text/plain": [
       "2014-08-01    0.469112\n",
       "2014-08-02   -0.282863\n",
       "dtype: float64"
      ]
     },
     "execution_count": 18,
     "metadata": {},
     "output_type": "execute_result"
    }
   ],
   "source": [
    "# создаем временной ряд из списка дат, записанных в виде строк!\n",
    "np.random.seed(123456)\n",
    "dates = ['2014-08-01', '2014-08-02']\n",
    "ts = pd.Series(np.random.randn(2), dates)\n",
    "ts"
   ]
  },
  {
   "cell_type": "code",
   "execution_count": 19,
   "id": "d253e136",
   "metadata": {},
   "outputs": [
    {
     "name": "stdout",
     "output_type": "stream",
     "text": [
      "2014-08-01 00:00:00\n",
      "NaT\n",
      "NaT\n",
      "NaT\n"
     ]
    }
   ],
   "source": [
    "# библиотека Pandas предлагает удобную функцию pd.to_datetime(), она принимает в качестве аргумента последовательность\n",
    "# одного и того же или смешанного типа, преобразует их в объекты Tamestamp, а те в свою очередь формируют DatetimeIndex\n",
    "dti = pd.to_datetime(['Aug 1, 2014', '2014-08-02', '2014.8.3', None], errors = 'coerce')\n",
    "for i in dti: print(i)"
   ]
  },
  {
   "cell_type": "code",
   "execution_count": 20,
   "id": "4566a8d7",
   "metadata": {},
   "outputs": [
    {
     "data": {
      "text/plain": [
       "2014-08-01    0.469112\n",
       "2014-08-02   -0.282863\n",
       "2014-08-03   -1.509059\n",
       "2014-08-04   -1.135632\n",
       "2014-08-05    1.212112\n",
       "2014-08-06   -0.173215\n",
       "2014-08-07    0.119209\n",
       "2014-08-08   -1.044236\n",
       "2014-08-09   -0.861849\n",
       "2014-08-10   -2.104569\n",
       "Freq: D, dtype: float64"
      ]
     },
     "execution_count": 20,
     "metadata": {},
     "output_type": "execute_result"
    }
   ],
   "source": [
    "# создаем диапазон дат, начинающийся с определенной даты и включающий определенное количество дней\n",
    "np.random.seed(123456)\n",
    "periods = pd.date_range('8/1/2014', periods = 10)\n",
    "data_series = pd.Series(np.random.randn(10), index = periods)\n",
    "data_series"
   ]
  },
  {
   "cell_type": "code",
   "execution_count": 21,
   "id": "77d23fee",
   "metadata": {},
   "outputs": [
    {
     "data": {
      "text/plain": [
       "2014-08-04   -1.135632\n",
       "2014-08-05    1.212112\n",
       "2014-08-06   -0.173215\n",
       "2014-08-07    0.119209\n",
       "Freq: D, dtype: float64"
      ]
     },
     "execution_count": 21,
     "metadata": {},
     "output_type": "execute_result"
    }
   ],
   "source": [
    "# создаем срез, используя позиции индекса\n",
    "subset = data_series[3:7]\n",
    "subset"
   ]
  },
  {
   "cell_type": "code",
   "execution_count": 22,
   "id": "23152662",
   "metadata": {},
   "outputs": [
    {
     "data": {
      "text/plain": [
       "2014-08-04       10\n",
       "2014-08-05      100\n",
       "2014-08-06     1000\n",
       "2014-08-07    10000\n",
       "Freq: D, dtype: int64"
      ]
     },
     "execution_count": 22,
     "metadata": {},
     "output_type": "execute_result"
    }
   ],
   "source": [
    "# создадим Series с помощью индекса только что полученного среза\n",
    "s2 = pd.Series([10, 100, 1000, 10000], subset.index)\n",
    "s2"
   ]
  },
  {
   "cell_type": "code",
   "execution_count": 23,
   "id": "d1f67f9e",
   "metadata": {},
   "outputs": [
    {
     "data": {
      "text/plain": [
       "2014-08-01             NaN\n",
       "2014-08-02             NaN\n",
       "2014-08-03             NaN\n",
       "2014-08-04        8.864368\n",
       "2014-08-05      101.212112\n",
       "2014-08-06      999.826785\n",
       "2014-08-07    10000.119209\n",
       "2014-08-08             NaN\n",
       "2014-08-09             NaN\n",
       "2014-08-10             NaN\n",
       "Freq: D, dtype: float64"
      ]
     },
     "execution_count": 23,
     "metadata": {},
     "output_type": "execute_result"
    }
   ],
   "source": [
    "# демонстрируем выравнивание по дате, сложив вместе date_series и s2\n",
    "data_series + s2"
   ]
  },
  {
   "cell_type": "code",
   "execution_count": 24,
   "id": "4ab3c369",
   "metadata": {},
   "outputs": [
    {
     "data": {
      "text/plain": [
       "1.2121120250208506"
      ]
     },
     "execution_count": 24,
     "metadata": {},
     "output_type": "execute_result"
    }
   ],
   "source": [
    "# Находим элемент с помощью строкового представления даты\n",
    "data_series['2014-08-05']"
   ]
  },
  {
   "cell_type": "code",
   "execution_count": 25,
   "id": "59635f3c",
   "metadata": {},
   "outputs": [
    {
     "data": {
      "text/plain": [
       "2014-08-05    1.212112\n",
       "2014-08-06   -0.173215\n",
       "2014-08-07    0.119209\n",
       "Freq: D, dtype: float64"
      ]
     },
     "execution_count": 25,
     "metadata": {},
     "output_type": "execute_result"
    }
   ],
   "source": [
    "# создаем срез объекта DatetimeIndex задав диапазон состоящий из строковых представлений дат\n",
    "data_series['2014-08-05':'2014-08-07']"
   ]
  },
  {
   "cell_type": "code",
   "execution_count": 26,
   "id": "e6f18d8f",
   "metadata": {},
   "outputs": [
    {
     "data": {
      "text/plain": [
       "2013-01-01    0\n",
       "2013-01-02    0\n",
       "2013-01-03    0\n",
       "2013-01-04    0\n",
       "2013-01-05    0\n",
       "             ..\n",
       "2013-12-27    0\n",
       "2013-12-28    0\n",
       "2013-12-29    0\n",
       "2013-12-30    0\n",
       "2013-12-31    0\n",
       "Freq: D, Length: 365, dtype: int64"
      ]
     },
     "execution_count": 26,
     "metadata": {},
     "output_type": "execute_result"
    }
   ],
   "source": [
    "# создаем диапазон дат, охватывающий 2-летний период с ежедневным интервалом и отбираем лишь те даты которые относятся к 2013 г.\n",
    "s3 = pd.Series(0, pd.date_range('2013-01-01', '2014-12-31'))\n",
    "s3['2013']"
   ]
  },
  {
   "cell_type": "code",
   "execution_count": 27,
   "id": "37f24340",
   "metadata": {},
   "outputs": [
    {
     "data": {
      "text/plain": [
       "2014-05-01    0\n",
       "2014-05-02    0\n",
       "2014-05-03    0\n",
       "2014-05-04    0\n",
       "2014-05-05    0\n",
       "             ..\n",
       "2014-05-27    0\n",
       "2014-05-28    0\n",
       "2014-05-29    0\n",
       "2014-05-30    0\n",
       "2014-05-31    0\n",
       "Freq: D, Length: 31, dtype: int64"
      ]
     },
     "execution_count": 27,
     "metadata": {},
     "output_type": "execute_result"
    }
   ],
   "source": [
    "# можно отобрать даты, которые относятся к конкретному году и месяцу\n",
    "s3['2014-05']"
   ]
  },
  {
   "cell_type": "code",
   "execution_count": 28,
   "id": "d8916c20",
   "metadata": {},
   "outputs": [
    {
     "data": {
      "text/plain": [
       "2014-08-01    0\n",
       "2014-08-02    0\n",
       "2014-08-03    0\n",
       "2014-08-04    0\n",
       "2014-08-05    0\n",
       "             ..\n",
       "2014-09-26    0\n",
       "2014-09-27    0\n",
       "2014-09-28    0\n",
       "2014-09-29    0\n",
       "2014-09-30    0\n",
       "Freq: D, Length: 61, dtype: int64"
      ]
     },
     "execution_count": 28,
     "metadata": {},
     "output_type": "execute_result"
    }
   ],
   "source": [
    "# этот способ можно использовать при работе со срезами\n",
    "# извлекаем даты с августа по сентябрь\n",
    "s3['2014-08':'2014-09']"
   ]
  },
  {
   "cell_type": "markdown",
   "id": "ddf323e8",
   "metadata": {},
   "source": [
    "__Создание временного ряда с определенной частотой__"
   ]
  },
  {
   "cell_type": "code",
   "execution_count": 29,
   "id": "c27e51ff",
   "metadata": {},
   "outputs": [
    {
     "data": {
      "text/plain": [
       "2014-08-01 00:00:00    0.469112\n",
       "2014-08-01 00:01:00   -0.282863\n",
       "2014-08-01 00:02:00   -1.509059\n",
       "2014-08-01 00:03:00   -1.135632\n",
       "2014-08-01 00:04:00    1.212112\n",
       "Freq: T, dtype: float64"
      ]
     },
     "execution_count": 29,
     "metadata": {},
     "output_type": "execute_result"
    }
   ],
   "source": [
    "# Частота временного ряда не обязательно должна быть ежедневной. С помощью функции pd.date_range() и параметра freq \n",
    "# можно сгенерировать различные частоты. по умолчанию параметр freq имеет значение D, которое означает суточную частоту\n",
    "np.random.seed(123456)\n",
    "bymin = pd.Series(np.random.randn(24*60*90),\n",
    "                  pd.date_range('2014-08-01',\n",
    "                                '2014-10-29 23:59',\n",
    "                                freq = 'T'))\n",
    "bymin[:5]"
   ]
  },
  {
   "cell_type": "code",
   "execution_count": 30,
   "id": "9fdaba5b",
   "metadata": {},
   "outputs": [
    {
     "data": {
      "text/plain": [
       "2014-08-01 00:02:00   -1.509059\n",
       "2014-08-01 00:03:00   -1.135632\n",
       "2014-08-01 00:04:00    1.212112\n",
       "2014-08-01 00:05:00   -0.173215\n",
       "2014-08-01 00:06:00    0.119209\n",
       "2014-08-01 00:07:00   -1.044236\n",
       "Freq: T, dtype: float64"
      ]
     },
     "execution_count": 30,
     "metadata": {},
     "output_type": "execute_result"
    }
   ],
   "source": [
    "# создаем срез с поминутными интервалами\n",
    "bymin['2014-08-01 00:02':'2014-08-01 00:07']"
   ]
  },
  {
   "cell_type": "markdown",
   "id": "de858c7a",
   "metadata": {},
   "source": [
    "__ВОЗМОЖНЫЕ ЧАСТОТЫ ПАРАМЕТРА freq__\n",
    "\n",
    "- __B__ - каждый рабочий день\n",
    "- __С__ - каждый указанный рабочий день\n",
    "- __D__ - ежедневно (по умолчанию)\n",
    "- __W__ - еженедельно\n",
    "- __M__ - каждый последний календарный день месяца\n",
    "- __BM__ - каждый последний рабочий день месяца\n",
    "- __CBM__ - каждый указанный последний рабочий день месяца\n",
    "- __MS__ - каждый первый календарный день месяца\n",
    "- __BMS__ - каждый первый рабочий день месяца\n",
    "- __CBMS__ - каждый указанный первый рабочий день месяца\n",
    "- __Q__ - ежеквартально\n",
    "- __BQ__ - каждый последний рабочий день квартала\n",
    "- __QS__ - каждый первый день квартала\n",
    "- __BQS__ - каждый первый рабочий день квартал\n",
    "- __A__ - каждый последний день года\n",
    "- __BA__ - каждый последний рабочий день года\n",
    "- __AS__ - каждый первый день года\n",
    "- __BAS__ - каждый первый рабочий день года\n",
    "- __H__ - ежечасно\n",
    "- __T__ - ежеминутно\n",
    "- __S__ - ежесекундно\n",
    "- __L__ - каждую миллисекунду\n",
    "- __U__ - каждую микросекунду"
   ]
  },
  {
   "cell_type": "code",
   "execution_count": 31,
   "id": "a5e31925",
   "metadata": {},
   "outputs": [
    {
     "data": {
      "text/plain": [
       "DatetimeIndex(['2014-08-29', '2014-09-01', '2014-09-02', '2014-09-03',\n",
       "               '2014-09-04', '2014-09-05'],\n",
       "              dtype='datetime64[ns]', freq='B')"
      ]
     },
     "execution_count": 31,
     "metadata": {},
     "output_type": "execute_result"
    }
   ],
   "source": [
    "# создаем серию, состоящую из рабочий дней \n",
    "days = pd.date_range('2014-08-29', '2014-09-05', freq = 'B')\n",
    "days"
   ]
  },
  {
   "cell_type": "code",
   "execution_count": 32,
   "id": "f2ee3dc1",
   "metadata": {},
   "outputs": [
    {
     "data": {
      "text/plain": [
       "DatetimeIndex(['2014-08-01 12:10:01', '2014-08-01 12:10:02',\n",
       "               '2014-08-01 12:10:03', '2014-08-01 12:10:04',\n",
       "               '2014-08-01 12:10:05'],\n",
       "              dtype='datetime64[ns]', freq='S')"
      ]
     },
     "execution_count": 32,
     "metadata": {},
     "output_type": "execute_result"
    }
   ],
   "source": [
    "# с помощью пареметра periods можно создать диапазон, начинающийся с определенной даты и времени, с определенной частотой \n",
    "# и с определенным количеством периодов\n",
    "pd.date_range('2014-08-01 12:10:01', freq = 'S', periods = 5)"
   ]
  },
  {
   "cell_type": "markdown",
   "id": "08afc9e4",
   "metadata": {},
   "source": [
    "__ВЫЧИСЛЕНИЕ НОВЫХ ДАТ С ПОМОЩЬЮ СМЕЩЕНИЙ__"
   ]
  },
  {
   "cell_type": "markdown",
   "id": "c6aee842",
   "metadata": {},
   "source": [
    "__Представление временных интервалов с помощью смещений дат__"
   ]
  },
  {
   "cell_type": "markdown",
   "id": "ef7419fa",
   "metadata": {},
   "source": [
    "- __DateOffset__ - календарный день\n",
    "- __Bday__ - рабочий день\n",
    "- __Cday__ - указанный рабочий день\n",
    "- __Week__ - неделя, опционно привязанная ко дню недели\n",
    "- __WeekOfMonth__ - k-й день m-й недели каждого месяца\n",
    "- __LastWeekOfMonth__ - k-й день последней недели каждого месяца\n",
    "- __MonthEnd__ - последний календарный день месяца\n",
    "- __MonthBegin__ - первый календарный день месяца\n",
    "- __BMonthEnd__ - последний рабочий день месяца\n",
    "- __BMonthBegin__ - первый рабочий день месяца\n",
    "- __CBMonthEnd__ - указанный последний рабочий день месяца\n",
    "- __CBMonthBegin__ - указанный первый рабочий день месяца\n",
    "- __QuarterEnd__ - последний календарный день квартала \n",
    "- __QuarterBegin__ - первый календарный день квартала\n",
    "- __BQuarterEnd__ - последний рабочий деньк квартала\n",
    "- __BQuarterBegit__ - первый рабочий день квартала\n",
    "- __FYS253Quarter__ - торговый квартал (52-53 недели)\n",
    "- __YearEnd__ - последний календарный день года\n",
    "- __YearBegin__ - первый календарный день года\n",
    "- __BYearEnd__ - последний рабочий день года\n",
    "- __DYearBegin__ - первый рабочий день года\n",
    "- __FYS253__ - Торговый год (52-53 недели)\n",
    "- __Hour__ - час\n",
    "- __Minute__ - минута \n",
    "- __Second__ - секунда \n",
    "- __Milli__ - миллисекунда \n",
    "- __Micro__ - микросекунда "
   ]
  },
  {
   "cell_type": "code",
   "execution_count": 33,
   "id": "9afe18fd",
   "metadata": {},
   "outputs": [
    {
     "data": {
      "text/plain": [
       "array(['2014-08-29T00:00:00.000000000', '2014-09-01T00:00:00.000000000',\n",
       "       '2014-09-02T00:00:00.000000000', '2014-09-03T00:00:00.000000000',\n",
       "       '2014-09-04T00:00:00.000000000', '2014-09-05T00:00:00.000000000'],\n",
       "      dtype='datetime64[ns]')"
      ]
     },
     "execution_count": 33,
     "metadata": {},
     "output_type": "execute_result"
    }
   ],
   "source": [
    "# извлекаем все рабочие дни в промежутке между двумя датами, включая эти даты\n",
    "dti = pd.date_range('2014-08-29', '2014-09-05', freq = 'B')\n",
    "dti.values"
   ]
  },
  {
   "cell_type": "code",
   "execution_count": 34,
   "id": "b7853874",
   "metadata": {},
   "outputs": [
    {
     "data": {
      "text/plain": [
       "<BusinessDay>"
      ]
     },
     "execution_count": 34,
     "metadata": {},
     "output_type": "execute_result"
    }
   ],
   "source": [
    "# убеждаемся, что частотой является рабочий день\n",
    "dti.freq"
   ]
  },
  {
   "cell_type": "code",
   "execution_count": 35,
   "id": "0a70cd3c",
   "metadata": {},
   "outputs": [
    {
     "data": {
      "text/plain": [
       "Timestamp('2014-08-30 00:00:00')"
      ]
     },
     "execution_count": 35,
     "metadata": {},
     "output_type": "execute_result"
    }
   ],
   "source": [
    "# выичсляем однодневное смещение для 2014-08-29\n",
    "d = datetime(2014, 8, 29)\n",
    "do = pd.DateOffset(days = 1)\n",
    "d + do"
   ]
  },
  {
   "cell_type": "code",
   "execution_count": 36,
   "id": "803dcac0",
   "metadata": {},
   "outputs": [
    {
     "data": {
      "text/plain": [
       "Timestamp('2014-09-01 00:00:00')"
      ]
     },
     "execution_count": 36,
     "metadata": {},
     "output_type": "execute_result"
    }
   ],
   "source": [
    "# вычисляем дату отсточщую от заданной на один день рабочий день вперед:\n",
    "# импортируем типы смещений дат\n",
    "from pandas.tseries.offsets import *\n",
    "d + BusinessDay()"
   ]
  },
  {
   "cell_type": "code",
   "execution_count": 37,
   "id": "0f667df0",
   "metadata": {},
   "outputs": [
    {
     "data": {
      "text/plain": [
       "Timestamp('2014-09-02 00:00:00')"
      ]
     },
     "execution_count": 37,
     "metadata": {},
     "output_type": "execute_result"
    }
   ],
   "source": [
    "# сдвиг сразу на несколько единиц частоты можно выполнить с помощью умножения\n",
    "d + 2 * BusinessDay()"
   ]
  },
  {
   "cell_type": "code",
   "execution_count": 38,
   "id": "b308391f",
   "metadata": {},
   "outputs": [
    {
     "data": {
      "text/plain": [
       "Timestamp('2014-09-30 00:00:00')"
      ]
     },
     "execution_count": 38,
     "metadata": {},
     "output_type": "execute_result"
    }
   ],
   "source": [
    "# вычисляем последний рабочий день месяца, следующий после 2014-09-02\n",
    "d + BMonthEnd()"
   ]
  },
  {
   "cell_type": "code",
   "execution_count": 39,
   "id": "98538e4a",
   "metadata": {},
   "outputs": [
    {
     "data": {
      "text/plain": [
       "Timestamp('2014-09-30 00:00:00')"
      ]
     },
     "execution_count": 39,
     "metadata": {},
     "output_type": "execute_result"
    }
   ],
   "source": [
    "# вычисляем последний рабочий день месяца, следующий после 2014-09-15 с использованием метода .rollforward()\n",
    "BMonthEnd().rollforward(datetime(2014, 9, 15))"
   ]
  },
  {
   "cell_type": "code",
   "execution_count": 40,
   "id": "753272ac",
   "metadata": {},
   "outputs": [
    {
     "data": {
      "text/plain": [
       "Timestamp('2014-08-26 00:00:00')"
      ]
     },
     "execution_count": 40,
     "metadata": {},
     "output_type": "execute_result"
    }
   ],
   "source": [
    "# вычисляем дату вторника, предшествующую заданной дате\n",
    "d - Week(weekday = 1)"
   ]
  },
  {
   "cell_type": "markdown",
   "id": "0db8e1c0",
   "metadata": {},
   "source": [
    "__Привязанные смещения__"
   ]
  },
  {
   "cell_type": "markdown",
   "id": "5254d4f5",
   "metadata": {},
   "source": [
    "__Привязанные смеещения__ - это определенные частоты , которые начинаются с определенного момента времени, например с определенного дня недели, месяца или года\n"
   ]
  },
  {
   "cell_type": "markdown",
   "id": "65b85c2d",
   "metadata": {},
   "source": [
    "- __W-SUN__ - еженедельно в воскресенье\n",
    "- __W-MON__ - еженедельно в понедельник\n",
    "- __W-TUE__ - еженедельно во вторник\n",
    "- __W-WED__ - еженедельно в среду\n",
    "- __W-THU__ - еженедельно в четверг\n",
    "- __W-FRI__ - еженедельно в пятницу\n",
    "- __W-SAT__ - еженедельно в субботу"
   ]
  },
  {
   "cell_type": "code",
   "execution_count": 41,
   "id": "db877737",
   "metadata": {},
   "outputs": [
    {
     "data": {
      "text/plain": [
       "array(['2014-06-04T00:00:00.000000000', '2014-06-11T00:00:00.000000000',\n",
       "       '2014-06-18T00:00:00.000000000', '2014-06-25T00:00:00.000000000',\n",
       "       '2014-07-02T00:00:00.000000000', '2014-07-09T00:00:00.000000000',\n",
       "       '2014-07-16T00:00:00.000000000', '2014-07-23T00:00:00.000000000',\n",
       "       '2014-07-30T00:00:00.000000000'], dtype='datetime64[ns]')"
      ]
     },
     "execution_count": 41,
     "metadata": {},
     "output_type": "execute_result"
    }
   ],
   "source": [
    "# вычисляем все среды в промежутке между указанными датами\n",
    "wednesdays = pd.date_range('2014-06-01', '2014-07-31', freq = 'W-WED')\n",
    "wednesdays.values"
   ]
  },
  {
   "cell_type": "markdown",
   "id": "c4463ffe",
   "metadata": {},
   "source": [
    "Привязанные смещения можно создать с помощью ежегодных и ежеквартальных частот. Эти частоты имеют вид [B] [A] [Q] [S] - [MON]\n",
    "- __[B]__ - рабочие дни\n",
    "- __[A]__ - частота ежегодно\n",
    "- __[Q]__ - частота ежеквартально\n",
    "- __[S]__ - начало периода вместо конца\n",
    "- __[MON]__ - аббревиатура месяца"
   ]
  },
  {
   "cell_type": "code",
   "execution_count": 42,
   "id": "2b8e8578",
   "metadata": {},
   "outputs": [
    {
     "data": {
      "text/plain": [
       "array(['2014-03-03T00:00:00.000000000', '2014-06-02T00:00:00.000000000',\n",
       "       '2014-09-01T00:00:00.000000000', '2014-12-01T00:00:00.000000000'],\n",
       "      dtype='datetime64[ns]')"
      ]
     },
     "execution_count": 42,
     "metadata": {},
     "output_type": "execute_result"
    }
   ],
   "source": [
    "# вычисляем первый рабочий день последнего месяца в каждом квартале\n",
    "qends = pd.date_range('2014-01-01', '2014-12-31', freq = 'BQS-JUN')\n",
    "qends.values"
   ]
  },
  {
   "cell_type": "markdown",
   "id": "5e3135ff",
   "metadata": {},
   "source": [
    "__ПРЕДСТАВЛЕНИЕ ПРОМЕЖУТКОВ ВРЕМЕНИ С ПОМОЩЬЮ ОБЪЕКТОВ PERIOD__"
   ]
  },
  {
   "cell_type": "markdown",
   "id": "815117cb",
   "metadata": {},
   "source": [
    "__Создание временного интервала с помощью объекта Period__"
   ]
  },
  {
   "cell_type": "code",
   "execution_count": 43,
   "id": "c281e246",
   "metadata": {},
   "outputs": [
    {
     "data": {
      "text/plain": [
       "Period('2014-08', 'M')"
      ]
     },
     "execution_count": 43,
     "metadata": {},
     "output_type": "execute_result"
    }
   ],
   "source": [
    "# объект Period позволяет задать промежутки времени исходя из различных частот (ежедневной, еженедельной, ежемесячной,\n",
    "# ежеквартальной, ежегодной и т.д.). При этом он будет включать в себя начальную и конечную временные метки, \n",
    "# задающие определенный интервал\n",
    "# создаем период - один месяц, начинающийся в август 2014\n",
    "aug2014 = pd.Period('2014-08', freq = 'M')\n",
    "aug2014"
   ]
  },
  {
   "cell_type": "code",
   "execution_count": 44,
   "id": "0c33f466",
   "metadata": {},
   "outputs": [
    {
     "data": {
      "text/plain": [
       "(Timestamp('2014-08-01 00:00:00'), Timestamp('2014-08-31 23:59:59.999999999'))"
      ]
     },
     "execution_count": 44,
     "metadata": {},
     "output_type": "execute_result"
    }
   ],
   "source": [
    "# свойства start_time и end_time сообщают нам о начальной и конечной временных метках\n",
    "# смотрим начальную и конечную даты этого периода\n",
    "aug2014.start_time, aug2014.end_time"
   ]
  },
  {
   "cell_type": "code",
   "execution_count": 45,
   "id": "e98afaab",
   "metadata": {},
   "outputs": [
    {
     "data": {
      "text/plain": [
       "Period('2014-09', 'M')"
      ]
     },
     "execution_count": 45,
     "metadata": {},
     "output_type": "execute_result"
    }
   ],
   "source": [
    "# вычисляем период, прибавив к периоду aug2014 единицу частоты (один месяц)\n",
    "sep2014 = aug2014 + 1\n",
    "sep2014"
   ]
  },
  {
   "cell_type": "code",
   "execution_count": 46,
   "id": "b49004f6",
   "metadata": {},
   "outputs": [
    {
     "data": {
      "text/plain": [
       "(Timestamp('2014-09-01 00:00:00'), Timestamp('2014-09-30 23:59:59.999999999'))"
      ]
     },
     "execution_count": 46,
     "metadata": {},
     "output_type": "execute_result"
    }
   ],
   "source": [
    "sep2014.start_time, sep2014.end_time"
   ]
  },
  {
   "cell_type": "markdown",
   "id": "47822e69",
   "metadata": {},
   "source": [
    "__Индексация с помощью объекта PeriodIndex__"
   ]
  },
  {
   "cell_type": "code",
   "execution_count": 47,
   "id": "44db7d53",
   "metadata": {},
   "outputs": [
    {
     "data": {
      "text/plain": [
       "PeriodIndex(['2013-01', '2013-02', '2013-03', '2013-04', '2013-05', '2013-06',\n",
       "             '2013-07', '2013-08', '2013-09', '2013-10', '2013-11', '2013-12'],\n",
       "            dtype='period[M]')"
      ]
     },
     "execution_count": 47,
     "metadata": {},
     "output_type": "execute_result"
    }
   ],
   "source": [
    "# серию объектов Period можно объеденить в специальный тип индекса, известный как PeriodIndex. Такой индекс применяется\n",
    "# в том случае, когда данные необходимо связать с определенными временными интервалами, создать срезы и проанализировать\n",
    "# события в каждом интервале\n",
    "# создаем объект PeriodIndex, состоящий из 1-месячных интервалов 2013 года\n",
    "mp2013 = pd.period_range('1/1/2013', '12/31/2013', freq = 'M')\n",
    "mp2013"
   ]
  },
  {
   "cell_type": "code",
   "execution_count": 48,
   "id": "aed20c8a",
   "metadata": {},
   "outputs": [
    {
     "name": "stdout",
     "output_type": "stream",
     "text": [
      "2013-01-01 00:00:00 2013-01-31 23:59:59.999999999\n",
      "2013-02-01 00:00:00 2013-02-28 23:59:59.999999999\n",
      "2013-03-01 00:00:00 2013-03-31 23:59:59.999999999\n",
      "2013-04-01 00:00:00 2013-04-30 23:59:59.999999999\n",
      "2013-05-01 00:00:00 2013-05-31 23:59:59.999999999\n",
      "2013-06-01 00:00:00 2013-06-30 23:59:59.999999999\n",
      "2013-07-01 00:00:00 2013-07-31 23:59:59.999999999\n",
      "2013-08-01 00:00:00 2013-08-31 23:59:59.999999999\n",
      "2013-09-01 00:00:00 2013-09-30 23:59:59.999999999\n",
      "2013-10-01 00:00:00 2013-10-31 23:59:59.999999999\n",
      "2013-11-01 00:00:00 2013-11-30 23:59:59.999999999\n",
      "2013-12-01 00:00:00 2013-12-31 23:59:59.999999999\n"
     ]
    }
   ],
   "source": [
    "# PeriodIndex отличается от DatetimeIndex тем, что индексные метки являются объектами Period\n",
    "# пробегаем по всем объектам Period в индексе печатая начальную и конечную даты для всех объектов Period в индексе\n",
    "for p in mp2013:\n",
    "    print('{0} {1}'.format(p.start_time, p.end_time))"
   ]
  },
  {
   "cell_type": "code",
   "execution_count": 49,
   "id": "17310f45",
   "metadata": {},
   "outputs": [
    {
     "data": {
      "text/plain": [
       "2013-01    0.469112\n",
       "2013-02   -0.282863\n",
       "2013-03   -1.509059\n",
       "2013-04   -1.135632\n",
       "2013-05    1.212112\n",
       "Freq: M, dtype: float64"
      ]
     },
     "execution_count": 49,
     "metadata": {},
     "output_type": "execute_result"
    }
   ],
   "source": [
    "# создаем объект Series, у которого индексом будет PeriodIndex\n",
    "np.random.seed(123456)\n",
    "ps = pd.Series(np.random.randn(12), mp2013)\n",
    "ps[:5]"
   ]
  },
  {
   "cell_type": "code",
   "execution_count": 50,
   "id": "f715bc32",
   "metadata": {},
   "outputs": [
    {
     "data": {
      "text/plain": [
       "2013-01    0.469112\n",
       "2013-02   -0.282863\n",
       "2013-03   -1.509059\n",
       "2013-04   -1.135632\n",
       "2013-05    1.212112\n",
       "             ...   \n",
       "2014-08   -1.087401\n",
       "2014-09   -0.673690\n",
       "2014-10    0.113648\n",
       "2014-11   -1.478427\n",
       "2014-12    0.524988\n",
       "Freq: M, Length: 24, dtype: float64"
      ]
     },
     "execution_count": 50,
     "metadata": {},
     "output_type": "execute_result"
    }
   ],
   "source": [
    "# создаем объект Series с индексом PeriodIndex, который представляет собой все календарные месяцы периоды 2013 и 2014 годов\n",
    "np.random.seed(123456)\n",
    "ps = pd.Series(np.random.randn(24),\n",
    "               pd.period_range('1/1/2013', '12/31/2014', freq = 'M'))\n",
    "ps"
   ]
  },
  {
   "cell_type": "code",
   "execution_count": 51,
   "id": "2af533e5",
   "metadata": {},
   "outputs": [
    {
     "data": {
      "text/plain": [
       "0.567020349793672"
      ]
     },
     "execution_count": 51,
     "metadata": {},
     "output_type": "execute_result"
    }
   ],
   "source": [
    "# извлекаем значение, соответствующее периоду 2014-06\n",
    "ps['2014-06']"
   ]
  },
  {
   "cell_type": "code",
   "execution_count": 52,
   "id": "2365824f",
   "metadata": {},
   "outputs": [
    {
     "data": {
      "text/plain": [
       "2014-01    0.721555\n",
       "2014-02   -0.706771\n",
       "2014-03   -1.039575\n",
       "2014-04    0.271860\n",
       "2014-05   -0.424972\n",
       "             ...   \n",
       "2014-08   -1.087401\n",
       "2014-09   -0.673690\n",
       "2014-10    0.113648\n",
       "2014-11   -1.478427\n",
       "2014-12    0.524988\n",
       "Freq: M, Length: 12, dtype: float64"
      ]
     },
     "execution_count": 52,
     "metadata": {},
     "output_type": "execute_result"
    }
   ],
   "source": [
    "# извлекаем значения для всех периодов в 2014 году\n",
    "ps['2014']"
   ]
  },
  {
   "cell_type": "code",
   "execution_count": 53,
   "id": "878328b6",
   "metadata": {},
   "outputs": [
    {
     "data": {
      "text/plain": [
       "2014-03   -1.039575\n",
       "2014-04    0.271860\n",
       "2014-05   -0.424972\n",
       "2014-06    0.567020\n",
       "Freq: M, dtype: float64"
      ]
     },
     "execution_count": 53,
     "metadata": {},
     "output_type": "execute_result"
    }
   ],
   "source": [
    "# извлекаем все значения, соответствующие периоду с марта по июнь 2014 года с помощью среза\n",
    "ps['2014-03':'2014-06']"
   ]
  },
  {
   "cell_type": "markdown",
   "id": "9909bf67",
   "metadata": {},
   "source": [
    "__НОРМАЛИЗАЦИЯ ВРЕМЕННЫХ МЕТОК С ПОМОЩЬЮ ЧАСОВЫХ ПОЯСОВ__"
   ]
  },
  {
   "cell_type": "code",
   "execution_count": 63,
   "id": "a02d19fe",
   "metadata": {},
   "outputs": [
    {
     "data": {
      "text/plain": [
       "(Timestamp('2023-10-09 20:46:02.708034'), True)"
      ]
     },
     "execution_count": 63,
     "metadata": {},
     "output_type": "execute_result"
    }
   ],
   "source": [
    "# Pandas использует библиотеку pytz и dateutil для работы с часовыми поясами\n",
    "# извлекаем текущее местное время и демонстрируем что по умолчанию информация о часовом поясе отсутствует\n",
    "now = pd.Timestamp('now')\n",
    "now, now.tz is None"
   ]
  },
  {
   "cell_type": "code",
   "execution_count": 58,
   "id": "6f36e65c",
   "metadata": {},
   "outputs": [
    {
     "data": {
      "text/plain": [
       "(True, True)"
      ]
     },
     "execution_count": 58,
     "metadata": {},
     "output_type": "execute_result"
    }
   ],
   "source": [
    "# по умолчанию DatetimeIndex и его объекты Timestamps не содержат информацию о часовом поясе\n",
    "rng = pd.date_range('3/6/2012 00:00', periods = 15, freq = 'D')\n",
    "rng.tz is None, rng[0].tz is None"
   ]
  },
  {
   "cell_type": "code",
   "execution_count": 60,
   "id": "6494fea4",
   "metadata": {},
   "outputs": [
    {
     "data": {
      "text/plain": [
       "['Africa/Abidjan',\n",
       " 'Africa/Accra',\n",
       " 'Africa/Addis_Ababa',\n",
       " 'Africa/Algiers',\n",
       " 'Africa/Asmara',\n",
       " 'Africa/Bamako',\n",
       " 'Africa/Bangui',\n",
       " 'Africa/Banjul',\n",
       " 'Africa/Bissau',\n",
       " 'Africa/Blantyre']"
      ]
     },
     "execution_count": 60,
     "metadata": {},
     "output_type": "execute_result"
    }
   ],
   "source": [
    "# импортируем стандартные часовые пояса из библиотеки pytz\n",
    "from pytz import common_timezones\n",
    "common_timezones[:10]"
   ]
  },
  {
   "cell_type": "code",
   "execution_count": 64,
   "id": "bb23307e",
   "metadata": {},
   "outputs": [
    {
     "data": {
      "text/plain": [
       "(Timestamp('2023-10-09 20:46:24.198020'),\n",
       " Timestamp('2023-10-09 20:46:24.198020+0000', tz='UTC'))"
      ]
     },
     "execution_count": 64,
     "metadata": {},
     "output_type": "execute_result"
    }
   ],
   "source": [
    "# Местное UTC-время можно вычислить, воспользовавшись методом .tz_localize() объекта Timestamp и передав ему значение UTC\n",
    "now = pd.Timestamp('now')\n",
    "local_now = now.tz_localize('UTC')\n",
    "now, local_now"
   ]
  },
  {
   "cell_type": "code",
   "execution_count": 67,
   "id": "3ab51afe",
   "metadata": {},
   "outputs": [
    {
     "data": {
      "text/plain": [
       "Timestamp('2014-08-01 12:00:00-0600', tz='US/Mountain')"
      ]
     },
     "execution_count": 67,
     "metadata": {},
     "output_type": "execute_result"
    }
   ],
   "source": [
    "# любой объект Timestamp можно преобразовать в определенный часовой пояс, передав название часового пояса \n",
    "# в метод .tz_localize()\n",
    "tstamp = pd.Timestamp('2014-08-01 12:00:00', tz = 'US/Mountain')\n",
    "tstamp"
   ]
  },
  {
   "cell_type": "code",
   "execution_count": 69,
   "id": "cef96ba8",
   "metadata": {},
   "outputs": [
    {
     "data": {
      "text/plain": [
       "(<DstTzInfo 'US/Mountain' LMT-1 day, 17:00:00 STD>, None)"
      ]
     },
     "execution_count": 69,
     "metadata": {},
     "output_type": "execute_result"
    }
   ],
   "source": [
    "# с помощью параметра tz функции pd.date_range() можно создать индекс DatetimeIndex с определенным часовым поясом\n",
    "rgn = pd.date_range('3/6/2012 00:00:00', periods = 10, freq = 'D', tz = 'US/Mountain')\n",
    "rgn.tz, rng[0].tz"
   ]
  },
  {
   "cell_type": "code",
   "execution_count": 70,
   "id": "82526e31",
   "metadata": {},
   "outputs": [
    {
     "data": {
      "text/plain": [
       "(Timestamp('2023-10-09 20:46:24.198020-0600', tz='US/Mountain'),\n",
       " Timestamp('2023-10-09 20:46:24.198020-0400', tz='US/Eastern'))"
      ]
     },
     "execution_count": 70,
     "metadata": {},
     "output_type": "execute_result"
    }
   ],
   "source": [
    "# импортируем библиотеку pytz\n",
    "import pytz\n",
    "# сосдаем два часовых пояса\n",
    "mountain_tz = pytz.timezone('US/Mountain')\n",
    "eastern_tz = pytz.timezone('US/Eastern')\n",
    "# применяем оба к временной метке now \n",
    "mountain_tz.localize(now), eastern_tz.localize(now)"
   ]
  },
  {
   "cell_type": "code",
   "execution_count": 71,
   "id": "696da027",
   "metadata": {},
   "outputs": [],
   "source": [
    "# создаем два объекта Series с одинаковой начальной датой, одинаковым количеством периодов, одинаковой частотой, но\n",
    "# но с разными часовыми поясами\n",
    "s_mountain = pd.Series(np.arange(0, 5), index = pd.date_range('2014-08-01', periods = 5, freq = 'h', tz = 'US/Mountain'))\n",
    "s_eastern = pd.Series(np.arange(0,5), index = pd.date_range('2014-08-01', periods = 5, freq = 'h', tz = 'US/Eastern'))"
   ]
  },
  {
   "cell_type": "code",
   "execution_count": 72,
   "id": "a2dc4e23",
   "metadata": {},
   "outputs": [
    {
     "data": {
      "text/plain": [
       "2014-08-01 00:00:00-06:00    0\n",
       "2014-08-01 01:00:00-06:00    1\n",
       "2014-08-01 02:00:00-06:00    2\n",
       "2014-08-01 03:00:00-06:00    3\n",
       "2014-08-01 04:00:00-06:00    4\n",
       "Freq: H, dtype: int32"
      ]
     },
     "execution_count": 72,
     "metadata": {},
     "output_type": "execute_result"
    }
   ],
   "source": [
    "s_mountain"
   ]
  },
  {
   "cell_type": "code",
   "execution_count": 73,
   "id": "2a76e713",
   "metadata": {},
   "outputs": [
    {
     "data": {
      "text/plain": [
       "2014-08-01 00:00:00-04:00    0\n",
       "2014-08-01 01:00:00-04:00    1\n",
       "2014-08-01 02:00:00-04:00    2\n",
       "2014-08-01 03:00:00-04:00    3\n",
       "2014-08-01 04:00:00-04:00    4\n",
       "Freq: H, dtype: int32"
      ]
     },
     "execution_count": 73,
     "metadata": {},
     "output_type": "execute_result"
    }
   ],
   "source": [
    "s_eastern"
   ]
  },
  {
   "cell_type": "code",
   "execution_count": 74,
   "id": "f764644d",
   "metadata": {},
   "outputs": [
    {
     "data": {
      "text/plain": [
       "2014-08-01 04:00:00+00:00    NaN\n",
       "2014-08-01 05:00:00+00:00    NaN\n",
       "2014-08-01 06:00:00+00:00    2.0\n",
       "2014-08-01 07:00:00+00:00    4.0\n",
       "2014-08-01 08:00:00+00:00    6.0\n",
       "2014-08-01 09:00:00+00:00    NaN\n",
       "2014-08-01 10:00:00+00:00    NaN\n",
       "Freq: H, dtype: float64"
      ]
     },
     "execution_count": 74,
     "metadata": {},
     "output_type": "execute_result"
    }
   ],
   "source": [
    "# следующий программный код демонстрирует выравнивание этих двух объектов Series по часовому поясу сложив их вместе\n",
    "s_eastern + s_mountain"
   ]
  },
  {
   "cell_type": "code",
   "execution_count": 75,
   "id": "fce2b6bd",
   "metadata": {},
   "outputs": [
    {
     "data": {
      "text/plain": [
       "2014-07-31 21:00:00-07:00    0\n",
       "2014-07-31 22:00:00-07:00    1\n",
       "2014-07-31 23:00:00-07:00    2\n",
       "2014-08-01 00:00:00-07:00    3\n",
       "2014-08-01 01:00:00-07:00    4\n",
       "Freq: H, dtype: int32"
      ]
     },
     "execution_count": 75,
     "metadata": {},
     "output_type": "execute_result"
    }
   ],
   "source": [
    "# преобразовать часовой пояс в другой можно с помощью метода .tz.convert()\n",
    "# меняем часовой пояс с US/Eastern на US/Pacific \n",
    "s_pacific = s_eastern.tz_convert('US/Pacific')\n",
    "s_pacific"
   ]
  },
  {
   "cell_type": "code",
   "execution_count": 76,
   "id": "1111771a",
   "metadata": {},
   "outputs": [
    {
     "data": {
      "text/plain": [
       "2014-08-01 04:00:00+00:00    NaN\n",
       "2014-08-01 05:00:00+00:00    NaN\n",
       "2014-08-01 06:00:00+00:00    2.0\n",
       "2014-08-01 07:00:00+00:00    4.0\n",
       "2014-08-01 08:00:00+00:00    6.0\n",
       "2014-08-01 09:00:00+00:00    NaN\n",
       "2014-08-01 10:00:00+00:00    NaN\n",
       "Freq: H, dtype: float64"
      ]
     },
     "execution_count": 76,
     "metadata": {},
     "output_type": "execute_result"
    }
   ],
   "source": [
    "s_mountain + s_pacific"
   ]
  },
  {
   "cell_type": "markdown",
   "id": "530bfbcd",
   "metadata": {},
   "source": [
    "__ОПЕРАЦИИ С ВРЕМЕННЫМИ РЯДАМИ__"
   ]
  },
  {
   "cell_type": "markdown",
   "id": "eeb4b31f",
   "metadata": {},
   "source": [
    "__Опережение и опаздывание__\n"
   ]
  },
  {
   "cell_type": "code",
   "execution_count": 78,
   "id": "93eef795",
   "metadata": {},
   "outputs": [
    {
     "data": {
      "text/plain": [
       "2014-08-01    1.0\n",
       "2014-08-02    2.0\n",
       "2014-08-03    2.5\n",
       "2014-08-04    1.5\n",
       "2014-08-05    0.5\n",
       "Freq: D, dtype: float64"
      ]
     },
     "execution_count": 78,
     "metadata": {},
     "output_type": "execute_result"
    }
   ],
   "source": [
    "# метод shift сдвигает значения серии или датафрейма на указанное количество единиц частоты в индексе\n",
    "# создаем объект Series с которым будем работать\n",
    "np.random.seed(123456)\n",
    "ts = pd.Series([1, 2, 2.5, 1.5, 0.5], pd.date_range('2014-08-01', periods = 5))\n",
    "ts"
   ]
  },
  {
   "cell_type": "code",
   "execution_count": 79,
   "id": "d22af072",
   "metadata": {},
   "outputs": [
    {
     "data": {
      "text/plain": [
       "2014-08-01    NaN\n",
       "2014-08-02    1.0\n",
       "2014-08-03    2.0\n",
       "2014-08-04    2.5\n",
       "2014-08-05    1.5\n",
       "Freq: D, dtype: float64"
      ]
     },
     "execution_count": 79,
     "metadata": {},
     "output_type": "execute_result"
    }
   ],
   "source": [
    "# сдвигаем значения на 1 день вперед\n",
    "ts.shift(1)"
   ]
  },
  {
   "cell_type": "code",
   "execution_count": 80,
   "id": "0c2054b3",
   "metadata": {},
   "outputs": [
    {
     "data": {
      "text/plain": [
       "2014-08-01    2.5\n",
       "2014-08-02    1.5\n",
       "2014-08-03    0.5\n",
       "2014-08-04    NaN\n",
       "2014-08-05    NaN\n",
       "Freq: D, dtype: float64"
      ]
     },
     "execution_count": 80,
     "metadata": {},
     "output_type": "execute_result"
    }
   ],
   "source": [
    "# сдвигаем значения на 2 дня назад\n",
    "ts.shift(-2)"
   ]
  },
  {
   "cell_type": "code",
   "execution_count": 81,
   "id": "6aacb046",
   "metadata": {},
   "outputs": [
    {
     "data": {
      "text/plain": [
       "2014-08-01         NaN\n",
       "2014-08-02    2.000000\n",
       "2014-08-03    1.250000\n",
       "2014-08-04    0.600000\n",
       "2014-08-05    0.333333\n",
       "Freq: D, dtype: float64"
      ]
     },
     "execution_count": 81,
     "metadata": {},
     "output_type": "execute_result"
    }
   ],
   "source": [
    "# Распространенная операция применяемая с помощью сдвига, заключается в вычислении ежедневного процентного изменения какого-то \n",
    "# финансового показателя. Эту операцию можно выполнить, поделив значения объекта Series на этиже значения, только сдвинутые на 1\n",
    "ts / ts.shift(1)"
   ]
  },
  {
   "cell_type": "code",
   "execution_count": 82,
   "id": "87f53d84",
   "metadata": {},
   "outputs": [
    {
     "data": {
      "text/plain": [
       "2014-08-04    1.0\n",
       "2014-08-04    2.0\n",
       "2014-08-04    2.5\n",
       "2014-08-05    1.5\n",
       "2014-08-06    0.5\n",
       "dtype: float64"
      ]
     },
     "execution_count": 82,
     "metadata": {},
     "output_type": "execute_result"
    }
   ],
   "source": [
    "# Можно сдвинуть не значения, а сами метки\n",
    "# Сдвигаем вперед на один день\n",
    "ts.shift(1, freq = 'B')"
   ]
  },
  {
   "cell_type": "code",
   "execution_count": 84,
   "id": "eed2232b",
   "metadata": {},
   "outputs": [
    {
     "data": {
      "text/plain": [
       "2014-08-01 05:00:00    1.0\n",
       "2014-08-02 05:00:00    2.0\n",
       "2014-08-03 05:00:00    2.5\n",
       "2014-08-04 05:00:00    1.5\n",
       "2014-08-05 05:00:00    0.5\n",
       "Freq: D, dtype: float64"
      ]
     },
     "execution_count": 84,
     "metadata": {},
     "output_type": "execute_result"
    }
   ],
   "source": [
    "# сдвигаем на 5 часов вперед\n",
    "ts.shift(5, freq = 'H')"
   ]
  },
  {
   "cell_type": "code",
   "execution_count": 85,
   "id": "3d814fc8",
   "metadata": {},
   "outputs": [
    {
     "data": {
      "text/plain": [
       "2014-08-01 00:00:30    1.0\n",
       "2014-08-02 00:00:30    2.0\n",
       "2014-08-03 00:00:30    2.5\n",
       "2014-08-04 00:00:30    1.5\n",
       "2014-08-05 00:00:30    0.5\n",
       "dtype: float64"
      ]
     },
     "execution_count": 85,
     "metadata": {},
     "output_type": "execute_result"
    }
   ],
   "source": [
    "# Свигаем с помощью объекта DateOffset\n",
    "ts.shift(1, DateOffset(minutes = 0.5))"
   ]
  },
  {
   "cell_type": "code",
   "execution_count": 89,
   "id": "ed123a55",
   "metadata": {},
   "outputs": [
    {
     "data": {
      "text/plain": [
       "2014-07-31 23:00:00    1.0\n",
       "2014-08-01 23:00:00    2.0\n",
       "2014-08-02 23:00:00    2.5\n",
       "2014-08-03 23:00:00    1.5\n",
       "2014-08-04 23:00:00    0.5\n",
       "Freq: D, dtype: float64"
      ]
     },
     "execution_count": 89,
     "metadata": {},
     "output_type": "execute_result"
    }
   ],
   "source": [
    "# Еще один способ осуществить сдвиг дат, предлагаемый методом .shift(). Этот метод сдвигает индексные метки на указанное\n",
    "# количество единиц определенной частоты, при этом частоту задают с помощью параметра freq\n",
    "# сдвигаем индексные метки на 1 час назад\n",
    "ts.shift(-1, freq = 'H')"
   ]
  },
  {
   "cell_type": "markdown",
   "id": "64e0c292",
   "metadata": {},
   "source": [
    "__Преобразование частоты временного ряда__"
   ]
  },
  {
   "cell_type": "code",
   "execution_count": 91,
   "id": "d9e2ff14",
   "metadata": {},
   "outputs": [
    {
     "data": {
      "text/plain": [
       "2014-08-01 00:00:00    0\n",
       "2014-08-01 02:00:00    1\n",
       "2014-08-01 04:00:00    2\n",
       "2014-08-01 06:00:00    3\n",
       "2014-08-01 08:00:00    4\n",
       "2014-08-01 10:00:00    5\n",
       "2014-08-01 12:00:00    6\n",
       "2014-08-01 14:00:00    7\n",
       "2014-08-01 16:00:00    8\n",
       "2014-08-01 18:00:00    9\n",
       "Freq: 2H, dtype: int32"
      ]
     },
     "execution_count": 91,
     "metadata": {},
     "output_type": "execute_result"
    }
   ],
   "source": [
    "# Частоту временного ряда можно преобразовать с помощью метода .asfreq() объекта в котором записан временной ряд\n",
    "# В результате преобразования частоты будет создан новый объект Series с индексом DatatimeIndex\n",
    "# создаем серию последовательно возрастающих значений, представляющих собой часовые интервалы всех дней августа 2014 года\n",
    "periods = 31 * 24\n",
    "hourly = pd.Series(np.arange(0, periods), pd.date_range('08-01-2014', freq = '2H', periods = periods))\n",
    "hourly[:10]"
   ]
  },
  {
   "cell_type": "code",
   "execution_count": 93,
   "id": "f0ccce75",
   "metadata": {},
   "outputs": [
    {
     "data": {
      "text/plain": [
       "2014-08-01      0\n",
       "2014-08-02     12\n",
       "2014-08-03     24\n",
       "2014-08-04     36\n",
       "2014-08-05     48\n",
       "             ... \n",
       "2014-09-27    684\n",
       "2014-09-28    696\n",
       "2014-09-29    708\n",
       "2014-09-30    720\n",
       "2014-10-01    732\n",
       "Freq: D, Length: 62, dtype: int32"
      ]
     },
     "execution_count": 93,
     "metadata": {},
     "output_type": "execute_result"
    }
   ],
   "source": [
    "# следующий программный код преобразует ежечасовую частоту временного ряда в ежесуточную с помощью метода .asfreq('D')\n",
    "daily = hourly.asfreq('D')\n",
    "daily"
   ]
  },
  {
   "cell_type": "code",
   "execution_count": 94,
   "id": "61a75337",
   "metadata": {},
   "outputs": [
    {
     "data": {
      "text/plain": [
       "2014-08-01 00:00:00      0.0\n",
       "2014-08-01 01:00:00      NaN\n",
       "2014-08-01 02:00:00      NaN\n",
       "2014-08-01 03:00:00      NaN\n",
       "2014-08-01 04:00:00      NaN\n",
       "                       ...  \n",
       "2014-09-30 20:00:00      NaN\n",
       "2014-09-30 21:00:00      NaN\n",
       "2014-09-30 22:00:00      NaN\n",
       "2014-09-30 23:00:00      NaN\n",
       "2014-10-01 00:00:00    732.0\n",
       "Freq: H, Length: 1465, dtype: float64"
      ]
     },
     "execution_count": 94,
     "metadata": {},
     "output_type": "execute_result"
    }
   ],
   "source": [
    "# преобразуем обратно в часовую частоту\n",
    "daily.asfreq('H')"
   ]
  },
  {
   "cell_type": "code",
   "execution_count": 95,
   "id": "c54b4094",
   "metadata": {},
   "outputs": [
    {
     "data": {
      "text/plain": [
       "2014-08-01 00:00:00      0\n",
       "2014-08-01 01:00:00      0\n",
       "2014-08-01 02:00:00      0\n",
       "2014-08-01 03:00:00      0\n",
       "2014-08-01 04:00:00      0\n",
       "                      ... \n",
       "2014-09-30 20:00:00    720\n",
       "2014-09-30 21:00:00    720\n",
       "2014-09-30 22:00:00    720\n",
       "2014-09-30 23:00:00    720\n",
       "2014-10-01 00:00:00    732\n",
       "Freq: H, Length: 1465, dtype: int32"
      ]
     },
     "execution_count": 95,
     "metadata": {},
     "output_type": "execute_result"
    }
   ],
   "source": [
    "# выполняем прямое заполнение значений Nan \n",
    "daily.asfreq('H', method = 'ffill')"
   ]
  },
  {
   "cell_type": "code",
   "execution_count": 98,
   "id": "4cad40b7",
   "metadata": {},
   "outputs": [
    {
     "data": {
      "text/plain": [
       "2014-08-01 00:00:00      0\n",
       "2014-08-01 01:00:00     12\n",
       "2014-08-01 02:00:00     12\n",
       "2014-08-01 03:00:00     12\n",
       "2014-08-01 04:00:00     12\n",
       "                      ... \n",
       "2014-09-30 20:00:00    732\n",
       "2014-09-30 21:00:00    732\n",
       "2014-09-30 22:00:00    732\n",
       "2014-09-30 23:00:00    732\n",
       "2014-10-01 00:00:00    732\n",
       "Freq: H, Length: 1465, dtype: int32"
      ]
     },
     "execution_count": 98,
     "metadata": {},
     "output_type": "execute_result"
    }
   ],
   "source": [
    "daily.asfreq('H', method = 'bfill')"
   ]
  },
  {
   "cell_type": "markdown",
   "id": "576e2321",
   "metadata": {},
   "source": [
    "__Увеличение или уменьшение шага дискретизации временного ряда__ "
   ]
  },
  {
   "cell_type": "code",
   "execution_count": 99,
   "id": "b05de5c8",
   "metadata": {},
   "outputs": [
    {
     "data": {
      "text/plain": [
       "2014-08-01 00:00:00      0.469112\n",
       "2014-08-01 00:00:01      0.186249\n",
       "2014-08-01 00:00:02     -1.322810\n",
       "2014-08-01 00:00:03     -2.458442\n",
       "2014-08-01 00:00:04     -1.246330\n",
       "                          ...    \n",
       "2014-08-05 23:59:55    456.529763\n",
       "2014-08-05 23:59:56    456.052131\n",
       "2014-08-05 23:59:57    455.202981\n",
       "2014-08-05 23:59:58    454.947362\n",
       "2014-08-05 23:59:59    456.191430\n",
       "Freq: S, Length: 432000, dtype: float64"
      ]
     },
     "execution_count": 99,
     "metadata": {},
     "output_type": "execute_result"
    }
   ],
   "source": [
    "# сгенерируем случайное блуждание за 5 дней по 1-секундным интервалам и получим большое количество значений\n",
    "count = 24 * 60 * 60 * 5\n",
    "# создаем серию значений\n",
    "np.random.seed(123456)\n",
    "values = np.random.randn(count)\n",
    "ws = pd.Series(values)\n",
    "# вычисляем накопленую сумму\n",
    "walk = ws.cumsum()\n",
    "# создаем индекс\n",
    "walk.index = pd.date_range('2014-08-01', periods = count, freq = 'S')\n",
    "walk"
   ]
  },
  {
   "cell_type": "code",
   "execution_count": 100,
   "id": "c8aa9a41",
   "metadata": {},
   "outputs": [
    {
     "data": {
      "text/plain": [
       "2014-08-01 00:00:00     -8.718220\n",
       "2014-08-01 00:01:00    -15.239213\n",
       "2014-08-01 00:02:00     -9.179315\n",
       "2014-08-01 00:03:00     -8.338307\n",
       "2014-08-01 00:04:00     -8.129554\n",
       "                          ...    \n",
       "2014-08-05 23:55:00    453.773467\n",
       "2014-08-05 23:56:00    450.857039\n",
       "2014-08-05 23:57:00    450.078149\n",
       "2014-08-05 23:58:00    444.637806\n",
       "2014-08-05 23:59:00    453.837417\n",
       "Freq: T, Length: 7200, dtype: float64"
      ]
     },
     "execution_count": 100,
     "metadata": {},
     "output_type": "execute_result"
    }
   ],
   "source": [
    "# изменение шага дискретизации (передискретизация) в библиотеке pandas выполняется с помощью метода .resample() \n",
    "# и передачи в него новой частоты\n",
    "# уменьшаем шаг дискретизации, преобразуем односекундные интервалы в одноминутные\n",
    "walk.resample('1Min').mean()"
   ]
  },
  {
   "cell_type": "code",
   "execution_count": 101,
   "id": "d9313f70",
   "metadata": {},
   "outputs": [
    {
     "data": {
      "text/plain": [
       "-8.718220052832644"
      ]
     },
     "execution_count": 101,
     "metadata": {},
     "output_type": "execute_result"
    }
   ],
   "source": [
    "# вычисляем среднее значение первой минуты блуждания\n",
    "walk['2014-08-01 00:00'].mean()"
   ]
  },
  {
   "cell_type": "code",
   "execution_count": 102,
   "id": "ef7b8380",
   "metadata": {},
   "outputs": [
    {
     "data": {
      "text/plain": [
       "2014-07-31 23:59:00      0.469112\n",
       "2014-08-01 00:00:00     -8.907477\n",
       "2014-08-01 00:01:00    -15.280685\n",
       "2014-08-01 00:02:00     -9.083865\n",
       "2014-08-01 00:03:00     -8.285550\n",
       "                          ...    \n",
       "2014-08-05 23:55:00    453.726168\n",
       "2014-08-05 23:56:00    450.849039\n",
       "2014-08-05 23:57:00    450.039159\n",
       "2014-08-05 23:58:00    444.631719\n",
       "2014-08-05 23:59:00    453.955377\n",
       "Freq: T, Length: 7201, dtype: float64"
      ]
     },
     "execution_count": 102,
     "metadata": {},
     "output_type": "execute_result"
    }
   ],
   "source": [
    "# используем интервалы закрытые справа\n",
    "walk.resample('1Min', closed = 'right').mean()"
   ]
  },
  {
   "cell_type": "code",
   "execution_count": 103,
   "id": "0ca28eab",
   "metadata": {},
   "outputs": [
    {
     "data": {
      "text/plain": [
       "2014-08-01 00:00:00     -8.718220\n",
       "2014-08-01 00:01:00    -15.239213\n",
       "2014-08-01 00:02:00     -9.179315\n",
       "2014-08-01 00:03:00     -8.338307\n",
       "2014-08-01 00:04:00     -8.129554\n",
       "                          ...    \n",
       "2014-08-05 23:55:00    453.773467\n",
       "2014-08-05 23:56:00    450.857039\n",
       "2014-08-05 23:57:00    450.078149\n",
       "2014-08-05 23:58:00    444.637806\n",
       "2014-08-05 23:59:00    453.837417\n",
       "Freq: T, Length: 7200, dtype: float64"
      ]
     },
     "execution_count": 103,
     "metadata": {},
     "output_type": "execute_result"
    }
   ],
   "source": [
    "# используем интервалы закрытые слева\n",
    "walk.resample('1Min', closed = 'left').mean()"
   ]
  },
  {
   "cell_type": "code",
   "execution_count": 104,
   "id": "9665949c",
   "metadata": {},
   "outputs": [
    {
     "data": {
      "text/plain": [
       "2014-08-01 00:00:00      0.469112\n",
       "2014-08-01 00:01:00    -10.886314\n",
       "2014-08-01 00:02:00    -13.374656\n",
       "2014-08-01 00:03:00     -7.647693\n",
       "2014-08-01 00:04:00     -4.482292\n",
       "                          ...    \n",
       "2014-08-05 23:55:00    452.900335\n",
       "2014-08-05 23:56:00    450.062374\n",
       "2014-08-05 23:57:00    449.582419\n",
       "2014-08-05 23:58:00    447.243014\n",
       "2014-08-05 23:59:00    446.877810\n",
       "Freq: T, Length: 7200, dtype: float64"
      ]
     },
     "execution_count": 104,
     "metadata": {},
     "output_type": "execute_result"
    }
   ],
   "source": [
    "# вычисление среднего для каждого интервала - это только один вариант. Код ниже приводит первое значение в каждом интервале\n",
    "walk.resample('1Min').first()"
   ]
  }
 ],
 "metadata": {
  "kernelspec": {
   "display_name": "Python 3 (ipykernel)",
   "language": "python",
   "name": "python3"
  },
  "language_info": {
   "codemirror_mode": {
    "name": "ipython",
    "version": 3
   },
   "file_extension": ".py",
   "mimetype": "text/x-python",
   "name": "python",
   "nbconvert_exporter": "python",
   "pygments_lexer": "ipython3",
   "version": "3.10.13"
  }
 },
 "nbformat": 4,
 "nbformat_minor": 5
}
