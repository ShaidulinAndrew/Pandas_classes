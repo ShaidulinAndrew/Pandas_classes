{
 "cells": [
  {
   "cell_type": "code",
   "execution_count": 1,
   "id": "22887144",
   "metadata": {},
   "outputs": [],
   "source": [
    "# импортируем библиотеки numpy и pandas\n",
    "import numpy as np\n",
    "import pandas as pd\n",
    "\n",
    "# импортируем библиотеку datatime для работы с датами\n",
    "import datetime\n",
    "from datetime import datetime, date\n",
    "\n",
    "# задаем некоторые опции библиотеки pandas, которые настраивают вывод\n",
    "pd.set_option('display.notebook_repr_html', False)     # задаем вывод в виде текста, а не HTML\n",
    "pd.set_option('display.max_columns', 8)                # устанавливаем отображение максимального количества стобцов\n",
    "pd.set_option('display.max_rows', 10)                  # устанавливаем отображение максимального количества строк\n",
    "pd.set_option('display.width', 80)                     # устанавливаеv максимальную ширину отображения в символах\n",
    "\n",
    "# импортируем библиотеку matplotlib для построения графиков\n",
    "import matplotlib.pyplot as plt \n",
    "%matplotlib inline"
   ]
  },
  {
   "cell_type": "markdown",
   "id": "b55f84b5",
   "metadata": {},
   "source": [
    "__ПРЕДСТАВЛЕНИЕ ДАТ, ВРЕМЕНИ И ИНТЕРВАЛОВ__"
   ]
  },
  {
   "cell_type": "markdown",
   "id": "7d112ceb",
   "metadata": {},
   "source": [
    "__Объекты datetime, day, time__"
   ]
  },
  {
   "cell_type": "code",
   "execution_count": 2,
   "id": "e2cea0af",
   "metadata": {},
   "outputs": [
    {
     "data": {
      "text/plain": [
       "datetime.datetime(2014, 12, 15, 0, 0)"
      ]
     },
     "execution_count": 2,
     "metadata": {},
     "output_type": "execute_result"
    }
   ],
   "source": [
    "# Объект datetime можно инициализировать с помощью трех обязательный параметров: год, месяц, день\n",
    "# Объект datetime для 15 декабря 2014 г\n",
    "datetime(2014, 12, 15)"
   ]
  },
  {
   "cell_type": "code",
   "execution_count": 3,
   "id": "05ce5a14",
   "metadata": {},
   "outputs": [
    {
     "data": {
      "text/plain": [
       "datetime.datetime(2014, 12, 15, 23, 59)"
      ]
     },
     "execution_count": 3,
     "metadata": {},
     "output_type": "execute_result"
    }
   ],
   "source": [
    "# Добавляем время\n",
    "datetime(2014, 12, 15, 23, 59)"
   ]
  },
  {
   "cell_type": "code",
   "execution_count": 4,
   "id": "900bf788",
   "metadata": {},
   "outputs": [
    {
     "data": {
      "text/plain": [
       "datetime.datetime(2023, 10, 9, 8, 33, 47, 620310)"
      ]
     },
     "execution_count": 4,
     "metadata": {},
     "output_type": "execute_result"
    }
   ],
   "source": [
    "# текущую дату и время можно определитьс помощью метода .now(), который извлекает местную дату и время\n",
    "datetime.now()"
   ]
  },
  {
   "cell_type": "code",
   "execution_count": 5,
   "id": "af908946",
   "metadata": {},
   "outputs": [
    {
     "data": {
      "text/plain": [
       "datetime.date(2014, 12, 15)"
      ]
     },
     "execution_count": 5,
     "metadata": {},
     "output_type": "execute_result"
    }
   ],
   "source": [
    "# объект datetime.date представляет собой определенный день без компонента времени\n",
    "datetime.date(datetime(2014, 12, 15))"
   ]
  },
  {
   "cell_type": "code",
   "execution_count": 6,
   "id": "769542a8",
   "metadata": {},
   "outputs": [
    {
     "data": {
      "text/plain": [
       "datetime.date(2023, 10, 9)"
      ]
     },
     "execution_count": 6,
     "metadata": {},
     "output_type": "execute_result"
    }
   ],
   "source": [
    "# текущаю дату для данного часового пояса, можно извлечь с помощью \n",
    "datetime.now().date()"
   ]
  },
  {
   "cell_type": "code",
   "execution_count": 7,
   "id": "3ef16e99",
   "metadata": {},
   "outputs": [
    {
     "data": {
      "text/plain": [
       "datetime.time(17, 30)"
      ]
     },
     "execution_count": 7,
     "metadata": {},
     "output_type": "execute_result"
    }
   ],
   "source": [
    "# объект datetime.time представляет определенное время без компонента даты\n",
    "datetime.time(datetime (2014, 12, 15, 17, 30))"
   ]
  },
  {
   "cell_type": "code",
   "execution_count": 8,
   "id": "61b20558",
   "metadata": {},
   "outputs": [
    {
     "data": {
      "text/plain": [
       "datetime.time(8, 33, 47, 681182)"
      ]
     },
     "execution_count": 8,
     "metadata": {},
     "output_type": "execute_result"
    }
   ],
   "source": [
    "# получаем текущее местное время\n",
    "datetime.now().time()"
   ]
  },
  {
   "cell_type": "markdown",
   "id": "f066f4d9",
   "metadata": {},
   "source": [
    "__Создание временной метки с помощью обекта Timestamp__"
   ]
  },
  {
   "cell_type": "code",
   "execution_count": 9,
   "id": "41da0e49",
   "metadata": {},
   "outputs": [
    {
     "data": {
      "text/plain": [
       "Timestamp('2014-12-15 00:00:00')"
      ]
     },
     "execution_count": 9,
     "metadata": {},
     "output_type": "execute_result"
    }
   ],
   "source": [
    "# создадим временную метку\n",
    "pd.Timestamp('2014-12-15')"
   ]
  },
  {
   "cell_type": "code",
   "execution_count": 10,
   "id": "74e52b81",
   "metadata": {},
   "outputs": [
    {
     "data": {
      "text/plain": [
       "Timestamp('2014-12-15 17:30:00')"
      ]
     },
     "execution_count": 10,
     "metadata": {},
     "output_type": "execute_result"
    }
   ],
   "source": [
    "# укажем метку времени\n",
    "pd.Timestamp('2014-12-15 17:30')"
   ]
  },
  {
   "cell_type": "code",
   "execution_count": 11,
   "id": "bcefd2e3",
   "metadata": {},
   "outputs": [
    {
     "data": {
      "text/plain": [
       "Timestamp('2023-10-09 17:30:00')"
      ]
     },
     "execution_count": 11,
     "metadata": {},
     "output_type": "execute_result"
    }
   ],
   "source": [
    "# объект Timestamp можно создать задав лишь время, и по умолчанию будет добавлена местная дата\n",
    "pd.Timestamp('17:30')"
   ]
  },
  {
   "cell_type": "code",
   "execution_count": 12,
   "id": "73e3da36",
   "metadata": {},
   "outputs": [
    {
     "data": {
      "text/plain": [
       "Timestamp('2023-10-09 08:33:47.742020')"
      ]
     },
     "execution_count": 12,
     "metadata": {},
     "output_type": "execute_result"
    }
   ],
   "source": [
    "# поучаем текущую дату и время\n",
    "pd.Timestamp('now')"
   ]
  },
  {
   "cell_type": "markdown",
   "id": "9a88e3f2",
   "metadata": {},
   "source": [
    "__Использование объекта Timedelta для представления временного интервала__"
   ]
  },
  {
   "cell_type": "code",
   "execution_count": 13,
   "id": "d6491aa1",
   "metadata": {},
   "outputs": [
    {
     "data": {
      "text/plain": [
       "datetime.datetime(2014, 12, 1, 0, 0)"
      ]
     },
     "execution_count": 13,
     "metadata": {},
     "output_type": "execute_result"
    }
   ],
   "source": [
    "# вычисляем дату, которая будет отстоять от даты 2014-11-30 на один день вперед\n",
    "today = datetime(2014, 11, 30)\n",
    "tomorrow = today + pd.Timedelta(days = 1)\n",
    "tomorrow"
   ]
  },
  {
   "cell_type": "code",
   "execution_count": 14,
   "id": "ca15091b",
   "metadata": {},
   "outputs": [
    {
     "data": {
      "text/plain": [
       "datetime.timedelta(days=13414)"
      ]
     },
     "execution_count": 14,
     "metadata": {},
     "output_type": "execute_result"
    }
   ],
   "source": [
    "# вычисляем количество дней между двумя датами\n",
    "date1 = datetime(1987, 1, 13)\n",
    "date2 = datetime(2023, 10, 5)\n",
    "date2 - date1"
   ]
  },
  {
   "cell_type": "markdown",
   "id": "95a6edce",
   "metadata": {},
   "source": [
    "__ВВЕДЕНИЕ ВО ВРЕМЕННЫЕ РЯДЫ__"
   ]
  },
  {
   "cell_type": "markdown",
   "id": "79950275",
   "metadata": {},
   "source": [
    "__Индексация с помощью объекта DatetimeIndex__"
   ]
  },
  {
   "cell_type": "code",
   "execution_count": 15,
   "id": "e5f03eed",
   "metadata": {},
   "outputs": [
    {
     "data": {
      "text/plain": [
       "2014-08-01   -1.467320\n",
       "2014-08-02   -0.272895\n",
       "dtype: float64"
      ]
     },
     "execution_count": 15,
     "metadata": {},
     "output_type": "execute_result"
    }
   ],
   "source": [
    "# создаем очень простой временной ряд с двумя индексными метками и случайными значениями\n",
    "dates = [datetime(2014, 8, 1), datetime(2014, 8, 2)]\n",
    "ts = pd.Series(np.random.randn(2), dates)\n",
    "ts"
   ]
  },
  {
   "cell_type": "code",
   "execution_count": 16,
   "id": "5fe91150",
   "metadata": {},
   "outputs": [
    {
     "data": {
      "text/plain": [
       "pandas.core.indexes.datetimes.DatetimeIndex"
      ]
     },
     "execution_count": 16,
     "metadata": {},
     "output_type": "execute_result"
    }
   ],
   "source": [
    "# мы взяли объекты datetime и создали на основе дат объект DatetimeIndex, каждое значение этого индекса является объектом\n",
    "# Timestamp\n",
    "# смотрим тип индекса\n",
    "type(ts.index)"
   ]
  },
  {
   "cell_type": "code",
   "execution_count": 17,
   "id": "af9b6192",
   "metadata": {},
   "outputs": [
    {
     "data": {
      "text/plain": [
       "pandas._libs.tslibs.timestamps.Timestamp"
      ]
     },
     "execution_count": 17,
     "metadata": {},
     "output_type": "execute_result"
    }
   ],
   "source": [
    "# можно увидеть что это коллекция временных меток\n",
    "type(ts.index[0])"
   ]
  },
  {
   "cell_type": "code",
   "execution_count": 18,
   "id": "2a6e7c06",
   "metadata": {},
   "outputs": [
    {
     "data": {
      "text/plain": [
       "2014-08-01    0.469112\n",
       "2014-08-02   -0.282863\n",
       "dtype: float64"
      ]
     },
     "execution_count": 18,
     "metadata": {},
     "output_type": "execute_result"
    }
   ],
   "source": [
    "# создаем временной ряд из списка дат, записанных в виде строк!\n",
    "np.random.seed(123456)\n",
    "dates = ['2014-08-01', '2014-08-02']\n",
    "ts = pd.Series(np.random.randn(2), dates)\n",
    "ts"
   ]
  },
  {
   "cell_type": "code",
   "execution_count": 19,
   "id": "d253e136",
   "metadata": {},
   "outputs": [
    {
     "name": "stdout",
     "output_type": "stream",
     "text": [
      "2014-08-01 00:00:00\n",
      "NaT\n",
      "NaT\n",
      "NaT\n"
     ]
    }
   ],
   "source": [
    "# библиотека Pandas предлагает удобную функцию pd.to_datetime(), она принимает в качестве аргумента последовательность\n",
    "# одного и того же или смешанного типа, преобразует их в объекты Tamestamp, а те в свою очередь формируют DatetimeIndex\n",
    "dti = pd.to_datetime(['Aug 1, 2014', '2014-08-02', '2014.8.3', None], errors = 'coerce')\n",
    "for i in dti: print(i)"
   ]
  },
  {
   "cell_type": "code",
   "execution_count": 20,
   "id": "4566a8d7",
   "metadata": {},
   "outputs": [
    {
     "data": {
      "text/plain": [
       "2014-08-01    0.469112\n",
       "2014-08-02   -0.282863\n",
       "2014-08-03   -1.509059\n",
       "2014-08-04   -1.135632\n",
       "2014-08-05    1.212112\n",
       "2014-08-06   -0.173215\n",
       "2014-08-07    0.119209\n",
       "2014-08-08   -1.044236\n",
       "2014-08-09   -0.861849\n",
       "2014-08-10   -2.104569\n",
       "Freq: D, dtype: float64"
      ]
     },
     "execution_count": 20,
     "metadata": {},
     "output_type": "execute_result"
    }
   ],
   "source": [
    "# создаем диапазон дат, начинающийся с определенной даты и включающий определенное количество дней\n",
    "np.random.seed(123456)\n",
    "periods = pd.date_range('8/1/2014', periods = 10)\n",
    "data_series = pd.Series(np.random.randn(10), index = periods)\n",
    "data_series"
   ]
  },
  {
   "cell_type": "code",
   "execution_count": 21,
   "id": "77d23fee",
   "metadata": {},
   "outputs": [
    {
     "data": {
      "text/plain": [
       "2014-08-04   -1.135632\n",
       "2014-08-05    1.212112\n",
       "2014-08-06   -0.173215\n",
       "2014-08-07    0.119209\n",
       "Freq: D, dtype: float64"
      ]
     },
     "execution_count": 21,
     "metadata": {},
     "output_type": "execute_result"
    }
   ],
   "source": [
    "# создаем срез, используя позиции индекса\n",
    "subset = data_series[3:7]\n",
    "subset"
   ]
  },
  {
   "cell_type": "code",
   "execution_count": 22,
   "id": "23152662",
   "metadata": {},
   "outputs": [
    {
     "data": {
      "text/plain": [
       "2014-08-04       10\n",
       "2014-08-05      100\n",
       "2014-08-06     1000\n",
       "2014-08-07    10000\n",
       "Freq: D, dtype: int64"
      ]
     },
     "execution_count": 22,
     "metadata": {},
     "output_type": "execute_result"
    }
   ],
   "source": [
    "# создадим Series с помощью индекса только что полученного среза\n",
    "s2 = pd.Series([10, 100, 1000, 10000], subset.index)\n",
    "s2"
   ]
  },
  {
   "cell_type": "code",
   "execution_count": 23,
   "id": "d1f67f9e",
   "metadata": {},
   "outputs": [
    {
     "data": {
      "text/plain": [
       "2014-08-01             NaN\n",
       "2014-08-02             NaN\n",
       "2014-08-03             NaN\n",
       "2014-08-04        8.864368\n",
       "2014-08-05      101.212112\n",
       "2014-08-06      999.826785\n",
       "2014-08-07    10000.119209\n",
       "2014-08-08             NaN\n",
       "2014-08-09             NaN\n",
       "2014-08-10             NaN\n",
       "Freq: D, dtype: float64"
      ]
     },
     "execution_count": 23,
     "metadata": {},
     "output_type": "execute_result"
    }
   ],
   "source": [
    "# демонстрируем выравнивание по дате, сложив вместе date_series и s2\n",
    "data_series + s2"
   ]
  },
  {
   "cell_type": "code",
   "execution_count": 24,
   "id": "4ab3c369",
   "metadata": {},
   "outputs": [
    {
     "data": {
      "text/plain": [
       "1.2121120250208506"
      ]
     },
     "execution_count": 24,
     "metadata": {},
     "output_type": "execute_result"
    }
   ],
   "source": [
    "# Находим элемент с помощью строкового представления даты\n",
    "data_series['2014-08-05']"
   ]
  },
  {
   "cell_type": "code",
   "execution_count": 25,
   "id": "59635f3c",
   "metadata": {},
   "outputs": [
    {
     "data": {
      "text/plain": [
       "2014-08-05    1.212112\n",
       "2014-08-06   -0.173215\n",
       "2014-08-07    0.119209\n",
       "Freq: D, dtype: float64"
      ]
     },
     "execution_count": 25,
     "metadata": {},
     "output_type": "execute_result"
    }
   ],
   "source": [
    "# создаем срез объекта DatetimeIndex задав диапазон состоящий из строковых представлений дат\n",
    "data_series['2014-08-05':'2014-08-07']"
   ]
  },
  {
   "cell_type": "code",
   "execution_count": 26,
   "id": "e6f18d8f",
   "metadata": {},
   "outputs": [
    {
     "data": {
      "text/plain": [
       "2013-01-01    0\n",
       "2013-01-02    0\n",
       "2013-01-03    0\n",
       "2013-01-04    0\n",
       "2013-01-05    0\n",
       "             ..\n",
       "2013-12-27    0\n",
       "2013-12-28    0\n",
       "2013-12-29    0\n",
       "2013-12-30    0\n",
       "2013-12-31    0\n",
       "Freq: D, Length: 365, dtype: int64"
      ]
     },
     "execution_count": 26,
     "metadata": {},
     "output_type": "execute_result"
    }
   ],
   "source": [
    "# создаем диапазон дат, охватывающий 2-летний период с ежедневным интервалом и отбираем лишь те даты которые относятся к 2013 г.\n",
    "s3 = pd.Series(0, pd.date_range('2013-01-01', '2014-12-31'))\n",
    "s3['2013']"
   ]
  },
  {
   "cell_type": "code",
   "execution_count": 27,
   "id": "37f24340",
   "metadata": {},
   "outputs": [
    {
     "data": {
      "text/plain": [
       "2014-05-01    0\n",
       "2014-05-02    0\n",
       "2014-05-03    0\n",
       "2014-05-04    0\n",
       "2014-05-05    0\n",
       "             ..\n",
       "2014-05-27    0\n",
       "2014-05-28    0\n",
       "2014-05-29    0\n",
       "2014-05-30    0\n",
       "2014-05-31    0\n",
       "Freq: D, Length: 31, dtype: int64"
      ]
     },
     "execution_count": 27,
     "metadata": {},
     "output_type": "execute_result"
    }
   ],
   "source": [
    "# можно отобрать даты, которые относятся к конкретному году и месяцу\n",
    "s3['2014-05']"
   ]
  },
  {
   "cell_type": "code",
   "execution_count": 28,
   "id": "d8916c20",
   "metadata": {},
   "outputs": [
    {
     "data": {
      "text/plain": [
       "2014-08-01    0\n",
       "2014-08-02    0\n",
       "2014-08-03    0\n",
       "2014-08-04    0\n",
       "2014-08-05    0\n",
       "             ..\n",
       "2014-09-26    0\n",
       "2014-09-27    0\n",
       "2014-09-28    0\n",
       "2014-09-29    0\n",
       "2014-09-30    0\n",
       "Freq: D, Length: 61, dtype: int64"
      ]
     },
     "execution_count": 28,
     "metadata": {},
     "output_type": "execute_result"
    }
   ],
   "source": [
    "# этот способ можно использовать при работе со срезами\n",
    "# извлекаем даты с августа по сентябрь\n",
    "s3['2014-08':'2014-09']"
   ]
  },
  {
   "cell_type": "markdown",
   "id": "ddf323e8",
   "metadata": {},
   "source": [
    "__Создание временного ряда с определенной частотой__"
   ]
  },
  {
   "cell_type": "code",
   "execution_count": 29,
   "id": "c27e51ff",
   "metadata": {},
   "outputs": [
    {
     "data": {
      "text/plain": [
       "2014-08-01 00:00:00    0.469112\n",
       "2014-08-01 00:01:00   -0.282863\n",
       "2014-08-01 00:02:00   -1.509059\n",
       "2014-08-01 00:03:00   -1.135632\n",
       "2014-08-01 00:04:00    1.212112\n",
       "Freq: T, dtype: float64"
      ]
     },
     "execution_count": 29,
     "metadata": {},
     "output_type": "execute_result"
    }
   ],
   "source": [
    "# Частота временного ряда не обязательно должна быть ежедневной. С помощью функции pd.date_range() и параметра freq \n",
    "# можно сгенерировать различные частоты. по умолчанию параметр freq имеет значение D, которое означает суточную частоту\n",
    "np.random.seed(123456)\n",
    "bymin = pd.Series(np.random.randn(24*60*90),\n",
    "                  pd.date_range('2014-08-01',\n",
    "                                '2014-10-29 23:59',\n",
    "                                freq = 'T'))\n",
    "bymin[:5]"
   ]
  },
  {
   "cell_type": "code",
   "execution_count": 30,
   "id": "9fdaba5b",
   "metadata": {},
   "outputs": [
    {
     "data": {
      "text/plain": [
       "2014-08-01 00:02:00   -1.509059\n",
       "2014-08-01 00:03:00   -1.135632\n",
       "2014-08-01 00:04:00    1.212112\n",
       "2014-08-01 00:05:00   -0.173215\n",
       "2014-08-01 00:06:00    0.119209\n",
       "2014-08-01 00:07:00   -1.044236\n",
       "Freq: T, dtype: float64"
      ]
     },
     "execution_count": 30,
     "metadata": {},
     "output_type": "execute_result"
    }
   ],
   "source": [
    "# создаем срез с поминутными интервалами\n",
    "bymin['2014-08-01 00:02':'2014-08-01 00:07']"
   ]
  },
  {
   "cell_type": "markdown",
   "id": "de858c7a",
   "metadata": {},
   "source": [
    "__ВОЗМОЖНЫЕ ЧАСТОТЫ ПАРАМЕТРА freq__\n",
    "\n",
    "- __B__ - каждый рабочий день\n",
    "- __С__ - каждый указанный рабочий день\n",
    "- __D__ - ежедневно (по умолчанию)\n",
    "- __W__ - еженедельно\n",
    "- __M__ - каждый последний календарный день месяца\n",
    "- __BM__ - каждый последний рабочий день месяца\n",
    "- __CBM__ - каждый указанный последний рабочий день месяца\n",
    "- __MS__ - каждый первый календарный день месяца\n",
    "- __BMS__ - каждый первый рабочий день месяца\n",
    "- __CBMS__ - каждый указанный первый рабочий день месяца\n",
    "- __Q__ - ежеквартально\n",
    "- __BQ__ - каждый последний рабочий день квартала\n",
    "- __QS__ - каждый первый день квартала\n",
    "- __BQS__ - каждый первый рабочий день квартал\n",
    "- __A__ - каждый последний день года\n",
    "- __BA__ - каждый последний рабочий день года\n",
    "- __AS__ - каждый первый день года\n",
    "- __BAS__ - каждый первый рабочий день года\n",
    "- __H__ - ежечасно\n",
    "- __T__ - ежеминутно\n",
    "- __S__ - ежесекундно\n",
    "- __L__ - каждую миллисекунду\n",
    "- __U__ - каждую микросекунду"
   ]
  },
  {
   "cell_type": "code",
   "execution_count": 31,
   "id": "a5e31925",
   "metadata": {},
   "outputs": [
    {
     "data": {
      "text/plain": [
       "DatetimeIndex(['2014-08-29', '2014-09-01', '2014-09-02', '2014-09-03',\n",
       "               '2014-09-04', '2014-09-05'],\n",
       "              dtype='datetime64[ns]', freq='B')"
      ]
     },
     "execution_count": 31,
     "metadata": {},
     "output_type": "execute_result"
    }
   ],
   "source": [
    "# создаем серию, состоящую из рабочий дней \n",
    "days = pd.date_range('2014-08-29', '2014-09-05', freq = 'B')\n",
    "days"
   ]
  },
  {
   "cell_type": "code",
   "execution_count": 32,
   "id": "f2ee3dc1",
   "metadata": {},
   "outputs": [
    {
     "data": {
      "text/plain": [
       "DatetimeIndex(['2014-08-01 12:10:01', '2014-08-01 12:10:02',\n",
       "               '2014-08-01 12:10:03', '2014-08-01 12:10:04',\n",
       "               '2014-08-01 12:10:05'],\n",
       "              dtype='datetime64[ns]', freq='S')"
      ]
     },
     "execution_count": 32,
     "metadata": {},
     "output_type": "execute_result"
    }
   ],
   "source": [
    "# с помощью пареметра periods можно создать диапазон, начинающийся с определенной даты и времени, с определенной частотой \n",
    "# и с определенным количеством периодов\n",
    "pd.date_range('2014-08-01 12:10:01', freq = 'S', periods = 5)"
   ]
  },
  {
   "cell_type": "markdown",
   "id": "08afc9e4",
   "metadata": {},
   "source": [
    "__ВЫЧИСЛЕНИЕ НОВЫХ ДАТ С ПОМОЩЬЮ СМЕЩЕНИЙ__"
   ]
  },
  {
   "cell_type": "markdown",
   "id": "c6aee842",
   "metadata": {},
   "source": [
    "__Представление временных интервалов с помощью смещений дат__"
   ]
  },
  {
   "cell_type": "markdown",
   "id": "ef7419fa",
   "metadata": {},
   "source": [
    "- __DateOffset__ - календарный день\n",
    "- __Bday__ - рабочий день\n",
    "- __Cday__ - указанный рабочий день\n",
    "- __Week__ - неделя, опционно привязанная ко дню недели\n",
    "- __WeekOfMonth__ - k-й день m-й недели каждого месяца\n",
    "- __LastWeekOfMonth__ - k-й день последней недели каждого месяца\n",
    "- __MonthEnd__ - последний календарный день месяца\n",
    "- __MonthBegin__ - первый календарный день месяца\n",
    "- __BMonthEnd__ - последний рабочий день месяца\n",
    "- __BMonthBegin__ - первый рабочий день месяца\n",
    "- __CBMonthEnd__ - указанный последний рабочий день месяца\n",
    "- __CBMonthBegin__ - указанный первый рабочий день месяца\n",
    "- __QuarterEnd__ - последний календарный день квартала \n",
    "- __QuarterBegin__ - первый календарный день квартала\n",
    "- __BQuarterEnd__ - последний рабочий деньк квартала\n",
    "- __BQuarterBegit__ - первый рабочий день квартала\n",
    "- __FYS253Quarter__ - торговый квартал (52-53 недели)\n",
    "- __YearEnd__ - последний календарный день года\n",
    "- __YearBegin__ - первый календарный день года\n",
    "- __BYearEnd__ - последний рабочий день года\n",
    "- __DYearBegin__ - первый рабочий день года\n",
    "- __FYS253__ - Торговый год (52-53 недели)\n",
    "- __Hour__ - час\n",
    "- __Minute__ - минута \n",
    "- __Second__ - секунда \n",
    "- __Milli__ - миллисекунда \n",
    "- __Micro__ - микросекунда "
   ]
  },
  {
   "cell_type": "code",
   "execution_count": 33,
   "id": "9afe18fd",
   "metadata": {},
   "outputs": [
    {
     "data": {
      "text/plain": [
       "array(['2014-08-29T00:00:00.000000000', '2014-09-01T00:00:00.000000000',\n",
       "       '2014-09-02T00:00:00.000000000', '2014-09-03T00:00:00.000000000',\n",
       "       '2014-09-04T00:00:00.000000000', '2014-09-05T00:00:00.000000000'],\n",
       "      dtype='datetime64[ns]')"
      ]
     },
     "execution_count": 33,
     "metadata": {},
     "output_type": "execute_result"
    }
   ],
   "source": [
    "# извлекаем все рабочие дни в промежутке между двумя датами, включая эти даты\n",
    "dti = pd.date_range('2014-08-29', '2014-09-05', freq = 'B')\n",
    "dti.values"
   ]
  },
  {
   "cell_type": "code",
   "execution_count": 34,
   "id": "b7853874",
   "metadata": {},
   "outputs": [
    {
     "data": {
      "text/plain": [
       "<BusinessDay>"
      ]
     },
     "execution_count": 34,
     "metadata": {},
     "output_type": "execute_result"
    }
   ],
   "source": [
    "# убеждаемся, что частотой является рабочий день\n",
    "dti.freq"
   ]
  },
  {
   "cell_type": "code",
   "execution_count": 35,
   "id": "0a70cd3c",
   "metadata": {},
   "outputs": [
    {
     "data": {
      "text/plain": [
       "Timestamp('2014-08-30 00:00:00')"
      ]
     },
     "execution_count": 35,
     "metadata": {},
     "output_type": "execute_result"
    }
   ],
   "source": [
    "# выичсляем однодневное смещение для 2014-08-29\n",
    "d = datetime(2014, 8, 29)\n",
    "do = pd.DateOffset(days = 1)\n",
    "d + do"
   ]
  },
  {
   "cell_type": "code",
   "execution_count": 36,
   "id": "803dcac0",
   "metadata": {},
   "outputs": [
    {
     "data": {
      "text/plain": [
       "Timestamp('2014-09-01 00:00:00')"
      ]
     },
     "execution_count": 36,
     "metadata": {},
     "output_type": "execute_result"
    }
   ],
   "source": [
    "# вычисляем дату отсточщую от заданной на один день рабочий день вперед:\n",
    "# импортируем типы смещений дат\n",
    "from pandas.tseries.offsets import *\n",
    "d + BusinessDay()"
   ]
  },
  {
   "cell_type": "code",
   "execution_count": 37,
   "id": "0f667df0",
   "metadata": {},
   "outputs": [
    {
     "data": {
      "text/plain": [
       "Timestamp('2014-09-02 00:00:00')"
      ]
     },
     "execution_count": 37,
     "metadata": {},
     "output_type": "execute_result"
    }
   ],
   "source": [
    "# сдвиг сразу на несколько единиц частоты можно выполнить с помощью умножения\n",
    "d + 2 * BusinessDay()"
   ]
  },
  {
   "cell_type": "code",
   "execution_count": 38,
   "id": "b308391f",
   "metadata": {},
   "outputs": [
    {
     "data": {
      "text/plain": [
       "Timestamp('2014-09-30 00:00:00')"
      ]
     },
     "execution_count": 38,
     "metadata": {},
     "output_type": "execute_result"
    }
   ],
   "source": [
    "# вычисляем последний рабочий день месяца, следующий после 2014-09-02\n",
    "d + BMonthEnd()"
   ]
  },
  {
   "cell_type": "code",
   "execution_count": 39,
   "id": "98538e4a",
   "metadata": {},
   "outputs": [
    {
     "data": {
      "text/plain": [
       "Timestamp('2014-09-30 00:00:00')"
      ]
     },
     "execution_count": 39,
     "metadata": {},
     "output_type": "execute_result"
    }
   ],
   "source": [
    "# вычисляем последний рабочий день месяца, следующий после 2014-09-15 с использованием метода .rollforward()\n",
    "BMonthEnd().rollforward(datetime(2014, 9, 15))"
   ]
  },
  {
   "cell_type": "code",
   "execution_count": 40,
   "id": "753272ac",
   "metadata": {},
   "outputs": [
    {
     "data": {
      "text/plain": [
       "Timestamp('2014-08-26 00:00:00')"
      ]
     },
     "execution_count": 40,
     "metadata": {},
     "output_type": "execute_result"
    }
   ],
   "source": [
    "# вычисляем дату вторника, предшествующую заданной дате\n",
    "d - Week(weekday = 1)"
   ]
  },
  {
   "cell_type": "markdown",
   "id": "0db8e1c0",
   "metadata": {},
   "source": [
    "__Привязанные смещения__"
   ]
  },
  {
   "cell_type": "markdown",
   "id": "5254d4f5",
   "metadata": {},
   "source": [
    "__Привязанные смеещения__ - это определенные частоты , которые начинаются с определенного момента времени, например с определенного дня недели, месяца или года\n"
   ]
  },
  {
   "cell_type": "markdown",
   "id": "65b85c2d",
   "metadata": {},
   "source": [
    "- __W-SUN__ - еженедельно в воскресенье\n",
    "- __W-MON__ - еженедельно в понедельник\n",
    "- __W-TUE__ - еженедельно во вторник\n",
    "- __W-WED__ - еженедельно в среду\n",
    "- __W-THU__ - еженедельно в четверг\n",
    "- __W-FRI__ - еженедельно в пятницу\n",
    "- __W-SAT__ - еженедельно в субботу"
   ]
  },
  {
   "cell_type": "code",
   "execution_count": 41,
   "id": "db877737",
   "metadata": {},
   "outputs": [
    {
     "data": {
      "text/plain": [
       "array(['2014-06-04T00:00:00.000000000', '2014-06-11T00:00:00.000000000',\n",
       "       '2014-06-18T00:00:00.000000000', '2014-06-25T00:00:00.000000000',\n",
       "       '2014-07-02T00:00:00.000000000', '2014-07-09T00:00:00.000000000',\n",
       "       '2014-07-16T00:00:00.000000000', '2014-07-23T00:00:00.000000000',\n",
       "       '2014-07-30T00:00:00.000000000'], dtype='datetime64[ns]')"
      ]
     },
     "execution_count": 41,
     "metadata": {},
     "output_type": "execute_result"
    }
   ],
   "source": [
    "# вычисляем все среды в промежутке между указанными датами\n",
    "wednesdays = pd.date_range('2014-06-01', '2014-07-31', freq = 'W-WED')\n",
    "wednesdays.values"
   ]
  },
  {
   "cell_type": "markdown",
   "id": "c4463ffe",
   "metadata": {},
   "source": [
    "Привязанные смещения можно создать с помощью ежегодных и ежеквартальных частот. Эти частоты имеют вид [B] [A] [Q] [S] - [MON]\n",
    "- __[B]__ - рабочие дни\n",
    "- __[A]__ - частота ежегодно\n",
    "- __[Q]__ - частота ежеквартально\n",
    "- __[S]__ - начало периода вместо конца\n",
    "- __[MON]__ - аббревиатура месяца"
   ]
  },
  {
   "cell_type": "code",
   "execution_count": 42,
   "id": "2b8e8578",
   "metadata": {},
   "outputs": [
    {
     "data": {
      "text/plain": [
       "array(['2014-03-03T00:00:00.000000000', '2014-06-02T00:00:00.000000000',\n",
       "       '2014-09-01T00:00:00.000000000', '2014-12-01T00:00:00.000000000'],\n",
       "      dtype='datetime64[ns]')"
      ]
     },
     "execution_count": 42,
     "metadata": {},
     "output_type": "execute_result"
    }
   ],
   "source": [
    "# вычисляем первый рабочий день последнего месяца в каждом квартале\n",
    "qends = pd.date_range('2014-01-01', '2014-12-31', freq = 'BQS-JUN')\n",
    "qends.values"
   ]
  },
  {
   "cell_type": "markdown",
   "id": "5e3135ff",
   "metadata": {},
   "source": [
    "__ПРЕДСТАВЛЕНИЕ ПРОМЕЖУТКОВ ВРЕМЕНИ С ПОМОЩЬЮ ОБЪЕКТОВ PERIOD__"
   ]
  },
  {
   "cell_type": "markdown",
   "id": "815117cb",
   "metadata": {},
   "source": [
    "__Создание временного интервала с помощью объекта Period__"
   ]
  },
  {
   "cell_type": "code",
   "execution_count": 44,
   "id": "c281e246",
   "metadata": {},
   "outputs": [
    {
     "data": {
      "text/plain": [
       "Period('2014-08', 'M')"
      ]
     },
     "execution_count": 44,
     "metadata": {},
     "output_type": "execute_result"
    }
   ],
   "source": [
    "# объект Period позволяет задать промежутки времени исходя из различных частот (ежедневной, еженедельной, ежемесячной,\n",
    "# ежеквартальной, ежегодной и т.д.). При этом он будет включать в себя начальную и конечную временные метки, \n",
    "# задающие определенный интервал\n",
    "# создаем период - один месяц, начинающийся в август 2014\n",
    "aug2014 = pd.Period('2014-08', freq = 'M')\n",
    "aug2014"
   ]
  },
  {
   "cell_type": "code",
   "execution_count": 45,
   "id": "0c33f466",
   "metadata": {},
   "outputs": [
    {
     "data": {
      "text/plain": [
       "(Timestamp('2014-08-01 00:00:00'), Timestamp('2014-08-31 23:59:59.999999999'))"
      ]
     },
     "execution_count": 45,
     "metadata": {},
     "output_type": "execute_result"
    }
   ],
   "source": [
    "# свойства start_time и end_time сообщают нам о начальной и конечной временных метках\n",
    "# смотрим начальную и конечную даты этого периода\n",
    "aug2014.start_time, aug2014.end_time"
   ]
  },
  {
   "cell_type": "code",
   "execution_count": 46,
   "id": "e98afaab",
   "metadata": {},
   "outputs": [
    {
     "data": {
      "text/plain": [
       "Period('2014-09', 'M')"
      ]
     },
     "execution_count": 46,
     "metadata": {},
     "output_type": "execute_result"
    }
   ],
   "source": [
    "# вычисляем период, прибавив к периоду aug2014 единицу частоты (один месяц)\n",
    "sep2014 = aug2014 + 1\n",
    "sep2014"
   ]
  },
  {
   "cell_type": "code",
   "execution_count": 47,
   "id": "b49004f6",
   "metadata": {},
   "outputs": [
    {
     "data": {
      "text/plain": [
       "(Timestamp('2014-09-01 00:00:00'), Timestamp('2014-09-30 23:59:59.999999999'))"
      ]
     },
     "execution_count": 47,
     "metadata": {},
     "output_type": "execute_result"
    }
   ],
   "source": [
    "sep2014.start_time, sep2014.end_time"
   ]
  },
  {
   "cell_type": "markdown",
   "id": "47822e69",
   "metadata": {},
   "source": [
    "__Индексация с помощью объекта PeriodIndex__"
   ]
  },
  {
   "cell_type": "code",
   "execution_count": 48,
   "id": "44db7d53",
   "metadata": {},
   "outputs": [
    {
     "data": {
      "text/plain": [
       "PeriodIndex(['2013-01', '2013-02', '2013-03', '2013-04', '2013-05', '2013-06',\n",
       "             '2013-07', '2013-08', '2013-09', '2013-10', '2013-11', '2013-12'],\n",
       "            dtype='period[M]')"
      ]
     },
     "execution_count": 48,
     "metadata": {},
     "output_type": "execute_result"
    }
   ],
   "source": [
    "# серию объектов Period можно объеденить в специальный тип индекса, известный как PeriodIndex. Такой индекс применяется\n",
    "# в том случае, когда данные необходимо связать с определенными временными интервалами, создать срезы и проанализировать\n",
    "# события в каждом интервале\n",
    "# создаем объект PeriodIndex, состоящий из 1-месячных интервалов 2013 года\n",
    "mp2013 = pd.period_range('1/1/2013', '12/31/2013', freq = 'M')\n",
    "mp2013"
   ]
  },
  {
   "cell_type": "code",
   "execution_count": 49,
   "id": "aed20c8a",
   "metadata": {},
   "outputs": [
    {
     "name": "stdout",
     "output_type": "stream",
     "text": [
      "2013-01-01 00:00:00 2013-01-31 23:59:59.999999999\n",
      "2013-02-01 00:00:00 2013-02-28 23:59:59.999999999\n",
      "2013-03-01 00:00:00 2013-03-31 23:59:59.999999999\n",
      "2013-04-01 00:00:00 2013-04-30 23:59:59.999999999\n",
      "2013-05-01 00:00:00 2013-05-31 23:59:59.999999999\n",
      "2013-06-01 00:00:00 2013-06-30 23:59:59.999999999\n",
      "2013-07-01 00:00:00 2013-07-31 23:59:59.999999999\n",
      "2013-08-01 00:00:00 2013-08-31 23:59:59.999999999\n",
      "2013-09-01 00:00:00 2013-09-30 23:59:59.999999999\n",
      "2013-10-01 00:00:00 2013-10-31 23:59:59.999999999\n",
      "2013-11-01 00:00:00 2013-11-30 23:59:59.999999999\n",
      "2013-12-01 00:00:00 2013-12-31 23:59:59.999999999\n"
     ]
    }
   ],
   "source": [
    "# PeriodIndex отличается от DatetimeIndex тем, что индексные метки являются объектами Period\n",
    "# пробегаем по всем объектам Period в индексе печатая начальную и конечную даты для всех объектов Period в индексе\n",
    "for p in mp2013:\n",
    "    print('{0} {1}'.format(p.start_time, p.end_time))"
   ]
  },
  {
   "cell_type": "code",
   "execution_count": 50,
   "id": "17310f45",
   "metadata": {},
   "outputs": [
    {
     "data": {
      "text/plain": [
       "2013-01    0.469112\n",
       "2013-02   -0.282863\n",
       "2013-03   -1.509059\n",
       "2013-04   -1.135632\n",
       "2013-05    1.212112\n",
       "Freq: M, dtype: float64"
      ]
     },
     "execution_count": 50,
     "metadata": {},
     "output_type": "execute_result"
    }
   ],
   "source": [
    "# создаем объект Series, у которого индексом будет PeriodIndex\n",
    "np.random.seed(123456)\n",
    "ps = pd.Series(np.random.randn(12), mp2013)\n",
    "ps[:5]"
   ]
  },
  {
   "cell_type": "code",
   "execution_count": 52,
   "id": "f715bc32",
   "metadata": {},
   "outputs": [
    {
     "data": {
      "text/plain": [
       "2013-01    0.469112\n",
       "2013-02   -0.282863\n",
       "2013-03   -1.509059\n",
       "2013-04   -1.135632\n",
       "2013-05    1.212112\n",
       "             ...   \n",
       "2014-08   -1.087401\n",
       "2014-09   -0.673690\n",
       "2014-10    0.113648\n",
       "2014-11   -1.478427\n",
       "2014-12    0.524988\n",
       "Freq: M, Length: 24, dtype: float64"
      ]
     },
     "execution_count": 52,
     "metadata": {},
     "output_type": "execute_result"
    }
   ],
   "source": [
    "# создаем объект Series с индексом PeriodIndex, который представляет собой все календарные месяцы периоды 2013 и 2014 годов\n",
    "np.random.seed(123456)\n",
    "ps = pd.Series(np.random.randn(24),\n",
    "               pd.period_range('1/1/2013', '12/31/2014', freq = 'M'))\n",
    "ps"
   ]
  },
  {
   "cell_type": "code",
   "execution_count": 53,
   "id": "2af533e5",
   "metadata": {},
   "outputs": [
    {
     "data": {
      "text/plain": [
       "0.567020349793672"
      ]
     },
     "execution_count": 53,
     "metadata": {},
     "output_type": "execute_result"
    }
   ],
   "source": [
    "# извлекаем значение, соответствующее периоду 2014-06\n",
    "ps['2014-06']"
   ]
  },
  {
   "cell_type": "code",
   "execution_count": 54,
   "id": "2365824f",
   "metadata": {},
   "outputs": [
    {
     "data": {
      "text/plain": [
       "2014-01    0.721555\n",
       "2014-02   -0.706771\n",
       "2014-03   -1.039575\n",
       "2014-04    0.271860\n",
       "2014-05   -0.424972\n",
       "             ...   \n",
       "2014-08   -1.087401\n",
       "2014-09   -0.673690\n",
       "2014-10    0.113648\n",
       "2014-11   -1.478427\n",
       "2014-12    0.524988\n",
       "Freq: M, Length: 12, dtype: float64"
      ]
     },
     "execution_count": 54,
     "metadata": {},
     "output_type": "execute_result"
    }
   ],
   "source": [
    "# извлекаем значения для всех периодов в 2014 году\n",
    "ps['2014']"
   ]
  },
  {
   "cell_type": "code",
   "execution_count": 55,
   "id": "878328b6",
   "metadata": {},
   "outputs": [
    {
     "data": {
      "text/plain": [
       "2014-03   -1.039575\n",
       "2014-04    0.271860\n",
       "2014-05   -0.424972\n",
       "2014-06    0.567020\n",
       "Freq: M, dtype: float64"
      ]
     },
     "execution_count": 55,
     "metadata": {},
     "output_type": "execute_result"
    }
   ],
   "source": [
    "# извлекаем все значения, соответствующие периоду с марта по июнь 2014 года с помощью среза\n",
    "ps['2014-03':'2014-06']"
   ]
  },
  {
   "cell_type": "markdown",
   "id": "9909bf67",
   "metadata": {},
   "source": [
    "__НОРМАЛИЗАЦИЯ ВРЕМЕННЫХ МЕТОК С ПОМОЩЬЮ ЧАСОВЫХ ПОЯСОВ__"
   ]
  },
  {
   "cell_type": "code",
   "execution_count": 58,
   "id": "a02d19fe",
   "metadata": {},
   "outputs": [
    {
     "data": {
      "text/plain": [
       "(Timestamp('2023-10-09 09:56:29.478068'), True)"
      ]
     },
     "execution_count": 58,
     "metadata": {},
     "output_type": "execute_result"
    }
   ],
   "source": [
    "# Pandas использует библиотеку pytz и dateutil для работы с часовыми поясами\n",
    "# извлекаем текущее местное время и демонстрируем что по умолчанию информация о часовом поясе отсутствует\n",
    "now = pd.Timestamp('now')\n",
    "now, now.tz is None"
   ]
  }
 ],
 "metadata": {
  "kernelspec": {
   "display_name": "Python 3 (ipykernel)",
   "language": "python",
   "name": "python3"
  },
  "language_info": {
   "codemirror_mode": {
    "name": "ipython",
    "version": 3
   },
   "file_extension": ".py",
   "mimetype": "text/x-python",
   "name": "python",
   "nbconvert_exporter": "python",
   "pygments_lexer": "ipython3",
   "version": "3.10.13"
  }
 },
 "nbformat": 4,
 "nbformat_minor": 5
}
