{
 "cells": [
  {
   "cell_type": "code",
   "execution_count": 1,
   "id": "0e2460ca",
   "metadata": {},
   "outputs": [],
   "source": [
    "# импортируем библиотеки numpy и pandas\n",
    "import numpy as np\n",
    "import pandas as pd\n",
    "\n",
    "# импортируем библиотеку datatime для работы с датами\n",
    "import datetime\n",
    "from datetime import datetime, date\n",
    "\n",
    "# задаем некоторые опции библиотеки pandas, которые настраивают вывод\n",
    "pd.set_option('display.notebook_repr_html', False)     # задаем вывод в виде текста, а не HTML\n",
    "pd.set_option('display.max_columns', 8)                # устанавливаем отображение максимального количества стобцов\n",
    "pd.set_option('display.max_rows', 10)                  # устанавливаем отображение максимального количества строк\n",
    "pd.set_option('display.width', 80)                     # устанавливаеv максимальную ширину отображения в символах\n",
    "\n",
    "# импортируем библиотеку matplotlib для построения графиков\n",
    "import matplotlib.pyplot as plt \n",
    "%matplotlib inline"
   ]
  },
  {
   "cell_type": "code",
   "execution_count": 2,
   "id": "5da55ff4",
   "metadata": {},
   "outputs": [
    {
     "data": {
      "text/plain": [
       "                        Sector   Price  Book Value\n",
       "Symbol                                            \n",
       "MMM                Industrials  141.14      26.668\n",
       "ABT                Health Care   39.60      15.573\n",
       "ABBV               Health Care   53.95       2.954\n",
       "ACN     Information Technology   79.79       8.326\n",
       "ACE                 Financials  102.91      86.897"
      ]
     },
     "execution_count": 2,
     "metadata": {},
     "output_type": "execute_result"
    }
   ],
   "source": [
    "# считываем из файла данные и выводим первые 5 строк\n",
    "sp500 = pd.read_csv(\"./sp500.csv\",\n",
    "                   index_col = 'Symbol',     # используем столбец Symbol в качестве индекса\n",
    "                   usecols = [0, 2, 3, 7])   # и считываем только те столбцы у которых позиции 0, 2, 3, 7\n",
    "sp500.head()\n"
   ]
  },
  {
   "cell_type": "markdown",
   "id": "5c2bff42",
   "metadata": {},
   "source": [
    "__Переименование столбцов__\n"
   ]
  },
  {
   "cell_type": "code",
   "execution_count": 3,
   "id": "120d6a0b",
   "metadata": {},
   "outputs": [
    {
     "data": {
      "text/plain": [
       "             Sector   Price  BookValue\n",
       "Symbol                                \n",
       "MMM     Industrials  141.14     26.668\n",
       "ABT     Health Care   39.60     15.573"
      ]
     },
     "execution_count": 3,
     "metadata": {},
     "output_type": "execute_result"
    }
   ],
   "source": [
    "# переименовываем столбец Book Value так, что бы удалить пробел с помощью метода .rename()\n",
    "# програмный код возвращает копию датафрейма с переименованным столбцом\n",
    "newSP500 = sp500.rename(columns = {'Book Value': 'BookValue'})\n",
    "newSP500.head(2)"
   ]
  },
  {
   "cell_type": "code",
   "execution_count": 4,
   "id": "d2eeafe7",
   "metadata": {},
   "outputs": [
    {
     "data": {
      "text/plain": [
       "Index(['Sector', 'Price', 'Book Value'], dtype='object')"
      ]
     },
     "execution_count": 4,
     "metadata": {},
     "output_type": "execute_result"
    }
   ],
   "source": [
    "# проверяем, не изменились ли имена столбцов в исходном DataFrame\n",
    "sp500.columns"
   ]
  },
  {
   "cell_type": "code",
   "execution_count": 5,
   "id": "89968419",
   "metadata": {},
   "outputs": [
    {
     "data": {
      "text/plain": [
       "Index(['Sector', 'Price', 'BookValue'], dtype='object')"
      ]
     },
     "execution_count": 5,
     "metadata": {},
     "output_type": "execute_result"
    }
   ],
   "source": [
    "# чтобы изменить датафрейм на месте без создания копии, можно воспользоваться параметром inplace=True\n",
    "sp500.rename(columns = \n",
    "            {'Book Value': 'BookValue'},\n",
    "            inplace = True)\n",
    "sp500.columns"
   ]
  },
  {
   "cell_type": "code",
   "execution_count": 6,
   "id": "19a25f63",
   "metadata": {},
   "outputs": [
    {
     "data": {
      "text/plain": [
       "Symbol\n",
       "MMM     26.668\n",
       "ABT     15.573\n",
       "ABBV     2.954\n",
       "ACN      8.326\n",
       "ACE     86.897\n",
       "Name: BookValue, dtype: float64"
      ]
     },
     "execution_count": 6,
     "metadata": {},
     "output_type": "execute_result"
    }
   ],
   "source": [
    "# чтобы взглянуть на данные в столбце, можно воспользоваться свойством .BookValue\n",
    "sp500.BookValue[:5]"
   ]
  },
  {
   "cell_type": "markdown",
   "id": "d176f88b",
   "metadata": {},
   "source": [
    "__Добавление новых столбцов с помощью оператора [] и метода .insert()__\n"
   ]
  },
  {
   "cell_type": "code",
   "execution_count": 7,
   "id": "cc590e46",
   "metadata": {},
   "outputs": [
    {
     "data": {
      "text/plain": [
       "                        Sector   Price  BookValue  RoundedPrice\n",
       "Symbol                                                         \n",
       "MMM                Industrials  141.14     26.668         141.0\n",
       "ABT                Health Care   39.60     15.573          40.0\n",
       "ABBV               Health Care   53.95      2.954          54.0\n",
       "ACN     Information Technology   79.79      8.326          80.0\n",
       "ACE                 Financials  102.91     86.897         103.0"
      ]
     },
     "execution_count": 7,
     "metadata": {},
     "output_type": "execute_result"
    }
   ],
   "source": [
    "# добавить новые столбцы в датафрейм можно с помощью оператора []. Столбец добавиться в конце\n",
    "# создаем копию, чтобы исходные данные остались в неизменном виде\n",
    "sp500_copy = sp500.copy() # метод .copy\n",
    "# добавляем столбец\n",
    "sp500_copy['RoundedPrice'] = sp500.Price.round()\n",
    "sp500_copy[:5]"
   ]
  },
  {
   "cell_type": "code",
   "execution_count": 8,
   "id": "e8672271",
   "metadata": {},
   "outputs": [
    {
     "data": {
      "text/plain": [
       "                        Sector  RoundedPrice   Price  BookValue\n",
       "Symbol                                                         \n",
       "MMM                Industrials         141.0  141.14     26.668\n",
       "ABT                Health Care          40.0   39.60     15.573\n",
       "ABBV               Health Care          54.0   53.95      2.954\n",
       "ACN     Information Technology          80.0   79.79      8.326\n",
       "ACE                 Financials         103.0  102.91     86.897"
      ]
     },
     "execution_count": 8,
     "metadata": {},
     "output_type": "execute_result"
    }
   ],
   "source": [
    "# что бы добавить новый столбец в определенную позицию, нужно воспользоваться методом .insert()\n",
    "# создаем копию, чтобы исходные данные остались в неизменном виде\n",
    "copy = sp500.copy()\n",
    "# вставляем столбец RoundedPrice в качестве второго столбца\n",
    "copy.insert(1, 'RoundedPrice', sp500.Price.round())\n",
    "copy[:5]"
   ]
  },
  {
   "cell_type": "markdown",
   "id": "43bb20c4",
   "metadata": {},
   "source": [
    "__Добавление столбцов за счет расширения датафрейма__\n"
   ]
  },
  {
   "cell_type": "code",
   "execution_count": 9,
   "id": "f3d3b334",
   "metadata": {},
   "outputs": [
    {
     "data": {
      "text/plain": [
       "             Sector   Price  BookValue  PER\n",
       "Symbol                                     \n",
       "MMM     Industrials  141.14     26.668    0\n",
       "ABT     Health Care   39.60     15.573    0\n",
       "ABBV    Health Care   53.95      2.954    0"
      ]
     },
     "execution_count": 9,
     "metadata": {},
     "output_type": "execute_result"
    }
   ],
   "source": [
    "# Стобец можно добавить с помощью свойства .loc и среза\n",
    "# Создаем копию поднабора/среза\n",
    "ss = sp500[:3].copy()\n",
    "# добавлем столбец с нулевыми значениями\n",
    "ss.loc[:, 'PER'] = 0\n",
    "ss"
   ]
  },
  {
   "cell_type": "code",
   "execution_count": 10,
   "id": "a146ed22",
   "metadata": {},
   "outputs": [
    {
     "data": {
      "text/plain": [
       "             Sector   Price  BookValue       PER\n",
       "Symbol                                          \n",
       "MMM     Industrials  141.14     26.668  0.469112\n",
       "ABT     Health Care   39.60     15.573 -0.282863\n",
       "ABBV    Health Care   53.95      2.954 -1.509059"
      ]
     },
     "execution_count": 10,
     "metadata": {},
     "output_type": "execute_result"
    }
   ],
   "source": [
    "# можно добавить серию с уже существующими данными\n",
    "# Создаем копию поднабора/среза\n",
    "ss = sp500[:3].copy()\n",
    "# добавляем новый столбец со случайно сгенерированными значениями\n",
    "np.random.seed(123456)\n",
    "ss.loc[:, 'PER'] = pd.Series(np.random.normal(size = 3), index = ss.index)\n",
    "ss"
   ]
  },
  {
   "cell_type": "markdown",
   "id": "9c2da663",
   "metadata": {},
   "source": [
    "__Добавление столбцов с помощью конкатенации__\n"
   ]
  },
  {
   "cell_type": "code",
   "execution_count": 11,
   "id": "718b88b5",
   "metadata": {},
   "outputs": [
    {
     "data": {
      "text/plain": [
       "                        Sector   Price  BookValue  RoundedPrice\n",
       "Symbol                                                         \n",
       "MMM                Industrials  141.14     26.668         141.0\n",
       "ABT                Health Care   39.60     15.573          40.0\n",
       "ABBV               Health Care   53.95      2.954          54.0\n",
       "ACN     Information Technology   79.79      8.326          80.0\n",
       "ACE                 Financials  102.91     86.897         103.0"
      ]
     },
     "execution_count": 11,
     "metadata": {},
     "output_type": "execute_result"
    }
   ],
   "source": [
    "# и оператор [] и метод .insert модифицируют датафрейм на месте. Если нужен новый датафрейм с дополнительными столбцами \n",
    "# оставив исходный датафрейм без изменений), можно воспользоваться функцией pd.concat()\n",
    "# параметр функции pd.concat() axis = 1 - конкатенирует по оси столбцов, axis = 0 - конкатенирует по оси строк\n",
    "\n",
    "# создаем объект DataFrame с единственным столбцом RoundedPrice\n",
    "rounded_price = pd.DataFrame({'RoundedPrice':\n",
    "                              sp500.Price.round()})\n",
    "# конкатенируем по оси столбцов \n",
    "concatenated = pd.concat([sp500, rounded_price], axis = 1)\n",
    "concatenated [:5]"
   ]
  },
  {
   "cell_type": "code",
   "execution_count": 12,
   "id": "f2ceec19",
   "metadata": {},
   "outputs": [
    {
     "data": {
      "text/plain": [
       "        Price\n",
       "Symbol       \n",
       "MMM     141.0\n",
       "ABT      40.0\n",
       "ABBV     54.0\n",
       "ACN      80.0\n",
       "ACE     103.0"
      ]
     },
     "execution_count": 12,
     "metadata": {},
     "output_type": "execute_result"
    }
   ],
   "source": [
    "# при конкатенации возможно дублирование имен столбцов\n",
    "# создаем объект DataFrame с единственным столбцом Price\n",
    "rounded_price = pd.DataFrame({'Price': sp500.Price.round()})\n",
    "rounded_price.head(5)"
   ]
  },
  {
   "cell_type": "code",
   "execution_count": 13,
   "id": "8b144625",
   "metadata": {},
   "outputs": [
    {
     "data": {
      "text/plain": [
       "                        Sector   Price  BookValue  Price\n",
       "Symbol                                                  \n",
       "MMM                Industrials  141.14     26.668  141.0\n",
       "ABT                Health Care   39.60     15.573   40.0\n",
       "ABBV               Health Care   53.95      2.954   54.0\n",
       "ACN     Information Technology   79.79      8.326   80.0\n",
       "ACE                 Financials  102.91     86.897  103.0"
      ]
     },
     "execution_count": 13,
     "metadata": {},
     "output_type": "execute_result"
    }
   ],
   "source": [
    "# в результате конкатенации получаем дублирующиеся имена столбцов\n",
    "dups = pd.concat([sp500, rounded_price], axis = 1)\n",
    "dups.head(5)"
   ]
  },
  {
   "cell_type": "code",
   "execution_count": 14,
   "id": "e55e14d5",
   "metadata": {},
   "outputs": [
    {
     "data": {
      "text/plain": [
       "         Price  Price\n",
       "Symbol               \n",
       "MMM     141.14  141.0\n",
       "ABT      39.60   40.0\n",
       "ABBV     53.95   54.0\n",
       "ACN      79.79   80.0\n",
       "ACE     102.91  103.0"
      ]
     },
     "execution_count": 14,
     "metadata": {},
     "output_type": "execute_result"
    }
   ],
   "source": [
    "# с помощью свойства .Price можно извлечь оба столбца\n",
    "dups.Price[:5]"
   ]
  },
  {
   "cell_type": "markdown",
   "id": "1955d97f",
   "metadata": {},
   "source": [
    "__Переупорядочивание столбцов__"
   ]
  },
  {
   "cell_type": "code",
   "execution_count": 15,
   "id": "323d1ae9",
   "metadata": {},
   "outputs": [
    {
     "data": {
      "text/plain": [
       "        BookValue   Price                  Sector\n",
       "Symbol                                           \n",
       "MMM        26.668  141.14             Industrials\n",
       "ABT        15.573   39.60             Health Care\n",
       "ABBV        2.954   53.95             Health Care\n",
       "ACN         8.326   79.79  Information Technology\n",
       "ACE        86.897  102.91              Financials"
      ]
     },
     "execution_count": 15,
     "metadata": {},
     "output_type": "execute_result"
    }
   ],
   "source": [
    "# столбцы можно переупорядочить, отобрав столбцы в нужном порядке. нет способа изменить порядок столбцов на месте\n",
    "# возвращаем новый объект DataFrame со столбцами в обратном порядке\n",
    "reversed_column_names = sp500.columns[::-1]\n",
    "sp500[reversed_column_names][:5]"
   ]
  },
  {
   "cell_type": "markdown",
   "id": "418091e3",
   "metadata": {},
   "source": [
    "__Замена содержимого столбца__"
   ]
  },
  {
   "cell_type": "code",
   "execution_count": 16,
   "id": "5033649b",
   "metadata": {},
   "outputs": [
    {
     "data": {
      "text/plain": [
       "                        Sector  Price  BookValue\n",
       "Symbol                                          \n",
       "MMM                Industrials  141.0     26.668\n",
       "ABT                Health Care   40.0     15.573\n",
       "ABBV               Health Care   54.0      2.954\n",
       "ACN     Information Technology   80.0      8.326\n",
       "ACE                 Financials  103.0     86.897"
      ]
     },
     "execution_count": 16,
     "metadata": {},
     "output_type": "execute_result"
    }
   ],
   "source": [
    "# содержимое объекта DataFrame можно заменить, присвоив новую серию существующему столбцу с помощью оператора []\n",
    "# Следущий програмный код демонстрирует замену столбца Price на столбец Price из DataFrame rounded_price\n",
    "# операция выполняется на месте, поэтому создадим копию\n",
    "copy = sp500.copy()\n",
    "# заменяем данные\n",
    "copy.Price = rounded_price.Price\n",
    "copy[:5]"
   ]
  },
  {
   "cell_type": "code",
   "execution_count": 17,
   "id": "5e1fbcd6",
   "metadata": {},
   "outputs": [
    {
     "data": {
      "text/plain": [
       "                        Sector  Price  BookValue\n",
       "Symbol                                          \n",
       "MMM                Industrials  141.0     26.668\n",
       "ABT                Health Care   40.0     15.573\n",
       "ABBV               Health Care   54.0      2.954\n",
       "ACN     Information Technology   80.0      8.326\n",
       "ACE                 Financials  103.0     86.897"
      ]
     },
     "execution_count": 17,
     "metadata": {},
     "output_type": "execute_result"
    }
   ],
   "source": [
    "# кроме того, значения столбца можно заменить (на месте) с помощью среза\n",
    "# создадим копию\n",
    "copy = sp500.copy()\n",
    "# заменяем данные в столбце Price округленными значениями \n",
    "copy.loc[:, 'Price'] = rounded_price.Price\n",
    "copy[:5]"
   ]
  },
  {
   "cell_type": "markdown",
   "id": "110c1f44",
   "metadata": {},
   "source": [
    "__Удаление столбцов__"
   ]
  },
  {
   "cell_type": "code",
   "execution_count": 18,
   "id": "a76e53db",
   "metadata": {},
   "outputs": [],
   "source": [
    "# Удалить столбцы из объектов DataFrame можно следующими способами:\n",
    "# del просто удаляет серию из объекта (на месте)\n",
    "# метод .pop() удаляет и возвращает в результате серию (на месте)\n",
    "# метод .drop(labels, axis=1) возвращает новый датафрейм с удаленным столбцом (исходный объект DatFrame остается) "
   ]
  },
  {
   "cell_type": "code",
   "execution_count": 19,
   "id": "af388138",
   "metadata": {},
   "outputs": [
    {
     "data": {
      "text/plain": [
       "                        Sector   Price\n",
       "Symbol                                \n",
       "MMM                Industrials  141.14\n",
       "ABT                Health Care   39.60\n",
       "ABBV               Health Care   53.95\n",
       "ACN     Information Technology   79.79\n",
       "ACE                 Financials  102.91"
      ]
     },
     "execution_count": 19,
     "metadata": {},
     "output_type": "execute_result"
    }
   ],
   "source": [
    "# пример использования del для удаления столбца\n",
    "# создаем копию т.к. операция выполняется на месте\n",
    "copy = sp500.copy()\n",
    "del copy['BookValue']\n",
    "copy.head(5)"
   ]
  },
  {
   "cell_type": "code",
   "execution_count": 20,
   "id": "530adf1c",
   "metadata": {},
   "outputs": [
    {
     "data": {
      "text/plain": [
       "Symbol\n",
       "MMM                Industrials\n",
       "ABT                Health Care\n",
       "ABBV               Health Care\n",
       "ACN     Information Technology\n",
       "ACE                 Financials\n",
       "Name: Sector, dtype: object"
      ]
     },
     "execution_count": 20,
     "metadata": {},
     "output_type": "execute_result"
    }
   ],
   "source": [
    "# пример использования pop для удаления столбца\n",
    "#  создаем копию т.к. операция выполняется на месте\n",
    "copy = sp500.copy()\n",
    "popped = copy.pop('Sector')\n",
    "popped[:5]"
   ]
  },
  {
   "cell_type": "code",
   "execution_count": 21,
   "id": "e373568b",
   "metadata": {},
   "outputs": [
    {
     "data": {
      "text/plain": [
       "         Price  BookValue\n",
       "Symbol                   \n",
       "MMM     141.14     26.668\n",
       "ABT      39.60     15.573\n",
       "ABBV     53.95      2.954\n",
       "ACN      79.79      8.326\n",
       "ACE     102.91     86.897"
      ]
     },
     "execution_count": 21,
     "metadata": {},
     "output_type": "execute_result"
    }
   ],
   "source": [
    "# пример использования drop для удаления столбца\n",
    "# делаем копию\n",
    "copy = sp500.copy()\n",
    "afterdrop = copy.drop(['Sector'], axis = 1)\n",
    "afterdrop.head(5)"
   ]
  },
  {
   "cell_type": "markdown",
   "id": "b5e4cf1e",
   "metadata": {},
   "source": [
    "__Присоединение новых строк__"
   ]
  },
  {
   "cell_type": "code",
   "execution_count": 22,
   "id": "2eb50dab",
   "metadata": {},
   "outputs": [
    {
     "name": "stderr",
     "output_type": "stream",
     "text": [
      "C:\\Users\\DS\\AppData\\Local\\Temp\\ipykernel_10916\\2550289244.py:10: FutureWarning: The frame.append method is deprecated and will be removed from pandas in a future version. Use pandas.concat instead.\n",
      "  appended = df1.append(df2)\n"
     ]
    },
    {
     "data": {
      "text/plain": [
       "             Sector   Price  BookValue\n",
       "Symbol                                \n",
       "MMM     Industrials  141.14     26.668\n",
       "ABT     Health Care   39.60     15.573\n",
       "ABBV    Health Care   53.95      2.954\n",
       "A       Health Care   56.18     16.928\n",
       "GAS       Utilities   52.98     32.462\n",
       "ABBV    Health Care   53.95      2.954"
      ]
     },
     "execution_count": 22,
     "metadata": {},
     "output_type": "execute_result"
    }
   ],
   "source": [
    "# присоединение новых строк выполняется с помощью метода append()\n",
    "# Процесс присоединения возвращает новый объект DataFrame, в который сначала добавляются строки из исходного датафрейма\n",
    "# а к ним добавляются строки из второго датафрейма\n",
    "\n",
    "# копируем первые три строки датафрейма sp500\n",
    "df1 = sp500.iloc[:3].copy()\n",
    "# копируем строки в позициях 10, 11, 2\n",
    "df2 = sp500.iloc[[10, 11, 2]]\n",
    "# присоединяем df1 к df2\n",
    "appended = df1.append(df2)\n",
    "appended"
   ]
  },
  {
   "cell_type": "code",
   "execution_count": 24,
   "id": "520d3153",
   "metadata": {},
   "outputs": [
    {
     "data": {
      "text/plain": [
       "        PER\n",
       "Symbol     \n",
       "MMM     0.0\n",
       "ABT     0.0\n",
       "ABBV    0.0"
      ]
     },
     "execution_count": 24,
     "metadata": {},
     "output_type": "execute_result"
    }
   ],
   "source": [
    "# Набор столбцов используемых в ДФ, использующихся в ходе присоеденения, не обязательно должен быть одинаковым\n",
    "# отсутствующий столбец будет содержать значения Nan \n",
    "# датафрейм df3 использует индекс датафрейма df1 и у него один столбец PER\n",
    "\n",
    "df3 = pd.DataFrame(0.0, index=df1.index, columns=['PER'])\n",
    "df3"
   ]
  },
  {
   "cell_type": "code",
   "execution_count": 25,
   "id": "4043356c",
   "metadata": {},
   "outputs": [
    {
     "name": "stderr",
     "output_type": "stream",
     "text": [
      "C:\\Users\\DS\\AppData\\Local\\Temp\\ipykernel_10916\\3592152212.py:2: FutureWarning: The frame.append method is deprecated and will be removed from pandas in a future version. Use pandas.concat instead.\n",
      "  df1.append(df3, sort = True)\n"
     ]
    },
    {
     "data": {
      "text/plain": [
       "        BookValue  PER   Price       Sector\n",
       "Symbol                                     \n",
       "MMM        26.668  NaN  141.14  Industrials\n",
       "ABT        15.573  NaN   39.60  Health Care\n",
       "ABBV        2.954  NaN   53.95  Health Care\n",
       "MMM           NaN  0.0     NaN          NaN\n",
       "ABT           NaN  0.0     NaN          NaN\n",
       "ABBV          NaN  0.0     NaN          NaN"
      ]
     },
     "execution_count": 25,
     "metadata": {},
     "output_type": "execute_result"
    }
   ],
   "source": [
    "# присоединяем к df1 df3\n",
    "df1.append(df3, sort = True) # sort = True - сортировка в алфавитном порядке"
   ]
  },
  {
   "cell_type": "code",
   "execution_count": 26,
   "id": "8aa10744",
   "metadata": {},
   "outputs": [
    {
     "name": "stderr",
     "output_type": "stream",
     "text": [
      "C:\\Users\\DS\\AppData\\Local\\Temp\\ipykernel_10916\\269833635.py:2: FutureWarning: The frame.append method is deprecated and will be removed from pandas in a future version. Use pandas.concat instead.\n",
      "  df1.append(df3, ignore_index = True, sort = True)\n"
     ]
    },
    {
     "data": {
      "text/plain": [
       "   BookValue  PER   Price       Sector\n",
       "0     26.668  NaN  141.14  Industrials\n",
       "1     15.573  NaN   39.60  Health Care\n",
       "2      2.954  NaN   53.95  Health Care\n",
       "3        NaN  0.0     NaN          NaN\n",
       "4        NaN  0.0     NaN          NaN\n",
       "5        NaN  0.0     NaN          NaN"
      ]
     },
     "execution_count": 26,
     "metadata": {},
     "output_type": "execute_result"
    }
   ],
   "source": [
    "# игнорируем метки индекса, создаем индекс по умолчанию\n",
    "df1.append(df3, ignore_index = True, sort = True)"
   ]
  },
  {
   "cell_type": "markdown",
   "id": "08930073",
   "metadata": {},
   "source": [
    "__Конкатенация строк__"
   ]
  },
  {
   "cell_type": "code",
   "execution_count": 27,
   "id": "397f4b2a",
   "metadata": {},
   "outputs": [
    {
     "data": {
      "text/plain": [
       "             Sector   Price  BookValue\n",
       "Symbol                                \n",
       "MMM     Industrials  141.14     26.668\n",
       "ABT     Health Care   39.60     15.573\n",
       "ABBV    Health Care   53.95      2.954\n",
       "A       Health Care   56.18     16.928\n",
       "GAS       Utilities   52.98     32.462\n",
       "ABBV    Health Care   53.95      2.954"
      ]
     },
     "execution_count": 27,
     "metadata": {},
     "output_type": "execute_result"
    }
   ],
   "source": [
    "# Строки из нескольких датафреймов можно можно конкатенировать друг с другом с помощью функции pd.concat() и параметра axis=0\n",
    "\n",
    "# копируем первые три строки датафрейма sp500\n",
    "df1 = sp500.iloc[:3].copy()\n",
    "# копируем строки в позициях 10, 11, 2\n",
    "df2 = sp500.iloc[[10, 11, 2]]\n",
    "# конкатенируем , передаем в качестве списка\n",
    "pd.concat([df1, df2])"
   ]
  },
  {
   "cell_type": "code",
   "execution_count": 30,
   "id": "a70ef4ed",
   "metadata": {},
   "outputs": [
    {
     "data": {
      "text/plain": [
       "             Sector  Price  BookValue  Foo\n",
       "Symbol                                    \n",
       "A       Health Care  56.18     16.928    0\n",
       "GAS       Utilities  52.98     32.462    0\n",
       "ABBV    Health Care  53.95      2.954    0"
      ]
     },
     "execution_count": 30,
     "metadata": {},
     "output_type": "execute_result"
    }
   ],
   "source": [
    "# Если набор столбцов в конкатенируемых датафреймах не был идентичным, то столбец, который отсутствовал в одном из дата фреймов,\n",
    "# для соответствующих наблюдений итогового датафрейма будет содержать значения Nan \n",
    "\n",
    "# копируем df2\n",
    "df2_2 = df2.copy()\n",
    "# добавляем в df2_2 столбец которого нет в df1\n",
    "df2_2.insert(3, 'Foo', pd.Series(0, index = df2.index)) # параметр 3 отвечает за место нового столбца\n",
    "df2_2"
   ]
  },
  {
   "cell_type": "code",
   "execution_count": 31,
   "id": "bbe8208a",
   "metadata": {},
   "outputs": [
    {
     "data": {
      "text/plain": [
       "        BookValue  Foo   Price       Sector\n",
       "Symbol                                     \n",
       "MMM        26.668  NaN  141.14  Industrials\n",
       "ABT        15.573  NaN   39.60  Health Care\n",
       "ABBV        2.954  NaN   53.95  Health Care\n",
       "A          16.928  0.0   56.18  Health Care\n",
       "GAS        32.462  0.0   52.98    Utilities\n",
       "ABBV        2.954  0.0   53.95  Health Care"
      ]
     },
     "execution_count": 31,
     "metadata": {},
     "output_type": "execute_result"
    }
   ],
   "source": [
    "# теперь конкатенируем\n",
    "pd.concat([df1, df2_2], sort = True)\n"
   ]
  },
  {
   "cell_type": "code",
   "execution_count": 33,
   "id": "1c4b1b5a",
   "metadata": {},
   "outputs": [
    {
     "data": {
      "text/plain": [
       "            BookValue  Foo   Price       Sector\n",
       "    Symbol                                     \n",
       "df1 MMM        26.668  NaN  141.14  Industrials\n",
       "    ABT        15.573  NaN   39.60  Health Care\n",
       "    ABBV        2.954  NaN   53.95  Health Care\n",
       "df2 A          16.928  0.0   56.18  Health Care\n",
       "    GAS        32.462  0.0   52.98    Utilities\n",
       "    ABBV        2.954  0.0   53.95  Health Care"
      ]
     },
     "execution_count": 33,
     "metadata": {},
     "output_type": "execute_result"
    }
   ],
   "source": [
    "# Если строки копируются из исходных объектов на основе одних и тех же меток, то в результате можно получить дублирующиеся\n",
    "# метки индекса. Параметр keys позволяет определить, к какому датафрейму относится набор строк\n",
    "\n",
    "# задаем ключи\n",
    "r = pd.concat([df1, df2_2], keys = ['df1', 'df2'], sort = True)\n",
    "r"
   ]
  },
  {
   "cell_type": "markdown",
   "id": "4da9cb84",
   "metadata": {},
   "source": [
    "__Добавление и замена строк за счет расширения датафрейма__"
   ]
  },
  {
   "cell_type": "code",
   "execution_count": 34,
   "id": "07e6b8e0",
   "metadata": {},
   "outputs": [
    {
     "data": {
      "text/plain": [
       "             Sector   Price  BookValue\n",
       "Symbol                                \n",
       "MMM     Industrials  141.14     26.668\n",
       "ABT     Health Care   39.60     15.573\n",
       "ABBV    Health Care   53.95      2.954\n",
       "FOO      the sector  100.00    110.000"
      ]
     },
     "execution_count": 34,
     "metadata": {},
     "output_type": "execute_result"
    }
   ],
   "source": [
    "# Добавлять строки можно с помощью свойства .loc. С помощью свойства .loc мы задаем метку индекса, где должна быть размещена \n",
    "# строка? если метка не существует, значения добавляются в датафрейм с помощью заданной метки индекса. Если метка уже существует\n",
    "# значения в указанной строке заменяются\n",
    "\n",
    "# создаем срез и копируем его \n",
    "ss = sp500[:3].copy()\n",
    "# создаем новую строку с меткой индекса FOO и присваиваем столбцам некоторые значения с помощью списка\n",
    "ss.loc['FOO'] = ['the sector', 100, 110]\n",
    "ss"
   ]
  },
  {
   "cell_type": "markdown",
   "id": "383de2d2",
   "metadata": {},
   "source": [
    "__Удаление строк с помощью метода .drop()__"
   ]
  },
  {
   "cell_type": "code",
   "execution_count": 36,
   "id": "396b0865",
   "metadata": {},
   "outputs": [
    {
     "data": {
      "text/plain": [
       "                        Sector   Price  BookValue\n",
       "Symbol                                           \n",
       "MMM                Industrials  141.14     26.668\n",
       "ABT                Health Care   39.60     15.573\n",
       "ABBV               Health Care   53.95      2.954\n",
       "ACN     Information Technology   79.79      8.326\n",
       "ACE                 Financials  102.91     86.897"
      ]
     },
     "execution_count": 36,
     "metadata": {},
     "output_type": "execute_result"
    }
   ],
   "source": [
    "# получаем срез первых 5 строк\n",
    "ss = sp500[:5]\n",
    "ss"
   ]
  },
  {
   "cell_type": "code",
   "execution_count": 38,
   "id": "fbc99314",
   "metadata": {},
   "outputs": [
    {
     "data": {
      "text/plain": [
       "             Sector   Price  BookValue\n",
       "Symbol                                \n",
       "MMM     Industrials  141.14     26.668\n",
       "ABBV    Health Care   53.95      2.954\n",
       "ACE      Financials  102.91     86.897"
      ]
     },
     "execution_count": 38,
     "metadata": {},
     "output_type": "execute_result"
    }
   ],
   "source": [
    "# удаляем строки с метками ABT и ACN\n",
    "afterdrop = ss.drop(['ABT', 'ACN'])\n",
    "afterdrop[:5]"
   ]
  },
  {
   "cell_type": "markdown",
   "id": "41f978ec",
   "metadata": {},
   "source": [
    "__Удаление строк с помощью логического отбора__"
   ]
  },
  {
   "cell_type": "code",
   "execution_count": 41,
   "id": "5d2874d8",
   "metadata": {},
   "outputs": [
    {
     "data": {
      "text/plain": [
       "(500, 10)"
      ]
     },
     "execution_count": 41,
     "metadata": {},
     "output_type": "execute_result"
    }
   ],
   "source": [
    "# определяем строки где Price > 300\n",
    "selection = sp500.Price > 300\n",
    "(len(selection), selection.sum())"
   ]
  },
  {
   "cell_type": "code",
   "execution_count": 42,
   "id": "b6be03f1",
   "metadata": {},
   "outputs": [
    {
     "data": {
      "text/plain": [
       "                        Sector   Price  BookValue\n",
       "Symbol                                           \n",
       "MMM                Industrials  141.14     26.668\n",
       "ABT                Health Care   39.60     15.573\n",
       "ABBV               Health Care   53.95      2.954\n",
       "ACN     Information Technology   79.79      8.326\n",
       "ACE                 Financials  102.91     86.897\n",
       "...                        ...     ...        ...\n",
       "YHOO    Information Technology   35.02     12.768\n",
       "YUM     Consumer Discretionary   74.77      5.147\n",
       "ZMH                Health Care  101.84     37.181\n",
       "ZION                Financials   28.43     30.191\n",
       "ZTS                Health Care   30.53      2.150\n",
       "\n",
       "[490 rows x 3 columns]"
      ]
     },
     "execution_count": 42,
     "metadata": {},
     "output_type": "execute_result"
    }
   ],
   "source": [
    "# для отбора применим побитовое отрицание к выражению selection\n",
    "price_less_than_300 = sp500[~selection]\n",
    "price_less_than_300"
   ]
  },
  {
   "cell_type": "markdown",
   "id": "cb946bb7",
   "metadata": {},
   "source": [
    "__Удаление строк с помощью среза__"
   ]
  },
  {
   "cell_type": "code",
   "execution_count": 43,
   "id": "8141e3e9",
   "metadata": {},
   "outputs": [
    {
     "data": {
      "text/plain": [
       "             Sector   Price  BookValue\n",
       "Symbol                                \n",
       "MMM     Industrials  141.14     26.668\n",
       "ABT     Health Care   39.60     15.573\n",
       "ABBV    Health Care   53.95      2.954"
      ]
     },
     "execution_count": 43,
     "metadata": {},
     "output_type": "execute_result"
    }
   ],
   "source": [
    "# мы хотим удалить все строки кроме первых 3\n",
    "only_first_three = sp500[:3]\n",
    "only_first_three"
   ]
  },
  {
   "cell_type": "code",
   "execution_count": 44,
   "id": "4f3b8bd1",
   "metadata": {},
   "outputs": [
    {
     "data": {
      "text/plain": [
       "             Sector   Price  BookValue\n",
       "Symbol                                \n",
       "MMM     Industrials  141.14     26.668\n",
       "ABT     Health Care   39.60     15.573\n",
       "ABBV    Health Care   53.95      2.954"
      ]
     },
     "execution_count": 44,
     "metadata": {},
     "output_type": "execute_result"
    }
   ],
   "source": [
    "# Т.к. это срез, он связан с исходным датафреймом, строки не удалены из sp500, и изменения этих строк исзменят датафрейм sp500\n",
    "# Чтобы предотвратить это, сделайте копию среза, которая приведет к созданию нового датафрейма с указанными строками\n",
    "only_first_three = sp500[:3].copy()\n",
    "only_first_three"
   ]
  }
 ],
 "metadata": {
  "kernelspec": {
   "display_name": "Python 3 (ipykernel)",
   "language": "python",
   "name": "python3"
  },
  "language_info": {
   "codemirror_mode": {
    "name": "ipython",
    "version": 3
   },
   "file_extension": ".py",
   "mimetype": "text/x-python",
   "name": "python",
   "nbconvert_exporter": "python",
   "pygments_lexer": "ipython3",
   "version": "3.10.9"
  }
 },
 "nbformat": 4,
 "nbformat_minor": 5
}
