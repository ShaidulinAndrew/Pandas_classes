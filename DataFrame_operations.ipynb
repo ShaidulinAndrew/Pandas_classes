{
 "cells": [
  {
   "cell_type": "code",
   "execution_count": 1,
   "id": "0e2460ca",
   "metadata": {},
   "outputs": [],
   "source": [
    "# импортируем библиотеки numpy и pandas\n",
    "import numpy as np\n",
    "import pandas as pd\n",
    "\n",
    "# импортируем библиотеку datatime для работы с датами\n",
    "import datetime\n",
    "from datetime import datetime, date\n",
    "\n",
    "# задаем некоторые опции библиотеки pandas, которые настраивают вывод\n",
    "pd.set_option('display.notebook_repr_html', False)     # задаем вывод в виде текста, а не HTML\n",
    "pd.set_option('display.max_columns', 8)                # устанавливаем отображение максимального количества стобцов\n",
    "pd.set_option('display.max_rows', 10)                  # устанавливаем отображение максимального количества строк\n",
    "pd.set_option('display.width', 80)                     # устанавливаеv максимальную ширину отображения в символах\n",
    "\n",
    "# импортируем библиотеку matplotlib для построения графиков\n",
    "import matplotlib.pyplot as plt \n",
    "%matplotlib inline"
   ]
  },
  {
   "cell_type": "code",
   "execution_count": 2,
   "id": "5da55ff4",
   "metadata": {},
   "outputs": [
    {
     "data": {
      "text/plain": [
       "                        Sector   Price  Book Value\n",
       "Symbol                                            \n",
       "MMM                Industrials  141.14      26.668\n",
       "ABT                Health Care   39.60      15.573\n",
       "ABBV               Health Care   53.95       2.954\n",
       "ACN     Information Technology   79.79       8.326\n",
       "ACE                 Financials  102.91      86.897"
      ]
     },
     "execution_count": 2,
     "metadata": {},
     "output_type": "execute_result"
    }
   ],
   "source": [
    "# считываем из файла данные и выводим первые 5 строк\n",
    "sp500 = pd.read_csv(\"./sp500.csv\",\n",
    "                   index_col = 'Symbol',     # используем столбец Symbol в качестве индекса\n",
    "                   usecols = [0, 2, 3, 7])   # и считываем только те столбцы у которых позиции 0, 2, 3, 7\n",
    "sp500.head()\n"
   ]
  },
  {
   "cell_type": "markdown",
   "id": "5c2bff42",
   "metadata": {},
   "source": [
    "__Переименование столбцов__\n"
   ]
  },
  {
   "cell_type": "code",
   "execution_count": 3,
   "id": "120d6a0b",
   "metadata": {},
   "outputs": [
    {
     "data": {
      "text/plain": [
       "             Sector   Price  BookValue\n",
       "Symbol                                \n",
       "MMM     Industrials  141.14     26.668\n",
       "ABT     Health Care   39.60     15.573"
      ]
     },
     "execution_count": 3,
     "metadata": {},
     "output_type": "execute_result"
    }
   ],
   "source": [
    "# переименовываем столбец Book Value так, что бы удалить пробел с помощью метода .rename()\n",
    "# програмный код возвращает копию датафрейма с переименованным столбцом\n",
    "newSP500 = sp500.rename(columns = {'Book Value': 'BookValue'})\n",
    "newSP500.head(2)"
   ]
  },
  {
   "cell_type": "code",
   "execution_count": 4,
   "id": "d2eeafe7",
   "metadata": {},
   "outputs": [
    {
     "data": {
      "text/plain": [
       "Index(['Sector', 'Price', 'Book Value'], dtype='object')"
      ]
     },
     "execution_count": 4,
     "metadata": {},
     "output_type": "execute_result"
    }
   ],
   "source": [
    "# проверяем, не изменились ли имена столбцов в исходном DataFrame\n",
    "sp500.columns"
   ]
  },
  {
   "cell_type": "code",
   "execution_count": 5,
   "id": "89968419",
   "metadata": {},
   "outputs": [
    {
     "data": {
      "text/plain": [
       "Index(['Sector', 'Price', 'BookValue'], dtype='object')"
      ]
     },
     "execution_count": 5,
     "metadata": {},
     "output_type": "execute_result"
    }
   ],
   "source": [
    "# чтобы изменить датафрейм на месте без создания копии, можно воспользоваться параметром inplace=True\n",
    "sp500.rename(columns = \n",
    "            {'Book Value': 'BookValue'},\n",
    "            inplace = True)\n",
    "sp500.columns"
   ]
  },
  {
   "cell_type": "code",
   "execution_count": 6,
   "id": "19a25f63",
   "metadata": {},
   "outputs": [
    {
     "data": {
      "text/plain": [
       "Symbol\n",
       "MMM     26.668\n",
       "ABT     15.573\n",
       "ABBV     2.954\n",
       "ACN      8.326\n",
       "ACE     86.897\n",
       "Name: BookValue, dtype: float64"
      ]
     },
     "execution_count": 6,
     "metadata": {},
     "output_type": "execute_result"
    }
   ],
   "source": [
    "# чтобы взглянуть на данные в столбце, можно воспользоваться свойством .BookValue\n",
    "sp500.BookValue[:5]"
   ]
  },
  {
   "cell_type": "markdown",
   "id": "d176f88b",
   "metadata": {},
   "source": [
    "__Добавление новых столбцов с помощью оператора [] и метода .insert()__\n"
   ]
  },
  {
   "cell_type": "code",
   "execution_count": 7,
   "id": "cc590e46",
   "metadata": {},
   "outputs": [
    {
     "data": {
      "text/plain": [
       "                        Sector   Price  BookValue  RoundedPrice\n",
       "Symbol                                                         \n",
       "MMM                Industrials  141.14     26.668         141.0\n",
       "ABT                Health Care   39.60     15.573          40.0\n",
       "ABBV               Health Care   53.95      2.954          54.0\n",
       "ACN     Information Technology   79.79      8.326          80.0\n",
       "ACE                 Financials  102.91     86.897         103.0"
      ]
     },
     "execution_count": 7,
     "metadata": {},
     "output_type": "execute_result"
    }
   ],
   "source": [
    "# добавить новые столбцы в датафрейм можно с помощью оператора []. Столбец добавиться в конце\n",
    "# создаем копию, чтобы исходные данные остались в неизменном виде\n",
    "sp500_copy = sp500.copy() # метод .copy\n",
    "# добавляем столбец\n",
    "sp500_copy['RoundedPrice'] = sp500.Price.round()\n",
    "sp500_copy[:5]"
   ]
  },
  {
   "cell_type": "code",
   "execution_count": 8,
   "id": "e8672271",
   "metadata": {},
   "outputs": [
    {
     "data": {
      "text/plain": [
       "                        Sector  RoundedPrice   Price  BookValue\n",
       "Symbol                                                         \n",
       "MMM                Industrials         141.0  141.14     26.668\n",
       "ABT                Health Care          40.0   39.60     15.573\n",
       "ABBV               Health Care          54.0   53.95      2.954\n",
       "ACN     Information Technology          80.0   79.79      8.326\n",
       "ACE                 Financials         103.0  102.91     86.897"
      ]
     },
     "execution_count": 8,
     "metadata": {},
     "output_type": "execute_result"
    }
   ],
   "source": [
    "# что бы добавить новый столбец в определенную позицию, нужно воспользоваться методом .insert()\n",
    "# создаем копию, чтобы исходные данные остались в неизменном виде\n",
    "copy = sp500.copy()\n",
    "# вставляем столбец RoundedPrice в качестве второго столбца\n",
    "copy.insert(1, 'RoundedPrice', sp500.Price.round())\n",
    "copy[:5]"
   ]
  },
  {
   "cell_type": "markdown",
   "id": "43bb20c4",
   "metadata": {},
   "source": [
    "__Добавление столбцов за счет расширения датафрейма__\n"
   ]
  },
  {
   "cell_type": "code",
   "execution_count": 9,
   "id": "f3d3b334",
   "metadata": {},
   "outputs": [
    {
     "data": {
      "text/plain": [
       "             Sector   Price  BookValue  PER\n",
       "Symbol                                     \n",
       "MMM     Industrials  141.14     26.668    0\n",
       "ABT     Health Care   39.60     15.573    0\n",
       "ABBV    Health Care   53.95      2.954    0"
      ]
     },
     "execution_count": 9,
     "metadata": {},
     "output_type": "execute_result"
    }
   ],
   "source": [
    "# Стобец можно добавить с помощью свойства .loc и среза\n",
    "# Создаем копию поднабора/среза\n",
    "ss = sp500[:3].copy()\n",
    "# добавлем столбец с нулевыми значениями\n",
    "ss.loc[:, 'PER'] = 0\n",
    "ss"
   ]
  },
  {
   "cell_type": "code",
   "execution_count": 10,
   "id": "a146ed22",
   "metadata": {},
   "outputs": [
    {
     "data": {
      "text/plain": [
       "             Sector   Price  BookValue       PER\n",
       "Symbol                                          \n",
       "MMM     Industrials  141.14     26.668  0.469112\n",
       "ABT     Health Care   39.60     15.573 -0.282863\n",
       "ABBV    Health Care   53.95      2.954 -1.509059"
      ]
     },
     "execution_count": 10,
     "metadata": {},
     "output_type": "execute_result"
    }
   ],
   "source": [
    "# можно добавить серию с уже существующими данными\n",
    "# Создаем копию поднабора/среза\n",
    "ss = sp500[:3].copy()\n",
    "# добавляем новый столбец со случайно сгенерированными значениями\n",
    "np.random.seed(123456)\n",
    "ss.loc[:, 'PER'] = pd.Series(np.random.normal(size = 3), index = ss.index)\n",
    "ss"
   ]
  },
  {
   "cell_type": "markdown",
   "id": "9c2da663",
   "metadata": {},
   "source": [
    "__Добавление столбцов с помощью конкатенации__\n"
   ]
  },
  {
   "cell_type": "code",
   "execution_count": 11,
   "id": "718b88b5",
   "metadata": {},
   "outputs": [
    {
     "data": {
      "text/plain": [
       "                        Sector   Price  BookValue  RoundedPrice\n",
       "Symbol                                                         \n",
       "MMM                Industrials  141.14     26.668         141.0\n",
       "ABT                Health Care   39.60     15.573          40.0\n",
       "ABBV               Health Care   53.95      2.954          54.0\n",
       "ACN     Information Technology   79.79      8.326          80.0\n",
       "ACE                 Financials  102.91     86.897         103.0"
      ]
     },
     "execution_count": 11,
     "metadata": {},
     "output_type": "execute_result"
    }
   ],
   "source": [
    "# и оператор [] и метод .insert модифицируют датафрейм на месте. Если нужен новый датафрейм с дополнительными столбцами \n",
    "# оставив исходный датафрейм без изменений), можно воспользоваться функцией pd.concat()\n",
    "# параметр функции pd.concat() axis = 1 - конкатенирует по оси столбцов, axis = 0 - конкатенирует по оси строк\n",
    "\n",
    "# создаем объект DataFrame с единственным столбцом RoundedPrice\n",
    "rounded_price = pd.DataFrame({'RoundedPrice':\n",
    "                              sp500.Price.round()})\n",
    "# конкатенируем по оси столбцов \n",
    "concatenated = pd.concat([sp500, rounded_price], axis = 1)\n",
    "concatenated [:5]"
   ]
  },
  {
   "cell_type": "code",
   "execution_count": 12,
   "id": "f2ceec19",
   "metadata": {},
   "outputs": [
    {
     "data": {
      "text/plain": [
       "        Price\n",
       "Symbol       \n",
       "MMM     141.0\n",
       "ABT      40.0\n",
       "ABBV     54.0\n",
       "ACN      80.0\n",
       "ACE     103.0"
      ]
     },
     "execution_count": 12,
     "metadata": {},
     "output_type": "execute_result"
    }
   ],
   "source": [
    "# при конкатенации возможно дублирование имен столбцов\n",
    "# создаем объект DataFrame с единственным столбцом Price\n",
    "rounded_price = pd.DataFrame({'Price': sp500.Price.round()})\n",
    "rounded_price.head(5)"
   ]
  },
  {
   "cell_type": "code",
   "execution_count": 13,
   "id": "8b144625",
   "metadata": {},
   "outputs": [
    {
     "data": {
      "text/plain": [
       "                        Sector   Price  BookValue  Price\n",
       "Symbol                                                  \n",
       "MMM                Industrials  141.14     26.668  141.0\n",
       "ABT                Health Care   39.60     15.573   40.0\n",
       "ABBV               Health Care   53.95      2.954   54.0\n",
       "ACN     Information Technology   79.79      8.326   80.0\n",
       "ACE                 Financials  102.91     86.897  103.0"
      ]
     },
     "execution_count": 13,
     "metadata": {},
     "output_type": "execute_result"
    }
   ],
   "source": [
    "# в результате конкатенации получаем дублирующиеся имена столбцов\n",
    "dups = pd.concat([sp500, rounded_price], axis = 1)\n",
    "dups.head(5)"
   ]
  },
  {
   "cell_type": "code",
   "execution_count": 14,
   "id": "e55e14d5",
   "metadata": {},
   "outputs": [
    {
     "data": {
      "text/plain": [
       "         Price  Price\n",
       "Symbol               \n",
       "MMM     141.14  141.0\n",
       "ABT      39.60   40.0\n",
       "ABBV     53.95   54.0\n",
       "ACN      79.79   80.0\n",
       "ACE     102.91  103.0"
      ]
     },
     "execution_count": 14,
     "metadata": {},
     "output_type": "execute_result"
    }
   ],
   "source": [
    "# с помощью свойства .Price можно извлечь оба столбца\n",
    "dups.Price[:5]"
   ]
  },
  {
   "cell_type": "markdown",
   "id": "1955d97f",
   "metadata": {},
   "source": [
    "__Переупорядочивание столбцов__"
   ]
  },
  {
   "cell_type": "code",
   "execution_count": 19,
   "id": "323d1ae9",
   "metadata": {},
   "outputs": [
    {
     "data": {
      "text/plain": [
       "        BookValue   Price                  Sector\n",
       "Symbol                                           \n",
       "MMM        26.668  141.14             Industrials\n",
       "ABT        15.573   39.60             Health Care\n",
       "ABBV        2.954   53.95             Health Care\n",
       "ACN         8.326   79.79  Information Technology\n",
       "ACE        86.897  102.91              Financials"
      ]
     },
     "execution_count": 19,
     "metadata": {},
     "output_type": "execute_result"
    }
   ],
   "source": [
    "# столбцы можно переупорядочить, отобрав столбцы в нужном порядке. нет способа изменить порядок столбцов на месте\n",
    "# возвращаем новый объект DataFrame со столбцами в обратном порядке\n",
    "reversed_column_names = sp500.columns[::-1]\n",
    "sp500[reversed_column_names][:5]"
   ]
  },
  {
   "cell_type": "markdown",
   "id": "418091e3",
   "metadata": {},
   "source": [
    "__Замена содержимого столбца__"
   ]
  },
  {
   "cell_type": "code",
   "execution_count": 20,
   "id": "5033649b",
   "metadata": {},
   "outputs": [
    {
     "data": {
      "text/plain": [
       "                        Sector  Price  BookValue\n",
       "Symbol                                          \n",
       "MMM                Industrials  141.0     26.668\n",
       "ABT                Health Care   40.0     15.573\n",
       "ABBV               Health Care   54.0      2.954\n",
       "ACN     Information Technology   80.0      8.326\n",
       "ACE                 Financials  103.0     86.897"
      ]
     },
     "execution_count": 20,
     "metadata": {},
     "output_type": "execute_result"
    }
   ],
   "source": [
    "# содержимое объекта DataFrame можно заменить, присвоив новую серию существующему столбцу с помощью оператора []\n",
    "# Следущий програмный код демонстрирует замену столбца Price на столбец Price из DataFrame rounded_price\n",
    "# операция выполняется на месте, поэтому создадим копию\n",
    "copy = sp500.copy()\n",
    "# заменяем данные\n",
    "copy.Price = rounded_price.Price\n",
    "copy[:5]"
   ]
  },
  {
   "cell_type": "code",
   "execution_count": 21,
   "id": "5e1fbcd6",
   "metadata": {},
   "outputs": [
    {
     "data": {
      "text/plain": [
       "                        Sector  Price  BookValue\n",
       "Symbol                                          \n",
       "MMM                Industrials  141.0     26.668\n",
       "ABT                Health Care   40.0     15.573\n",
       "ABBV               Health Care   54.0      2.954\n",
       "ACN     Information Technology   80.0      8.326\n",
       "ACE                 Financials  103.0     86.897"
      ]
     },
     "execution_count": 21,
     "metadata": {},
     "output_type": "execute_result"
    }
   ],
   "source": [
    "# кроме того, значения столбца можно заменить (на месте) с помощью среза\n",
    "# создадим копию\n",
    "copy = sp500.copy()\n",
    "# заменяем данные в столбце Price округленными значениями \n",
    "copy.loc[:, 'Price'] = rounded_price.Price\n",
    "copy[:5]"
   ]
  },
  {
   "cell_type": "markdown",
   "id": "110c1f44",
   "metadata": {},
   "source": [
    "__Удаление столбцов__"
   ]
  },
  {
   "cell_type": "code",
   "execution_count": null,
   "id": "a76e53db",
   "metadata": {},
   "outputs": [],
   "source": [
    "# Удалить столбцы из объектов DataFrame можно следующими способами:\n",
    "# del просто удаляет серию из объекта (на месте)\n",
    "# метод .pop() удаляет и возвращает в результате серию (на месте)\n",
    "# метод .drop(labels, axis=1) возвращает новый датафрейм с удаленным столбцом (исходный объект DatFrame остается) "
   ]
  },
  {
   "cell_type": "code",
   "execution_count": 23,
   "id": "af388138",
   "metadata": {},
   "outputs": [
    {
     "data": {
      "text/plain": [
       "                        Sector   Price\n",
       "Symbol                                \n",
       "MMM                Industrials  141.14\n",
       "ABT                Health Care   39.60\n",
       "ABBV               Health Care   53.95\n",
       "ACN     Information Technology   79.79\n",
       "ACE                 Financials  102.91"
      ]
     },
     "execution_count": 23,
     "metadata": {},
     "output_type": "execute_result"
    }
   ],
   "source": [
    "# пример использования del для удаления столбца\n",
    "# создаем копию т.к. операция выполняется на месте\n",
    "copy = sp500.copy()\n",
    "del copy['BookValue']\n",
    "copy.head(5)"
   ]
  },
  {
   "cell_type": "code",
   "execution_count": 24,
   "id": "530adf1c",
   "metadata": {},
   "outputs": [
    {
     "data": {
      "text/plain": [
       "Symbol\n",
       "MMM                Industrials\n",
       "ABT                Health Care\n",
       "ABBV               Health Care\n",
       "ACN     Information Technology\n",
       "ACE                 Financials\n",
       "Name: Sector, dtype: object"
      ]
     },
     "execution_count": 24,
     "metadata": {},
     "output_type": "execute_result"
    }
   ],
   "source": [
    "# пример использования pop для удаления столбца\n",
    "#  создаем копию т.к. операция выполняется на месте\n",
    "copy = sp500.copy()\n",
    "popped = copy.pop('Sector')\n",
    "popped[:5]"
   ]
  },
  {
   "cell_type": "code",
   "execution_count": 27,
   "id": "e373568b",
   "metadata": {},
   "outputs": [
    {
     "data": {
      "text/plain": [
       "         Price  BookValue\n",
       "Symbol                   \n",
       "MMM     141.14     26.668\n",
       "ABT      39.60     15.573\n",
       "ABBV     53.95      2.954\n",
       "ACN      79.79      8.326\n",
       "ACE     102.91     86.897"
      ]
     },
     "execution_count": 27,
     "metadata": {},
     "output_type": "execute_result"
    }
   ],
   "source": [
    "# пример использования drop для удаления столбца\n",
    "# делаем копию\n",
    "copy = sp500.copy()\n",
    "afterdrop = copy.drop(['Sector'], axis = 1)\n",
    "afterdrop.head(5)"
   ]
  },
  {
   "cell_type": "markdown",
   "id": "b5e4cf1e",
   "metadata": {},
   "source": [
    "__Присоединение новых строк__"
   ]
  }
 ],
 "metadata": {
  "kernelspec": {
   "display_name": "Python 3 (ipykernel)",
   "language": "python",
   "name": "python3"
  },
  "language_info": {
   "codemirror_mode": {
    "name": "ipython",
    "version": 3
   },
   "file_extension": ".py",
   "mimetype": "text/x-python",
   "name": "python",
   "nbconvert_exporter": "python",
   "pygments_lexer": "ipython3",
   "version": "3.10.9"
  }
 },
 "nbformat": 4,
 "nbformat_minor": 5
}
