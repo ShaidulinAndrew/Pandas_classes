{
 "cells": [
  {
   "cell_type": "code",
   "execution_count": 1,
   "id": "52144bb0",
   "metadata": {},
   "outputs": [],
   "source": [
    "# импортируем библиотеки numpy и pandas\n",
    "import numpy as np\n",
    "import pandas as pd\n",
    "\n",
    "# импортируем библиотеку datatime для работы с датами\n",
    "import datetime\n",
    "from datetime import datetime, date\n",
    "\n",
    "# задаем некоторые опции библиотеки pandas, которые настраивают вывод\n",
    "pd.set_option('display.notebook_repr_html', False)     # задаем вывод в виде текста, а не HTML\n",
    "pd.set_option('display.max_columns', 8)                # устанавливаем отображение максимального количества стобцов\n",
    "pd.set_option('display.max_rows', 10)                  # устанавливаем отображение максимального количества строк\n",
    "pd.set_option('display.width', 80)                     # устанавливаеv максимальную ширину отображения в символах\n",
    "\n",
    "# импортируем библиотеку matplotlib для построения графиков\n",
    "import matplotlib.pyplot as plt \n",
    "%matplotlib inline"
   ]
  },
  {
   "cell_type": "code",
   "execution_count": 2,
   "id": "0d1089eb",
   "metadata": {},
   "outputs": [
    {
     "data": {
      "text/plain": [
       "             Sector   Price  Book Value\n",
       "Symbol                                 \n",
       "MMM     Industrials  141.14      26.668\n",
       "ABT     Health Care   39.60      15.573"
      ]
     },
     "execution_count": 2,
     "metadata": {},
     "output_type": "execute_result"
    }
   ],
   "source": [
    "# считываем данные из csv\n",
    "sp500 = pd.read_csv('./sp500.csv', index_col = 'Symbol', usecols = [0, 2, 3, 7])\n",
    "sp500.head(2)"
   ]
  },
  {
   "cell_type": "code",
   "execution_count": 3,
   "id": "aaa2dd37",
   "metadata": {},
   "outputs": [
    {
     "data": {
      "text/plain": [
       "         Date   MSFT    AAPL\n",
       "0  2014-12-01  48.62  115.07\n",
       "1  2014-12-02  48.46  114.63"
      ]
     },
     "execution_count": 3,
     "metadata": {},
     "output_type": "execute_result"
    }
   ],
   "source": [
    "# считываем данные из csv\n",
    "omh = pd.read_csv('./omh.csv')\n",
    "omh.head(2)"
   ]
  },
  {
   "cell_type": "markdown",
   "id": "ed7f2d9b",
   "metadata": {},
   "source": [
    "__Выполнение арифметических операций над объектами DataFrame или Series__"
   ]
  },
  {
   "cell_type": "code",
   "execution_count": 4,
   "id": "862be2de",
   "metadata": {},
   "outputs": [
    {
     "data": {
      "text/plain": [
       "          A         B         C         D\n",
       "0  0.469112 -0.282863 -1.509059 -1.135632\n",
       "1  1.212112 -0.173215  0.119209 -1.044236\n",
       "2 -0.861849 -2.104569 -0.494929  1.071804\n",
       "3  0.721555 -0.706771 -1.039575  0.271860\n",
       "4 -0.424972  0.567020  0.276232 -1.087401"
      ]
     },
     "execution_count": 4,
     "metadata": {},
     "output_type": "execute_result"
    }
   ],
   "source": [
    "# создаем объект DataFrame\n",
    "np.random.seed(123456)\n",
    "df = pd.DataFrame(np.random.randn(5, 4), columns = ['A', 'B', 'C', 'D'])\n",
    "df"
   ]
  },
  {
   "cell_type": "code",
   "execution_count": 5,
   "id": "27889ad9",
   "metadata": {},
   "outputs": [
    {
     "data": {
      "text/plain": [
       "          A         B         C         D\n",
       "0  0.938225 -0.565727 -3.018117 -2.271265\n",
       "1  2.424224 -0.346429  0.238417 -2.088472\n",
       "2 -1.723698 -4.209138 -0.989859  2.143608\n",
       "3  1.443110 -1.413542 -2.079150  0.543720\n",
       "4 -0.849945  1.134041  0.552464 -2.174801"
      ]
     },
     "execution_count": 5,
     "metadata": {},
     "output_type": "execute_result"
    }
   ],
   "source": [
    "# умножаем все на 2\n",
    "df * 2"
   ]
  },
  {
   "cell_type": "code",
   "execution_count": 6,
   "id": "3d169389",
   "metadata": {},
   "outputs": [
    {
     "data": {
      "text/plain": [
       "          A         B         C         D\n",
       "0  0.000000  0.000000  0.000000  0.000000\n",
       "1  0.743000  0.109649  1.628267  0.091396\n",
       "2 -1.330961 -1.821706  1.014129  2.207436\n",
       "3  0.252443 -0.423908  0.469484  1.407492\n",
       "4 -0.894085  0.849884  1.785291  0.048232"
      ]
     },
     "execution_count": 6,
     "metadata": {},
     "output_type": "execute_result"
    }
   ],
   "source": [
    "# Построчное транслирование. Извлекается первая строка и затем вычитается из каждой строки DataFrame, по сути \n",
    "# вычисляя разницу между значениием каждой строки и значением первой строки\n",
    "s = df.iloc[0]\n",
    "diff = df - s\n",
    "diff"
   ]
  },
  {
   "cell_type": "code",
   "execution_count": 7,
   "id": "b2c781bf",
   "metadata": {},
   "outputs": [
    {
     "data": {
      "text/plain": [
       "          A         B         C         D\n",
       "0  0.000000  0.000000  0.000000  0.000000\n",
       "1 -0.743000 -0.109649 -1.628267 -0.091396\n",
       "2  1.330961  1.821706 -1.014129 -2.207436\n",
       "3 -0.252443  0.423908 -0.469484 -1.407492\n",
       "4  0.894085 -0.849884 -1.785291 -0.048232"
      ]
     },
     "execution_count": 7,
     "metadata": {},
     "output_type": "execute_result"
    }
   ],
   "source": [
    "# вычитаем объект DataFrame из объекта Series\n",
    "diff2 = s - df\n",
    "diff2"
   ]
  },
  {
   "cell_type": "code",
   "execution_count": 8,
   "id": "7f18fb68",
   "metadata": {},
   "outputs": [
    {
     "data": {
      "text/plain": [
       "    A         B         C   D   E\n",
       "0 NaN -0.565727 -3.018117 NaN NaN\n",
       "1 NaN -0.456078 -1.389850 NaN NaN\n",
       "2 NaN -2.387433 -2.003988 NaN NaN\n",
       "3 NaN -0.989634 -2.548633 NaN NaN\n",
       "4 NaN  0.284157 -1.232826 NaN NaN"
      ]
     },
     "execution_count": 8,
     "metadata": {},
     "output_type": "execute_result"
    }
   ],
   "source": [
    "# если метка преставляющая столбец, отсутствует либо в объекте DataFrame либо в объекте Series, соответствующий \n",
    "# столбец будет заполнен значением Nan \n",
    "s2 = s[1:3]\n",
    "# добавляем E\n",
    "s2['E'] = 0\n",
    "# смотрим как производится выравнивание при операции\n",
    "df + s2"
   ]
  },
  {
   "cell_type": "code",
   "execution_count": 9,
   "id": "dfc8774d",
   "metadata": {},
   "outputs": [
    {
     "data": {
      "text/plain": [
       "          B         C\n",
       "1 -0.173215  0.119209\n",
       "2 -2.104569 -0.494929\n",
       "3 -0.706771 -1.039575"
      ]
     },
     "execution_count": 9,
     "metadata": {},
     "output_type": "execute_result"
    }
   ],
   "source": [
    "# При выполнении арифметических операций между двумя объектами DataFrame выравнивание происходит как по меткам\n",
    "# индексов так и по меткам столбцов\n",
    "# извлекаем строки в позициях с 1 по 3 и только столбцы В и С\n",
    "subframe = df[1:4][['B', 'C']]\n",
    "subframe"
   ]
  },
  {
   "cell_type": "code",
   "execution_count": 10,
   "id": "e148df54",
   "metadata": {},
   "outputs": [
    {
     "data": {
      "text/plain": [
       "    A    B    C   D\n",
       "0 NaN  NaN  NaN NaN\n",
       "1 NaN  0.0  0.0 NaN\n",
       "2 NaN  0.0  0.0 NaN\n",
       "3 NaN  0.0  0.0 NaN\n",
       "4 NaN  NaN  NaN NaN"
      ]
     },
     "execution_count": 10,
     "metadata": {},
     "output_type": "execute_result"
    }
   ],
   "source": [
    "# демонстрация того как происходит выравнивание при вичитании\n",
    "df - subframe"
   ]
  },
  {
   "cell_type": "code",
   "execution_count": 11,
   "id": "ef91f7d3",
   "metadata": {},
   "outputs": [
    {
     "data": {
      "text/plain": [
       "     A         B         C         D\n",
       "0  0.0 -0.751976 -1.978171 -1.604745\n",
       "1  0.0 -1.385327 -1.092903 -2.256348\n",
       "2  0.0 -1.242720  0.366920  1.933653\n",
       "3  0.0 -1.428326 -1.761130 -0.449695\n",
       "4  0.0  0.991993  0.701204 -0.662428"
      ]
     },
     "execution_count": 11,
     "metadata": {},
     "output_type": "execute_result"
    }
   ],
   "source": [
    "# вычтем значение столбца А из значений каждого столбца\n",
    "a_col = df['A']\n",
    "df.sub(a_col, axis = 0)"
   ]
  },
  {
   "cell_type": "markdown",
   "id": "90fd5731",
   "metadata": {},
   "source": [
    "__Вычисление количества значений__\n"
   ]
  },
  {
   "cell_type": "code",
   "execution_count": 12,
   "id": "21e9bcb8",
   "metadata": {},
   "outputs": [
    {
     "data": {
      "text/plain": [
       "4"
      ]
     },
     "execution_count": 12,
     "metadata": {},
     "output_type": "execute_result"
    }
   ],
   "source": [
    "# метод .count вычисляет количество элементов, отличных от Nan \n",
    "s = pd.Series(['a', 'a', 'b', 'c', np.NaN])\n",
    "s.count()"
   ]
  },
  {
   "cell_type": "markdown",
   "id": "3b99aaea",
   "metadata": {},
   "source": [
    "__Определение уникальных значений (и их встречаемости)__ "
   ]
  },
  {
   "cell_type": "code",
   "execution_count": 13,
   "id": "d44acf2d",
   "metadata": {},
   "outputs": [
    {
     "data": {
      "text/plain": [
       "array(['a', 'b', 'c', nan], dtype=object)"
      ]
     },
     "execution_count": 13,
     "metadata": {},
     "output_type": "execute_result"
    }
   ],
   "source": [
    "# список уникальных значений в объекте Series можно получить с помощью метода .unique()\n",
    "s.unique()"
   ]
  },
  {
   "cell_type": "code",
   "execution_count": 14,
   "id": "bf43d3bb",
   "metadata": {},
   "outputs": [
    {
     "data": {
      "text/plain": [
       "3"
      ]
     },
     "execution_count": 14,
     "metadata": {},
     "output_type": "execute_result"
    }
   ],
   "source": [
    "# количество уникальный значений (кроме NaN) в объекте Series можно получить с помощью метода .nunique()\n",
    "s.nunique()"
   ]
  },
  {
   "cell_type": "code",
   "execution_count": 15,
   "id": "8e1066c5",
   "metadata": {},
   "outputs": [
    {
     "data": {
      "text/plain": [
       "4"
      ]
     },
     "execution_count": 15,
     "metadata": {},
     "output_type": "execute_result"
    }
   ],
   "source": [
    "# чтобы включить значение NaN используем параметр dropna = False\n",
    "s.nunique(dropna = False)"
   ]
  },
  {
   "cell_type": "code",
   "execution_count": 16,
   "id": "0d8a9e8a",
   "metadata": {},
   "outputs": [
    {
     "data": {
      "text/plain": [
       "a      2\n",
       "b      1\n",
       "c      1\n",
       "NaN    1\n",
       "dtype: int64"
      ]
     },
     "execution_count": 16,
     "metadata": {},
     "output_type": "execute_result"
    }
   ],
   "source": [
    "# встречаемость каждого уникального значения можно определить с помощью метода .value_counts()\n",
    "s.value_counts(dropna = False)"
   ]
  },
  {
   "cell_type": "markdown",
   "id": "e1629d6b",
   "metadata": {},
   "source": [
    "__Вычисление минимума и максимума__"
   ]
  },
  {
   "cell_type": "code",
   "execution_count": 17,
   "id": "3ecab6d4",
   "metadata": {},
   "outputs": [
    {
     "data": {
      "text/plain": [
       "MSFT     45.16\n",
       "AAPL    106.75\n",
       "dtype: float64"
      ]
     },
     "execution_count": 17,
     "metadata": {},
     "output_type": "execute_result"
    }
   ],
   "source": [
    "# определяем минимальную цену для двух акций\n",
    "omh[['MSFT', 'AAPL']].min()"
   ]
  },
  {
   "cell_type": "code",
   "execution_count": 18,
   "id": "9da7a7dd",
   "metadata": {},
   "outputs": [
    {
     "data": {
      "text/plain": [
       "MSFT     48.84\n",
       "AAPL    115.93\n",
       "dtype: float64"
      ]
     },
     "execution_count": 18,
     "metadata": {},
     "output_type": "execute_result"
    }
   ],
   "source": [
    "# определяем максимальную цену для двух акций\n",
    "omh[['MSFT', 'AAPL']].max()"
   ]
  },
  {
   "cell_type": "code",
   "execution_count": 19,
   "id": "275994af",
   "metadata": {},
   "outputs": [
    {
     "data": {
      "text/plain": [
       "MSFT    11\n",
       "AAPL    11\n",
       "dtype: int64"
      ]
     },
     "execution_count": 19,
     "metadata": {},
     "output_type": "execute_result"
    }
   ],
   "source": [
    "# некоторые статистические методы в pandas называют косвенными статистиками, так как они возвращают не действительные значения,\n",
    "# а косвенно связанные с ними значения. Например методы .idxmin() .idxmax() возвращают позиции индекса, в которых находятся \n",
    "# минимальное и максимальное значения\n",
    "# определяем минимальную цену для обеих акций\n",
    "omh[['MSFT', 'AAPL']].idxmin()"
   ]
  },
  {
   "cell_type": "code",
   "execution_count": 20,
   "id": "8bed00f3",
   "metadata": {},
   "outputs": [
    {
     "data": {
      "text/plain": [
       "MSFT    3\n",
       "AAPL    2\n",
       "dtype: int64"
      ]
     },
     "execution_count": 20,
     "metadata": {},
     "output_type": "execute_result"
    }
   ],
   "source": [
    "# определяем максимальную цену для двух акций\n",
    "omh[['MSFT', 'AAPL']].idxmax()"
   ]
  },
  {
   "cell_type": "markdown",
   "id": "7c9a72a8",
   "metadata": {},
   "source": [
    "__Вычисление n наименьших значений и n наибольших значений__"
   ]
  },
  {
   "cell_type": "code",
   "execution_count": 21,
   "id": "d35bfbea",
   "metadata": {},
   "outputs": [
    {
     "data": {
      "text/plain": [
       "11    45.16\n",
       "12    45.74\n",
       "21    46.45\n",
       "10    46.67\n",
       "Name: MSFT, dtype: float64"
      ]
     },
     "execution_count": 21,
     "metadata": {},
     "output_type": "execute_result"
    }
   ],
   "source": [
    "# вычисляем 4 наименьших значения\n",
    "omh.nsmallest(4, ['MSFT'])['MSFT']"
   ]
  },
  {
   "cell_type": "code",
   "execution_count": 22,
   "id": "4f0f77c0",
   "metadata": {},
   "outputs": [
    {
     "data": {
      "text/plain": [
       "3     48.84\n",
       "0     48.62\n",
       "1     48.46\n",
       "16    48.45\n",
       "Name: MSFT, dtype: float64"
      ]
     },
     "execution_count": 22,
     "metadata": {},
     "output_type": "execute_result"
    }
   ],
   "source": [
    "# вычисляем 4 наибольших значений \n",
    "omh.nlargest(4, ['MSFT'])['MSFT']"
   ]
  },
  {
   "cell_type": "code",
   "execution_count": 23,
   "id": "5b26f54c",
   "metadata": {},
   "outputs": [
    {
     "data": {
      "text/plain": [
       "3    48.84\n",
       "0    48.62\n",
       "1    48.46\n",
       "Name: MSFT, dtype: float64"
      ]
     },
     "execution_count": 23,
     "metadata": {},
     "output_type": "execute_result"
    }
   ],
   "source": [
    "# программный код для вычисления в Series несколько отличается от вышеприведенного кода\n",
    "omh.MSFT.nlargest(3)"
   ]
  },
  {
   "cell_type": "markdown",
   "id": "a3e7057e",
   "metadata": {},
   "source": [
    "__Вычисление накопленных значений__"
   ]
  },
  {
   "cell_type": "code",
   "execution_count": 24,
   "id": "b9b62b1e",
   "metadata": {},
   "outputs": [
    {
     "data": {
      "text/plain": [
       "0     1\n",
       "1     2\n",
       "2     6\n",
       "3    24\n",
       "dtype: int64"
      ]
     },
     "execution_count": 24,
     "metadata": {},
     "output_type": "execute_result"
    }
   ],
   "source": [
    "# вычисляем накопленное произведение с помощью метода .cumprod()\n",
    "pd.Series([1, 2, 3, 4]).cumprod()"
   ]
  },
  {
   "cell_type": "code",
   "execution_count": 25,
   "id": "f3165dfe",
   "metadata": {},
   "outputs": [
    {
     "data": {
      "text/plain": [
       "0     1\n",
       "1     3\n",
       "2     6\n",
       "3    10\n",
       "dtype: int64"
      ]
     },
     "execution_count": 25,
     "metadata": {},
     "output_type": "execute_result"
    }
   ],
   "source": [
    "# вычисляем накопленную сумму с помощью метода .cumsum()\n",
    "pd.Series([1, 2, 3, 4]).cumsum()"
   ]
  },
  {
   "cell_type": "markdown",
   "id": "5d0178c4",
   "metadata": {},
   "source": [
    "### __Выполнение статистических операций с объектами библиотеки Pandas__"
   ]
  },
  {
   "cell_type": "markdown",
   "id": "156d7386",
   "metadata": {},
   "source": [
    "__Получение итоговых описательных статистик__"
   ]
  },
  {
   "cell_type": "code",
   "execution_count": 26,
   "id": "d5fceb5e",
   "metadata": {},
   "outputs": [
    {
     "data": {
      "text/plain": [
       "            MSFT        AAPL\n",
       "count  22.000000   22.000000\n",
       "mean   47.493182  112.411364\n",
       "std     0.933077    2.388772\n",
       "min    45.160000  106.750000\n",
       "25%    46.967500  111.660000\n",
       "50%    47.625000  112.530000\n",
       "75%    48.125000  114.087500\n",
       "max    48.840000  115.930000"
      ]
     },
     "execution_count": 26,
     "metadata": {},
     "output_type": "execute_result"
    }
   ],
   "source": [
    "# метод .describe() возвращает сводку статистик для данных, записанных в объекте (количество значений, среднее значение, \n",
    "# стандартное отклонение, минимумб максимум, 25-й, 50-й, 75-й процентиль)\n",
    "# получаем сводку статистик для DataFrame\n",
    "omh.describe()"
   ]
  },
  {
   "cell_type": "code",
   "execution_count": 27,
   "id": "c66830e7",
   "metadata": {},
   "outputs": [
    {
     "data": {
      "text/plain": [
       "count    22.000000\n",
       "mean     47.493182\n",
       "std       0.933077\n",
       "min      45.160000\n",
       "25%      46.967500\n",
       "50%      47.625000\n",
       "75%      48.125000\n",
       "max      48.840000\n",
       "Name: MSFT, dtype: float64"
      ]
     },
     "execution_count": 27,
     "metadata": {},
     "output_type": "execute_result"
    }
   ],
   "source": [
    "# вычисляем сводку статистик для Series MSFT\n",
    "omh.MSFT.describe()"
   ]
  },
  {
   "cell_type": "code",
   "execution_count": 28,
   "id": "63732c58",
   "metadata": {},
   "outputs": [
    {
     "data": {
      "text/plain": [
       "47.493181818181824"
      ]
     },
     "execution_count": 28,
     "metadata": {},
     "output_type": "execute_result"
    }
   ],
   "source": [
    "# вычисляем толкьо среднее значение для MSFT\n",
    "omh.MSFT.describe()['mean']"
   ]
  },
  {
   "cell_type": "code",
   "execution_count": 29,
   "id": "cf6a9646",
   "metadata": {},
   "outputs": [
    {
     "data": {
      "text/plain": [
       "count     4\n",
       "unique    3\n",
       "top       a\n",
       "freq      2\n",
       "dtype: object"
      ]
     },
     "execution_count": 29,
     "metadata": {},
     "output_type": "execute_result"
    }
   ],
   "source": [
    "# получаем сводку для нечисловых данных ( общее количество элементов, количество уникакльных элементов, наиболее часто\n",
    "# встречающееся значение, и встречаемость этого значения)\n",
    "s = pd.Series(['a', 'a', 'b', 'c', np.NaN])\n",
    "s.describe()"
   ]
  },
  {
   "cell_type": "markdown",
   "id": "fe594c5e",
   "metadata": {},
   "source": [
    "__Измерение центральной тенденции: среднее, медиана и мода__"
   ]
  },
  {
   "cell_type": "markdown",
   "id": "0f558b96",
   "metadata": {},
   "source": [
    "Вычисление среднего значения"
   ]
  },
  {
   "cell_type": "code",
   "execution_count": 30,
   "id": "94216a6e",
   "metadata": {},
   "outputs": [
    {
     "name": "stderr",
     "output_type": "stream",
     "text": [
      "C:\\Users\\DS\\AppData\\Local\\Temp\\ipykernel_6292\\441614741.py:2: FutureWarning: The default value of numeric_only in DataFrame.mean is deprecated. In a future version, it will default to False. In addition, specifying 'numeric_only=None' is deprecated. Select only valid columns or specify the value of numeric_only to silence this warning.\n",
      "  omh.mean()\n"
     ]
    },
    {
     "data": {
      "text/plain": [
       "MSFT     47.493182\n",
       "AAPL    112.411364\n",
       "dtype: float64"
      ]
     },
     "execution_count": 30,
     "metadata": {},
     "output_type": "execute_result"
    }
   ],
   "source": [
    "# среднее значение можно вычислить с помощью метода .mean()\n",
    "omh.mean()"
   ]
  },
  {
   "cell_type": "code",
   "execution_count": 31,
   "id": "82dbd868",
   "metadata": {},
   "outputs": [
    {
     "name": "stderr",
     "output_type": "stream",
     "text": [
      "C:\\Users\\DS\\AppData\\Local\\Temp\\ipykernel_6292\\3515691498.py:2: FutureWarning: Dropping of nuisance columns in DataFrame reductions (with 'numeric_only=None') is deprecated; in a future version this will raise TypeError.  Select only valid columns before calling the reduction.\n",
      "  omh.mean(axis = 1)[:5]\n"
     ]
    },
    {
     "data": {
      "text/plain": [
       "0    81.845\n",
       "1    81.545\n",
       "2    82.005\n",
       "3    82.165\n",
       "4    81.710\n",
       "dtype: float64"
      ]
     },
     "execution_count": 31,
     "metadata": {},
     "output_type": "execute_result"
    }
   ],
   "source": [
    "# вычисляем значениеб усредненное по всем столбцам, для каждой строки\n",
    "omh.mean(axis = 1)[:5]"
   ]
  },
  {
   "cell_type": "markdown",
   "id": "6a9c3567",
   "metadata": {},
   "source": [
    "Вычисление медианы"
   ]
  },
  {
   "cell_type": "code",
   "execution_count": 32,
   "id": "1f229946",
   "metadata": {},
   "outputs": [
    {
     "name": "stderr",
     "output_type": "stream",
     "text": [
      "C:\\Users\\DS\\AppData\\Local\\Temp\\ipykernel_6292\\3580365939.py:2: FutureWarning: The default value of numeric_only in DataFrame.median is deprecated. In a future version, it will default to False. In addition, specifying 'numeric_only=None' is deprecated. Select only valid columns or specify the value of numeric_only to silence this warning.\n",
      "  omh.median()\n"
     ]
    },
    {
     "data": {
      "text/plain": [
       "MSFT     47.625\n",
       "AAPL    112.530\n",
       "dtype: float64"
      ]
     },
     "execution_count": 32,
     "metadata": {},
     "output_type": "execute_result"
    }
   ],
   "source": [
    "# медиану можно вычислить используя метод .median\n",
    "omh.median()"
   ]
  },
  {
   "cell_type": "markdown",
   "id": "8fcd31f4",
   "metadata": {},
   "source": [
    "Вычисление моды"
   ]
  },
  {
   "cell_type": "code",
   "execution_count": 33,
   "id": "54f0e0f5",
   "metadata": {},
   "outputs": [
    {
     "data": {
      "text/plain": [
       "0    3\n",
       "dtype: int64"
      ]
     },
     "execution_count": 33,
     "metadata": {},
     "output_type": "execute_result"
    }
   ],
   "source": [
    "# вычисляем моду для серии\n",
    "s = pd.Series([1, 2, 3, 3, 5])\n",
    "s.mode()"
   ]
  },
  {
   "cell_type": "code",
   "execution_count": 34,
   "id": "7e40071b",
   "metadata": {},
   "outputs": [
    {
     "data": {
      "text/plain": [
       "0    1\n",
       "1    3\n",
       "dtype: int64"
      ]
     },
     "execution_count": 34,
     "metadata": {},
     "output_type": "execute_result"
    }
   ],
   "source": [
    "# вычисляем моду для серии, может быть несколько мод\n",
    "s = pd.Series([1, 2, 3, 3, 5, 1])\n",
    "s.mode()"
   ]
  },
  {
   "cell_type": "markdown",
   "id": "bc50465d",
   "metadata": {},
   "source": [
    "__Вычисление дисперсии и стандартного отклонения__"
   ]
  },
  {
   "cell_type": "markdown",
   "id": "b31ab62b",
   "metadata": {},
   "source": [
    "Измерение дисперсии"
   ]
  },
  {
   "cell_type": "code",
   "execution_count": 35,
   "id": "b9b2494c",
   "metadata": {},
   "outputs": [
    {
     "name": "stderr",
     "output_type": "stream",
     "text": [
      "C:\\Users\\DS\\AppData\\Local\\Temp\\ipykernel_6292\\2830969321.py:6: FutureWarning: The default value of numeric_only in DataFrame.var is deprecated. In a future version, it will default to False. In addition, specifying 'numeric_only=None' is deprecated. Select only valid columns or specify the value of numeric_only to silence this warning.\n",
      "  omh.var()\n"
     ]
    },
    {
     "data": {
      "text/plain": [
       "MSFT    0.870632\n",
       "AAPL    5.706231\n",
       "dtype: float64"
      ]
     },
     "execution_count": 35,
     "metadata": {},
     "output_type": "execute_result"
    }
   ],
   "source": [
    "# Дисперсия это разница между имеющимся значением и средним значением. Разница может быть положительной и отрицательной \n",
    "# поэтому мы возводим ее в квадрат, чтобы убедиться в том, что отрицательные значения оказывают кумулятивный эффект на\n",
    "# результат. Затем эти значения суммируются и деляться на количество наблюдений минус 1, в итоге получаем\n",
    "# аппроксимированное среднее значение различий\n",
    "# вычислим дисперсию значений в каждом столбце с помощью метода .var()\n",
    "omh.var()"
   ]
  },
  {
   "cell_type": "markdown",
   "id": "b3c8dce3",
   "metadata": {},
   "source": [
    "Вычисление стандартного отклонения"
   ]
  },
  {
   "cell_type": "code",
   "execution_count": 36,
   "id": "51e1e5c9",
   "metadata": {},
   "outputs": [
    {
     "name": "stderr",
     "output_type": "stream",
     "text": [
      "C:\\Users\\DS\\AppData\\Local\\Temp\\ipykernel_6292\\1431112645.py:2: FutureWarning: The default value of numeric_only in DataFrame.std is deprecated. In a future version, it will default to False. In addition, specifying 'numeric_only=None' is deprecated. Select only valid columns or specify the value of numeric_only to silence this warning.\n",
      "  omh.std()\n"
     ]
    },
    {
     "data": {
      "text/plain": [
       "MSFT    0.933077\n",
       "AAPL    2.388772\n",
       "dtype: float64"
      ]
     },
     "execution_count": 36,
     "metadata": {},
     "output_type": "execute_result"
    }
   ],
   "source": [
    "# вычисояем стандартное отклонение с помощью метода .std()\n",
    "omh.std()"
   ]
  },
  {
   "cell_type": "markdown",
   "id": "2062174d",
   "metadata": {},
   "source": [
    "Вычисление ковариации"
   ]
  },
  {
   "cell_type": "code",
   "execution_count": 37,
   "id": "0f866045",
   "metadata": {},
   "outputs": [
    {
     "data": {
      "text/plain": [
       "1.9261240259740264"
      ]
     },
     "execution_count": 37,
     "metadata": {},
     "output_type": "execute_result"
    }
   ],
   "source": [
    "# вычисляем ковариацию с помощью метода .cov()\n",
    "omh.MSFT.cov(omh.AAPL)"
   ]
  },
  {
   "cell_type": "markdown",
   "id": "3437cc8f",
   "metadata": {},
   "source": [
    "Вычисление корреляции "
   ]
  },
  {
   "cell_type": "code",
   "execution_count": 38,
   "id": "5095d853",
   "metadata": {},
   "outputs": [
    {
     "data": {
      "text/plain": [
       "0.8641560684381171"
      ]
     },
     "execution_count": 38,
     "metadata": {},
     "output_type": "execute_result"
    }
   ],
   "source": [
    "# вычисляем кореляцию  с помощью метода .corr()\n",
    "omh.MSFT.corr(omh.AAPL)"
   ]
  },
  {
   "cell_type": "markdown",
   "id": "0ebc2acd",
   "metadata": {},
   "source": [
    "__Дискретизация и квантилизация данных__"
   ]
  },
  {
   "cell_type": "code",
   "execution_count": 39,
   "id": "0b197e41",
   "metadata": {},
   "outputs": [
    {
     "data": {
      "text/plain": [
       "array([ 0.4691123 , -0.28286334, -1.5090585 , ...,  0.26296448,\n",
       "       -0.83377412, -0.10418135])"
      ]
     },
     "execution_count": 39,
     "metadata": {},
     "output_type": "execute_result"
    }
   ],
   "source": [
    "# генерируем 10 000 случайных чисел\n",
    "np.random.seed(123456)\n",
    "dist = np.random.normal(size = 10000)\n",
    "dist"
   ]
  },
  {
   "cell_type": "code",
   "execution_count": 40,
   "id": "31e85b50",
   "metadata": {},
   "outputs": [
    {
     "data": {
      "text/plain": [
       "(-0.002863324040906651, 1.008716203199891)"
      ]
     },
     "execution_count": 40,
     "metadata": {},
     "output_type": "execute_result"
    }
   ],
   "source": [
    "# выводим среднее и стандарстное отклонение\n",
    "(dist.mean(), dist.std())"
   ]
  },
  {
   "cell_type": "code",
   "execution_count": 41,
   "id": "1d4e10f2",
   "metadata": {},
   "outputs": [
    {
     "data": {
      "text/plain": [
       "[(-0.633, 0.81], (-0.633, 0.81], (-2.077, -0.633], (-2.077, -0.633], (0.81, 2.254], ..., (-2.077, -0.633], (-0.633, 0.81], (-0.633, 0.81], (-2.077, -0.633], (-0.633, 0.81]]\n",
       "Length: 10000\n",
       "Categories (5, interval[float64, right]): [(-3.528, -2.077] < (-2.077, -0.633] < (-0.633, 0.81] < (0.81, 2.254] < (2.254, 3.698]]"
      ]
     },
     "execution_count": 41,
     "metadata": {},
     "output_type": "execute_result"
    }
   ],
   "source": [
    "# с помощью функции pd.cut() разобъем нашу переменную на группы одинакового размера\n",
    "bins = pd.cut(dist, 5)\n",
    "bins"
   ]
  },
  {
   "cell_type": "code",
   "execution_count": 42,
   "id": "0ee595d4",
   "metadata": {},
   "outputs": [
    {
     "data": {
      "text/plain": [
       "IntervalIndex([(-3.528, -2.077], (-2.077, -0.633], (-0.633, 0.81], (0.81, 2.254], (2.254, 3.698]], dtype='interval[float64, right]')"
      ]
     },
     "execution_count": 42,
     "metadata": {},
     "output_type": "execute_result"
    }
   ],
   "source": [
    "# смотрим категории\n",
    "bins.categories"
   ]
  },
  {
   "cell_type": "code",
   "execution_count": 43,
   "id": "08518f2f",
   "metadata": {},
   "outputs": [
    {
     "data": {
      "text/plain": [
       "array([2, 2, 1, ..., 2, 1, 2], dtype=int8)"
      ]
     },
     "execution_count": 43,
     "metadata": {},
     "output_type": "execute_result"
    }
   ],
   "source": [
    "# свойство .codes возвращает массив, в котором указано, к какой группе (интервалу)был отнесен каждый элемент\n",
    "bins.codes"
   ]
  },
  {
   "cell_type": "code",
   "execution_count": 44,
   "id": "0ae9ae11",
   "metadata": {},
   "outputs": [
    {
     "data": {
      "text/plain": [
       "IntervalIndex([[-3.521, -2.077), [-2.077, -0.633), [-0.633, 0.81), [0.81, 2.254), [2.254, 3.705)], dtype='interval[float64, left]')"
      ]
     },
     "execution_count": 44,
     "metadata": {},
     "output_type": "execute_result"
    }
   ],
   "source": [
    "# закрываем интервалы слева\n",
    "pd.cut(dist, 5, right = False).categories"
   ]
  },
  {
   "cell_type": "code",
   "execution_count": 45,
   "id": "5959b08b",
   "metadata": {},
   "outputs": [
    {
     "data": {
      "text/plain": [
       "array([ 7, 33, 38, 29, 42, 14, 16, 16, 18, 17, 26, 28, 44, 40, 20, 12,  8,\n",
       "       10, 36, 29, 26, 26, 11, 29, 42, 17, 41, 35, 22, 40, 24, 21, 38, 33,\n",
       "       26, 23, 16, 34, 26, 20, 18, 42, 27, 13, 37, 37, 10,  7, 10, 23])"
      ]
     },
     "execution_count": 45,
     "metadata": {},
     "output_type": "execute_result"
    }
   ],
   "source": [
    "# генерируем 50 значений возраста в диапазоне от 6 до 45\n",
    "np.random.seed(123456)\n",
    "ages = np.random.randint(6, 45, 50)\n",
    "ages"
   ]
  },
  {
   "cell_type": "code",
   "execution_count": 46,
   "id": "5b46a295",
   "metadata": {},
   "outputs": [
    {
     "data": {
      "text/plain": [
       "            counts  freqs\n",
       "categories               \n",
       "(6, 12]          8   0.16\n",
       "(12, 18]         9   0.18\n",
       "(18, 35]        21   0.42\n",
       "(35, 50]        12   0.24"
      ]
     },
     "execution_count": 46,
     "metadata": {},
     "output_type": "execute_result"
    }
   ],
   "source": [
    "# разбиваем на диапазоны и выводим статистику по ним\n",
    "ranges = [6, 12, 18, 35, 50]\n",
    "agebins = pd.cut(ages, ranges)\n",
    "agebins.describe()"
   ]
  },
  {
   "cell_type": "code",
   "execution_count": 47,
   "id": "4c3808aa",
   "metadata": {},
   "outputs": [
    {
     "data": {
      "text/plain": [
       "             counts  freqs\n",
       "categories                \n",
       "Youth             8   0.16\n",
       "Young Adult       9   0.18\n",
       "Adult            21   0.42\n",
       "Middle Aged      12   0.24"
      ]
     },
     "execution_count": 47,
     "metadata": {},
     "output_type": "execute_result"
    }
   ],
   "source": [
    "# чтобы задать для каждой группы имя вместо стандартного математического обозначения, используем параметр labels\n",
    "ranges = [6, 12, 18, 35, 50]\n",
    "labels = ['Youth', 'Young Adult', 'Adult', 'Middle Aged']\n",
    "agebins = pd.cut(ages, ranges, labels = labels)\n",
    "agebins.describe()"
   ]
  },
  {
   "cell_type": "code",
   "execution_count": 48,
   "id": "9811022f",
   "metadata": {},
   "outputs": [
    {
     "data": {
      "text/plain": [
       "                  counts  freqs\n",
       "categories                     \n",
       "(-3.522, -0.861]    2000    0.2\n",
       "(-0.861, -0.241]    2000    0.2\n",
       "(-0.241, 0.261]     2000    0.2\n",
       "(0.261, 0.866]      2000    0.2\n",
       "(0.866, 3.698]      2000    0.2"
      ]
     },
     "execution_count": 48,
     "metadata": {},
     "output_type": "execute_result"
    }
   ],
   "source": [
    "# Данные можно разбить в соответствии с указанными квантилями с помощью функции pd.qcut(). Эта функция разбивает значения на\n",
    "# группы таким образом, чтобы каждая группа имела одинаковое количество элементов.\n",
    "qbin = pd.qcut(dist, 5)\n",
    "qbin.describe()\n"
   ]
  },
  {
   "cell_type": "markdown",
   "id": "4d881182",
   "metadata": {},
   "source": [
    "__Вычисление ранга значений__"
   ]
  },
  {
   "cell_type": "code",
   "execution_count": 49,
   "id": "38f08f7d",
   "metadata": {},
   "outputs": [
    {
     "data": {
      "text/plain": [
       "a    0.469112\n",
       "b   -0.282863\n",
       "c   -1.509059\n",
       "d   -1.135632\n",
       "e    1.212112\n",
       "dtype: float64"
      ]
     },
     "execution_count": 49,
     "metadata": {},
     "output_type": "execute_result"
    }
   ],
   "source": [
    "# Ранжирование помогает нам определить, проранжирован ли один из двух элементов выше или ниже другого.\n",
    "# Занжирование сокращает количество значений, преобразуя их в последовательность чисел, измеренных в порядковой шкале (рангах)\n",
    "# их можно использовать для оценки сложных критериев, основываясь на полученном порядке\n",
    "# генерируем случайные числа\n",
    "np.random.seed(123456)\n",
    "s = pd.Series(np.random.randn(5), index=list('abcde'))\n",
    "s"
   ]
  },
  {
   "cell_type": "code",
   "execution_count": 50,
   "id": "3fb7581c",
   "metadata": {},
   "outputs": [
    {
     "data": {
      "text/plain": [
       "a    4.0\n",
       "b    3.0\n",
       "c    1.0\n",
       "d    2.0\n",
       "e    5.0\n",
       "dtype: float64"
      ]
     },
     "execution_count": 50,
     "metadata": {},
     "output_type": "execute_result"
    }
   ],
   "source": [
    "s.rank()"
   ]
  },
  {
   "cell_type": "markdown",
   "id": "32433cab",
   "metadata": {},
   "source": [
    "__Вычисление процентного изменения для каждого наблюдения серии__"
   ]
  },
  {
   "cell_type": "code",
   "execution_count": 51,
   "id": "f681426e",
   "metadata": {},
   "outputs": [
    {
     "data": {
      "text/plain": [
       "       MSFT\n",
       "0       NaN\n",
       "1 -0.003291\n",
       "2 -0.007842\n",
       "3  0.015807\n",
       "4 -0.008600"
      ]
     },
     "execution_count": 51,
     "metadata": {},
     "output_type": "execute_result"
    }
   ],
   "source": [
    "# Процентное изменение за определенное количество периодов можно вычислить с помощью метода .pct_change()\n",
    "# Пример использования процентного изменения - вычисление скорости изменения цены на акцию\n",
    "# вычисляем процентное изменение ждля MSFT\n",
    "omh[['MSFT']].pct_change()[:5]"
   ]
  },
  {
   "cell_type": "markdown",
   "id": "7c14f74d",
   "metadata": {},
   "source": [
    "__Выполнение операций со скользящим окном__"
   ]
  },
  {
   "cell_type": "code",
   "execution_count": 53,
   "id": "06909116",
   "metadata": {},
   "outputs": [
    {
     "data": {
      "text/plain": [
       "0    0.469112\n",
       "1    0.186249\n",
       "2   -1.322810\n",
       "3   -2.458442\n",
       "4   -1.246330\n",
       "dtype: float64"
      ]
     },
     "execution_count": 53,
     "metadata": {},
     "output_type": "execute_result"
    }
   ],
   "source": [
    "# с помощью скользящего окна можно вычислить заданную статистику для определенного интервала данных\n",
    "# Затем окно перемещается по данным с определенным интервалом и пересчитывается заново\n",
    "# Создаем случайное блуждание\n",
    "np.random.seed(123456)\n",
    "s = pd.Series(np.random.randn(1000)).cumsum()\n",
    "s[:5]"
   ]
  },
  {
   "cell_type": "code",
   "execution_count": 58,
   "id": "82512310",
   "metadata": {},
   "outputs": [
    {
     "data": {
      "image/png": "[encoded data removed]",
      "text/plain": [
       "<Figure size 640x480 with 1 Axes>"
      ]
     },
     "metadata": {},
     "output_type": "display_data"
    }
   ],
   "source": [
    "# Сфокусировавшись на первых ста значениях, мы можем увидеть изменение данных с помощью следующего графика\n",
    "s[0:100].plot();"
   ]
  },
  {
   "cell_type": "code",
   "execution_count": 59,
   "id": "f40d624c",
   "metadata": {},
   "outputs": [
    {
     "data": {
      "text/plain": [
       "Rolling [window=3,center=False,axis=0,method=single]"
      ]
     },
     "execution_count": 59,
     "metadata": {},
     "output_type": "execute_result"
    }
   ],
   "source": [
    "# Чтобы создать скользящее окно, потребуется объект Rolling, который получим с помощью метода .rolling(), указав ширину окна\n",
    "# вычисляем скользящее окно шириной 3 дня \n",
    "r = s.rolling(window = 3)\n",
    "r "
   ]
  },
  {
   "cell_type": "code",
   "execution_count": 60,
   "id": "c1a18562",
   "metadata": {},
   "outputs": [
    {
     "data": {
      "text/plain": [
       "0         NaN\n",
       "1         NaN\n",
       "2   -0.222483\n",
       "3   -1.198334\n",
       "4   -1.675860\n",
       "5   -1.708105\n",
       "6   -1.322070\n",
       "dtype: float64"
      ]
     },
     "execution_count": 60,
     "metadata": {},
     "output_type": "execute_result"
    }
   ],
   "source": [
    "# скользящее среднее по трем дням\n",
    "means = r.mean()\n",
    "means[:7]"
   ]
  },
  {
   "cell_type": "code",
   "execution_count": 61,
   "id": "83a91605",
   "metadata": {},
   "outputs": [
    {
     "data": {
      "text/plain": [
       "-0.22248276403642672"
      ]
     },
     "execution_count": 61,
     "metadata": {},
     "output_type": "execute_result"
    }
   ],
   "source": [
    "# проверяем, является ли значение средним первых трех чисел\n",
    "s[:3].mean()"
   ]
  },
  {
   "cell_type": "code",
   "execution_count": 62,
   "id": "7a8e8084",
   "metadata": {},
   "outputs": [
    {
     "data": {
      "text/plain": [
       "-1.1983341702095498"
      ]
     },
     "execution_count": 62,
     "metadata": {},
     "output_type": "execute_result"
    }
   ],
   "source": [
    "# среднее для меток с 1 по 3\n",
    "s[1:4].mean()"
   ]
  },
  {
   "cell_type": "code",
   "execution_count": 64,
   "id": "10ddfe61",
   "metadata": {},
   "outputs": [
    {
     "data": {
      "image/png": "[encoded data removed]",
      "text/plain": [
       "<Figure size 640x480 with 1 Axes>"
      ]
     },
     "metadata": {},
     "output_type": "display_data"
    }
   ],
   "source": [
    "# строим график на основе 3-дневного скользящего среднего\n",
    "means[0:100].plot();"
   ]
  },
  {
   "cell_type": "markdown",
   "id": "130952c0",
   "metadata": {},
   "source": [
    "__Создание случайной выборки данных__"
   ]
  },
  {
   "cell_type": "code",
   "execution_count": 71,
   "id": "c2fea1cb",
   "metadata": {},
   "outputs": [
    {
     "data": {
      "text/plain": [
       "          0         1         2         3\n",
       "0  0.469112 -0.282863 -1.509059 -1.135632\n",
       "1  1.212112 -0.173215  0.119209 -1.044236\n",
       "2 -0.861849 -2.104569 -0.494929  1.071804\n",
       "3  0.721555 -0.706771 -1.039575  0.271860\n",
       "4 -0.424972  0.567020  0.276232 -1.087401"
      ]
     },
     "execution_count": 71,
     "metadata": {},
     "output_type": "execute_result"
    }
   ],
   "source": [
    "# создаем датафрейм состоящий из 50 строк и 4 столбцов\n",
    "np.random.seed(123456)\n",
    "df = pd.DataFrame(np.random.randn(50, 4))\n",
    "df[:5]"
   ]
  },
  {
   "cell_type": "code",
   "execution_count": 73,
   "id": "a8626df0",
   "metadata": {},
   "outputs": [
    {
     "data": {
      "text/plain": [
       "           0         1         2         3\n",
       "15 -0.076467 -1.187678  1.130127 -1.436737\n",
       "28 -2.182937  0.380396  0.084844  0.432390\n",
       "48 -0.693921  1.613616  0.464000  0.227371"
      ]
     },
     "execution_count": 73,
     "metadata": {},
     "output_type": "execute_result"
    }
   ],
   "source": [
    "# Отбираем три случайные строки с помощью метода .sample()\n",
    "df.sample(n = 3)"
   ]
  },
  {
   "cell_type": "code",
   "execution_count": 74,
   "id": "6fb52dbb",
   "metadata": {},
   "outputs": [
    {
     "data": {
      "text/plain": [
       "           0         1         2         3\n",
       "37  1.126203 -0.977349  1.474071 -0.064034\n",
       "10 -1.294524  0.413738  0.276662 -0.472035\n",
       "4  -0.424972  0.567020  0.276232 -1.087401\n",
       "14  0.410835  0.813850  0.132003 -0.827317\n",
       "48 -0.693921  1.613616  0.464000  0.227371"
      ]
     },
     "execution_count": 74,
     "metadata": {},
     "output_type": "execute_result"
    }
   ],
   "source": [
    "# можно указать процент случайно отбираемых строк\n",
    "# отбираем 10% строк\n",
    "df.sample(frac = 0.1)"
   ]
  },
  {
   "cell_type": "code",
   "execution_count": 75,
   "id": "b40aabeb",
   "metadata": {},
   "outputs": [
    {
     "data": {
      "text/plain": [
       "           0         1         2         3\n",
       "27 -1.236269  0.896171 -0.487602 -0.082240\n",
       "9   0.357021 -0.674600 -1.776904 -0.968914\n",
       "27 -1.236269  0.896171 -0.487602 -0.082240\n",
       "15 -0.076467 -1.187678  1.130127 -1.436737\n",
       "9   0.357021 -0.674600 -1.776904 -0.968914"
      ]
     },
     "execution_count": 75,
     "metadata": {},
     "output_type": "execute_result"
    }
   ],
   "source": [
    "# случайный отбор 10% наблюдениий с возвращением\n",
    "df.sample(frac = 0.1, replace = True)"
   ]
  }
 ],
 "metadata": {
  "kernelspec": {
   "display_name": "Python 3 (ipykernel)",
   "language": "python",
   "name": "python3"
  },
  "language_info": {
   "codemirror_mode": {
    "name": "ipython",
    "version": 3
   },
   "file_extension": ".py",
   "mimetype": "text/x-python",
   "name": "python",
   "nbconvert_exporter": "python",
   "pygments_lexer": "ipython3",
   "version": "3.10.9"
  }
 },
 "nbformat": 4,
 "nbformat_minor": 5
}
