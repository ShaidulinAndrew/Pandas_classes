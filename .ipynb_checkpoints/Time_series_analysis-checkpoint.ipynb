{
 "cells": [
  {
   "cell_type": "code",
   "execution_count": 1,
   "id": "22887144",
   "metadata": {},
   "outputs": [],
   "source": [
    "# импортируем библиотеки numpy и pandas\n",
    "import numpy as np\n",
    "import pandas as pd\n",
    "\n",
    "# импортируем библиотеку datatime для работы с датами\n",
    "import datetime\n",
    "from datetime import datetime, date\n",
    "\n",
    "# задаем некоторые опции библиотеки pandas, которые настраивают вывод\n",
    "pd.set_option('display.notebook_repr_html', False)     # задаем вывод в виде текста, а не HTML\n",
    "pd.set_option('display.max_columns', 8)                # устанавливаем отображение максимального количества стобцов\n",
    "pd.set_option('display.max_rows', 10)                  # устанавливаем отображение максимального количества строк\n",
    "pd.set_option('display.width', 80)                     # устанавливаеv максимальную ширину отображения в символах\n",
    "\n",
    "# импортируем библиотеку matplotlib для построения графиков\n",
    "import matplotlib.pyplot as plt \n",
    "%matplotlib inline"
   ]
  },
  {
   "cell_type": "markdown",
   "id": "b55f84b5",
   "metadata": {},
   "source": [
    "__ПРЕДСТАВЛЕНИЕ ДАТ, ВРЕМЕНИ И ИНТЕРВАЛОВ__"
   ]
  },
  {
   "cell_type": "markdown",
   "id": "7d112ceb",
   "metadata": {},
   "source": [
    "__Объекты datetime, day, time__"
   ]
  },
  {
   "cell_type": "code",
   "execution_count": 2,
   "id": "e2cea0af",
   "metadata": {},
   "outputs": [
    {
     "data": {
      "text/plain": [
       "datetime.datetime(2014, 12, 15, 0, 0)"
      ]
     },
     "execution_count": 2,
     "metadata": {},
     "output_type": "execute_result"
    }
   ],
   "source": [
    "# Объект datetime можно инициализировать с помощью трех обязательный параметров: год, месяц, день\n",
    "# Объект datetime для 15 декабря 2014 г\n",
    "datetime(2014, 12, 15)"
   ]
  }
 ],
 "metadata": {
  "kernelspec": {
   "display_name": "Python 3 (ipykernel)",
   "language": "python",
   "name": "python3"
  },
  "language_info": {
   "codemirror_mode": {
    "name": "ipython",
    "version": 3
   },
   "file_extension": ".py",
   "mimetype": "text/x-python",
   "name": "python",
   "nbconvert_exporter": "python",
   "pygments_lexer": "ipython3",
   "version": "3.10.13"
  }
 },
 "nbformat": 4,
 "nbformat_minor": 5
}
