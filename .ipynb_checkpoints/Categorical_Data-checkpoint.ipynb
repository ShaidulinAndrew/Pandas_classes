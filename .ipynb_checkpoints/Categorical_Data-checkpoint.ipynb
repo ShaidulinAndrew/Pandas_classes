{
 "cells": [
  {
   "cell_type": "code",
   "execution_count": 1,
   "id": "60fcdb88",
   "metadata": {},
   "outputs": [],
   "source": [
    "# импортируем библиотеки numpy и pandas\n",
    "import numpy as np\n",
    "import pandas as pd\n",
    "\n",
    "# импортируем библиотеку datatime для работы с датами\n",
    "import datetime\n",
    "from datetime import datetime, date\n",
    "\n",
    "# задаем некоторые опции библиотеки pandas, которые настраивают вывод\n",
    "pd.set_option('display.notebook_repr_html', False)     # задаем вывод в виде текста, а не HTML\n",
    "pd.set_option('display.max_columns', 8)                # устанавливаем отображение максимального количества стобцов\n",
    "pd.set_option('display.max_rows', 10)                  # устанавливаем отображение максимального количества строк\n",
    "pd.set_option('display.width', 80)                     # устанавливаеv максимальную ширину отображения в символах\n",
    "\n",
    "# импортируем библиотеку matplotlib для построения графиков\n",
    "import matplotlib.pyplot as plt \n",
    "%matplotlib inline"
   ]
  },
  {
   "cell_type": "markdown",
   "id": "5fa27852",
   "metadata": {},
   "source": [
    "### __Создание категориальных переменных__"
   ]
  },
  {
   "cell_type": "code",
   "execution_count": 2,
   "id": "6547997a",
   "metadata": {},
   "outputs": [
    {
     "data": {
      "text/plain": [
       "['low', 'hight', 'medium', 'medium', 'hight']\n",
       "Categories (3, object): ['hight', 'low', 'medium']"
      ]
     },
     "execution_count": 2,
     "metadata": {},
     "output_type": "execute_result"
    }
   ],
   "source": [
    "# создаем категориальную переменную непосредственно из списка\n",
    "lmh_values = ['low', 'hight', 'medium', 'medium', 'hight']\n",
    "lmh_cat = pd.Categorical(lmh_values)\n",
    "lmh_cat"
   ]
  },
  {
   "cell_type": "code",
   "execution_count": 3,
   "id": "6406c830",
   "metadata": {},
   "outputs": [
    {
     "data": {
      "text/plain": [
       "Index(['hight', 'low', 'medium'], dtype='object')"
      ]
     },
     "execution_count": 3,
     "metadata": {},
     "output_type": "execute_result"
    }
   ],
   "source": [
    "# смотрим категории\n",
    "lmh_cat.categories"
   ]
  },
  {
   "cell_type": "code",
   "execution_count": 7,
   "id": "f3c10ffa",
   "metadata": {},
   "outputs": [
    {
     "data": {
      "text/plain": [
       "array([1, 0, 2, 2, 0], dtype=int8)"
      ]
     },
     "execution_count": 7,
     "metadata": {},
     "output_type": "execute_result"
    }
   ],
   "source": [
    "# Каждой категории объекта Categorical присваивается целочисленное значение. Это значение называется кодом (code)\n",
    "# Коды можно посмотреть с помощью свойства .codes\n",
    "lmh_cat.codes"
   ]
  },
  {
   "cell_type": "code",
   "execution_count": 9,
   "id": "75b3b527",
   "metadata": {},
   "outputs": [
    {
     "data": {
      "text/plain": [
       "['low', 'hight', 'medium', 'medium', 'hight']\n",
       "Categories (3, object): ['low', 'medium', 'hight']"
      ]
     },
     "execution_count": 9,
     "metadata": {},
     "output_type": "execute_result"
    }
   ],
   "source": [
    "# данный порядок можно оптимизировать, указав категории с помощью параметра categories \n",
    "lmh_cat = pd.Categorical(lmh_values, categories = ['low', 'medium', 'hight'])\n",
    "lmh_cat"
   ]
  },
  {
   "cell_type": "code",
   "execution_count": 10,
   "id": "654c664c",
   "metadata": {},
   "outputs": [
    {
     "data": {
      "text/plain": [
       "array([0, 2, 1, 1, 2], dtype=int8)"
      ]
     },
     "execution_count": 10,
     "metadata": {},
     "output_type": "execute_result"
    }
   ],
   "source": [
    "lmh_cat.codes"
   ]
  },
  {
   "cell_type": "code",
   "execution_count": 12,
   "id": "6e57b7d0",
   "metadata": {},
   "outputs": [
    {
     "data": {
      "text/plain": [
       "['low', 'medium', 'medium', 'hight', 'hight']\n",
       "Categories (3, object): ['low', 'medium', 'hight']"
      ]
     },
     "execution_count": 12,
     "metadata": {},
     "output_type": "execute_result"
    }
   ],
   "source": [
    "# данная кодировка более полезная, так как ее можно использовать для сортировки значений в том порядке \n",
    "# который соответствует смыслу\n",
    "# сортировка выполняется с помощью кодов, лежащих в основе кодов каждого значения\n",
    "lmh_cat.sort_values()"
   ]
  },
  {
   "cell_type": "code",
   "execution_count": 13,
   "id": "0349ff69",
   "metadata": {},
   "outputs": [
    {
     "data": {
      "text/plain": [
       "0       low\n",
       "1     hight\n",
       "2    medium\n",
       "3    medium\n",
       "4     hight\n",
       "dtype: category\n",
       "Categories (3, object): ['hight', 'low', 'medium']"
      ]
     },
     "execution_count": 13,
     "metadata": {},
     "output_type": "execute_result"
    }
   ],
   "source": [
    "# категориальную переменную можно представить в виде серии у которой тип данных (dtype) обозначется как category\n",
    "# создаем категориальную переменную с помощью объекта Series и dtype\n",
    "cat_series = pd.Series(lmh_values, dtype = 'category')\n",
    "cat_series"
   ]
  }
 ],
 "metadata": {
  "kernelspec": {
   "display_name": "Python 3 (ipykernel)",
   "language": "python",
   "name": "python3"
  },
  "language_info": {
   "codemirror_mode": {
    "name": "ipython",
    "version": 3
   },
   "file_extension": ".py",
   "mimetype": "text/x-python",
   "name": "python",
   "nbconvert_exporter": "python",
   "pygments_lexer": "ipython3",
   "version": "3.10.9"
  }
 },
 "nbformat": 4,
 "nbformat_minor": 5
}
