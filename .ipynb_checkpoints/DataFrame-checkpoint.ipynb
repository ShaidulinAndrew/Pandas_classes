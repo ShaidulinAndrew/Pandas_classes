{
 "cells": [
  {
   "cell_type": "code",
   "execution_count": 1,
   "id": "831589e7",
   "metadata": {},
   "outputs": [],
   "source": [
    "# импортируем библиотеки numpy и pandas\n",
    "import numpy as np\n",
    "import pandas as pd\n",
    "\n",
    "# импортируем библиотеку datatime для работы с датами\n",
    "import datetime\n",
    "from datetime import datetime, date\n",
    "\n",
    "# задаем некоторые опции библиотеки pandas, которые настраивают вывод\n",
    "pd.set_option('display.notebook_repr_html', False)     # задаем вывод в виде текста, а не HTML\n",
    "pd.set_option('display.max_columns', 8)                # устанавливаем отображение максимального количества стобцов\n",
    "pd.set_option('display.max_rows', 10)                  # устанавливаем отображение максимального количества строк\n",
    "pd.set_option('display.width', 80)                     # устанавливаеv максимальную ширину отображения в символах\n",
    "\n",
    "# импортируем библиотеку matplotlib для построения графиков\n",
    "import matplotlib.pyplot as plt \n",
    "%matplotlib inline"
   ]
  },
  {
   "cell_type": "code",
   "execution_count": 2,
   "id": "86da3aba",
   "metadata": {},
   "outputs": [],
   "source": [
    "# создаем объекст Series, индекс которого - серия дат между двумя определенными датами (включительно)\n",
    "# с помощью функции Pandas pd.date_range\n",
    "dates = pd.date_range('2016-04-01', '2016-04-06')"
   ]
  },
  {
   "cell_type": "code",
   "execution_count": 3,
   "id": "4545c592",
   "metadata": {},
   "outputs": [],
   "source": [
    "# создаем объекст Series, в котором значениям температуры будут соответствовать даты в индексе\n",
    "temps1 = pd.Series([80, 82, 85, 90, 83, 87], index = dates)\n",
    "temps2 = pd.Series([70, 75, 69, 83, 79, 77], index = dates)"
   ]
  },
  {
   "cell_type": "code",
   "execution_count": 5,
   "id": "e02af7b0",
   "metadata": {},
   "outputs": [
    {
     "data": {
      "text/plain": [
       "            Missoula  Philadelphia\n",
       "2016-04-01        80            70\n",
       "2016-04-02        82            75\n",
       "2016-04-03        85            69\n",
       "2016-04-04        90            83\n",
       "2016-04-05        83            79\n",
       "2016-04-06        87            77"
      ]
     },
     "execution_count": 5,
     "metadata": {},
     "output_type": "execute_result"
    }
   ],
   "source": [
    "# создаем объект DataFrame с двумя сериями temps1 и temps2 и присваиваем им имена столбцов\n",
    "temps_df = pd.DataFrame({'Missoula': temps1,\n",
    "                       'Philadelphia': temps2})\n",
    "temps_df"
   ]
  },
  {
   "cell_type": "code",
   "execution_count": 6,
   "id": "427c837a",
   "metadata": {},
   "outputs": [
    {
     "data": {
      "text/plain": [
       "2016-04-01    80\n",
       "2016-04-02    82\n",
       "2016-04-03    85\n",
       "2016-04-04    90\n",
       "2016-04-05    83\n",
       "2016-04-06    87\n",
       "Freq: D, Name: Missoula, dtype: int64"
      ]
     },
     "execution_count": 6,
     "metadata": {},
     "output_type": "execute_result"
    }
   ],
   "source": [
    "# столбцы в объекте DataFrame можно вывести с помощью индексатора массива [] задав имя столбца \n",
    "temps_df['Missoula']"
   ]
  },
  {
   "cell_type": "code",
   "execution_count": 8,
   "id": "deb8a452",
   "metadata": {},
   "outputs": [
    {
     "data": {
      "text/plain": [
       "            Missoula  Philadelphia\n",
       "2016-04-01        80            70\n",
       "2016-04-02        82            75\n",
       "2016-04-03        85            69\n",
       "2016-04-04        90            83\n",
       "2016-04-05        83            79\n",
       "2016-04-06        87            77"
      ]
     },
     "execution_count": 8,
     "metadata": {},
     "output_type": "execute_result"
    }
   ],
   "source": [
    "# или список имен столбцов\n",
    "temps_df[['Philadelphia', 'Missoula']]\n",
    "temps_df"
   ]
  },
  {
   "cell_type": "code",
   "execution_count": 10,
   "id": "8e8fa2af",
   "metadata": {},
   "outputs": [
    {
     "data": {
      "text/plain": [
       "2016-04-01    80\n",
       "2016-04-02    82\n",
       "2016-04-03    85\n",
       "2016-04-04    90\n",
       "2016-04-05    83\n",
       "2016-04-06    87\n",
       "Freq: D, Name: Missoula, dtype: int64"
      ]
     },
     "execution_count": 10,
     "metadata": {},
     "output_type": "execute_result"
    }
   ],
   "source": [
    "# если имя столбца не имеет пробелов, его можно вывести, воспользовавшись \"вычисляемым\" свойством\n",
    "temps_df.Missoula"
   ]
  },
  {
   "cell_type": "code",
   "execution_count": 11,
   "id": "39955ecb",
   "metadata": {},
   "outputs": [
    {
     "data": {
      "text/plain": [
       "2016-04-01    10\n",
       "2016-04-02     7\n",
       "2016-04-03    16\n",
       "2016-04-04     7\n",
       "2016-04-05     4\n",
       "2016-04-06    10\n",
       "Freq: D, dtype: int64"
      ]
     },
     "execution_count": 11,
     "metadata": {},
     "output_type": "execute_result"
    }
   ],
   "source": [
    "# арифметические действия со столбцами так же возможны\n",
    "# вычислим разницу температур двух городов\n",
    "temps_df.Missoula - temps_df.Philadelphia"
   ]
  },
  {
   "cell_type": "code",
   "execution_count": 13,
   "id": "d0fa20e7",
   "metadata": {},
   "outputs": [
    {
     "data": {
      "text/plain": [
       "2016-04-01    10\n",
       "2016-04-02     7\n",
       "2016-04-03    16\n",
       "2016-04-04     7\n",
       "2016-04-05     4\n",
       "2016-04-06    10\n",
       "Freq: D, dtype: int64"
      ]
     },
     "execution_count": 13,
     "metadata": {},
     "output_type": "execute_result"
    }
   ],
   "source": [
    "# вычисляем разницу в температуре\n",
    "temp_diffs = temps1 - temps2\n",
    "temp_diffs"
   ]
  },
  {
   "cell_type": "code",
   "execution_count": 14,
   "id": "56a017f1",
   "metadata": {},
   "outputs": [
    {
     "data": {
      "text/plain": [
       "            Missoula  Philadelphia  Difference\n",
       "2016-04-01        80            70          10\n",
       "2016-04-02        82            75           7\n",
       "2016-04-03        85            69          16\n",
       "2016-04-04        90            83           7\n",
       "2016-04-05        83            79           4\n",
       "2016-04-06        87            77          10"
      ]
     },
     "execution_count": 14,
     "metadata": {},
     "output_type": "execute_result"
    }
   ],
   "source": [
    "# новый столбец можно добавить в объект DataFrame, присвоив еще одну серию столбцу с помощью индексатора массива []\n",
    "# добавляем в DataFrame temp_diffs столбец Difference, который содержит разности температур\n",
    "temps_df['Difference'] = temp_diffs\n",
    "temps_df"
   ]
  },
  {
   "cell_type": "code",
   "execution_count": 15,
   "id": "a78cf9bd",
   "metadata": {},
   "outputs": [
    {
     "data": {
      "text/plain": [
       "Index(['Missoula', 'Philadelphia', 'Difference'], dtype='object')"
      ]
     },
     "execution_count": 15,
     "metadata": {},
     "output_type": "execute_result"
    }
   ],
   "source": [
    "# имена столбцов в объекте DataFrame можно получить с помощью свойства .columns\n",
    "temps_df.columns"
   ]
  },
  {
   "cell_type": "code",
   "execution_count": 16,
   "id": "bc5d36dc",
   "metadata": {},
   "outputs": [
    {
     "data": {
      "text/plain": [
       "2016-04-02     7\n",
       "2016-04-03    16\n",
       "2016-04-04     7\n",
       "Freq: D, Name: Difference, dtype: int64"
      ]
     },
     "execution_count": 16,
     "metadata": {},
     "output_type": "execute_result"
    }
   ],
   "source": [
    "# создаем срез. отбираем значение разностей температур в столбце Difference, начиная с позиции 1 и заканчивая позицией 4.\n",
    "# диапазон не включает элемент с позицией 4\n",
    "temps_df.Difference[1:4]"
   ]
  },
  {
   "cell_type": "code",
   "execution_count": 19,
   "id": "5afc9ff2",
   "metadata": {},
   "outputs": [
    {
     "data": {
      "text/plain": [
       "Missoula        82\n",
       "Philadelphia    75\n",
       "Difference       7\n",
       "Name: 2016-04-02 00:00:00, dtype: int64"
      ]
     },
     "execution_count": 19,
     "metadata": {},
     "output_type": "execute_result"
    }
   ],
   "source": [
    "# полностью извлечь строку можно с помощью свойств .loc и .iloc \n",
    "# свойство loc осуществляет поиск по метке индекса\n",
    "# свойство iloc осуществляет поиск по позиции\n",
    "# получаем строкуб которая соответствует метка индекса 1\n",
    "temps_df.iloc[1]\n"
   ]
  },
  {
   "cell_type": "code",
   "execution_count": 21,
   "id": "9c3ef21d",
   "metadata": {},
   "outputs": [
    {
     "data": {
      "text/plain": [
       "Index(['Missoula', 'Philadelphia', 'Difference'], dtype='object')"
      ]
     },
     "execution_count": 21,
     "metadata": {},
     "output_type": "execute_result"
    }
   ],
   "source": [
    "# имена столбцов стали индексами, \"переворачиваем\" их\n",
    "temps_df.iloc[1].index"
   ]
  },
  {
   "cell_type": "code",
   "execution_count": 22,
   "id": "ffb81297",
   "metadata": {},
   "outputs": [
    {
     "data": {
      "text/plain": [
       "Missoula        90\n",
       "Philadelphia    83\n",
       "Difference       7\n",
       "Name: 2016-04-04 00:00:00, dtype: int64"
      ]
     },
     "execution_count": 22,
     "metadata": {},
     "output_type": "execute_result"
    }
   ],
   "source": [
    "temps_df.loc['2016-04-04']"
   ]
  },
  {
   "cell_type": "code",
   "execution_count": 23,
   "id": "29f21013",
   "metadata": {},
   "outputs": [
    {
     "data": {
      "text/plain": [
       "Index(['Missoula', 'Philadelphia', 'Difference'], dtype='object')"
      ]
     },
     "execution_count": 23,
     "metadata": {},
     "output_type": "execute_result"
    }
   ],
   "source": [
    "temps_df.loc['2016-04-04'].index"
   ]
  },
  {
   "cell_type": "code",
   "execution_count": 25,
   "id": "8e9e895d",
   "metadata": {},
   "outputs": [
    {
     "data": {
      "text/plain": [
       "2016-04-02     7\n",
       "2016-04-04     7\n",
       "2016-04-06    10\n",
       "Freq: 2D, Name: Difference, dtype: int64"
      ]
     },
     "execution_count": 25,
     "metadata": {},
     "output_type": "execute_result"
    }
   ],
   "source": [
    "# получаем значение столбца Difference в строках 1, 3, 5, используя целочисленные позиции с началом отсчета в 0\n",
    "temps_df.iloc[[1, 3, 5]].Difference"
   ]
  },
  {
   "cell_type": "code",
   "execution_count": 26,
   "id": "37009a88",
   "metadata": {},
   "outputs": [
    {
     "data": {
      "text/plain": [
       "            Missoula  Philadelphia  Difference\n",
       "2016-04-03        85            69          16\n",
       "2016-04-04        90            83           7\n",
       "2016-04-05        83            79           4\n",
       "2016-04-06        87            77          10"
      ]
     },
     "execution_count": 26,
     "metadata": {},
     "output_type": "execute_result"
    }
   ],
   "source": [
    "# строки можно обрабатывать логическими выражениями (логический отбор или отбор на основе булевых значений)\n",
    "# какие значения в столбце Missoula > 82?\n",
    "temps_df[temps_df.Missoula > 82]"
   ]
  }
 ],
 "metadata": {
  "kernelspec": {
   "display_name": "Python 3 (ipykernel)",
   "language": "python",
   "name": "python3"
  },
  "language_info": {
   "codemirror_mode": {
    "name": "ipython",
    "version": 3
   },
   "file_extension": ".py",
   "mimetype": "text/x-python",
   "name": "python",
   "nbconvert_exporter": "python",
   "pygments_lexer": "ipython3",
   "version": "3.10.9"
  }
 },
 "nbformat": 4,
 "nbformat_minor": 5
}
