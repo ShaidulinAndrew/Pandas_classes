{
 "cells": [
  {
   "cell_type": "code",
   "execution_count": 1,
   "id": "305d2865-c6a7-4e3b-9936-515ca66df443",
   "metadata": {},
   "outputs": [],
   "source": [
    "import pandas as pd\n",
    "import numpy as np\n",
    "\n",
    "import matplotlib.pyplot as plt\n",
    "\n",
    "import seaborn as sns"
   ]
  },
  {
   "cell_type": "markdown",
   "id": "6b59187e-e601-439d-91fb-4719a8da2a42",
   "metadata": {},
   "source": [
    "### __Качественные (категориальные) данные__ - описывают принадледжность объекта к определенной группе"
   ]
  },
  {
   "cell_type": "markdown",
   "id": "898914f4-ab62-4123-851c-f7ca5bee3436",
   "metadata": {},
   "source": [
    "__Номинальные данные__ - не могут быть упорядочены, их сравнение не имеет смыла"
   ]
  },
  {
   "cell_type": "code",
   "execution_count": 2,
   "id": "60fad0e2-0357-41b8-8e4f-40cf207f5ea8",
   "metadata": {},
   "outputs": [
    {
     "data": {
      "text/html": [
       "<div>\n",
       "<style scoped>\n",
       "    .dataframe tbody tr th:only-of-type {\n",
       "        vertical-align: middle;\n",
       "    }\n",
       "\n",
       "    .dataframe tbody tr th {\n",
       "        vertical-align: top;\n",
       "    }\n",
       "\n",
       "    .dataframe thead th {\n",
       "        text-align: right;\n",
       "    }\n",
       "</style>\n",
       "<table border=\"1\" class=\"dataframe\">\n",
       "  <thead>\n",
       "    <tr style=\"text-align: right;\">\n",
       "      <th></th>\n",
       "      <th>model</th>\n",
       "      <th>stock</th>\n",
       "    </tr>\n",
       "  </thead>\n",
       "  <tbody>\n",
       "    <tr>\n",
       "      <th>0</th>\n",
       "      <td>Renault</td>\n",
       "      <td>12</td>\n",
       "    </tr>\n",
       "    <tr>\n",
       "      <th>1</th>\n",
       "      <td>Hyundai</td>\n",
       "      <td>36</td>\n",
       "    </tr>\n",
       "    <tr>\n",
       "      <th>2</th>\n",
       "      <td>KIA</td>\n",
       "      <td>28</td>\n",
       "    </tr>\n",
       "    <tr>\n",
       "      <th>3</th>\n",
       "      <td>Toyota</td>\n",
       "      <td>32</td>\n",
       "    </tr>\n",
       "  </tbody>\n",
       "</table>\n",
       "</div>"
      ],
      "text/plain": [
       "     model  stock\n",
       "0  Renault     12\n",
       "1  Hyundai     36\n",
       "2      KIA     28\n",
       "3   Toyota     32"
      ]
     },
     "execution_count": 2,
     "metadata": {},
     "output_type": "execute_result"
    }
   ],
   "source": [
    "cars = pd.DataFrame({'model' : ['Renault', 'Hyundai', 'KIA', 'Toyota'],\n",
    "              'stock' : [12, 36, 28, 32]})\n",
    "\n",
    "cars"
   ]
  },
  {
   "cell_type": "code",
   "execution_count": 3,
   "id": "ff1f477a-c6b0-408e-afe0-0b94362ca7b2",
   "metadata": {},
   "outputs": [
    {
     "data": {
      "image/png": "[encoded data removed]",
      "text/plain": [
       "<Figure size 640x480 with 1 Axes>"
      ]
     },
     "metadata": {},
     "output_type": "display_data"
    }
   ],
   "source": [
    "# выведем эти данные с помощью столбчатой диаграммы\n",
    "plt.bar(cars.model, cars.stock);"
   ]
  },
  {
   "cell_type": "markdown",
   "id": "d96697a0-2f2c-4054-a331-b6609cac5325",
   "metadata": {},
   "source": [
    "__Порядковые данные__ - свойственна внутренняя иерархия, их можно проранжировать"
   ]
  },
  {
   "cell_type": "code",
   "execution_count": 4,
   "id": "18fed94d-f548-4266-8a2c-2f289a256417",
   "metadata": {},
   "outputs": [
    {
     "data": {
      "text/html": [
       "<div>\n",
       "<style scoped>\n",
       "    .dataframe tbody tr th:only-of-type {\n",
       "        vertical-align: middle;\n",
       "    }\n",
       "\n",
       "    .dataframe tbody tr th {\n",
       "        vertical-align: top;\n",
       "    }\n",
       "\n",
       "    .dataframe thead th {\n",
       "        text-align: right;\n",
       "    }\n",
       "</style>\n",
       "<table border=\"1\" class=\"dataframe\">\n",
       "  <thead>\n",
       "    <tr style=\"text-align: right;\">\n",
       "      <th></th>\n",
       "      <th>sat_level</th>\n",
       "    </tr>\n",
       "  </thead>\n",
       "  <tbody>\n",
       "    <tr>\n",
       "      <th>0</th>\n",
       "      <td>Good</td>\n",
       "    </tr>\n",
       "    <tr>\n",
       "      <th>1</th>\n",
       "      <td>Medium</td>\n",
       "    </tr>\n",
       "    <tr>\n",
       "      <th>2</th>\n",
       "      <td>Good</td>\n",
       "    </tr>\n",
       "    <tr>\n",
       "      <th>3</th>\n",
       "      <td>Medium</td>\n",
       "    </tr>\n",
       "    <tr>\n",
       "      <th>4</th>\n",
       "      <td>Bad</td>\n",
       "    </tr>\n",
       "    <tr>\n",
       "      <th>5</th>\n",
       "      <td>Medium</td>\n",
       "    </tr>\n",
       "    <tr>\n",
       "      <th>6</th>\n",
       "      <td>Good</td>\n",
       "    </tr>\n",
       "    <tr>\n",
       "      <th>7</th>\n",
       "      <td>Medium</td>\n",
       "    </tr>\n",
       "    <tr>\n",
       "      <th>8</th>\n",
       "      <td>Medium</td>\n",
       "    </tr>\n",
       "    <tr>\n",
       "      <th>9</th>\n",
       "      <td>Bad</td>\n",
       "    </tr>\n",
       "  </tbody>\n",
       "</table>\n",
       "</div>"
      ],
      "text/plain": [
       "  sat_level\n",
       "0      Good\n",
       "1    Medium\n",
       "2      Good\n",
       "3    Medium\n",
       "4       Bad\n",
       "5    Medium\n",
       "6      Good\n",
       "7    Medium\n",
       "8    Medium\n",
       "9       Bad"
      ]
     },
     "execution_count": 4,
     "metadata": {},
     "output_type": "execute_result"
    }
   ],
   "source": [
    "satisfaction = pd.DataFrame({'sat_level': ['Good', 'Medium', 'Good', 'Medium', 'Bad', 'Medium', 'Good', 'Medium', 'Medium', 'Bad']})\n",
    "\n",
    "satisfaction"
   ]
  },
  {
   "cell_type": "code",
   "execution_count": 5,
   "id": "aecc186b-8fdd-4366-adb2-90c6abdeecad",
   "metadata": {},
   "outputs": [
    {
     "name": "stderr",
     "output_type": "stream",
     "text": [
      "C:\\Users\\GIGABYTE\\anaconda3\\Lib\\site-packages\\seaborn\\categorical.py:641: FutureWarning: The default of observed=False is deprecated and will be changed to True in a future version of pandas. Pass observed=False to retain current behavior or observed=True to adopt the future default and silence this warning.\n",
      "  grouped_vals = vals.groupby(grouper)\n"
     ]
    },
    {
     "data": {
      "image/png": "[encoded data removed]",
      "text/plain": [
       "<Figure size 640x480 with 1 Axes>"
      ]
     },
     "metadata": {},
     "output_type": "display_data"
    }
   ],
   "source": [
    "# переведм данные в тип categorical \n",
    "satisfaction.sat_level = pd.Categorical(satisfaction.sat_level,\n",
    "                                        categories = ['Bad', 'Medium', 'Good'],\n",
    "                                        ordered = True)\n",
    "sns.countplot(x = 'sat_level', data = satisfaction);"
   ]
  },
  {
   "cell_type": "markdown",
   "id": "7ce77df1-a7eb-48b1-8e28-73211e6dc472",
   "metadata": {},
   "source": [
    "### __Количественные данные__"
   ]
  },
  {
   "cell_type": "markdown",
   "id": "6a2e5c44-9cc3-437c-8e52-ab6518f5e41f",
   "metadata": {},
   "source": [
    "__Дискретные данные__ - принимают строго определенные значения"
   ]
  },
  {
   "cell_type": "markdown",
   "id": "c704e78d-1a70-4313-943d-1de0cbcbeea9",
   "metadata": {},
   "source": [
    "__Неприрывные данные__ - всегда выражены неограниченным числом значений"
   ]
  },
  {
   "cell_type": "markdown",
   "id": "ae545bd5-af6d-45ae-9adc-19c6e8cb297e",
   "metadata": {},
   "source": [
    "__Распределение Пуассона__"
   ]
  },
  {
   "cell_type": "code",
   "execution_count": 18,
   "id": "96152ade-8799-4f70-9861-0eb0c44e8910",
   "metadata": {},
   "outputs": [
    {
     "data": {
      "text/plain": [
       "array([3, 4, 3, 3, 3, 5, 4, 3, 3, 5])"
      ]
     },
     "execution_count": 18,
     "metadata": {},
     "output_type": "execute_result"
    }
   ],
   "source": [
    "# передадим функции np.random.poisson()\n",
    "# матожидание (lam) и желаемое количество экспериметнов (size)\n",
    "res = np.random.poisson(lam = 3, size = 1000)\n",
    "# выведем первые 10 значений\n",
    "res[:10]"
   ]
  },
  {
   "cell_type": "code",
   "execution_count": 19,
   "id": "ae12f4e1-a358-4a6f-9f9f-9dd2d8bbea72",
   "metadata": {},
   "outputs": [
    {
     "data": {
      "text/plain": [
       "(array([ 0,  1,  2,  3,  4,  5,  6,  7,  8,  9, 11, 13]),\n",
       " array([ 59, 166, 222, 216, 193,  74,  37,  21,   8,   2,   1,   1],\n",
       "       dtype=int64))"
      ]
     },
     "execution_count": 19,
     "metadata": {},
     "output_type": "execute_result"
    }
   ],
   "source": [
    "# посмотрим сколько раз могло наступить событие и как часто оно встречалось\n",
    "unique, counts = np.unique(res, return_counts = True)\n",
    "unique, counts"
   ]
  },
  {
   "cell_type": "code",
   "execution_count": 21,
   "id": "79e31c84-a8a6-4744-8058-8601a25c38d8",
   "metadata": {},
   "outputs": [
    {
     "data": {
      "image/png": "[encoded data removed]",
      "text/plain": [
       "<Figure size 700x400 with 1 Axes>"
      ]
     },
     "metadata": {},
     "output_type": "display_data"
    }
   ],
   "source": [
    "plt.figure(figsize = (7, 4))\n",
    "\n",
    "# перед построением графика переведем значения unique в тип str \n",
    "plt.bar([str(x) for x in unique], counts, width = 0.95)\n",
    "plt.title('Абсолютное распределение частоты звонков в минуту', fontsize = 10)\n",
    "plt.xlabel('number of calls', fontsize = 10)\n",
    "plt.ylabel('count', fontsize = 10);"
   ]
  },
  {
   "cell_type": "code",
   "execution_count": 22,
   "id": "f308f56e-f773-43ac-b4a5-40faededdd67",
   "metadata": {},
   "outputs": [
    {
     "data": {
      "image/png": "[encoded data removed]",
      "text/plain": [
       "<Figure size 700x400 with 1 Axes>"
      ]
     },
     "metadata": {},
     "output_type": "display_data"
    }
   ],
   "source": [
    "# рассмотрим как распределено количество событий относительно их общего числа\n",
    "plt.figure(figsize = (7, 4))\n",
    "\n",
    "# для этого разделим количество звонков в каждом из столбцов на общее число звонков\n",
    "plt.bar([str(x) for x in unique], counts / len(res), width = 0.95)\n",
    "plt.title('Относительное распределение частоты звонков в минуту', fontsize = 10)\n",
    "plt.xlabel('количество звонков в минуту', fontsize = 10)\n",
    "plt.ylabel('относительная частота', fontsize = 10);"
   ]
  },
  {
   "cell_type": "code",
   "execution_count": 23,
   "id": "e0ef0a45-57b1-431f-b959-f9a3827b0e2a",
   "metadata": {},
   "outputs": [
    {
     "data": {
      "text/plain": [
       "0.033"
      ]
     },
     "execution_count": 23,
     "metadata": {},
     "output_type": "execute_result"
    }
   ],
   "source": [
    "# какова вероятность получить более шести звонков в минуту\n",
    "# разделим число наблюдений, в которых было более шести звонков, на их общее количество\n",
    "np.round(len(res[res > 6])/len(res), 3)"
   ]
  },
  {
   "cell_type": "code",
   "execution_count": 24,
   "id": "c730f274-b285-4189-be19-4ba0c85a600b",
   "metadata": {},
   "outputs": [
    {
     "data": {
      "text/plain": [
       "0.705"
      ]
     },
     "execution_count": 24,
     "metadata": {},
     "output_type": "execute_result"
    }
   ],
   "source": [
    "# какова вероятность получить от двух до шести звонков в минуту\n",
    "np.round(len(res[res <6])/len(res) - len(res[res < 2])/len(res), 3)"
   ]
  }
 ],
 "metadata": {
  "kernelspec": {
   "display_name": "Python 3 (ipykernel)",
   "language": "python",
   "name": "python3"
  },
  "language_info": {
   "codemirror_mode": {
    "name": "ipython",
    "version": 3
   },
   "file_extension": ".py",
   "mimetype": "text/x-python",
   "name": "python",
   "nbconvert_exporter": "python",
   "pygments_lexer": "ipython3",
   "version": "3.11.7"
  }
 },
 "nbformat": 4,
 "nbformat_minor": 5
}
