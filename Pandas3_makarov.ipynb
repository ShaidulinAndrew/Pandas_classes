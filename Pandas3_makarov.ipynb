{
 "cells": [
  {
   "cell_type": "code",
   "execution_count": 1,
   "id": "305d2865-c6a7-4e3b-9936-515ca66df443",
   "metadata": {},
   "outputs": [],
   "source": [
    "import pandas as pd\n",
    "import numpy as np\n",
    "\n",
    "import matplotlib.pyplot as plt\n",
    "\n",
    "import seaborn as sns\n",
    "\n",
    "from scipy.stats import poisson"
   ]
  },
  {
   "cell_type": "markdown",
   "id": "6b59187e-e601-439d-91fb-4719a8da2a42",
   "metadata": {},
   "source": [
    "### __Качественные (категориальные) данные__ - описывают принадледжность объекта к определенной группе"
   ]
  },
  {
   "cell_type": "markdown",
   "id": "898914f4-ab62-4123-851c-f7ca5bee3436",
   "metadata": {},
   "source": [
    "__Номинальные данные__ - не могут быть упорядочены, их сравнение не имеет смыла"
   ]
  },
  {
   "cell_type": "code",
   "execution_count": 2,
   "id": "60fad0e2-0357-41b8-8e4f-40cf207f5ea8",
   "metadata": {},
   "outputs": [
    {
     "data": {
      "text/html": [
       "<div>\n",
       "<style scoped>\n",
       "    .dataframe tbody tr th:only-of-type {\n",
       "        vertical-align: middle;\n",
       "    }\n",
       "\n",
       "    .dataframe tbody tr th {\n",
       "        vertical-align: top;\n",
       "    }\n",
       "\n",
       "    .dataframe thead th {\n",
       "        text-align: right;\n",
       "    }\n",
       "</style>\n",
       "<table border=\"1\" class=\"dataframe\">\n",
       "  <thead>\n",
       "    <tr style=\"text-align: right;\">\n",
       "      <th></th>\n",
       "      <th>model</th>\n",
       "      <th>stock</th>\n",
       "    </tr>\n",
       "  </thead>\n",
       "  <tbody>\n",
       "    <tr>\n",
       "      <th>0</th>\n",
       "      <td>Renault</td>\n",
       "      <td>12</td>\n",
       "    </tr>\n",
       "    <tr>\n",
       "      <th>1</th>\n",
       "      <td>Hyundai</td>\n",
       "      <td>36</td>\n",
       "    </tr>\n",
       "    <tr>\n",
       "      <th>2</th>\n",
       "      <td>KIA</td>\n",
       "      <td>28</td>\n",
       "    </tr>\n",
       "    <tr>\n",
       "      <th>3</th>\n",
       "      <td>Toyota</td>\n",
       "      <td>32</td>\n",
       "    </tr>\n",
       "  </tbody>\n",
       "</table>\n",
       "</div>"
      ],
      "text/plain": [
       "     model  stock\n",
       "0  Renault     12\n",
       "1  Hyundai     36\n",
       "2      KIA     28\n",
       "3   Toyota     32"
      ]
     },
     "execution_count": 2,
     "metadata": {},
     "output_type": "execute_result"
    }
   ],
   "source": [
    "cars = pd.DataFrame({'model' : ['Renault', 'Hyundai', 'KIA', 'Toyota'],\n",
    "              'stock' : [12, 36, 28, 32]})\n",
    "\n",
    "cars"
   ]
  },
  {
   "cell_type": "code",
   "execution_count": 3,
   "id": "ff1f477a-c6b0-408e-afe0-0b94362ca7b2",
   "metadata": {},
   "outputs": [
    {
     "data": {
      "image/png": "[encoded data removed]",
      "text/plain": [
       "<Figure size 640x480 with 1 Axes>"
      ]
     },
     "metadata": {},
     "output_type": "display_data"
    }
   ],
   "source": [
    "# выведем эти данные с помощью столбчатой диаграммы\n",
    "plt.bar(cars.model, cars.stock);"
   ]
  },
  {
   "cell_type": "markdown",
   "id": "d96697a0-2f2c-4054-a331-b6609cac5325",
   "metadata": {},
   "source": [
    "__Порядковые данные__ - свойственна внутренняя иерархия, их можно проранжировать"
   ]
  },
  {
   "cell_type": "code",
   "execution_count": 4,
   "id": "18fed94d-f548-4266-8a2c-2f289a256417",
   "metadata": {},
   "outputs": [
    {
     "data": {
      "text/html": [
       "<div>\n",
       "<style scoped>\n",
       "    .dataframe tbody tr th:only-of-type {\n",
       "        vertical-align: middle;\n",
       "    }\n",
       "\n",
       "    .dataframe tbody tr th {\n",
       "        vertical-align: top;\n",
       "    }\n",
       "\n",
       "    .dataframe thead th {\n",
       "        text-align: right;\n",
       "    }\n",
       "</style>\n",
       "<table border=\"1\" class=\"dataframe\">\n",
       "  <thead>\n",
       "    <tr style=\"text-align: right;\">\n",
       "      <th></th>\n",
       "      <th>sat_level</th>\n",
       "    </tr>\n",
       "  </thead>\n",
       "  <tbody>\n",
       "    <tr>\n",
       "      <th>0</th>\n",
       "      <td>Good</td>\n",
       "    </tr>\n",
       "    <tr>\n",
       "      <th>1</th>\n",
       "      <td>Medium</td>\n",
       "    </tr>\n",
       "    <tr>\n",
       "      <th>2</th>\n",
       "      <td>Good</td>\n",
       "    </tr>\n",
       "    <tr>\n",
       "      <th>3</th>\n",
       "      <td>Medium</td>\n",
       "    </tr>\n",
       "    <tr>\n",
       "      <th>4</th>\n",
       "      <td>Bad</td>\n",
       "    </tr>\n",
       "    <tr>\n",
       "      <th>5</th>\n",
       "      <td>Medium</td>\n",
       "    </tr>\n",
       "    <tr>\n",
       "      <th>6</th>\n",
       "      <td>Good</td>\n",
       "    </tr>\n",
       "    <tr>\n",
       "      <th>7</th>\n",
       "      <td>Medium</td>\n",
       "    </tr>\n",
       "    <tr>\n",
       "      <th>8</th>\n",
       "      <td>Medium</td>\n",
       "    </tr>\n",
       "    <tr>\n",
       "      <th>9</th>\n",
       "      <td>Bad</td>\n",
       "    </tr>\n",
       "  </tbody>\n",
       "</table>\n",
       "</div>"
      ],
      "text/plain": [
       "  sat_level\n",
       "0      Good\n",
       "1    Medium\n",
       "2      Good\n",
       "3    Medium\n",
       "4       Bad\n",
       "5    Medium\n",
       "6      Good\n",
       "7    Medium\n",
       "8    Medium\n",
       "9       Bad"
      ]
     },
     "execution_count": 4,
     "metadata": {},
     "output_type": "execute_result"
    }
   ],
   "source": [
    "satisfaction = pd.DataFrame({'sat_level': ['Good', 'Medium', 'Good', 'Medium', 'Bad', 'Medium', 'Good', 'Medium', 'Medium', 'Bad']})\n",
    "\n",
    "satisfaction"
   ]
  },
  {
   "cell_type": "code",
   "execution_count": 5,
   "id": "aecc186b-8fdd-4366-adb2-90c6abdeecad",
   "metadata": {},
   "outputs": [
    {
     "name": "stderr",
     "output_type": "stream",
     "text": [
      "C:\\Users\\GIGABYTE\\anaconda3\\Lib\\site-packages\\seaborn\\categorical.py:641: FutureWarning: The default of observed=False is deprecated and will be changed to True in a future version of pandas. Pass observed=False to retain current behavior or observed=True to adopt the future default and silence this warning.\n",
      "  grouped_vals = vals.groupby(grouper)\n"
     ]
    },
    {
     "data": {
      "image/png": "[encoded data removed]",
      "text/plain": [
       "<Figure size 640x480 with 1 Axes>"
      ]
     },
     "metadata": {},
     "output_type": "display_data"
    }
   ],
   "source": [
    "# переведм данные в тип categorical \n",
    "satisfaction.sat_level = pd.Categorical(satisfaction.sat_level,\n",
    "                                        categories = ['Bad', 'Medium', 'Good'],\n",
    "                                        ordered = True)\n",
    "sns.countplot(x = 'sat_level', data = satisfaction);"
   ]
  },
  {
   "cell_type": "markdown",
   "id": "7ce77df1-a7eb-48b1-8e28-73211e6dc472",
   "metadata": {},
   "source": [
    "### __Количественные данные__"
   ]
  },
  {
   "cell_type": "markdown",
   "id": "6a2e5c44-9cc3-437c-8e52-ab6518f5e41f",
   "metadata": {},
   "source": [
    "__Дискретные данные__ - принимают строго определенные значения"
   ]
  },
  {
   "cell_type": "markdown",
   "id": "c704e78d-1a70-4313-943d-1de0cbcbeea9",
   "metadata": {},
   "source": [
    "__Неприрывные данные__ - всегда выражены неограниченным числом значений"
   ]
  },
  {
   "cell_type": "markdown",
   "id": "ae545bd5-af6d-45ae-9adc-19c6e8cb297e",
   "metadata": {},
   "source": [
    "__Распределение Пуассона__"
   ]
  },
  {
   "cell_type": "code",
   "execution_count": 6,
   "id": "96152ade-8799-4f70-9861-0eb0c44e8910",
   "metadata": {},
   "outputs": [
    {
     "data": {
      "text/plain": [
       "array([2, 3, 2, 4, 2, 2, 3, 1, 3, 3])"
      ]
     },
     "execution_count": 6,
     "metadata": {},
     "output_type": "execute_result"
    }
   ],
   "source": [
    "# передадим функции np.random.poisson()\n",
    "# матожидание (lam) и желаемое количество экспериметнов (size)\n",
    "res = np.random.poisson(lam = 3, size = 1000)\n",
    "# выведем первые 10 значений\n",
    "res[:10]"
   ]
  },
  {
   "cell_type": "code",
   "execution_count": 7,
   "id": "ae12f4e1-a358-4a6f-9f9f-9dd2d8bbea72",
   "metadata": {},
   "outputs": [
    {
     "data": {
      "text/plain": [
       "(array([ 0,  1,  2,  3,  4,  5,  6,  7,  8,  9, 10, 11]),\n",
       " array([ 42, 137, 237, 225, 178,  96,  46,  23,  12,   2,   1,   1],\n",
       "       dtype=int64))"
      ]
     },
     "execution_count": 7,
     "metadata": {},
     "output_type": "execute_result"
    }
   ],
   "source": [
    "# посмотрим сколько раз могло наступить событие и как часто оно встречалось\n",
    "unique, counts = np.unique(res, return_counts = True)\n",
    "unique, counts"
   ]
  },
  {
   "cell_type": "code",
   "execution_count": 8,
   "id": "79e31c84-a8a6-4744-8058-8601a25c38d8",
   "metadata": {},
   "outputs": [
    {
     "data": {
      "image/png": "[encoded data removed]",
      "text/plain": [
       "<Figure size 700x400 with 1 Axes>"
      ]
     },
     "metadata": {},
     "output_type": "display_data"
    }
   ],
   "source": [
    "plt.figure(figsize = (7, 4))\n",
    "\n",
    "# перед построением графика переведем значения unique в тип str \n",
    "plt.bar([str(x) for x in unique], counts, width = 0.95)\n",
    "plt.title('Абсолютное распределение частоты звонков в минуту', fontsize = 10)\n",
    "plt.xlabel('number of calls', fontsize = 10)\n",
    "plt.ylabel('count', fontsize = 10);"
   ]
  },
  {
   "cell_type": "code",
   "execution_count": 9,
   "id": "f308f56e-f773-43ac-b4a5-40faededdd67",
   "metadata": {},
   "outputs": [
    {
     "data": {
      "image/png": "[encoded data removed]",
      "text/plain": [
       "<Figure size 700x400 with 1 Axes>"
      ]
     },
     "metadata": {},
     "output_type": "display_data"
    }
   ],
   "source": [
    "# рассмотрим как распределено количество событий относительно их общего числа\n",
    "plt.figure(figsize = (7, 4))\n",
    "\n",
    "# для этого разделим количество звонков в каждом из столбцов на общее число звонков\n",
    "plt.bar([str(x) for x in unique], counts / len(res), width = 0.95)\n",
    "plt.title('Относительное распределение частоты звонков в минуту', fontsize = 10)\n",
    "plt.xlabel('количество звонков в минуту', fontsize = 10)\n",
    "plt.ylabel('относительная частота', fontsize = 10);"
   ]
  },
  {
   "cell_type": "code",
   "execution_count": 10,
   "id": "e0ef0a45-57b1-431f-b959-f9a3827b0e2a",
   "metadata": {},
   "outputs": [
    {
     "data": {
      "text/plain": [
       "0.039"
      ]
     },
     "execution_count": 10,
     "metadata": {},
     "output_type": "execute_result"
    }
   ],
   "source": [
    "# какова вероятность получить более шести звонков в минуту\n",
    "# разделим число наблюдений, в которых было более шести звонков, на их общее количество\n",
    "np.round(len(res[res > 6])/len(res), 3)"
   ]
  },
  {
   "cell_type": "code",
   "execution_count": 11,
   "id": "c730f274-b285-4189-be19-4ba0c85a600b",
   "metadata": {},
   "outputs": [
    {
     "data": {
      "text/plain": [
       "0.736"
      ]
     },
     "execution_count": 11,
     "metadata": {},
     "output_type": "execute_result"
    }
   ],
   "source": [
    "# какова вероятность получить от двух до шести звонков в минуту\n",
    "np.round(len(res[res <6])/len(res) - len(res[res < 2])/len(res), 3)"
   ]
  },
  {
   "cell_type": "markdown",
   "id": "a6205e46-39b9-4221-855a-ce0b776ad9dc",
   "metadata": {},
   "source": [
    "__Воспользуемся библиотекой scipy__"
   ]
  },
  {
   "cell_type": "code",
   "execution_count": 12,
   "id": "af41b490-a251-455d-85a4-b71043f4a2b8",
   "metadata": {},
   "outputs": [
    {
     "data": {
      "image/png": "[encoded data removed]",
      "text/plain": [
       "<Figure size 700x400 with 1 Axes>"
      ]
     },
     "metadata": {},
     "output_type": "display_data"
    }
   ],
   "source": [
    "# создадим последовательность целых чисел от 0 до 14\n",
    "x = np.arange(15)\n",
    "# передадим им в функцию poisson.pmf()\n",
    "# mu в данном случае это матожидание (lambda из формулы)\n",
    "f = poisson.pmf(x, mu = 3)\n",
    "\n",
    "# построим график теоретического распределения, изменив для наглядности его цвет\n",
    "plt.figure(figsize = (7,4))\n",
    "plt.bar([str(x) for x in x], f, width = 0.95, color = 'green')\n",
    "plt.title('Теоретическое распределение количества звонков в минуту', fontsize = 10)\n",
    "plt.xlabel('количество звонков в минуту', fontsize = 10)\n",
    "plt.ylabel('относительная частота', fontsize = 10);"
   ]
  },
  {
   "cell_type": "markdown",
   "id": "9233fbaa-a4bf-4771-933f-665b4b7d826c",
   "metadata": {},
   "source": [
    "__функция poisson.cdf()__"
   ]
  },
  {
   "cell_type": "code",
   "execution_count": 13,
   "id": "f654d5dd-a94d-41c5-a3f8-4346d3558d75",
   "metadata": {},
   "outputs": [
    {
     "data": {
      "text/plain": [
       "0.199"
      ]
     },
     "execution_count": 13,
     "metadata": {},
     "output_type": "execute_result"
    }
   ],
   "source": [
    "# рассчитаем вероятность получения нуля звонков или одного звонка в час\n",
    "# на графике это сумма площадей первого и второго столбцов\n",
    "poisson.cdf(1, 3).round(3)"
   ]
  },
  {
   "cell_type": "code",
   "execution_count": 14,
   "id": "3ce586b6-2dbf-4e35-a5a9-a6ae036e9b00",
   "metadata": {},
   "outputs": [
    {
     "data": {
      "text/plain": [
       "0.034"
      ]
     },
     "execution_count": 14,
     "metadata": {},
     "output_type": "execute_result"
    }
   ],
   "source": [
    "# найдем площадь столбцов до шести звонков в минуту включительно\n",
    "# и вычтем результат из единицы\n",
    "np.round(1 - poisson.cdf(6, 3), 3)"
   ]
  },
  {
   "cell_type": "code",
   "execution_count": 15,
   "id": "b4328f99-ccd6-4564-89e9-d6dc1e1289d4",
   "metadata": {},
   "outputs": [
    {
     "data": {
      "text/plain": [
       "0.767"
      ]
     },
     "execution_count": 15,
     "metadata": {},
     "output_type": "execute_result"
    }
   ],
   "source": [
    "# для выполнения второго задания вычтем площадь столбцов ноль и один\n",
    "# из площади столбцов до шестого включительно\n",
    "np.round(poisson.cdf(6, 3) - poisson.cdf(1, 3), 3)"
   ]
  },
  {
   "cell_type": "markdown",
   "id": "25725820-7c29-4323-9fcc-433f5b2c1121",
   "metadata": {},
   "source": [
    "### __Перекрестные данные__"
   ]
  },
  {
   "cell_type": "code",
   "execution_count": 18,
   "id": "a73fc062-f7c5-4c37-8f6f-124aa3300dfb",
   "metadata": {},
   "outputs": [
    {
     "data": {
      "text/html": [
       "<div>\n",
       "<style scoped>\n",
       "    .dataframe tbody tr th:only-of-type {\n",
       "        vertical-align: middle;\n",
       "    }\n",
       "\n",
       "    .dataframe tbody tr th {\n",
       "        vertical-align: top;\n",
       "    }\n",
       "\n",
       "    .dataframe thead th {\n",
       "        text-align: right;\n",
       "    }\n",
       "</style>\n",
       "<table border=\"1\" class=\"dataframe\">\n",
       "  <thead>\n",
       "    <tr style=\"text-align: right;\">\n",
       "      <th></th>\n",
       "      <th>countries</th>\n",
       "      <th>healthcare</th>\n",
       "      <th>education</th>\n",
       "    </tr>\n",
       "  </thead>\n",
       "  <tbody>\n",
       "    <tr>\n",
       "      <th>0</th>\n",
       "      <td>France</td>\n",
       "      <td>4492</td>\n",
       "      <td>9210</td>\n",
       "    </tr>\n",
       "    <tr>\n",
       "      <th>1</th>\n",
       "      <td>Belgium</td>\n",
       "      <td>5428</td>\n",
       "      <td>10869</td>\n",
       "    </tr>\n",
       "    <tr>\n",
       "      <th>2</th>\n",
       "      <td>Spain</td>\n",
       "      <td>3616</td>\n",
       "      <td>6498</td>\n",
       "    </tr>\n",
       "  </tbody>\n",
       "</table>\n",
       "</div>"
      ],
      "text/plain": [
       "  countries  healthcare  education\n",
       "0    France        4492       9210\n",
       "1   Belgium        5428      10869\n",
       "2     Spain        3616       6498"
      ]
     },
     "execution_count": 18,
     "metadata": {},
     "output_type": "execute_result"
    }
   ],
   "source": [
    "# создадим dataframe\n",
    "csect = pd.DataFrame({'countries' : ['France', 'Belgium', 'Spain'],\n",
    "                      'healthcare' : [4492, 5428, 3616],\n",
    "                      'education' : [9210, 10869, 6498]})\n",
    "\n",
    "csect"
   ]
  },
  {
   "cell_type": "code",
   "execution_count": 24,
   "id": "95d1e410-36b2-4091-a66b-f82fefb1ec02",
   "metadata": {},
   "outputs": [
    {
     "data": {
      "text/plain": [
       "<function matplotlib.pyplot.show(close=None, block=None)>"
      ]
     },
     "execution_count": 24,
     "metadata": {},
     "output_type": "execute_result"
    },
    {
     "data": {
      "image/png": "[encoded data removed]",
      "text/plain": [
       "<Figure size 1000x500 with 2 Axes>"
      ]
     },
     "metadata": {},
     "output_type": "display_data"
    }
   ],
   "source": [
    "plt.figure(figsize = (10, 5))\n",
    "\n",
    "plt.subplot(1, 2, 1) # передаваемые параметры: nrows, ncols, index\n",
    "plt.bar(csect.countries, csect.healthcare)\n",
    "plt.title('Здравоохранение', fontsize = 10)\n",
    "plt.xlabel('Страны', fontsize = 8)\n",
    "plt.ylabel('Доллары США на душу населения', fontsize = 8)\n",
    "\n",
    "plt.subplot(122)\n",
    "plt.bar(csect.countries, csect.education, color = 'orange')\n",
    "plt.title('Образование', fontsize = 10)\n",
    "plt.xlabel('Страны', fontsize = 8)\n",
    "plt.ylabel('Увро на одного учащегося', fontsize = 8)\n",
    "\n",
    "# отрегулируем пространство между графиками\n",
    "plt.subplots_adjust(wspace = 0.4)\n",
    "\n",
    "# зададим общий график\n",
    "plt.suptitle('Расходы на здравоохранение и образование в 2019 году', fontsize = 12)\n",
    "\n",
    "plt.show"
   ]
  },
  {
   "cell_type": "markdown",
   "id": "92adec8d-ed07-4352-a965-5ae423c64e3a",
   "metadata": {},
   "source": [
    "### __Временные ряды__"
   ]
  },
  {
   "cell_type": "code",
   "execution_count": 27,
   "id": "8281e53e-905a-4544-a65e-cc55010b2c3f",
   "metadata": {},
   "outputs": [
    {
     "data": {
      "text/html": [
       "<div>\n",
       "<style scoped>\n",
       "    .dataframe tbody tr th:only-of-type {\n",
       "        vertical-align: middle;\n",
       "    }\n",
       "\n",
       "    .dataframe tbody tr th {\n",
       "        vertical-align: top;\n",
       "    }\n",
       "\n",
       "    .dataframe thead th {\n",
       "        text-align: right;\n",
       "    }\n",
       "</style>\n",
       "<table border=\"1\" class=\"dataframe\">\n",
       "  <thead>\n",
       "    <tr style=\"text-align: right;\">\n",
       "      <th></th>\n",
       "      <th>healthcare</th>\n",
       "    </tr>\n",
       "    <tr>\n",
       "      <th>year</th>\n",
       "      <th></th>\n",
       "    </tr>\n",
       "  </thead>\n",
       "  <tbody>\n",
       "    <tr>\n",
       "      <th>2010-01-01</th>\n",
       "      <td>4598</td>\n",
       "    </tr>\n",
       "    <tr>\n",
       "      <th>2011-01-01</th>\n",
       "      <td>4939</td>\n",
       "    </tr>\n",
       "    <tr>\n",
       "      <th>2012-01-01</th>\n",
       "      <td>4651</td>\n",
       "    </tr>\n",
       "    <tr>\n",
       "      <th>2013-01-01</th>\n",
       "      <td>4902</td>\n",
       "    </tr>\n",
       "    <tr>\n",
       "      <th>2014-01-01</th>\n",
       "      <td>4999</td>\n",
       "    </tr>\n",
       "    <tr>\n",
       "      <th>2015-01-01</th>\n",
       "      <td>4208</td>\n",
       "    </tr>\n",
       "    <tr>\n",
       "      <th>2016-01-01</th>\n",
       "      <td>4268</td>\n",
       "    </tr>\n",
       "    <tr>\n",
       "      <th>2017-01-01</th>\n",
       "      <td>4425</td>\n",
       "    </tr>\n",
       "    <tr>\n",
       "      <th>2018-01-01</th>\n",
       "      <td>4690</td>\n",
       "    </tr>\n",
       "    <tr>\n",
       "      <th>2019-01-01</th>\n",
       "      <td>4492</td>\n",
       "    </tr>\n",
       "  </tbody>\n",
       "</table>\n",
       "</div>"
      ],
      "text/plain": [
       "            healthcare\n",
       "year                  \n",
       "2010-01-01        4598\n",
       "2011-01-01        4939\n",
       "2012-01-01        4651\n",
       "2013-01-01        4902\n",
       "2014-01-01        4999\n",
       "2015-01-01        4208\n",
       "2016-01-01        4268\n",
       "2017-01-01        4425\n",
       "2018-01-01        4690\n",
       "2019-01-01        4492"
      ]
     },
     "execution_count": 27,
     "metadata": {},
     "output_type": "execute_result"
    }
   ],
   "source": [
    "# создадим временной ряд расходов на здравоохранение \n",
    "tseries = pd.DataFrame({'year' : [2010, 2011, 2012, 2013, 2014, 2015, 2016, 2017, 2018, 2019],\n",
    "                       'healthcare' : [4598, 4939, 4651, 4902, 4999, 4208, 4268, 4425, 4690, 4492]})\n",
    "\n",
    "# преобразуем год в объект datetime\n",
    "tseries.year = pd.to_datetime(tseries.year, format = '%Y')\n",
    "# и сделаем этот столбец индексом\n",
    "tseries.set_index('year', drop = True, inplace = True)\n",
    "\n",
    "tseries"
   ]
  },
  {
   "cell_type": "code",
   "execution_count": 33,
   "id": "22d1a02e-aa1d-41b8-8efb-78ee62e2e629",
   "metadata": {},
   "outputs": [
    {
     "data": {
      "text/plain": [
       "Text(0.5, 1.0, 'Расходы на здравоохранение на душу населения во Франции с 2010 по 2019 годы')"
      ]
     },
     "execution_count": 33,
     "metadata": {},
     "output_type": "execute_result"
    },
    {
     "data": {
      "image/png": "[encoded data removed]",
      "text/plain": [
       "<Figure size 1000x300 with 1 Axes>"
      ]
     },
     "metadata": {},
     "output_type": "display_data"
    }
   ],
   "source": [
    "plt.figure(figsize = (10, 3))\n",
    "# укажем цвет, толщину линии и вид маркера\\\n",
    "plt.plot(tseries, color = 'green', linewidth = 2, marker = 'o')\n",
    "\n",
    "plt.xlabel('Годы', fontsize = 8)\n",
    "plt.ylabel('Доллары США', fontsize = 8)\n",
    "plt.title('Расходы на здравоохранение на душу населения во Франции с 2010 по 2019 годы', fontsize = 10)"
   ]
  },
  {
   "cell_type": "markdown",
   "id": "b276de7b-d886-430b-a390-7bf4702c1c4a",
   "metadata": {},
   "source": [
    "__Панельные данные__"
   ]
  },
  {
   "cell_type": "code",
   "execution_count": 35,
   "id": "a13bc975-23fd-4946-8b3f-e1b617391915",
   "metadata": {},
   "outputs": [],
   "source": [
    "pdata = pd.DataFrame({'healthcare' : [4208, 4268, 4425, 4690, 4492, 4290, 4323, 4618, 4913, 4960, 2349, 2377, 2523, 2736, 2542]})"
   ]
  },
  {
   "cell_type": "code",
   "execution_count": 38,
   "id": "a8e94de6-c9a3-48f2-866d-d76b3c2a753a",
   "metadata": {},
   "outputs": [
    {
     "data": {
      "text/html": [
       "<div>\n",
       "<style scoped>\n",
       "    .dataframe tbody tr th:only-of-type {\n",
       "        vertical-align: middle;\n",
       "    }\n",
       "\n",
       "    .dataframe tbody tr th {\n",
       "        vertical-align: top;\n",
       "    }\n",
       "\n",
       "    .dataframe thead th {\n",
       "        text-align: right;\n",
       "    }\n",
       "</style>\n",
       "<table border=\"1\" class=\"dataframe\">\n",
       "  <thead>\n",
       "    <tr style=\"text-align: right;\">\n",
       "      <th></th>\n",
       "      <th></th>\n",
       "      <th>healthcare</th>\n",
       "    </tr>\n",
       "    <tr>\n",
       "      <th>country</th>\n",
       "      <th>year</th>\n",
       "      <th></th>\n",
       "    </tr>\n",
       "  </thead>\n",
       "  <tbody>\n",
       "    <tr>\n",
       "      <th rowspan=\"5\" valign=\"top\">France</th>\n",
       "      <th>2015</th>\n",
       "      <td>4208</td>\n",
       "    </tr>\n",
       "    <tr>\n",
       "      <th>2016</th>\n",
       "      <td>4268</td>\n",
       "    </tr>\n",
       "    <tr>\n",
       "      <th>2017</th>\n",
       "      <td>4425</td>\n",
       "    </tr>\n",
       "    <tr>\n",
       "      <th>2018</th>\n",
       "      <td>4690</td>\n",
       "    </tr>\n",
       "    <tr>\n",
       "      <th>2019</th>\n",
       "      <td>4492</td>\n",
       "    </tr>\n",
       "    <tr>\n",
       "      <th rowspan=\"5\" valign=\"top\">Belgium</th>\n",
       "      <th>2015</th>\n",
       "      <td>4290</td>\n",
       "    </tr>\n",
       "    <tr>\n",
       "      <th>2016</th>\n",
       "      <td>4323</td>\n",
       "    </tr>\n",
       "    <tr>\n",
       "      <th>2017</th>\n",
       "      <td>4618</td>\n",
       "    </tr>\n",
       "    <tr>\n",
       "      <th>2018</th>\n",
       "      <td>4913</td>\n",
       "    </tr>\n",
       "    <tr>\n",
       "      <th>2019</th>\n",
       "      <td>4960</td>\n",
       "    </tr>\n",
       "    <tr>\n",
       "      <th rowspan=\"5\" valign=\"top\">Spain</th>\n",
       "      <th>2015</th>\n",
       "      <td>2349</td>\n",
       "    </tr>\n",
       "    <tr>\n",
       "      <th>2016</th>\n",
       "      <td>2377</td>\n",
       "    </tr>\n",
       "    <tr>\n",
       "      <th>2017</th>\n",
       "      <td>2523</td>\n",
       "    </tr>\n",
       "    <tr>\n",
       "      <th>2018</th>\n",
       "      <td>2736</td>\n",
       "    </tr>\n",
       "    <tr>\n",
       "      <th>2019</th>\n",
       "      <td>2542</td>\n",
       "    </tr>\n",
       "  </tbody>\n",
       "</table>\n",
       "</div>"
      ],
      "text/plain": [
       "              healthcare\n",
       "country year            \n",
       "France  2015        4208\n",
       "        2016        4268\n",
       "        2017        4425\n",
       "        2018        4690\n",
       "        2019        4492\n",
       "Belgium 2015        4290\n",
       "        2016        4323\n",
       "        2017        4618\n",
       "        2018        4913\n",
       "        2019        4960\n",
       "Spain   2015        2349\n",
       "        2016        2377\n",
       "        2017        2523\n",
       "        2018        2736\n",
       "        2019        2542"
      ]
     },
     "execution_count": 38,
     "metadata": {},
     "output_type": "execute_result"
    }
   ],
   "source": [
    "# Подготовим кортежи для иерархического индекса\n",
    "rows = [('France', '2015'),\n",
    "        ('France', '2016'),\n",
    "        ('France', '2017'),\n",
    "        ('France', '2018'),\n",
    "        ('France', '2019'),\n",
    "        ('Belgium', '2015'),\n",
    "        ('Belgium', '2016'),\n",
    "        ('Belgium', '2017'),\n",
    "        ('Belgium', '2018'),\n",
    "        ('Belgium', '2019'),\n",
    "        ('Spain', '2015'),\n",
    "        ('Spain', '2016'),\n",
    "        ('Spain', '2017'),\n",
    "        ('Spain', '2018'),\n",
    "        ('Spain', '2019')]\n",
    "\n",
    "# передадим кортежи в функцию pd.MultiIndex.from_tuples(), указав названия уровней индекса\n",
    "custom_multindex = pd.MultiIndex.from_tuples(rows, names = ['country', 'year'])\n",
    "\n",
    "# сделаем custom_multindex индексом датафрейма с панелььными данными\n",
    "pdata.index = custom_multindex\n",
    "\n",
    "pdata"
   ]
  },
  {
   "cell_type": "markdown",
   "id": "23a957f7-528e-42fd-aca7-9d5a6c651b76",
   "metadata": {},
   "source": [
    "__Визуализация панельных данных__"
   ]
  },
  {
   "cell_type": "code",
   "execution_count": 39,
   "id": "8cb33573-c4d4-4d9b-b827-17b97c36f221",
   "metadata": {},
   "outputs": [
    {
     "data": {
      "text/html": [
       "<div>\n",
       "<style scoped>\n",
       "    .dataframe tbody tr th:only-of-type {\n",
       "        vertical-align: middle;\n",
       "    }\n",
       "\n",
       "    .dataframe tbody tr th {\n",
       "        vertical-align: top;\n",
       "    }\n",
       "\n",
       "    .dataframe thead th {\n",
       "        text-align: right;\n",
       "    }\n",
       "</style>\n",
       "<table border=\"1\" class=\"dataframe\">\n",
       "  <thead>\n",
       "    <tr style=\"text-align: right;\">\n",
       "      <th>country</th>\n",
       "      <th>Belgium</th>\n",
       "      <th>France</th>\n",
       "      <th>Spain</th>\n",
       "    </tr>\n",
       "    <tr>\n",
       "      <th>year</th>\n",
       "      <th></th>\n",
       "      <th></th>\n",
       "      <th></th>\n",
       "    </tr>\n",
       "  </thead>\n",
       "  <tbody>\n",
       "    <tr>\n",
       "      <th>2015</th>\n",
       "      <td>4290</td>\n",
       "      <td>4208</td>\n",
       "      <td>2349</td>\n",
       "    </tr>\n",
       "    <tr>\n",
       "      <th>2016</th>\n",
       "      <td>4323</td>\n",
       "      <td>4268</td>\n",
       "      <td>2377</td>\n",
       "    </tr>\n",
       "    <tr>\n",
       "      <th>2017</th>\n",
       "      <td>4618</td>\n",
       "      <td>4425</td>\n",
       "      <td>2523</td>\n",
       "    </tr>\n",
       "    <tr>\n",
       "      <th>2018</th>\n",
       "      <td>4913</td>\n",
       "      <td>4690</td>\n",
       "      <td>2736</td>\n",
       "    </tr>\n",
       "    <tr>\n",
       "      <th>2019</th>\n",
       "      <td>4960</td>\n",
       "      <td>4492</td>\n",
       "      <td>2542</td>\n",
       "    </tr>\n",
       "  </tbody>\n",
       "</table>\n",
       "</div>"
      ],
      "text/plain": [
       "country  Belgium  France  Spain\n",
       "year                           \n",
       "2015        4290    4208   2349\n",
       "2016        4323    4268   2377\n",
       "2017        4618    4425   2523\n",
       "2018        4913    4690   2736\n",
       "2019        4960    4492   2542"
      ]
     },
     "execution_count": 39,
     "metadata": {},
     "output_type": "execute_result"
    }
   ],
   "source": [
    "# превратим трехмерный массив обратно в двумерный с помощью метода .unstack()\n",
    "pdata_unstacked = pdata.healthcare.unstack(level = 0)\n",
    "\n",
    "pdata_unstacked"
   ]
  },
  {
   "cell_type": "code",
   "execution_count": 42,
   "id": "18478147-bfab-4ca4-a81b-85d12f837ab1",
   "metadata": {},
   "outputs": [
    {
     "data": {
      "image/png": "[encoded data removed]",
      "text/plain": [
       "<Figure size 900x300 with 1 Axes>"
      ]
     },
     "metadata": {},
     "output_type": "display_data"
    }
   ],
   "source": [
    "plt.figure(figsize = (9, 3))\n",
    "\n",
    "# построим три кривые\n",
    "pdata_unstacked.Belgium.plot(linewidth = 2, marker = 'o', label = 'Бельгия')\n",
    "pdata_unstacked.France.plot(linewidth = 2, marker = 'o', label = 'Франция')\n",
    "pdata_unstacked.Spain.plot(linewidth = 2, marker = 'o', label = 'Испания')\n",
    "\n",
    "plt.xlabel('Годы', fontsize = 8)\n",
    "plt.ylabel('Доллары США', fontsize = 8)\n",
    "plt.title('Расходы на здравоохранение на душу населения в Бельгии, Франции и Испании', fontsize = 10)\n",
    "plt.legend(loc = 'center left', prop = {'size' : 8})\n",
    "\n",
    "plt.show()"
   ]
  },
  {
   "cell_type": "code",
   "execution_count": 43,
   "id": "9e1ffe11-4bcd-4ec5-958f-4b66ad10f978",
   "metadata": {},
   "outputs": [
    {
     "data": {
      "image/png": "[encoded data removed]",
      "text/plain": [
       "<Figure size 1300x500 with 3 Axes>"
      ]
     },
     "metadata": {},
     "output_type": "display_data"
    }
   ],
   "source": [
    "pdata_unstacked.plot(kind = 'bar',                              # создадим столбчатые диаграммы,\n",
    "                     subplots = True,                           # разместим их на подграфиках,\n",
    "                     layout = (1, 3),                           # на сетке из одной строки и трех столбцов\n",
    "                     rot = 0,                                   # сделаем подписи по оси х горизонтальными\n",
    "                     figsize = (13, 5),                         # зададим внешний размер для трех графиков\n",
    "                     sharey = True,                             # важно иметь одинаковую шкалу по оси у для сравнения расходов\n",
    "                     fontsize = 11,                             # зададим размер шрифта едениц измерения по обеим шкалам\n",
    "                     width = 0.8,                               # ширину столбцов\n",
    "                     xlabel = '',                               # уберем подписи к годам\n",
    "                     ylabel = 'доллары США',                    # поставим подпись по оси у\n",
    "                     legend = None,                             # уберем легенду\n",
    "                     title = ['Бельгия', 'Франция', 'Испания']) # названия столбцов по русски\n",
    "\n",
    "# отрегулируем ширину между графиками\n",
    "plt.subplots_adjust(wspace = 0.1)\n",
    "\n",
    "# добавим общий заголовок\n",
    "plt.suptitle('Расходы на здравоохранение с 2015 по 2019 годы', fontsize = 12);"
   ]
  },
  {
   "cell_type": "markdown",
   "id": "69e83dca-c144-4d8e-9487-c7812eb5af1c",
   "metadata": {},
   "source": [
    "__Многомерный временной ряд__"
   ]
  },
  {
   "cell_type": "code",
   "execution_count": 45,
   "id": "cc737a0e-45fa-42d3-8085-1d3801981de7",
   "metadata": {},
   "outputs": [
    {
     "data": {
      "text/html": [
       "<div>\n",
       "<style scoped>\n",
       "    .dataframe tbody tr th:only-of-type {\n",
       "        vertical-align: middle;\n",
       "    }\n",
       "\n",
       "    .dataframe tbody tr th {\n",
       "        vertical-align: top;\n",
       "    }\n",
       "\n",
       "    .dataframe thead th {\n",
       "        text-align: right;\n",
       "    }\n",
       "</style>\n",
       "<table border=\"1\" class=\"dataframe\">\n",
       "  <thead>\n",
       "    <tr style=\"text-align: right;\">\n",
       "      <th></th>\n",
       "      <th>healthcare</th>\n",
       "      <th>education</th>\n",
       "    </tr>\n",
       "    <tr>\n",
       "      <th>year</th>\n",
       "      <th></th>\n",
       "      <th></th>\n",
       "    </tr>\n",
       "  </thead>\n",
       "  <tbody>\n",
       "    <tr>\n",
       "      <th>2010-01-01</th>\n",
       "      <td>4598</td>\n",
       "      <td>5.69</td>\n",
       "    </tr>\n",
       "    <tr>\n",
       "      <th>2011-01-01</th>\n",
       "      <td>4939</td>\n",
       "      <td>5.52</td>\n",
       "    </tr>\n",
       "    <tr>\n",
       "      <th>2012-01-01</th>\n",
       "      <td>4651</td>\n",
       "      <td>5.46</td>\n",
       "    </tr>\n",
       "    <tr>\n",
       "      <th>2013-01-01</th>\n",
       "      <td>4902</td>\n",
       "      <td>5.50</td>\n",
       "    </tr>\n",
       "    <tr>\n",
       "      <th>2014-01-01</th>\n",
       "      <td>4999</td>\n",
       "      <td>5.51</td>\n",
       "    </tr>\n",
       "    <tr>\n",
       "      <th>2015-01-01</th>\n",
       "      <td>4208</td>\n",
       "      <td>5.46</td>\n",
       "    </tr>\n",
       "    <tr>\n",
       "      <th>2016-01-01</th>\n",
       "      <td>4268</td>\n",
       "      <td>5.48</td>\n",
       "    </tr>\n",
       "    <tr>\n",
       "      <th>2017-01-01</th>\n",
       "      <td>4425</td>\n",
       "      <td>5.45</td>\n",
       "    </tr>\n",
       "    <tr>\n",
       "      <th>2018-01-01</th>\n",
       "      <td>4690</td>\n",
       "      <td>5.41</td>\n",
       "    </tr>\n",
       "    <tr>\n",
       "      <th>2019-01-01</th>\n",
       "      <td>4492</td>\n",
       "      <td>6.62</td>\n",
       "    </tr>\n",
       "  </tbody>\n",
       "</table>\n",
       "</div>"
      ],
      "text/plain": [
       "            healthcare  education\n",
       "year                             \n",
       "2010-01-01        4598       5.69\n",
       "2011-01-01        4939       5.52\n",
       "2012-01-01        4651       5.46\n",
       "2013-01-01        4902       5.50\n",
       "2014-01-01        4999       5.51\n",
       "2015-01-01        4208       5.46\n",
       "2016-01-01        4268       5.48\n",
       "2017-01-01        4425       5.45\n",
       "2018-01-01        4690       5.41\n",
       "2019-01-01        4492       6.62"
      ]
     },
     "execution_count": 45,
     "metadata": {},
     "output_type": "execute_result"
    }
   ],
   "source": [
    "tseries_mult = pd.DataFrame({'year' :       [2010, 2011, 2012, 2013, 2014, 2015, 2016, 2017, 2018, 2019],\n",
    "                             'healthcare' : [4598, 4939, 4651, 4902, 4999, 4208, 4268, 4425, 4690, 4492],\n",
    "                             'education' :  [5.69, 5.52, 5.46, 5.50, 5.51, 5.46, 5.48, 5.45, 5.41, 6.62]})\n",
    "\n",
    "# превратим год в объект datetime\n",
    "tseries_mult.year = pd.to_datetime(tseries_mult.year, format = '%Y')\n",
    "# и сделаем этот столбец индексом\n",
    "tseries_mult.set_index('year', drop = True, inplace = True)\n",
    "\n",
    "tseries_mult"
   ]
  },
  {
   "cell_type": "markdown",
   "id": "7f196f3e-6328-475b-ab28-5aa576c96297",
   "metadata": {},
   "source": [
    "__Многомерные панельные данные__"
   ]
  },
  {
   "cell_type": "code",
   "execution_count": 46,
   "id": "8930c211-0ecb-4fdb-b106-7b65b93251f0",
   "metadata": {},
   "outputs": [
    {
     "data": {
      "text/html": [
       "<div>\n",
       "<style scoped>\n",
       "    .dataframe tbody tr th:only-of-type {\n",
       "        vertical-align: middle;\n",
       "    }\n",
       "\n",
       "    .dataframe tbody tr th {\n",
       "        vertical-align: top;\n",
       "    }\n",
       "\n",
       "    .dataframe thead th {\n",
       "        text-align: right;\n",
       "    }\n",
       "</style>\n",
       "<table border=\"1\" class=\"dataframe\">\n",
       "  <thead>\n",
       "    <tr style=\"text-align: right;\">\n",
       "      <th></th>\n",
       "      <th></th>\n",
       "      <th>healthcare, per capita</th>\n",
       "      <th>education, % of GDP</th>\n",
       "    </tr>\n",
       "    <tr>\n",
       "      <th>country</th>\n",
       "      <th>year</th>\n",
       "      <th></th>\n",
       "      <th></th>\n",
       "    </tr>\n",
       "  </thead>\n",
       "  <tbody>\n",
       "    <tr>\n",
       "      <th rowspan=\"5\" valign=\"top\">France</th>\n",
       "      <th>2015</th>\n",
       "      <td>4208</td>\n",
       "      <td>5.46</td>\n",
       "    </tr>\n",
       "    <tr>\n",
       "      <th>2016</th>\n",
       "      <td>4268</td>\n",
       "      <td>5.48</td>\n",
       "    </tr>\n",
       "    <tr>\n",
       "      <th>2017</th>\n",
       "      <td>4425</td>\n",
       "      <td>5.45</td>\n",
       "    </tr>\n",
       "    <tr>\n",
       "      <th>2018</th>\n",
       "      <td>4690</td>\n",
       "      <td>5.41</td>\n",
       "    </tr>\n",
       "    <tr>\n",
       "      <th>2019</th>\n",
       "      <td>4492</td>\n",
       "      <td>6.62</td>\n",
       "    </tr>\n",
       "    <tr>\n",
       "      <th rowspan=\"5\" valign=\"top\">Belgium</th>\n",
       "      <th>2015</th>\n",
       "      <td>4290</td>\n",
       "      <td>6.45</td>\n",
       "    </tr>\n",
       "    <tr>\n",
       "      <th>2016</th>\n",
       "      <td>4323</td>\n",
       "      <td>6.46</td>\n",
       "    </tr>\n",
       "    <tr>\n",
       "      <th>2017</th>\n",
       "      <td>4618</td>\n",
       "      <td>6.43</td>\n",
       "    </tr>\n",
       "    <tr>\n",
       "      <th>2018</th>\n",
       "      <td>4913</td>\n",
       "      <td>6.38</td>\n",
       "    </tr>\n",
       "    <tr>\n",
       "      <th>2019</th>\n",
       "      <td>4960</td>\n",
       "      <td>6.40</td>\n",
       "    </tr>\n",
       "    <tr>\n",
       "      <th rowspan=\"5\" valign=\"top\">Spain</th>\n",
       "      <th>2015</th>\n",
       "      <td>2349</td>\n",
       "      <td>4.29</td>\n",
       "    </tr>\n",
       "    <tr>\n",
       "      <th>2016</th>\n",
       "      <td>2377</td>\n",
       "      <td>4.23</td>\n",
       "    </tr>\n",
       "    <tr>\n",
       "      <th>2017</th>\n",
       "      <td>2523</td>\n",
       "      <td>4.21</td>\n",
       "    </tr>\n",
       "    <tr>\n",
       "      <th>2018</th>\n",
       "      <td>2736</td>\n",
       "      <td>4.18</td>\n",
       "    </tr>\n",
       "    <tr>\n",
       "      <th>2019</th>\n",
       "      <td>2542</td>\n",
       "      <td>4.26</td>\n",
       "    </tr>\n",
       "  </tbody>\n",
       "</table>\n",
       "</div>"
      ],
      "text/plain": [
       "              healthcare, per capita  education, % of GDP\n",
       "country year                                             \n",
       "France  2015                    4208                 5.46\n",
       "        2016                    4268                 5.48\n",
       "        2017                    4425                 5.45\n",
       "        2018                    4690                 5.41\n",
       "        2019                    4492                 6.62\n",
       "Belgium 2015                    4290                 6.45\n",
       "        2016                    4323                 6.46\n",
       "        2017                    4618                 6.43\n",
       "        2018                    4913                 6.38\n",
       "        2019                    4960                 6.40\n",
       "Spain   2015                    2349                 4.29\n",
       "        2016                    2377                 4.23\n",
       "        2017                    2523                 4.21\n",
       "        2018                    2736                 4.18\n",
       "        2019                    2542                 4.26"
      ]
     },
     "execution_count": 46,
     "metadata": {},
     "output_type": "execute_result"
    }
   ],
   "source": [
    "pdata_mult = pd.DataFrame({'healthcare, per capita' : [4208, 4268, 4425, 4690, 4492, 4290, 4323, 4618, 4913, 4960, 2349, 2377, 2523, 2736, 2542],\n",
    "                           'education, % of GDP'  : [5.46, 5.48, 5.45, 5.41, 6.62, 6.45, 6.46, 6.43, 6.38, 6.40, 4.29, 4.23, 4.21, 4.18, 4.26]})\n",
    " \n",
    "# создадим кортежи для иерархического индекса\n",
    "rows = [('France', '2015'),\n",
    "        ('France', '2016'),\n",
    "        ('France', '2017'),\n",
    "        ('France', '2018'),\n",
    "        ('France', '2019'),\n",
    "        ('Belgium', '2015'),\n",
    "        ('Belgium', '2016'),\n",
    "        ('Belgium', '2017'),\n",
    "        ('Belgium', '2018'),\n",
    "        ('Belgium', '2019'),\n",
    "        ('Spain', '2015'),\n",
    "        ('Spain', '2016'),\n",
    "        ('Spain', '2017'),\n",
    "        ('Spain', '2018'),\n",
    "        ('Spain', '2019')]\n",
    " \n",
    "# передадим кортежи в функцию pd.MultiIndex.from_tuples(),\n",
    "# указав названия уровней индекса\n",
    "custom_multindex = pd.MultiIndex.from_tuples(rows, names = ['country', 'year'])\n",
    " \n",
    "# сделаем custom_multindex индексом датафрейма с панельными данными\n",
    "pdata_mult.index = custom_multindex\n",
    " \n",
    "# посмотрим на результат\n",
    "pdata_mult\n"
   ]
  },
  {
   "cell_type": "markdown",
   "id": "2613a040-cca4-4308-a76b-f8ce6ffa171d",
   "metadata": {},
   "source": [
    "### __Задачи EDA__"
   ]
  },
  {
   "cell_type": "markdown",
   "id": "0258345b-2a43-4f2f-8f1a-3a6c288e6d2f",
   "metadata": {},
   "source": [
    "__Описание данных__ предполагает одномерный анализ, потому что мы каждый раз работаем только с одним признаком. В категориальных данных мы, прежде всего, находим уникальные категории и оцениваем количество в каждой из них.\r\n",
    "\r\n",
    "Анализ количественной переменной предполагает оценку среднего, стандартное отклонение, диапазон, персентили и другие показатели, характеризующие распределение числового признака.\r\n",
    "\r\n"
   ]
  },
  {
   "cell_type": "markdown",
   "id": "75950c87-85f3-4c5f-95e2-9d6560c2b5c0",
   "metadata": {},
   "source": [
    "__Нахождение различий__ — это многомерный анализ, потому что в нем учавствуют два или более признаков .\r\n",
    "Возможно нахождение различий количественного признака в разрезе определенной категори.\r\n",
    "\r\n"
   ]
  },
  {
   "cell_type": "markdown",
   "id": "c184d02f-a02f-4d94-8048-74a51e9ce03f",
   "metadata": {},
   "source": [
    "__Выявление закономерностей__ - или взаимосвязи могут быть выявлены между двумя и более количественными признаками"
   ]
  }
 ],
 "metadata": {
  "kernelspec": {
   "display_name": "Python 3 (ipykernel)",
   "language": "python",
   "name": "python3"
  },
  "language_info": {
   "codemirror_mode": {
    "name": "ipython",
    "version": 3
   },
   "file_extension": ".py",
   "mimetype": "text/x-python",
   "name": "python",
   "nbconvert_exporter": "python",
   "pygments_lexer": "ipython3",
   "version": "3.11.7"
  }
 },
 "nbformat": 4,
 "nbformat_minor": 5
}
